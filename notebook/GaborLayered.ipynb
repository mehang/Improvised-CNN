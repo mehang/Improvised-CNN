{
  "nbformat": 4,
  "nbformat_minor": 0,
  "metadata": {
    "colab": {
      "name": "GaborLayered.ipynb",
      "provenance": [],
      "authorship_tag": "ABX9TyMQCABRPN1OoK0uHH9bC7Kw",
      "include_colab_link": true
    },
    "kernelspec": {
      "name": "python3",
      "display_name": "Python 3"
    }
  },
  "cells": [
    {
      "cell_type": "markdown",
      "metadata": {
        "id": "view-in-github",
        "colab_type": "text"
      },
      "source": [
        "<a href=\"https://colab.research.google.com/github/mehang/Improvised-CNN/blob/master/notebook/GaborLayered.ipynb\" target=\"_parent\"><img src=\"https://colab.research.google.com/assets/colab-badge.svg\" alt=\"Open In Colab\"/></a>"
      ]
    },
    {
      "cell_type": "code",
      "metadata": {
        "id": "kwoCnRgLKdRL"
      },
      "source": [
        "import numpy as np\n",
        "\n",
        "from tensorflow.keras.datasets import cifar10\n",
        "from tensorflow.keras.utils import to_categorical\n",
        "from tensorflow.keras.layers import Conv2D, MaxPooling2D, Flatten\n",
        "from tensorflow.keras.layers import Input, Dense, Dropout, BatchNormalization\n",
        "from tensorflow.keras.models import Model\n",
        "from tensorflow.keras.optimizers import RMSprop\n",
        "from tensorflow.keras.callbacks import ReduceLROnPlateau, EarlyStopping\n",
        "\n",
        "from sklearn.model_selection import train_test_split\n",
        "\n",
        "from itertools import product\n",
        "\n",
        "import cv2"
      ],
      "execution_count": 1,
      "outputs": []
    },
    {
      "cell_type": "code",
      "metadata": {
        "id": "ojqabQFQUxaT"
      },
      "source": [
        "def get_gabor_filters(filters_num, channels):\n",
        "    '''\n",
        "    Creates gabor filters of size 3*3. The gabor filter is repeated for\n",
        "    all the given number of channels, but it changes across according to\n",
        "    the number of filters needed.\n",
        "    :param filters_num: The number of filters needed - gabor filter is changed\n",
        "    across it\n",
        "    :param channels: The number of channels - gabor filter is duplicated for it\n",
        "    :return: Array of gabor filters, dimension is (filters_num,channels, 3, 3)\n",
        "    '''\n",
        "    lambds = [np.pi/4, np.pi/3, np.pi/2, np.pi]\n",
        "    total_thetas = filters_num//len(lambds)\n",
        "    thetas = [np.pi * (i / total_thetas) for i in range(total_thetas)]\n",
        "    sigmas = [3]\n",
        "    gammas = [0.4]\n",
        "    gabor_params = list(product(sigmas, lambds, thetas, gammas))\n",
        "    filters = []\n",
        "    for sigma, lambd, theta, gamma in gabor_params:\n",
        "        filter = cv2.getGaborKernel(ksize=(3,3), sigma=sigma, theta=theta, lambd=lambd, gamma=gamma)\n",
        "        filters.append(np.repeat([filter], channels, axis=0))\n",
        "    return np.array(filters)\n",
        "\n",
        "\n",
        "def display_filters(filters):\n",
        "    '''\n",
        "    Displays the filters image one by one. Since a 3*3 size is pretty small to\n",
        "    visualize, filters are rescaled for visualization.\n",
        "    :param filters: Filters that needs to be visualized\n",
        "    :return: None\n",
        "    '''\n",
        "    for i in range(len(filters)):\n",
        "        cv2.imshow(\"Gabor Kernel\", cv2.resize(filters[i][0],(400,400)))\n",
        "        cv2.waitKey()\n",
        "    cv2.destroyAllWindows()"
      ],
      "execution_count": 2,
      "outputs": []
    },
    {
      "cell_type": "code",
      "metadata": {
        "id": "2-fnyVhmU2l6",
        "outputId": "942ec576-2b2c-4cac-f4a1-b9bca9c98865",
        "colab": {
          "base_uri": "https://localhost:8080/",
          "height": 51
        }
      },
      "source": [
        "receptive_filters = get_gabor_filters(64,3)\n",
        "\n",
        "(x_train, y_train), (x_test, y_test) = cifar10.load_data()\n",
        "x_train = x_train.astype('float32')/255\n",
        "x_test = x_test.astype('float32')/255\n",
        "\n",
        "y_train = to_categorical(y_train, num_classes=10)\n",
        "y_test = to_categorical(y_test, num_classes=10)\n",
        "\n",
        "\n",
        "x_train, _, y_train, _ = train_test_split(x_train,y_train, train_size=0.5, stratify=y_train)\n",
        "x_test, _, y_test, _ = train_test_split(x_test, y_test, test_size=0.5, stratify=y_test)"
      ],
      "execution_count": 3,
      "outputs": [
        {
          "output_type": "stream",
          "text": [
            "Downloading data from https://www.cs.toronto.edu/~kriz/cifar-10-python.tar.gz\n",
            "170500096/170498071 [==============================] - 3s 0us/step\n"
          ],
          "name": "stdout"
        }
      ]
    },
    {
      "cell_type": "code",
      "metadata": {
        "id": "1XWuiQlSU6BL"
      },
      "source": [
        "input_dim = (32,32,3)\n",
        "input_img = Input(shape=input_dim)\n",
        "\n",
        "cl1_template = Conv2D(64, kernel_size=(3,3), strides=(1,1), padding='same',\n",
        "             input_shape=input_dim, activation='relu')\n",
        "cl1 = cl1_template(input_img)\n",
        "# settings the initial filters to gabor filters\n",
        "receptive_weights = cl1_template.get_weights()\n",
        "# since the order of filter is channel last (3,3, channels, num_filters) so\n",
        "# adjusting our gabor filters size according to that format\n",
        "receptive_weights[0] = np.moveaxis(receptive_filters, [0,1],[3,2])\n",
        "cl1_template.set_weights(receptive_weights)\n",
        "\n",
        "pl1 = MaxPooling2D(pool_size=(2,2), strides=(2,2))(cl1)"
      ],
      "execution_count": 4,
      "outputs": []
    },
    {
      "cell_type": "code",
      "metadata": {
        "id": "dDoPe1dNU_OT"
      },
      "source": [
        "cl2 = Conv2D(128, kernel_size=(3,3), strides=(1,1), padding='same',\n",
        "             activation='relu')(pl1)\n",
        "pl2 = MaxPooling2D(pool_size=(2,2), strides=(2,2))(cl2)\n",
        "\n",
        "cl3 = Conv2D(256, kernel_size=(3,3), strides=(1,1), padding='same',\n",
        "             activation='relu')(pl2)\n",
        "pl3 = MaxPooling2D(pool_size=(2,2), strides=(2,2))(cl3)\n",
        "\n",
        "cl4 = Conv2D(512, kernel_size=(3,3), strides=(1,1), padding='same',\n",
        "             activation='relu')(pl3)\n",
        "pl4 = MaxPooling2D(pool_size=(2,2), strides=(2,2))(cl4)\n",
        "\n",
        "cl5 = Conv2D(512, kernel_size=(3,3), strides=(1,1), padding='same',\n",
        "             activation='relu')(pl4)\n",
        "pl5 = MaxPooling2D(pool_size=(2,2), strides=(2,2))(cl5)\n",
        "\n",
        "flat = Flatten()(pl5)\n",
        "\n",
        "fc6 = Dense(units=4096, activation='relu')(flat)\n",
        "fc7 = Dense(units=4096, activation='relu')(fc6)\n",
        "\n",
        "output = Dense(units=10, activation='softmax')(fc7)"
      ],
      "execution_count": 5,
      "outputs": []
    },
    {
      "cell_type": "code",
      "metadata": {
        "id": "L1QXy7VuVCaq",
        "outputId": "d0d93728-9a76-4ac6-cd91-b2e7269dbbdc",
        "colab": {
          "base_uri": "https://localhost:8080/",
          "height": 1000
        }
      },
      "source": [
        "classifier = Model(input_img, output)\n",
        "\n",
        "opt = RMSprop(learning_rate=0.001)\n",
        "classifier.compile(optimizer=opt, loss ='binary_crossentropy',\n",
        "                   metrics = ['accuracy'])\n",
        "print(classifier.summary())\n",
        "reduce_lr = ReduceLROnPlateau(monitor='val_loss', factor=0.5,\n",
        "                              patience=10, min_delta=1e-4,\n",
        "                              mode='min', verbose=1)\n",
        "stop_alg = EarlyStopping(monitor='val_loss', patience=35,\n",
        "                         restore_best_weights=True, verbose=1)\n",
        "\n",
        "hist = classifier.fit(x_train, y_train, batch_size=100,\n",
        "                      epochs=1000, callbacks=[stop_alg, reduce_lr],\n",
        "                      shuffle=True, validation_data=(x_test, y_test))\n",
        "classifier.save_weights(\"cnn.hdf5\")"
      ],
      "execution_count": null,
      "outputs": [
        {
          "output_type": "stream",
          "text": [
            "Model: \"functional_1\"\n",
            "_________________________________________________________________\n",
            "Layer (type)                 Output Shape              Param #   \n",
            "=================================================================\n",
            "input_1 (InputLayer)         [(None, 32, 32, 3)]       0         \n",
            "_________________________________________________________________\n",
            "conv2d (Conv2D)              (None, 32, 32, 64)        1792      \n",
            "_________________________________________________________________\n",
            "max_pooling2d (MaxPooling2D) (None, 16, 16, 64)        0         \n",
            "_________________________________________________________________\n",
            "conv2d_1 (Conv2D)            (None, 16, 16, 128)       73856     \n",
            "_________________________________________________________________\n",
            "max_pooling2d_1 (MaxPooling2 (None, 8, 8, 128)         0         \n",
            "_________________________________________________________________\n",
            "conv2d_2 (Conv2D)            (None, 8, 8, 256)         295168    \n",
            "_________________________________________________________________\n",
            "max_pooling2d_2 (MaxPooling2 (None, 4, 4, 256)         0         \n",
            "_________________________________________________________________\n",
            "conv2d_3 (Conv2D)            (None, 4, 4, 512)         1180160   \n",
            "_________________________________________________________________\n",
            "max_pooling2d_3 (MaxPooling2 (None, 2, 2, 512)         0         \n",
            "_________________________________________________________________\n",
            "conv2d_4 (Conv2D)            (None, 2, 2, 512)         2359808   \n",
            "_________________________________________________________________\n",
            "max_pooling2d_4 (MaxPooling2 (None, 1, 1, 512)         0         \n",
            "_________________________________________________________________\n",
            "flatten (Flatten)            (None, 512)               0         \n",
            "_________________________________________________________________\n",
            "dense (Dense)                (None, 4096)              2101248   \n",
            "_________________________________________________________________\n",
            "dense_1 (Dense)              (None, 4096)              16781312  \n",
            "_________________________________________________________________\n",
            "dense_2 (Dense)              (None, 10)                40970     \n",
            "=================================================================\n",
            "Total params: 22,834,314\n",
            "Trainable params: 22,834,314\n",
            "Non-trainable params: 0\n",
            "_________________________________________________________________\n",
            "None\n",
            "Epoch 1/1000\n",
            "250/250 [==============================] - 876s 4s/step - loss: 2.7452 - accuracy: 0.1003 - val_loss: 2.7607 - val_accuracy: 0.1000\n",
            "Epoch 2/1000\n",
            "250/250 [==============================] - 989s 4s/step - loss: 2.7607 - accuracy: 0.1000 - val_loss: 2.7607 - val_accuracy: 0.1000\n",
            "Epoch 3/1000\n",
            "250/250 [==============================] - 979s 4s/step - loss: 2.7607 - accuracy: 0.1000 - val_loss: 2.7607 - val_accuracy: 0.1000\n",
            "Epoch 4/1000\n",
            "250/250 [==============================] - 876s 4s/step - loss: 2.7607 - accuracy: 0.1000 - val_loss: 2.7607 - val_accuracy: 0.1000\n",
            "Epoch 5/1000\n",
            "250/250 [==============================] - 872s 3s/step - loss: 2.7607 - accuracy: 0.1000 - val_loss: 2.7607 - val_accuracy: 0.1000\n",
            "Epoch 6/1000\n",
            "250/250 [==============================] - 851s 3s/step - loss: 2.7607 - accuracy: 0.1000 - val_loss: 2.7607 - val_accuracy: 0.1000\n",
            "Epoch 7/1000\n",
            "250/250 [==============================] - 864s 3s/step - loss: 2.7607 - accuracy: 0.1000 - val_loss: 2.7607 - val_accuracy: 0.1000\n",
            "Epoch 8/1000\n",
            "250/250 [==============================] - 877s 4s/step - loss: 2.7607 - accuracy: 0.1000 - val_loss: 2.7607 - val_accuracy: 0.1000\n",
            "Epoch 9/1000\n",
            "250/250 [==============================] - 866s 3s/step - loss: 2.7607 - accuracy: 0.1000 - val_loss: 2.7607 - val_accuracy: 0.1000\n",
            "Epoch 10/1000\n",
            "250/250 [==============================] - 861s 3s/step - loss: 2.7607 - accuracy: 0.1000 - val_loss: 2.7607 - val_accuracy: 0.1000\n",
            "Epoch 11/1000\n",
            "169/250 [===================>..........] - ETA: 4:32 - loss: 2.7605 - accuracy: 0.1001"
          ],
          "name": "stdout"
        }
      ]
    },
    {
      "cell_type": "code",
      "metadata": {
        "id": "cFbwACfmVGAz"
      },
      "source": [
        ""
      ],
      "execution_count": null,
      "outputs": []
    }
  ]
}