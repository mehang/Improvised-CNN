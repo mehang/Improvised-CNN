{
  "nbformat": 4,
  "nbformat_minor": 0,
  "metadata": {
    "colab": {
      "name": "CvD-15*15-Gabor-Alternate.ipynb",
      "provenance": [],
      "authorship_tag": "ABX9TyNP7oKKR0l6jTH+DVxMvoFh",
      "include_colab_link": true
    },
    "kernelspec": {
      "name": "python3",
      "display_name": "Python 3"
    },
    "accelerator": "GPU"
  },
  "cells": [
    {
      "cell_type": "markdown",
      "metadata": {
        "id": "view-in-github",
        "colab_type": "text"
      },
      "source": [
        "<a href=\"https://colab.research.google.com/github/mehang/Improvised-CNN/blob/master/notebook/Cats-Vs-Dogs/Resized%20cats%20vs%20dogs/CvD_15_15_Gabor_Alternate.ipynb\" target=\"_parent\"><img src=\"https://colab.research.google.com/assets/colab-badge.svg\" alt=\"Open In Colab\"/></a>"
      ]
    },
    {
      "cell_type": "code",
      "metadata": {
        "colab": {
          "base_uri": "https://localhost:8080/"
        },
        "id": "MWa8-WrWKRgw",
        "outputId": "7f4c612e-056d-49a6-f4ab-9c30406e4f80"
      },
      "source": [
        "from google.colab import drive\n",
        "drive.mount('/content/drive')"
      ],
      "execution_count": 3,
      "outputs": [
        {
          "output_type": "stream",
          "text": [
            "Drive already mounted at /content/drive; to attempt to forcibly remount, call drive.mount(\"/content/drive\", force_remount=True).\n"
          ],
          "name": "stdout"
        }
      ]
    },
    {
      "cell_type": "code",
      "metadata": {
        "id": "fKdITm10KePD"
      },
      "source": [
        "import matplotlib.pyplot as plt\n",
        "import numpy as np\n",
        "import os\n",
        "import PIL\n",
        "import tensorflow as tf\n",
        "import pandas as pd\n",
        "\n",
        "from tensorflow import keras\n",
        "from tensorflow.keras import layers\n",
        "from tensorflow.keras.models import Sequential\n",
        "from tensorflow.keras.preprocessing.image import ImageDataGenerator\n",
        "import pathlib\n",
        "import time\n",
        "\n",
        "from tensorflow.keras.preprocessing.image import ImageDataGenerator, load_img\n",
        "from tensorflow.keras.utils import to_categorical\n",
        "from sklearn.model_selection import train_test_split\n"
      ],
      "execution_count": 9,
      "outputs": []
    },
    {
      "cell_type": "code",
      "metadata": {
        "colab": {
          "base_uri": "https://localhost:8080/"
        },
        "id": "k5bpNUBVK1mC",
        "outputId": "706f26fd-5f30-4c86-bedb-e62622bbd2aa"
      },
      "source": [
        "!unzip /content/drive/My\\ Drive/Gabor\\ Dataset/all-cats-vs-dogs.zip -d cats-vs-dogs"
      ],
      "execution_count": null,
      "outputs": [
        {
          "output_type": "stream",
          "text": [
            "Archive:  /content/drive/My Drive/Gabor Dataset/all-cats-vs-dogs.zip\n",
            "replace cats-vs-dogs/all/cat.203.jpg? [y]es, [n]o, [A]ll, [N]one, [r]ename: "
          ],
          "name": "stdout"
        }
      ]
    },
    {
      "cell_type": "code",
      "metadata": {
        "id": "JDx-s3jlK38V"
      },
      "source": [
        "ITERATION = 1\n",
        "IMAGE_WIDTH=256\n",
        "IMAGE_HEIGHT=256\n",
        "IMAGE_SIZE=(IMAGE_WIDTH, IMAGE_HEIGHT)\n",
        "IMAGE_CHANNELS=3\n",
        "\n",
        "RANDOM_SEED = [42,42,42,34,56,62,74,29,15,7][ITERATION]\n",
        "BATCH_SIZE = 32\n",
        "NUM_CLASSES = 2\n",
        "EPOCHS = 1000\n",
        "GABOR_LAYER_INDEX = 0\n",
        "GABOR_WIDTH = 15\n",
        "GABOR_HEIGHT = 15\n",
        "GABOR_SIZE = (GABOR_WIDTH, GABOR_HEIGHT)\n",
        "NUM_RECEPTIVE_FILTERS = 32"
      ],
      "execution_count": 6,
      "outputs": []
    },
    {
      "cell_type": "code",
      "metadata": {
        "id": "2jlJ4SNUK7T5"
      },
      "source": [
        "filenames = os.listdir(\"cats-vs-dogs/all/\")\n",
        "categories = []\n",
        "for filename in filenames:\n",
        "    category = filename.split('.')[0]\n",
        "    if category == 'dog':\n",
        "        categories.append(1)\n",
        "    else:\n",
        "        categories.append(0)\n",
        "\n",
        "df = pd.DataFrame({\n",
        "    'filename': filenames,\n",
        "    'category': categories\n",
        "})\n",
        "\n",
        "df[\"category\"] = df[\"category\"].replace({0: 'cat', 1: 'dog'}) "
      ],
      "execution_count": null,
      "outputs": []
    },
    {
      "cell_type": "code",
      "metadata": {
        "id": "PYYW1fcLK9Wm"
      },
      "source": [
        "train_df, validate_df = train_test_split(df, test_size=0.20, random_state=RANDOM_SEED)\n",
        "train_df = train_df.reset_index(drop=True)\n",
        "validate_df = validate_df.reset_index(drop=True)\n",
        "total_train = train_df.shape[0]\n",
        "total_validate = validate_df.shape[0]"
      ],
      "execution_count": null,
      "outputs": []
    },
    {
      "cell_type": "code",
      "metadata": {
        "id": "TMqBlZyHK_3R"
      },
      "source": [
        "train_df['category'].value_counts().plot.bar()"
      ],
      "execution_count": null,
      "outputs": []
    },
    {
      "cell_type": "code",
      "metadata": {
        "id": "yrmPcGnULKRd"
      },
      "source": [
        "validate_df['category'].value_counts().plot.bar()"
      ],
      "execution_count": null,
      "outputs": []
    },
    {
      "cell_type": "code",
      "metadata": {
        "id": "WGrW3cq7LMde"
      },
      "source": [
        "train_datagen = ImageDataGenerator(\n",
        "    rescale=1./255,\n",
        ")\n",
        "train_generator = train_datagen.flow_from_dataframe(\n",
        "    train_df, \n",
        "    \"cats-vs-dogs/all/\", \n",
        "    x_col='filename',\n",
        "    y_col='category',\n",
        "    target_size=IMAGE_SIZE,\n",
        "    class_mode='categorical',\n",
        "    batch_size=BATCH_SIZE\n",
        ")"
      ],
      "execution_count": null,
      "outputs": []
    },
    {
      "cell_type": "code",
      "metadata": {
        "id": "MdDngI1vLOTI"
      },
      "source": [
        "validation_datagen = ImageDataGenerator(rescale=1./255)\n",
        "validation_generator = validation_datagen.flow_from_dataframe(\n",
        "    validate_df, \n",
        "    \"cats-vs-dogs/all/\", \n",
        "    x_col='filename',\n",
        "    y_col='category',\n",
        "    target_size=IMAGE_SIZE,\n",
        "    class_mode='categorical',\n",
        "    batch_size=BATCH_SIZE\n",
        ")"
      ],
      "execution_count": null,
      "outputs": []
    },
    {
      "cell_type": "code",
      "metadata": {
        "id": "0act0FeWLQB7"
      },
      "source": [
        "import math\n",
        "\n",
        "def get_gabor_filters(inchannels, outchannels, kernel_size = (3,3)):\n",
        "    delta = 1e-4\n",
        "    freqs = (math.pi/2)*(math.sqrt(2)**(-np.random.randint(0,5, (outchannels, inchannels))))\n",
        "    thetas = (math.pi/8)*np.random.randint(0,8, (outchannels, inchannels))\n",
        "    sigmas = math.pi/(freqs)\n",
        "    psis = math.pi * np.random.rand(outchannels, inchannels)\n",
        "    x0, y0 = np.ceil(np.array(kernel_size)/2)    \n",
        "    \n",
        "    y, x = np.meshgrid(\n",
        "            np.linspace(-x0 + 1, x0 + 0, kernel_size[0]),\n",
        "            np.linspace(-y0 + 1, y0 + 0, kernel_size[1]),\n",
        "    )\n",
        "    filterbank = []\n",
        "    \n",
        "    for i in range(outchannels):\n",
        "        for j in range(inchannels):\n",
        "            freq = freqs[i][j]\n",
        "            theta = thetas[i][j]\n",
        "            sigma = sigmas[i][j]\n",
        "            psi = psis[i][j]\n",
        "            \n",
        "            rotx = x * np.cos(theta) + y * np.sin(theta)\n",
        "            roty = -x * np.sin(theta) + y * np.cos(theta)\n",
        "\n",
        "            g = np.exp(\n",
        "                -0.5 * ((rotx ** 2 + roty ** 2) / (sigma + delta) ** 2)\n",
        "            )\n",
        "            g = g * np.cos(freq * rotx + psi)\n",
        "#             g = g / (2 * math.pi * (sigma ** 2))\n",
        "#             g = gabor_kernel(frequency=freq, bandwidth=sigma, theta=theta, offset=psi, n_stds=0).real\n",
        "            filterbank.append(g)\n",
        "    return filterbank\n",
        "\n",
        "filterbank = get_gabor_filters(1, NUM_RECEPTIVE_FILTERS, GABOR_SIZE)\n",
        "\n",
        "fig = plt.subplots(8, len(filterbank)//8, figsize=(22,22))\n",
        "for i,gf in enumerate(filterbank):\n",
        "    plt.subplot(8, len(filterbank)//8, i+1)\n",
        "    plt.imshow(gf, cmap='gray')\n",
        "    plt.axis('off')"
      ],
      "execution_count": null,
      "outputs": []
    },
    {
      "cell_type": "code",
      "metadata": {
        "id": "8BRTlb_8M2GQ"
      },
      "source": [
        "# Importing the Keras libraries and packages\n",
        "from tensorflow.keras.layers import Conv2D, MaxPooling2D, Flatten, Activation\n",
        "from tensorflow.keras.layers import Input, Dense, Dropout, BatchNormalization\n",
        "from tensorflow.keras.models import Model\n",
        "from tensorflow.keras.optimizers import RMSprop, Adam\n",
        "from tensorflow.keras.models import Sequential\n",
        "from tensorflow.keras import layers\n",
        "from tensorflow.keras.callbacks import EarlyStopping, ReduceLROnPlateau\n",
        "\n",
        "classifier = None\n",
        "classifier = Sequential([\n",
        "    layers.Conv2D(NUM_RECEPTIVE_FILTERS, kernel_size=GABOR_SIZE, strides=(1,1), activation='relu', input_shape=(IMAGE_WIDTH, IMAGE_HEIGHT, 3)),\n",
        "    layers.BatchNormalization(),\n",
        "    layers.MaxPooling2D(pool_size=(2,2)),\n",
        "    Dropout(0.5),\n",
        "    layers.Conv2D(64, kernel_size=(3,3), strides=(2,2), activation='relu'),\n",
        "    layers.BatchNormalization(),\n",
        "    layers.MaxPooling2D(pool_size=(2,2)),\n",
        "    Dropout(0.5),\n",
        "    layers.Conv2D(128, kernel_size=(3,3), strides=(2,2), activation='relu'),\n",
        "    layers.BatchNormalization(),\n",
        "    layers.MaxPooling2D(pool_size=(2,2)),\n",
        "    Dropout(0.5),\n",
        "    layers.Flatten(),\n",
        "    layers.Dense(512, activation='relu'),\n",
        "    layers.BatchNormalization(),\n",
        "    Dropout(0.5),\n",
        "    layers.Dense(NUM_CLASSES, activation='softmax')\n",
        "])\n",
        "\n",
        "classifier.summary()"
      ],
      "execution_count": null,
      "outputs": []
    },
    {
      "cell_type": "code",
      "metadata": {
        "id": "eIoCrERvM3VC"
      },
      "source": [
        "cnnl1 = classifier.layers[GABOR_LAYER_INDEX].name   # get the name of the first conv layer\n",
        "W = classifier.get_layer(name=cnnl1).get_weights()[0]   #get the filters\n",
        "wshape = W.shape  #save the original shape\n",
        "gabor_filters = W\n",
        "for kernel_index in range(wshape[3]//2): # initialize only half of the filters with gabor filters\n",
        "    for channel_index in range(3):\n",
        "        gabor_filters[:,:,channel_index, kernel_index] = filterbank[kernel_index]\n",
        "\n",
        "classifier.get_layer(name=cnnl1).set_weights([gabor_filters, classifier.get_layer(name=cnnl1).get_weights()[1]])\n",
        "filter_layers = []\n",
        "for i in range(NUM_RECEPTIVE_FILTERS):\n",
        "    for j in range(3):\n",
        "        filter_layers.append(np.reshape(W[:,:,j, i], GABOR_SIZE))\n",
        "for i,gf in enumerate(filter_layers):\n",
        "    plt.subplot(8, len(filter_layers)//8, i+1)\n",
        "    plt.imshow(gf, cmap='gray')\n",
        "    plt.axis('off')\n",
        "plt.savefig('cvd-{}-initial-gabor-alternate-kernel-{}.png'.format(ITERATION,GABOR_WIDTH), dpi=350, bbox_inches='tight')"
      ],
      "execution_count": null,
      "outputs": []
    },
    {
      "cell_type": "code",
      "metadata": {
        "id": "o2bpyhg1NViF"
      },
      "source": [
        "reduce_lr = ReduceLROnPlateau(monitor='val_loss', factor=0.5, patience=10,  \n",
        "                              min_delta=1e-4, mode='min', verbose=1)\n",
        "stop_alg = EarlyStopping(monitor='val_loss', patience=35, \n",
        "                         restore_best_weights=True, verbose=1)\n",
        "callbacks = [stop_alg, reduce_lr]\n",
        "opt = RMSprop(learning_rate=0.001)\n",
        "classifier.compile(loss='categorical_crossentropy', optimizer=opt, metrics=['accuracy'])\n",
        "\n",
        "start = time.perf_counter()\n",
        "hist = classifier.fit(\n",
        "    train_generator, \n",
        "    epochs=EPOCHS,\n",
        "    validation_data=validation_generator,\n",
        "    validation_steps=total_validate//BATCH_SIZE,\n",
        "    steps_per_epoch=total_train//BATCH_SIZE,\n",
        "    callbacks=callbacks\n",
        ")\n",
        "finish = time.perf_counter()"
      ],
      "execution_count": null,
      "outputs": []
    },
    {
      "cell_type": "code",
      "metadata": {
        "id": "hBLcShOpNwVi"
      },
      "source": [
        "print(\"Start time = {}\".format(start))\n",
        "print(\"Finish time = {}\".format(finish))\n",
        "print(\"Training time = {}\".format(finish-start))\n",
        "hist.history['start_time'] = start\n",
        "hist.history['finish_time'] = finish\n",
        "hist.history['train_time'] = finish-start"
      ],
      "execution_count": null,
      "outputs": []
    },
    {
      "cell_type": "code",
      "metadata": {
        "id": "DH3ebYfqN0FJ"
      },
      "source": [
        "import pickle\n",
        "\n",
        "with open('cvd-{}-history-gabor-alternate-kernel-{}.p'.format(ITERATION, GABOR_WIDTH),'wb') as fp:\n",
        "    pickle.dump(hist.history, fp, protocol=pickle.HIGHEST_PROTOCOL)"
      ],
      "execution_count": null,
      "outputs": []
    },
    {
      "cell_type": "code",
      "metadata": {
        "id": "GIQQ4VXDN410"
      },
      "source": [
        "import matplotlib.pyplot as plt\n",
        "\n",
        "fig = plt.figure(figsize=(10,6))\n",
        "plt.plot(hist.history['loss'], color='#785ef0')\n",
        "plt.plot(hist.history['val_loss'], color='#dc267f')\n",
        "plt.title('Model Loss Progress')\n",
        "plt.ylabel('Loss')\n",
        "plt.xlabel('Epoch')\n",
        "plt.legend(['Training Set', 'Test Set'], loc='upper right')\n",
        "plt.savefig('cvd-{}-loss-gabor-alternate-kernel-{}.png'.format(ITERATION,GABOR_WIDTH), dpi=350, bbox_inches='tight')\n",
        "plt.show()"
      ],
      "execution_count": null,
      "outputs": []
    },
    {
      "cell_type": "code",
      "metadata": {
        "id": "HZaMvWowN6RK"
      },
      "source": [
        "fig = plt.figure(figsize=(10,6))\n",
        "plt.plot(hist.history['accuracy'], color='#785ef0')\n",
        "plt.plot(hist.history['val_accuracy'], color='#dc267f')\n",
        "plt.title('Model Accuracy Progress')\n",
        "plt.ylabel('Accuracy')\n",
        "plt.xlabel('Epoch')\n",
        "plt.legend(['Training Set', 'Test Set'], loc='upper right')\n",
        "plt.savefig('cvd-{}-accuracy-gabor-alternate-kernel-{}.png'.format(ITERATION, GABOR_WIDTH), dpi=350, bbox_inches='tight')\n",
        "plt.show()"
      ],
      "execution_count": null,
      "outputs": []
    },
    {
      "cell_type": "code",
      "metadata": {
        "id": "qir4SXi-N-tf"
      },
      "source": [
        "from sklearn.preprocessing import MinMaxScaler\n",
        "\n",
        "cnnl1 = classifier.layers[GABOR_LAYER_INDEX].name   # get the name of the first conv layer\n",
        "W = classifier.get_layer(name=cnnl1).get_weights()[0]   #get the filters\n",
        "wshape = W.shape  #save the original shape\n",
        "\n",
        "# this part will scale to [0, 1] for visualization purposes\n",
        "scaler = MinMaxScaler()\n",
        "scaler.fit(W.reshape(-1,1))\n",
        "W = scaler.transform(W.reshape(-1,1))\n",
        "W = W.reshape(wshape)\n",
        "\n",
        "fig, axs = plt.subplots(8,NUM_RECEPTIVE_FILTERS//8, figsize=(24,24))\n",
        "fig.subplots_adjust(hspace = .25, wspace=.001)\n",
        "axs = axs.ravel()\n",
        "for i in range(W.shape[-1]):\n",
        "  # we reshape to a 3D (RGB) image shape and display\n",
        "  h = np.reshape(W[:,:,:,i], (GABOR_WIDTH,GABOR_HEIGHT,3))\n",
        "  axs[i].imshow(h)\n",
        "  axs[i].set_title('Filter ' + str(i))    \n",
        "plt.savefig(\"cvd-{}-filters-gabor-alternate-kernel-{}.png\".format(ITERATION,GABOR_WIDTH), bbox_inches='tight', dpi=350)"
      ],
      "execution_count": null,
      "outputs": []
    },
    {
      "cell_type": "code",
      "metadata": {
        "id": "1GxyLmIwODU9"
      },
      "source": [
        "cnnl1 = classifier.layers[GABOR_LAYER_INDEX].name   # get the name of the first conv layer\n",
        "W = classifier.get_layer(name=cnnl1).get_weights()[0]\n",
        "plt.hist(W.ravel(), bins=100)\n",
        "print(np.min(W),np.max(W))"
      ],
      "execution_count": null,
      "outputs": []
    },
    {
      "cell_type": "code",
      "metadata": {
        "id": "ulMMiXh1OFnI"
      },
      "source": [
        "filter_layers = []\n",
        "for i in range(NUM_RECEPTIVE_FILTERS):\n",
        "    for j in range(3):\n",
        "        filter_layers.append(np.reshape(W[:,:,j, i], GABOR_SIZE))\n",
        "for i,gf in enumerate(filter_layers):\n",
        "    plt.subplot(8, (W.shape[3]*3)//8, i+1)\n",
        "    plt.imshow(gf, cmap='gray')\n",
        "    plt.axis('off')\n",
        "plt.savefig(\"cvd-{}-channelwise-gabor-alternate-filters-kernel-{}.png\".format(ITERATION,GABOR_WIDTH), bbox_inches='tight', dpi=350)"
      ],
      "execution_count": null,
      "outputs": []
    }
  ]
}