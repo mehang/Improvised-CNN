{
  "nbformat": 4,
  "nbformat_minor": 0,
  "metadata": {
    "colab": {
      "name": "cifar100_fine-15*15-128.ipynb",
      "provenance": [],
      "authorship_tag": "ABX9TyO1i4xnztm2YExXpd7e3qBy",
      "include_colab_link": true
    },
    "kernelspec": {
      "name": "python3",
      "display_name": "Python 3"
    },
    "accelerator": "GPU"
  },
  "cells": [
    {
      "cell_type": "markdown",
      "metadata": {
        "id": "view-in-github",
        "colab_type": "text"
      },
      "source": [
        "<a href=\"https://colab.research.google.com/github/mehang/Improvised-CNN/blob/master/notebook/Cifar-100-128-fine/resized/15*15/cifar100_fine_15_15_128.ipynb\" target=\"_parent\"><img src=\"https://colab.research.google.com/assets/colab-badge.svg\" alt=\"Open In Colab\"/></a>"
      ]
    },
    {
      "cell_type": "code",
      "metadata": {
        "colab": {
          "base_uri": "https://localhost:8080/"
        },
        "id": "yidYo4zCxGcb",
        "outputId": "dcd0f9ef-ceba-456a-d23c-a13f2e9f6dc0"
      },
      "source": [
        "from google.colab import drive\n",
        "drive.mount('/content/drive')"
      ],
      "execution_count": 1,
      "outputs": [
        {
          "output_type": "stream",
          "text": [
            "Drive already mounted at /content/drive; to attempt to forcibly remount, call drive.mount(\"/content/drive\", force_remount=True).\n"
          ],
          "name": "stdout"
        }
      ]
    },
    {
      "cell_type": "code",
      "metadata": {
        "id": "DLIPBW-yxxwB"
      },
      "source": [
        "import matplotlib.pyplot as plt\n",
        "import numpy as np\n",
        "import os\n",
        "import PIL\n",
        "import tensorflow as tf\n",
        "import pandas as pd\n",
        "\n",
        "from tensorflow import keras\n",
        "from tensorflow.keras import layers\n",
        "from tensorflow.keras.models import Sequential\n",
        "from tensorflow.keras.preprocessing.image import ImageDataGenerator\n",
        "import pathlib\n",
        "import time\n",
        "\n",
        "from tensorflow.keras.preprocessing.image import ImageDataGenerator, load_img\n",
        "from tensorflow.keras.utils import to_categorical\n",
        "from sklearn.model_selection import train_test_split\n"
      ],
      "execution_count": 2,
      "outputs": []
    },
    {
      "cell_type": "code",
      "metadata": {
        "id": "w9oqfW4wx5tM"
      },
      "source": [
        "!unzip /content/drive/My\\ Drive/Mehang\\ Rai/cifar100_128_fine.zip -d cifar100_128_fine"
      ],
      "execution_count": null,
      "outputs": []
    },
    {
      "cell_type": "code",
      "metadata": {
        "id": "eLrDbwA8yCb2"
      },
      "source": [
        "ITERATION = 1\n",
        "IMAGE_WIDTH=128\n",
        "IMAGE_HEIGHT=128\n",
        "IMAGE_SIZE=(IMAGE_WIDTH, IMAGE_HEIGHT)\n",
        "IMAGE_CHANNELS=3\n",
        "RANDOM_SEED = [42, 42, 57, 48, 86, 7, 15, 28, 39, 52][ITERATION-1]\n",
        "BATCH_SIZE = 32\n",
        "NUM_CLASSES = 100\n",
        "EPOCHS = 1000\n",
        "GABOR_LAYER_INDEX = 0\n",
        "GABOR_WIDTH = 15\n",
        "GABOR_HEIGHT = 15\n",
        "GABOR_SIZE = (GABOR_WIDTH, GABOR_HEIGHT)\n",
        "NUM_RECEPTIVE_FILTERS = 32\n",
        "TRAIN_DIR = \"cifar100_128_fine/cifar100_128_fine/train/\"\n",
        "TEST_DIR = \"cifar100_128_fine/cifar100_128_fine/test/\"\n",
        "# TEST_DIR = \"cifar100_128_fine/cifar100_128_fine/train/\"\n",
        "# TRAIN_DIR = \"cifar100_128_fine/cifar100_128_fine/test/\""
      ],
      "execution_count": 27,
      "outputs": []
    },
    {
      "cell_type": "code",
      "metadata": {
        "id": "gh6_BZuBzmCE"
      },
      "source": [
        "filenames = os.listdir(TRAIN_DIR)\n",
        "categories = []\n",
        "for filename in filenames:\n",
        "    category = filename.split('.')[0]\n",
        "    categories.append(category)\n",
        "\n",
        "train_df = pd.DataFrame({\n",
        "    'filename': filenames,\n",
        "    'category': categories\n",
        "})\n",
        "\n",
        "filenames = os.listdir(TEST_DIR)\n",
        "categories = []\n",
        "for filename in filenames:\n",
        "    category = filename.split('.')[0]\n",
        "    categories.append(category)\n",
        "\n",
        "validate_df = pd.DataFrame({\n",
        "    'filename': filenames,\n",
        "    'category': categories\n",
        "})"
      ],
      "execution_count": 28,
      "outputs": []
    },
    {
      "cell_type": "code",
      "metadata": {
        "id": "HiNt-8InznNT"
      },
      "source": [
        "train_df = train_df.reset_index(drop=True)\n",
        "validate_df = validate_df.reset_index(drop=True)\n",
        "total_train = train_df.shape[0]\n",
        "total_validate = validate_df.shape[0]"
      ],
      "execution_count": 29,
      "outputs": []
    },
    {
      "cell_type": "code",
      "metadata": {
        "colab": {
          "base_uri": "https://localhost:8080/",
          "height": 372
        },
        "id": "OfXfZisAz1FG",
        "outputId": "e0e552ce-f0d4-4795-aa2a-52b23ecd7d2f"
      },
      "source": [
        "train_df['category'].value_counts().plot.bar()"
      ],
      "execution_count": 30,
      "outputs": [
        {
          "output_type": "execute_result",
          "data": {
            "text/plain": [
              "<matplotlib.axes._subplots.AxesSubplot at 0x7fdd15dd0d30>"
            ]
          },
          "metadata": {
            "tags": []
          },
          "execution_count": 30
        },
        {
          "output_type": "display_data",
          "data": {
            "image/png": "[encoded data removed]",
            "text/plain": [
              "<Figure size 432x288 with 1 Axes>"
            ]
          },
          "metadata": {
            "tags": [],
            "needs_background": "light"
          }
        }
      ]
    },
    {
      "cell_type": "code",
      "metadata": {
        "colab": {
          "base_uri": "https://localhost:8080/",
          "height": 372
        },
        "id": "_CXsiVhfz2_P",
        "outputId": "85bade65-84ce-436a-d944-dda749e7d1d4"
      },
      "source": [
        "validate_df['category'].value_counts().plot.bar()"
      ],
      "execution_count": 31,
      "outputs": [
        {
          "output_type": "execute_result",
          "data": {
            "text/plain": [
              "<matplotlib.axes._subplots.AxesSubplot at 0x7fdd15f4d5c0>"
            ]
          },
          "metadata": {
            "tags": []
          },
          "execution_count": 31
        },
        {
          "output_type": "display_data",
          "data": {
            "image/png": "[encoded data removed]",
            "text/plain": [
              "<Figure size 432x288 with 1 Axes>"
            ]
          },
          "metadata": {
            "tags": [],
            "needs_background": "light"
          }
        }
      ]
    },
    {
      "cell_type": "code",
      "metadata": {
        "colab": {
          "base_uri": "https://localhost:8080/"
        },
        "id": "5PIJxj2wz47t",
        "outputId": "893194d2-a5dc-41c0-95a5-4458c2ce3af4"
      },
      "source": [
        "train_datagen = ImageDataGenerator(\n",
        "    # rotation_range=40,\n",
        "    # width_shift_range=0.2,\n",
        "    # height_shift_range=0.2,\n",
        "    # shear_range=0.2,\n",
        "    # zoom_range=0.2,\n",
        "    horizontal_flip=True,\n",
        "    rescale=1./255,\n",
        ")\n",
        "train_generator = train_datagen.flow_from_dataframe(\n",
        "    train_df, \n",
        "    TRAIN_DIR, \n",
        "    x_col='filename',\n",
        "    y_col='category',\n",
        "    target_size=IMAGE_SIZE,\n",
        "    class_mode='categorical',\n",
        "    batch_size=BATCH_SIZE\n",
        ")"
      ],
      "execution_count": 32,
      "outputs": [
        {
          "output_type": "stream",
          "text": [
            "Found 50000 validated image filenames belonging to 100 classes.\n"
          ],
          "name": "stdout"
        }
      ]
    },
    {
      "cell_type": "code",
      "metadata": {
        "colab": {
          "base_uri": "https://localhost:8080/"
        },
        "id": "OmZsnb4Qz_c0",
        "outputId": "ebcea1e7-a4f8-4d87-98fd-0754770b6b22"
      },
      "source": [
        "validation_datagen = ImageDataGenerator(rescale=1./255)\n",
        "validation_generator = validation_datagen.flow_from_dataframe(\n",
        "    validate_df, \n",
        "    TEST_DIR, \n",
        "    x_col='filename',\n",
        "    y_col='category',\n",
        "    target_size=IMAGE_SIZE,\n",
        "    class_mode='categorical',\n",
        "    batch_size=BATCH_SIZE\n",
        ")"
      ],
      "execution_count": 33,
      "outputs": [
        {
          "output_type": "stream",
          "text": [
            "Found 10000 validated image filenames belonging to 100 classes.\n"
          ],
          "name": "stdout"
        }
      ]
    },
    {
      "cell_type": "code",
      "metadata": {
        "colab": {
          "base_uri": "https://localhost:8080/"
        },
        "id": "ubu8-wWQ0Ba9",
        "outputId": "12059f6e-27d8-453f-ba6b-aee84986e4ca"
      },
      "source": [
        "print(train_df.shape)\n",
        "print(validate_df.shape)"
      ],
      "execution_count": 34,
      "outputs": [
        {
          "output_type": "stream",
          "text": [
            "(50000, 2)\n",
            "(10000, 2)\n"
          ],
          "name": "stdout"
        }
      ]
    },
    {
      "cell_type": "code",
      "metadata": {
        "colab": {
          "base_uri": "https://localhost:8080/"
        },
        "id": "x-D7iNGo0U5M",
        "outputId": "0f20d74a-6516-4fb4-f958-8361e71e3dba"
      },
      "source": [
        "train_generator.image_shape"
      ],
      "execution_count": 35,
      "outputs": [
        {
          "output_type": "execute_result",
          "data": {
            "text/plain": [
              "(128, 128, 3)"
            ]
          },
          "metadata": {
            "tags": []
          },
          "execution_count": 35
        }
      ]
    },
    {
      "cell_type": "code",
      "metadata": {
        "colab": {
          "base_uri": "https://localhost:8080/"
        },
        "id": "cipIxpVg0bfp",
        "outputId": "a0a08d41-ab82-4af2-a9dd-f415ef8ea6ff"
      },
      "source": [
        "NUM_CLASSES = len(train_df['category'].value_counts())\n",
        "print(NUM_CLASSES)"
      ],
      "execution_count": 36,
      "outputs": [
        {
          "output_type": "stream",
          "text": [
            "100\n"
          ],
          "name": "stdout"
        }
      ]
    },
    {
      "cell_type": "code",
      "metadata": {
        "colab": {
          "base_uri": "https://localhost:8080/",
          "height": 1000
        },
        "id": "GQfZk_J9L4A-",
        "outputId": "6a31c6b9-2735-46b5-8bda-e2114df73892"
      },
      "source": [
        "# Importing the Keras libraries and packages\n",
        "from tensorflow.keras.layers import Conv2D, MaxPooling2D, Flatten, Activation\n",
        "from tensorflow.keras.layers import Input, Dense, Dropout, BatchNormalization\n",
        "from tensorflow.keras.models import Model\n",
        "from tensorflow.keras.optimizers import RMSprop, Adam\n",
        "from tensorflow.keras.models import Sequential\n",
        "from tensorflow.keras import layers\n",
        "from tensorflow.keras.callbacks import EarlyStopping, ReduceLROnPlateau\n",
        "\n",
        "classifier = None\n",
        "classifier = Sequential([\n",
        "    layers.Conv2D(NUM_RECEPTIVE_FILTERS, kernel_size=GABOR_SIZE, strides=(1,1), activation='relu', input_shape=(IMAGE_WIDTH, IMAGE_HEIGHT, 3)),\n",
        "    layers.BatchNormalization(),\n",
        "    layers.MaxPooling2D(pool_size=(2,2)),\n",
        "    Dropout(0.5),\n",
        "    layers.Conv2D(64, kernel_size=(3,3), strides=(2,2), activation='relu'),\n",
        "    layers.BatchNormalization(),\n",
        "    layers.MaxPooling2D(pool_size=(2,2)),\n",
        "    Dropout(0.5),\n",
        "    layers.Conv2D(128, kernel_size=(3,3), strides=(2,2), activation='relu'),\n",
        "    layers.BatchNormalization(),\n",
        "    layers.MaxPooling2D(pool_size=(2,2)),\n",
        "    Dropout(0.5),\n",
        "    layers.Flatten(),\n",
        "    layers.Dense(512, activation='relu'),\n",
        "    layers.BatchNormalization(),\n",
        "    Dropout(0.5),\n",
        "    layers.Dense(NUM_CLASSES, activation='softmax')\n",
        "])\n",
        "\n",
        "classifier.summary()\n",
        "\n",
        "reduce_lr = ReduceLROnPlateau(monitor='val_loss', factor=0.5, patience=10,  \n",
        "                              min_delta=1e-4, mode='min', verbose=1)\n",
        "stop_alg = EarlyStopping(monitor='val_loss', patience=35, \n",
        "                         restore_best_weights=True, verbose=1)\n",
        "callbacks = [stop_alg, reduce_lr]\n",
        "opt = Adam(learning_rate=0.001)\n",
        "classifier.compile(loss='categorical_crossentropy', optimizer=opt, metrics=['accuracy', 'AUC'])\n",
        "\n",
        "start = time.perf_counter()\n",
        "hist = classifier.fit(\n",
        "    train_generator, \n",
        "    epochs=EPOCHS,\n",
        "    validation_data=validation_generator,\n",
        "    validation_steps=total_validate//BATCH_SIZE,\n",
        "    steps_per_epoch=total_train//BATCH_SIZE,\n",
        "    callbacks=callbacks\n",
        ")\n",
        "finish = time.perf_counter()\n"
      ],
      "execution_count": 37,
      "outputs": [
        {
          "output_type": "stream",
          "text": [
            "Model: \"sequential_2\"\n",
            "_________________________________________________________________\n",
            "Layer (type)                 Output Shape              Param #   \n",
            "=================================================================\n",
            "conv2d_18 (Conv2D)           (None, 114, 114, 32)      21632     \n",
            "_________________________________________________________________\n",
            "batch_normalization_24 (Batc (None, 114, 114, 32)      128       \n",
            "_________________________________________________________________\n",
            "max_pooling2d_8 (MaxPooling2 (None, 57, 57, 32)        0         \n",
            "_________________________________________________________________\n",
            "dropout_10 (Dropout)         (None, 57, 57, 32)        0         \n",
            "_________________________________________________________________\n",
            "conv2d_19 (Conv2D)           (None, 28, 28, 64)        18496     \n",
            "_________________________________________________________________\n",
            "batch_normalization_25 (Batc (None, 28, 28, 64)        256       \n",
            "_________________________________________________________________\n",
            "max_pooling2d_9 (MaxPooling2 (None, 14, 14, 64)        0         \n",
            "_________________________________________________________________\n",
            "dropout_11 (Dropout)         (None, 14, 14, 64)        0         \n",
            "_________________________________________________________________\n",
            "conv2d_20 (Conv2D)           (None, 6, 6, 128)         73856     \n",
            "_________________________________________________________________\n",
            "batch_normalization_26 (Batc (None, 6, 6, 128)         512       \n",
            "_________________________________________________________________\n",
            "max_pooling2d_10 (MaxPooling (None, 3, 3, 128)         0         \n",
            "_________________________________________________________________\n",
            "dropout_12 (Dropout)         (None, 3, 3, 128)         0         \n",
            "_________________________________________________________________\n",
            "flatten_2 (Flatten)          (None, 1152)              0         \n",
            "_________________________________________________________________\n",
            "dense_6 (Dense)              (None, 512)               590336    \n",
            "_________________________________________________________________\n",
            "batch_normalization_27 (Batc (None, 512)               2048      \n",
            "_________________________________________________________________\n",
            "dropout_13 (Dropout)         (None, 512)               0         \n",
            "_________________________________________________________________\n",
            "dense_7 (Dense)              (None, 100)               51300     \n",
            "=================================================================\n",
            "Total params: 758,564\n",
            "Trainable params: 757,092\n",
            "Non-trainable params: 1,472\n",
            "_________________________________________________________________\n",
            "Epoch 1/1000\n",
            "1562/1562 [==============================] - 46s 29ms/step - loss: 4.8480 - accuracy: 0.0491 - auc: 0.6597 - val_loss: 3.8872 - val_accuracy: 0.1053 - val_auc: 0.7918\n",
            "Epoch 2/1000\n",
            "1562/1562 [==============================] - 44s 28ms/step - loss: 3.7714 - accuracy: 0.1323 - auc: 0.8108 - val_loss: 3.5530 - val_accuracy: 0.1627 - val_auc: 0.8402\n",
            "Epoch 3/1000\n",
            "1562/1562 [==============================] - 45s 29ms/step - loss: 3.4899 - accuracy: 0.1714 - auc: 0.8448 - val_loss: 3.3825 - val_accuracy: 0.1910 - val_auc: 0.8568\n",
            "Epoch 4/1000\n",
            "1562/1562 [==============================] - 44s 28ms/step - loss: 3.3075 - accuracy: 0.2016 - auc: 0.8650 - val_loss: 3.1536 - val_accuracy: 0.2357 - val_auc: 0.8781\n",
            "Epoch 5/1000\n",
            "1562/1562 [==============================] - 45s 29ms/step - loss: 3.1806 - accuracy: 0.2272 - auc: 0.8768 - val_loss: 3.0841 - val_accuracy: 0.2474 - val_auc: 0.8850\n",
            "Epoch 6/1000\n",
            "1562/1562 [==============================] - 45s 29ms/step - loss: 3.0988 - accuracy: 0.2430 - auc: 0.8833 - val_loss: 3.0529 - val_accuracy: 0.2540 - val_auc: 0.8874\n",
            "Epoch 7/1000\n",
            "1562/1562 [==============================] - 44s 28ms/step - loss: 3.0128 - accuracy: 0.2563 - auc: 0.8904 - val_loss: 2.8519 - val_accuracy: 0.2946 - val_auc: 0.9034\n",
            "Epoch 8/1000\n",
            "1562/1562 [==============================] - 46s 29ms/step - loss: 2.9416 - accuracy: 0.2721 - auc: 0.8976 - val_loss: 2.7949 - val_accuracy: 0.3112 - val_auc: 0.9086\n",
            "Epoch 9/1000\n",
            "1562/1562 [==============================] - 45s 29ms/step - loss: 2.8686 - accuracy: 0.2892 - auc: 0.9022 - val_loss: 2.6959 - val_accuracy: 0.3268 - val_auc: 0.9161\n",
            "Epoch 10/1000\n",
            "1562/1562 [==============================] - 45s 29ms/step - loss: 2.8486 - accuracy: 0.2912 - auc: 0.9039 - val_loss: 2.6682 - val_accuracy: 0.3269 - val_auc: 0.9192\n",
            "Epoch 11/1000\n",
            "1562/1562 [==============================] - 44s 28ms/step - loss: 2.7751 - accuracy: 0.3050 - auc: 0.9086 - val_loss: 2.6353 - val_accuracy: 0.3351 - val_auc: 0.9175\n",
            "Epoch 12/1000\n",
            "1562/1562 [==============================] - 45s 29ms/step - loss: 2.7543 - accuracy: 0.3107 - auc: 0.9097 - val_loss: 2.5716 - val_accuracy: 0.3451 - val_auc: 0.9221\n",
            "Epoch 13/1000\n",
            "1562/1562 [==============================] - 45s 29ms/step - loss: 2.7180 - accuracy: 0.3164 - auc: 0.9122 - val_loss: 2.7248 - val_accuracy: 0.3237 - val_auc: 0.9090\n",
            "Epoch 14/1000\n",
            "1562/1562 [==============================] - 45s 29ms/step - loss: 2.6705 - accuracy: 0.3261 - auc: 0.9165 - val_loss: 2.5147 - val_accuracy: 0.3722 - val_auc: 0.9234\n",
            "Epoch 15/1000\n",
            "1562/1562 [==============================] - 46s 29ms/step - loss: 2.6563 - accuracy: 0.3293 - auc: 0.9171 - val_loss: 2.6869 - val_accuracy: 0.3328 - val_auc: 0.9095\n",
            "Epoch 16/1000\n",
            "1562/1562 [==============================] - 46s 29ms/step - loss: 2.6335 - accuracy: 0.3322 - auc: 0.9178 - val_loss: 2.4482 - val_accuracy: 0.3784 - val_auc: 0.9278\n",
            "Epoch 17/1000\n",
            "1562/1562 [==============================] - 46s 29ms/step - loss: 2.6003 - accuracy: 0.3391 - auc: 0.9201 - val_loss: 2.4767 - val_accuracy: 0.3774 - val_auc: 0.9277\n",
            "Epoch 18/1000\n",
            "1562/1562 [==============================] - 45s 29ms/step - loss: 2.5751 - accuracy: 0.3444 - auc: 0.9218 - val_loss: 2.3425 - val_accuracy: 0.4000 - val_auc: 0.9357\n",
            "Epoch 19/1000\n",
            "1562/1562 [==============================] - 45s 28ms/step - loss: 2.5550 - accuracy: 0.3553 - auc: 0.9225 - val_loss: 2.4006 - val_accuracy: 0.3908 - val_auc: 0.9315\n",
            "Epoch 20/1000\n",
            "1562/1562 [==============================] - 45s 29ms/step - loss: 2.5314 - accuracy: 0.3548 - auc: 0.9247 - val_loss: 2.4151 - val_accuracy: 0.3842 - val_auc: 0.9297\n",
            "Epoch 21/1000\n",
            "1562/1562 [==============================] - 45s 29ms/step - loss: 2.5084 - accuracy: 0.3609 - auc: 0.9257 - val_loss: 2.2973 - val_accuracy: 0.4067 - val_auc: 0.9382\n",
            "Epoch 22/1000\n",
            "1562/1562 [==============================] - 46s 29ms/step - loss: 2.5027 - accuracy: 0.3610 - auc: 0.9259 - val_loss: 2.3336 - val_accuracy: 0.4045 - val_auc: 0.9352\n",
            "Epoch 23/1000\n",
            "1562/1562 [==============================] - 46s 29ms/step - loss: 2.4727 - accuracy: 0.3710 - auc: 0.9277 - val_loss: 2.3764 - val_accuracy: 0.3985 - val_auc: 0.9315\n",
            "Epoch 24/1000\n",
            "1562/1562 [==============================] - 46s 29ms/step - loss: 2.4599 - accuracy: 0.3686 - auc: 0.9285 - val_loss: 2.4796 - val_accuracy: 0.3714 - val_auc: 0.9238\n",
            "Epoch 25/1000\n",
            "1562/1562 [==============================] - 45s 29ms/step - loss: 2.4579 - accuracy: 0.3700 - auc: 0.9294 - val_loss: 2.2906 - val_accuracy: 0.4127 - val_auc: 0.9366\n",
            "Epoch 26/1000\n",
            "1562/1562 [==============================] - 45s 29ms/step - loss: 2.4276 - accuracy: 0.3757 - auc: 0.9307 - val_loss: 2.2373 - val_accuracy: 0.4270 - val_auc: 0.9409\n",
            "Epoch 27/1000\n",
            "1562/1562 [==============================] - 45s 29ms/step - loss: 2.4121 - accuracy: 0.3838 - auc: 0.9313 - val_loss: 2.3004 - val_accuracy: 0.4193 - val_auc: 0.9353\n",
            "Epoch 28/1000\n",
            "1562/1562 [==============================] - 45s 28ms/step - loss: 2.4124 - accuracy: 0.3866 - auc: 0.9306 - val_loss: 2.3763 - val_accuracy: 0.4003 - val_auc: 0.9305\n",
            "Epoch 29/1000\n",
            "1562/1562 [==============================] - 44s 28ms/step - loss: 2.3941 - accuracy: 0.3826 - auc: 0.9322 - val_loss: 2.2918 - val_accuracy: 0.4102 - val_auc: 0.9367\n",
            "Epoch 30/1000\n",
            "1562/1562 [==============================] - 45s 29ms/step - loss: 2.3898 - accuracy: 0.3864 - auc: 0.9322 - val_loss: 2.2341 - val_accuracy: 0.4253 - val_auc: 0.9410\n",
            "Epoch 31/1000\n",
            "1562/1562 [==============================] - 45s 29ms/step - loss: 2.3698 - accuracy: 0.3874 - auc: 0.9337 - val_loss: 2.2362 - val_accuracy: 0.4279 - val_auc: 0.9402\n",
            "Epoch 32/1000\n",
            "1562/1562 [==============================] - 45s 29ms/step - loss: 2.3539 - accuracy: 0.3879 - auc: 0.9348 - val_loss: 2.2208 - val_accuracy: 0.4314 - val_auc: 0.9399\n",
            "Epoch 33/1000\n",
            "1562/1562 [==============================] - 44s 28ms/step - loss: 2.3471 - accuracy: 0.3918 - auc: 0.9348 - val_loss: 2.2148 - val_accuracy: 0.4365 - val_auc: 0.9401\n",
            "Epoch 34/1000\n",
            "1562/1562 [==============================] - 45s 29ms/step - loss: 2.3452 - accuracy: 0.3928 - auc: 0.9353 - val_loss: 2.1217 - val_accuracy: 0.4471 - val_auc: 0.9469\n",
            "Epoch 35/1000\n",
            "1562/1562 [==============================] - 45s 29ms/step - loss: 2.3316 - accuracy: 0.4001 - auc: 0.9354 - val_loss: 2.1687 - val_accuracy: 0.4389 - val_auc: 0.9433\n",
            "Epoch 36/1000\n",
            "1562/1562 [==============================] - 45s 29ms/step - loss: 2.3348 - accuracy: 0.3968 - auc: 0.9355 - val_loss: 2.2625 - val_accuracy: 0.4123 - val_auc: 0.9378\n",
            "Epoch 37/1000\n",
            "1562/1562 [==============================] - 45s 29ms/step - loss: 2.3186 - accuracy: 0.4007 - auc: 0.9363 - val_loss: 2.1587 - val_accuracy: 0.4396 - val_auc: 0.9437\n",
            "Epoch 38/1000\n",
            "1562/1562 [==============================] - 45s 29ms/step - loss: 2.3221 - accuracy: 0.4009 - auc: 0.9359 - val_loss: 2.1496 - val_accuracy: 0.4456 - val_auc: 0.9435\n",
            "Epoch 39/1000\n",
            "1562/1562 [==============================] - 45s 29ms/step - loss: 2.3272 - accuracy: 0.3966 - auc: 0.9355 - val_loss: 2.1775 - val_accuracy: 0.4321 - val_auc: 0.9422\n",
            "Epoch 40/1000\n",
            "1562/1562 [==============================] - 45s 29ms/step - loss: 2.3025 - accuracy: 0.4032 - auc: 0.9366 - val_loss: 2.1246 - val_accuracy: 0.4455 - val_auc: 0.9457\n",
            "Epoch 41/1000\n",
            "1562/1562 [==============================] - 45s 29ms/step - loss: 2.2868 - accuracy: 0.4068 - auc: 0.9378 - val_loss: 2.2509 - val_accuracy: 0.4150 - val_auc: 0.9380\n",
            "Epoch 42/1000\n",
            "1562/1562 [==============================] - 45s 29ms/step - loss: 2.2797 - accuracy: 0.4091 - auc: 0.9377 - val_loss: 2.1519 - val_accuracy: 0.4446 - val_auc: 0.9429\n",
            "Epoch 43/1000\n",
            "1562/1562 [==============================] - 45s 29ms/step - loss: 2.2834 - accuracy: 0.4028 - auc: 0.9385 - val_loss: 2.1299 - val_accuracy: 0.4462 - val_auc: 0.9446\n",
            "Epoch 44/1000\n",
            "1562/1562 [==============================] - 45s 29ms/step - loss: 2.2735 - accuracy: 0.4096 - auc: 0.9383 - val_loss: 2.0800 - val_accuracy: 0.4565 - val_auc: 0.9485\n",
            "Epoch 45/1000\n",
            "1562/1562 [==============================] - 44s 28ms/step - loss: 2.2599 - accuracy: 0.4108 - auc: 0.9400 - val_loss: 2.0699 - val_accuracy: 0.4560 - val_auc: 0.9503\n",
            "Epoch 46/1000\n",
            "1562/1562 [==============================] - 44s 28ms/step - loss: 2.2582 - accuracy: 0.4114 - auc: 0.9399 - val_loss: 2.3310 - val_accuracy: 0.4072 - val_auc: 0.9321\n",
            "Epoch 47/1000\n",
            "1562/1562 [==============================] - 45s 29ms/step - loss: 2.2479 - accuracy: 0.4133 - auc: 0.9400 - val_loss: 2.1140 - val_accuracy: 0.4481 - val_auc: 0.9459\n",
            "Epoch 48/1000\n",
            "1562/1562 [==============================] - 45s 29ms/step - loss: 2.2735 - accuracy: 0.4077 - auc: 0.9386 - val_loss: 2.0731 - val_accuracy: 0.4560 - val_auc: 0.9477\n",
            "Epoch 49/1000\n",
            "1562/1562 [==============================] - 45s 29ms/step - loss: 2.2648 - accuracy: 0.4078 - auc: 0.9393 - val_loss: 2.0895 - val_accuracy: 0.4539 - val_auc: 0.9476\n",
            "Epoch 50/1000\n",
            "1562/1562 [==============================] - 45s 29ms/step - loss: 2.2414 - accuracy: 0.4116 - auc: 0.9396 - val_loss: 2.1426 - val_accuracy: 0.4462 - val_auc: 0.9428\n",
            "Epoch 51/1000\n",
            "1562/1562 [==============================] - 45s 29ms/step - loss: 2.2361 - accuracy: 0.4186 - auc: 0.9401 - val_loss: 2.0716 - val_accuracy: 0.4610 - val_auc: 0.9474\n",
            "Epoch 52/1000\n",
            "1562/1562 [==============================] - 45s 29ms/step - loss: 2.2225 - accuracy: 0.4215 - auc: 0.9415 - val_loss: 2.1070 - val_accuracy: 0.4499 - val_auc: 0.9450\n",
            "Epoch 53/1000\n",
            "1562/1562 [==============================] - 45s 29ms/step - loss: 2.2246 - accuracy: 0.4160 - auc: 0.9415 - val_loss: 2.0680 - val_accuracy: 0.4595 - val_auc: 0.9483\n",
            "Epoch 54/1000\n",
            "1562/1562 [==============================] - 45s 29ms/step - loss: 2.2228 - accuracy: 0.4181 - auc: 0.9421 - val_loss: 2.0234 - val_accuracy: 0.4673 - val_auc: 0.9495\n",
            "Epoch 55/1000\n",
            "1562/1562 [==============================] - 45s 29ms/step - loss: 2.2028 - accuracy: 0.4219 - auc: 0.9420 - val_loss: 2.0333 - val_accuracy: 0.4615 - val_auc: 0.9495\n",
            "Epoch 56/1000\n",
            "1562/1562 [==============================] - 45s 29ms/step - loss: 2.1961 - accuracy: 0.4202 - auc: 0.9427 - val_loss: 2.0807 - val_accuracy: 0.4589 - val_auc: 0.9468\n",
            "Epoch 57/1000\n",
            "1562/1562 [==============================] - 45s 29ms/step - loss: 2.2104 - accuracy: 0.4222 - auc: 0.9412 - val_loss: 2.0708 - val_accuracy: 0.4590 - val_auc: 0.9476\n",
            "Epoch 58/1000\n",
            "1562/1562 [==============================] - 45s 29ms/step - loss: 2.1973 - accuracy: 0.4240 - auc: 0.9428 - val_loss: 2.0344 - val_accuracy: 0.4681 - val_auc: 0.9497\n",
            "Epoch 59/1000\n",
            "1562/1562 [==============================] - 45s 29ms/step - loss: 2.1931 - accuracy: 0.4258 - auc: 0.9429 - val_loss: 2.1400 - val_accuracy: 0.4470 - val_auc: 0.9442\n",
            "Epoch 60/1000\n",
            "1562/1562 [==============================] - 45s 29ms/step - loss: 2.1794 - accuracy: 0.4267 - auc: 0.9440 - val_loss: 2.0106 - val_accuracy: 0.4702 - val_auc: 0.9502\n",
            "Epoch 61/1000\n",
            "1562/1562 [==============================] - 45s 29ms/step - loss: 2.1829 - accuracy: 0.4246 - auc: 0.9432 - val_loss: 2.0896 - val_accuracy: 0.4545 - val_auc: 0.9469\n",
            "Epoch 62/1000\n",
            "1562/1562 [==============================] - 45s 29ms/step - loss: 2.1858 - accuracy: 0.4275 - auc: 0.9429 - val_loss: 2.1089 - val_accuracy: 0.4514 - val_auc: 0.9461\n",
            "Epoch 63/1000\n",
            "1562/1562 [==============================] - 45s 28ms/step - loss: 2.1687 - accuracy: 0.4297 - auc: 0.9433 - val_loss: 2.0504 - val_accuracy: 0.4654 - val_auc: 0.9477\n",
            "Epoch 64/1000\n",
            "1562/1562 [==============================] - 45s 29ms/step - loss: 2.1915 - accuracy: 0.4254 - auc: 0.9425 - val_loss: 2.0723 - val_accuracy: 0.4568 - val_auc: 0.9475\n",
            "Epoch 65/1000\n",
            "1562/1562 [==============================] - 45s 29ms/step - loss: 2.1650 - accuracy: 0.4306 - auc: 0.9440 - val_loss: 2.0518 - val_accuracy: 0.4655 - val_auc: 0.9483\n",
            "Epoch 66/1000\n",
            "1562/1562 [==============================] - 45s 29ms/step - loss: 2.1675 - accuracy: 0.4312 - auc: 0.9434 - val_loss: 1.9962 - val_accuracy: 0.4729 - val_auc: 0.9516\n",
            "Epoch 67/1000\n",
            "1562/1562 [==============================] - 45s 29ms/step - loss: 2.1570 - accuracy: 0.4330 - auc: 0.9451 - val_loss: 2.0243 - val_accuracy: 0.4731 - val_auc: 0.9498\n",
            "Epoch 68/1000\n",
            "1562/1562 [==============================] - 45s 29ms/step - loss: 2.1715 - accuracy: 0.4300 - auc: 0.9429 - val_loss: 2.2500 - val_accuracy: 0.4264 - val_auc: 0.9352\n",
            "Epoch 69/1000\n",
            "1562/1562 [==============================] - 45s 29ms/step - loss: 2.1562 - accuracy: 0.4349 - auc: 0.9440 - val_loss: 1.9986 - val_accuracy: 0.4767 - val_auc: 0.9503\n",
            "Epoch 70/1000\n",
            "1562/1562 [==============================] - 45s 29ms/step - loss: 2.1620 - accuracy: 0.4300 - auc: 0.9436 - val_loss: 2.0734 - val_accuracy: 0.4596 - val_auc: 0.9476\n",
            "Epoch 71/1000\n",
            "1562/1562 [==============================] - 45s 29ms/step - loss: 2.1547 - accuracy: 0.4331 - auc: 0.9450 - val_loss: 1.9824 - val_accuracy: 0.4765 - val_auc: 0.9509\n",
            "Epoch 72/1000\n",
            "1562/1562 [==============================] - 45s 29ms/step - loss: 2.1337 - accuracy: 0.4386 - auc: 0.9458 - val_loss: 1.9650 - val_accuracy: 0.4800 - val_auc: 0.9540\n",
            "Epoch 73/1000\n",
            "1562/1562 [==============================] - 45s 29ms/step - loss: 2.1513 - accuracy: 0.4332 - auc: 0.9449 - val_loss: 1.9970 - val_accuracy: 0.4750 - val_auc: 0.9525\n",
            "Epoch 74/1000\n",
            "1562/1562 [==============================] - 45s 29ms/step - loss: 2.1451 - accuracy: 0.4334 - auc: 0.9452 - val_loss: 2.0019 - val_accuracy: 0.4717 - val_auc: 0.9491\n",
            "Epoch 75/1000\n",
            "1562/1562 [==============================] - 45s 29ms/step - loss: 2.1341 - accuracy: 0.4374 - auc: 0.9456 - val_loss: 2.1898 - val_accuracy: 0.4239 - val_auc: 0.9400\n",
            "Epoch 76/1000\n",
            "1562/1562 [==============================] - 45s 29ms/step - loss: 2.1209 - accuracy: 0.4390 - auc: 0.9471 - val_loss: 2.0099 - val_accuracy: 0.4673 - val_auc: 0.9505\n",
            "Epoch 77/1000\n",
            "1562/1562 [==============================] - 45s 29ms/step - loss: 2.1284 - accuracy: 0.4371 - auc: 0.9462 - val_loss: 2.0165 - val_accuracy: 0.4650 - val_auc: 0.9496\n",
            "Epoch 78/1000\n",
            "1562/1562 [==============================] - 45s 29ms/step - loss: 2.1302 - accuracy: 0.4414 - auc: 0.9454 - val_loss: 2.0013 - val_accuracy: 0.4755 - val_auc: 0.9503\n",
            "Epoch 79/1000\n",
            "1562/1562 [==============================] - 46s 29ms/step - loss: 2.1181 - accuracy: 0.4408 - auc: 0.9463 - val_loss: 2.0119 - val_accuracy: 0.4677 - val_auc: 0.9498\n",
            "Epoch 80/1000\n",
            "1562/1562 [==============================] - 45s 29ms/step - loss: 2.1218 - accuracy: 0.4390 - auc: 0.9465 - val_loss: 1.9822 - val_accuracy: 0.4810 - val_auc: 0.9524\n",
            "Epoch 81/1000\n",
            "1562/1562 [==============================] - 45s 29ms/step - loss: 2.1171 - accuracy: 0.4376 - auc: 0.9464 - val_loss: 1.9244 - val_accuracy: 0.4926 - val_auc: 0.9537\n",
            "Epoch 82/1000\n",
            "1562/1562 [==============================] - 45s 29ms/step - loss: 2.1191 - accuracy: 0.4393 - auc: 0.9462 - val_loss: 1.9746 - val_accuracy: 0.4812 - val_auc: 0.9525\n",
            "Epoch 83/1000\n",
            "1562/1562 [==============================] - 45s 29ms/step - loss: 2.1235 - accuracy: 0.4394 - auc: 0.9462 - val_loss: 1.9564 - val_accuracy: 0.4815 - val_auc: 0.9526\n",
            "Epoch 84/1000\n",
            "1562/1562 [==============================] - 45s 29ms/step - loss: 2.1195 - accuracy: 0.4365 - auc: 0.9470 - val_loss: 2.0621 - val_accuracy: 0.4619 - val_auc: 0.9479\n",
            "Epoch 85/1000\n",
            "1562/1562 [==============================] - 45s 29ms/step - loss: 2.1163 - accuracy: 0.4434 - auc: 0.9456 - val_loss: 1.9362 - val_accuracy: 0.4888 - val_auc: 0.9543\n",
            "Epoch 86/1000\n",
            "1562/1562 [==============================] - 45s 29ms/step - loss: 2.1030 - accuracy: 0.4427 - auc: 0.9471 - val_loss: 2.0934 - val_accuracy: 0.4560 - val_auc: 0.9425\n",
            "Epoch 87/1000\n",
            "1562/1562 [==============================] - 45s 29ms/step - loss: 2.1014 - accuracy: 0.4448 - auc: 0.9469 - val_loss: 2.1235 - val_accuracy: 0.4484 - val_auc: 0.9412\n",
            "Epoch 88/1000\n",
            "1562/1562 [==============================] - 45s 29ms/step - loss: 2.1058 - accuracy: 0.4458 - auc: 0.9466 - val_loss: 1.9781 - val_accuracy: 0.4839 - val_auc: 0.9505\n",
            "Epoch 89/1000\n",
            "1562/1562 [==============================] - 45s 29ms/step - loss: 2.1129 - accuracy: 0.4413 - auc: 0.9456 - val_loss: 1.9592 - val_accuracy: 0.4843 - val_auc: 0.9522\n",
            "Epoch 90/1000\n",
            "1562/1562 [==============================] - 45s 29ms/step - loss: 2.1022 - accuracy: 0.4450 - auc: 0.9458 - val_loss: 1.9403 - val_accuracy: 0.4866 - val_auc: 0.9532\n",
            "Epoch 91/1000\n",
            "1562/1562 [==============================] - 45s 29ms/step - loss: 2.1062 - accuracy: 0.4435 - auc: 0.9464 - val_loss: 1.9822 - val_accuracy: 0.4787 - val_auc: 0.9518\n",
            "\n",
            "Epoch 00091: ReduceLROnPlateau reducing learning rate to 0.0005000000237487257.\n",
            "Epoch 92/1000\n",
            "1562/1562 [==============================] - 45s 29ms/step - loss: 2.0707 - accuracy: 0.4531 - auc: 0.9490 - val_loss: 1.9473 - val_accuracy: 0.4838 - val_auc: 0.9526\n",
            "Epoch 93/1000\n",
            "1562/1562 [==============================] - 46s 29ms/step - loss: 2.0484 - accuracy: 0.4605 - auc: 0.9488 - val_loss: 1.8895 - val_accuracy: 0.4999 - val_auc: 0.9552\n",
            "Epoch 94/1000\n",
            "1562/1562 [==============================] - 45s 29ms/step - loss: 2.0457 - accuracy: 0.4551 - auc: 0.9503 - val_loss: 1.8946 - val_accuracy: 0.4994 - val_auc: 0.9553\n",
            "Epoch 95/1000\n",
            "1562/1562 [==============================] - 45s 29ms/step - loss: 2.0676 - accuracy: 0.4500 - auc: 0.9492 - val_loss: 1.9061 - val_accuracy: 0.4991 - val_auc: 0.9544\n",
            "Epoch 96/1000\n",
            "1562/1562 [==============================] - 45s 29ms/step - loss: 2.0554 - accuracy: 0.4547 - auc: 0.9488 - val_loss: 1.9590 - val_accuracy: 0.4834 - val_auc: 0.9506\n",
            "Epoch 97/1000\n",
            "1562/1562 [==============================] - 45s 29ms/step - loss: 2.0584 - accuracy: 0.4544 - auc: 0.9487 - val_loss: 1.8787 - val_accuracy: 0.4996 - val_auc: 0.9557\n",
            "Epoch 98/1000\n",
            "1562/1562 [==============================] - 45s 29ms/step - loss: 2.0373 - accuracy: 0.4588 - auc: 0.9505 - val_loss: 1.9553 - val_accuracy: 0.4894 - val_auc: 0.9507\n",
            "Epoch 99/1000\n",
            "1562/1562 [==============================] - 45s 29ms/step - loss: 2.0435 - accuracy: 0.4577 - auc: 0.9497 - val_loss: 1.8759 - val_accuracy: 0.5046 - val_auc: 0.9559\n",
            "Epoch 100/1000\n",
            "1562/1562 [==============================] - 46s 29ms/step - loss: 2.0444 - accuracy: 0.4621 - auc: 0.9485 - val_loss: 1.8590 - val_accuracy: 0.5036 - val_auc: 0.9567\n",
            "Epoch 101/1000\n",
            "1562/1562 [==============================] - 45s 29ms/step - loss: 2.0211 - accuracy: 0.4647 - auc: 0.9507 - val_loss: 1.8855 - val_accuracy: 0.5003 - val_auc: 0.9551\n",
            "Epoch 102/1000\n",
            "1562/1562 [==============================] - 45s 29ms/step - loss: 2.0244 - accuracy: 0.4601 - auc: 0.9513 - val_loss: 1.8930 - val_accuracy: 0.4995 - val_auc: 0.9550\n",
            "Epoch 103/1000\n",
            "1562/1562 [==============================] - 45s 29ms/step - loss: 2.0193 - accuracy: 0.4640 - auc: 0.9507 - val_loss: 1.8892 - val_accuracy: 0.4992 - val_auc: 0.9557\n",
            "Epoch 104/1000\n",
            "1562/1562 [==============================] - 45s 29ms/step - loss: 2.0422 - accuracy: 0.4567 - auc: 0.9507 - val_loss: 1.9344 - val_accuracy: 0.4888 - val_auc: 0.9528\n",
            "Epoch 105/1000\n",
            "1562/1562 [==============================] - 45s 29ms/step - loss: 2.0213 - accuracy: 0.4656 - auc: 0.9505 - val_loss: 1.9203 - val_accuracy: 0.4956 - val_auc: 0.9523\n",
            "Epoch 106/1000\n",
            "1562/1562 [==============================] - 45s 29ms/step - loss: 2.0178 - accuracy: 0.4673 - auc: 0.9501 - val_loss: 1.8767 - val_accuracy: 0.5045 - val_auc: 0.9569\n",
            "Epoch 107/1000\n",
            "1562/1562 [==============================] - 46s 29ms/step - loss: 2.0296 - accuracy: 0.4629 - auc: 0.9491 - val_loss: 1.9219 - val_accuracy: 0.4907 - val_auc: 0.9530\n",
            "Epoch 108/1000\n",
            "1562/1562 [==============================] - 45s 29ms/step - loss: 2.0102 - accuracy: 0.4662 - auc: 0.9513 - val_loss: 1.8527 - val_accuracy: 0.5075 - val_auc: 0.9564\n",
            "Epoch 109/1000\n",
            "1562/1562 [==============================] - 45s 29ms/step - loss: 2.0115 - accuracy: 0.4613 - auc: 0.9519 - val_loss: 1.9022 - val_accuracy: 0.4994 - val_auc: 0.9539\n",
            "Epoch 110/1000\n",
            "1562/1562 [==============================] - 45s 29ms/step - loss: 2.0173 - accuracy: 0.4664 - auc: 0.9516 - val_loss: 1.8532 - val_accuracy: 0.5063 - val_auc: 0.9576\n",
            "Epoch 111/1000\n",
            "1562/1562 [==============================] - 45s 29ms/step - loss: 2.0143 - accuracy: 0.4639 - auc: 0.9511 - val_loss: 1.8776 - val_accuracy: 0.5057 - val_auc: 0.9563\n",
            "Epoch 112/1000\n",
            "1562/1562 [==============================] - 45s 29ms/step - loss: 2.0079 - accuracy: 0.4631 - auc: 0.9516 - val_loss: 1.8507 - val_accuracy: 0.5046 - val_auc: 0.9572\n",
            "Epoch 113/1000\n",
            "1562/1562 [==============================] - 46s 29ms/step - loss: 2.0348 - accuracy: 0.4592 - auc: 0.9500 - val_loss: 1.8983 - val_accuracy: 0.4957 - val_auc: 0.9541\n",
            "Epoch 114/1000\n",
            "1562/1562 [==============================] - 45s 29ms/step - loss: 2.0038 - accuracy: 0.4688 - auc: 0.9504 - val_loss: 1.8429 - val_accuracy: 0.5103 - val_auc: 0.9579\n",
            "Epoch 115/1000\n",
            "1562/1562 [==============================] - 45s 29ms/step - loss: 2.0117 - accuracy: 0.4651 - auc: 0.9512 - val_loss: 1.8589 - val_accuracy: 0.5102 - val_auc: 0.9567\n",
            "Epoch 116/1000\n",
            "1562/1562 [==============================] - 45s 29ms/step - loss: 2.0261 - accuracy: 0.4604 - auc: 0.9515 - val_loss: 1.8620 - val_accuracy: 0.5064 - val_auc: 0.9562\n",
            "Epoch 117/1000\n",
            "1562/1562 [==============================] - 45s 29ms/step - loss: 2.0092 - accuracy: 0.4664 - auc: 0.9508 - val_loss: 1.8926 - val_accuracy: 0.4999 - val_auc: 0.9536\n",
            "Epoch 118/1000\n",
            "1562/1562 [==============================] - 46s 29ms/step - loss: 2.0091 - accuracy: 0.4654 - auc: 0.9518 - val_loss: 1.8547 - val_accuracy: 0.5051 - val_auc: 0.9567\n",
            "Epoch 119/1000\n",
            "1562/1562 [==============================] - 46s 29ms/step - loss: 2.0034 - accuracy: 0.4666 - auc: 0.9512 - val_loss: 1.8533 - val_accuracy: 0.5104 - val_auc: 0.9565\n",
            "Epoch 120/1000\n",
            "1561/1562 [============================>.] - ETA: 0s - loss: 2.0187 - accuracy: 0.4594 - auc: 0.9513"
          ],
          "name": "stdout"
        },
        {
          "output_type": "error",
          "ename": "KeyboardInterrupt",
          "evalue": "ignored",
          "traceback": [
            "\u001b[0;31m---------------------------------------------------------------------------\u001b[0m",
            "\u001b[0;31mKeyboardInterrupt\u001b[0m                         Traceback (most recent call last)",
            "\u001b[0;32m<ipython-input-37-34b1914a3d0c>\u001b[0m in \u001b[0;36m<module>\u001b[0;34m()\u001b[0m\n\u001b[1;32m     46\u001b[0m     \u001b[0mvalidation_steps\u001b[0m\u001b[0;34m=\u001b[0m\u001b[0mtotal_validate\u001b[0m\u001b[0;34m//\u001b[0m\u001b[0mBATCH_SIZE\u001b[0m\u001b[0;34m,\u001b[0m\u001b[0;34m\u001b[0m\u001b[0;34m\u001b[0m\u001b[0m\n\u001b[1;32m     47\u001b[0m     \u001b[0msteps_per_epoch\u001b[0m\u001b[0;34m=\u001b[0m\u001b[0mtotal_train\u001b[0m\u001b[0;34m//\u001b[0m\u001b[0mBATCH_SIZE\u001b[0m\u001b[0;34m,\u001b[0m\u001b[0;34m\u001b[0m\u001b[0;34m\u001b[0m\u001b[0m\n\u001b[0;32m---> 48\u001b[0;31m     \u001b[0mcallbacks\u001b[0m\u001b[0;34m=\u001b[0m\u001b[0mcallbacks\u001b[0m\u001b[0;34m\u001b[0m\u001b[0;34m\u001b[0m\u001b[0m\n\u001b[0m\u001b[1;32m     49\u001b[0m )\n\u001b[1;32m     50\u001b[0m \u001b[0mfinish\u001b[0m \u001b[0;34m=\u001b[0m \u001b[0mtime\u001b[0m\u001b[0;34m.\u001b[0m\u001b[0mperf_counter\u001b[0m\u001b[0;34m(\u001b[0m\u001b[0;34m)\u001b[0m\u001b[0;34m\u001b[0m\u001b[0;34m\u001b[0m\u001b[0m\n",
            "\u001b[0;32m/usr/local/lib/python3.6/dist-packages/tensorflow/python/keras/engine/training.py\u001b[0m in \u001b[0;36mfit\u001b[0;34m(self, x, y, batch_size, epochs, verbose, callbacks, validation_split, validation_data, shuffle, class_weight, sample_weight, initial_epoch, steps_per_epoch, validation_steps, validation_batch_size, validation_freq, max_queue_size, workers, use_multiprocessing)\u001b[0m\n\u001b[1;32m   1139\u001b[0m               \u001b[0mworkers\u001b[0m\u001b[0;34m=\u001b[0m\u001b[0mworkers\u001b[0m\u001b[0;34m,\u001b[0m\u001b[0;34m\u001b[0m\u001b[0;34m\u001b[0m\u001b[0m\n\u001b[1;32m   1140\u001b[0m               \u001b[0muse_multiprocessing\u001b[0m\u001b[0;34m=\u001b[0m\u001b[0muse_multiprocessing\u001b[0m\u001b[0;34m,\u001b[0m\u001b[0;34m\u001b[0m\u001b[0;34m\u001b[0m\u001b[0m\n\u001b[0;32m-> 1141\u001b[0;31m               return_dict=True)\n\u001b[0m\u001b[1;32m   1142\u001b[0m           \u001b[0mval_logs\u001b[0m \u001b[0;34m=\u001b[0m \u001b[0;34m{\u001b[0m\u001b[0;34m'val_'\u001b[0m \u001b[0;34m+\u001b[0m \u001b[0mname\u001b[0m\u001b[0;34m:\u001b[0m \u001b[0mval\u001b[0m \u001b[0;32mfor\u001b[0m \u001b[0mname\u001b[0m\u001b[0;34m,\u001b[0m \u001b[0mval\u001b[0m \u001b[0;32min\u001b[0m \u001b[0mval_logs\u001b[0m\u001b[0;34m.\u001b[0m\u001b[0mitems\u001b[0m\u001b[0;34m(\u001b[0m\u001b[0;34m)\u001b[0m\u001b[0;34m}\u001b[0m\u001b[0;34m\u001b[0m\u001b[0;34m\u001b[0m\u001b[0m\n\u001b[1;32m   1143\u001b[0m           \u001b[0mepoch_logs\u001b[0m\u001b[0;34m.\u001b[0m\u001b[0mupdate\u001b[0m\u001b[0;34m(\u001b[0m\u001b[0mval_logs\u001b[0m\u001b[0;34m)\u001b[0m\u001b[0;34m\u001b[0m\u001b[0;34m\u001b[0m\u001b[0m\n",
            "\u001b[0;32m/usr/local/lib/python3.6/dist-packages/tensorflow/python/keras/engine/training.py\u001b[0m in \u001b[0;36mevaluate\u001b[0;34m(self, x, y, batch_size, verbose, sample_weight, steps, callbacks, max_queue_size, workers, use_multiprocessing, return_dict)\u001b[0m\n\u001b[1;32m   1387\u001b[0m             \u001b[0;32mwith\u001b[0m \u001b[0mtrace\u001b[0m\u001b[0;34m.\u001b[0m\u001b[0mTrace\u001b[0m\u001b[0;34m(\u001b[0m\u001b[0;34m'test'\u001b[0m\u001b[0;34m,\u001b[0m \u001b[0mstep_num\u001b[0m\u001b[0;34m=\u001b[0m\u001b[0mstep\u001b[0m\u001b[0;34m,\u001b[0m \u001b[0m_r\u001b[0m\u001b[0;34m=\u001b[0m\u001b[0;36m1\u001b[0m\u001b[0;34m)\u001b[0m\u001b[0;34m:\u001b[0m\u001b[0;34m\u001b[0m\u001b[0;34m\u001b[0m\u001b[0m\n\u001b[1;32m   1388\u001b[0m               \u001b[0mcallbacks\u001b[0m\u001b[0;34m.\u001b[0m\u001b[0mon_test_batch_begin\u001b[0m\u001b[0;34m(\u001b[0m\u001b[0mstep\u001b[0m\u001b[0;34m)\u001b[0m\u001b[0;34m\u001b[0m\u001b[0;34m\u001b[0m\u001b[0m\n\u001b[0;32m-> 1389\u001b[0;31m               \u001b[0mtmp_logs\u001b[0m \u001b[0;34m=\u001b[0m \u001b[0mself\u001b[0m\u001b[0;34m.\u001b[0m\u001b[0mtest_function\u001b[0m\u001b[0;34m(\u001b[0m\u001b[0miterator\u001b[0m\u001b[0;34m)\u001b[0m\u001b[0;34m\u001b[0m\u001b[0;34m\u001b[0m\u001b[0m\n\u001b[0m\u001b[1;32m   1390\u001b[0m               \u001b[0;32mif\u001b[0m \u001b[0mdata_handler\u001b[0m\u001b[0;34m.\u001b[0m\u001b[0mshould_sync\u001b[0m\u001b[0;34m:\u001b[0m\u001b[0;34m\u001b[0m\u001b[0;34m\u001b[0m\u001b[0m\n\u001b[1;32m   1391\u001b[0m                 \u001b[0mcontext\u001b[0m\u001b[0;34m.\u001b[0m\u001b[0masync_wait\u001b[0m\u001b[0;34m(\u001b[0m\u001b[0;34m)\u001b[0m\u001b[0;34m\u001b[0m\u001b[0;34m\u001b[0m\u001b[0m\n",
            "\u001b[0;32m/usr/local/lib/python3.6/dist-packages/tensorflow/python/eager/def_function.py\u001b[0m in \u001b[0;36m__call__\u001b[0;34m(self, *args, **kwds)\u001b[0m\n\u001b[1;32m    826\u001b[0m     \u001b[0mtracing_count\u001b[0m \u001b[0;34m=\u001b[0m \u001b[0mself\u001b[0m\u001b[0;34m.\u001b[0m\u001b[0mexperimental_get_tracing_count\u001b[0m\u001b[0;34m(\u001b[0m\u001b[0;34m)\u001b[0m\u001b[0;34m\u001b[0m\u001b[0;34m\u001b[0m\u001b[0m\n\u001b[1;32m    827\u001b[0m     \u001b[0;32mwith\u001b[0m \u001b[0mtrace\u001b[0m\u001b[0;34m.\u001b[0m\u001b[0mTrace\u001b[0m\u001b[0;34m(\u001b[0m\u001b[0mself\u001b[0m\u001b[0;34m.\u001b[0m\u001b[0m_name\u001b[0m\u001b[0;34m)\u001b[0m \u001b[0;32mas\u001b[0m \u001b[0mtm\u001b[0m\u001b[0;34m:\u001b[0m\u001b[0;34m\u001b[0m\u001b[0;34m\u001b[0m\u001b[0m\n\u001b[0;32m--> 828\u001b[0;31m       \u001b[0mresult\u001b[0m \u001b[0;34m=\u001b[0m \u001b[0mself\u001b[0m\u001b[0;34m.\u001b[0m\u001b[0m_call\u001b[0m\u001b[0;34m(\u001b[0m\u001b[0;34m*\u001b[0m\u001b[0margs\u001b[0m\u001b[0;34m,\u001b[0m \u001b[0;34m**\u001b[0m\u001b[0mkwds\u001b[0m\u001b[0;34m)\u001b[0m\u001b[0;34m\u001b[0m\u001b[0;34m\u001b[0m\u001b[0m\n\u001b[0m\u001b[1;32m    829\u001b[0m       \u001b[0mcompiler\u001b[0m \u001b[0;34m=\u001b[0m \u001b[0;34m\"xla\"\u001b[0m \u001b[0;32mif\u001b[0m \u001b[0mself\u001b[0m\u001b[0;34m.\u001b[0m\u001b[0m_experimental_compile\u001b[0m \u001b[0;32melse\u001b[0m \u001b[0;34m\"nonXla\"\u001b[0m\u001b[0;34m\u001b[0m\u001b[0;34m\u001b[0m\u001b[0m\n\u001b[1;32m    830\u001b[0m       \u001b[0mnew_tracing_count\u001b[0m \u001b[0;34m=\u001b[0m \u001b[0mself\u001b[0m\u001b[0;34m.\u001b[0m\u001b[0mexperimental_get_tracing_count\u001b[0m\u001b[0;34m(\u001b[0m\u001b[0;34m)\u001b[0m\u001b[0;34m\u001b[0m\u001b[0;34m\u001b[0m\u001b[0m\n",
            "\u001b[0;32m/usr/local/lib/python3.6/dist-packages/tensorflow/python/eager/def_function.py\u001b[0m in \u001b[0;36m_call\u001b[0;34m(self, *args, **kwds)\u001b[0m\n\u001b[1;32m    860\u001b[0m       \u001b[0;31m# In this case we have not created variables on the first call. So we can\u001b[0m\u001b[0;34m\u001b[0m\u001b[0;34m\u001b[0m\u001b[0;34m\u001b[0m\u001b[0m\n\u001b[1;32m    861\u001b[0m       \u001b[0;31m# run the first trace but we should fail if variables are created.\u001b[0m\u001b[0;34m\u001b[0m\u001b[0;34m\u001b[0m\u001b[0;34m\u001b[0m\u001b[0m\n\u001b[0;32m--> 862\u001b[0;31m       \u001b[0mresults\u001b[0m \u001b[0;34m=\u001b[0m \u001b[0mself\u001b[0m\u001b[0;34m.\u001b[0m\u001b[0m_stateful_fn\u001b[0m\u001b[0;34m(\u001b[0m\u001b[0;34m*\u001b[0m\u001b[0margs\u001b[0m\u001b[0;34m,\u001b[0m \u001b[0;34m**\u001b[0m\u001b[0mkwds\u001b[0m\u001b[0;34m)\u001b[0m\u001b[0;34m\u001b[0m\u001b[0;34m\u001b[0m\u001b[0m\n\u001b[0m\u001b[1;32m    863\u001b[0m       \u001b[0;32mif\u001b[0m \u001b[0mself\u001b[0m\u001b[0;34m.\u001b[0m\u001b[0m_created_variables\u001b[0m\u001b[0;34m:\u001b[0m\u001b[0;34m\u001b[0m\u001b[0;34m\u001b[0m\u001b[0m\n\u001b[1;32m    864\u001b[0m         raise ValueError(\"Creating variables on a non-first call to a function\"\n",
            "\u001b[0;32m/usr/local/lib/python3.6/dist-packages/tensorflow/python/eager/function.py\u001b[0m in \u001b[0;36m__call__\u001b[0;34m(self, *args, **kwargs)\u001b[0m\n\u001b[1;32m   2941\u001b[0m        filtered_flat_args) = self._maybe_define_function(args, kwargs)\n\u001b[1;32m   2942\u001b[0m     return graph_function._call_flat(\n\u001b[0;32m-> 2943\u001b[0;31m         filtered_flat_args, captured_inputs=graph_function.captured_inputs)  # pylint: disable=protected-access\n\u001b[0m\u001b[1;32m   2944\u001b[0m \u001b[0;34m\u001b[0m\u001b[0m\n\u001b[1;32m   2945\u001b[0m   \u001b[0;34m@\u001b[0m\u001b[0mproperty\u001b[0m\u001b[0;34m\u001b[0m\u001b[0;34m\u001b[0m\u001b[0m\n",
            "\u001b[0;32m/usr/local/lib/python3.6/dist-packages/tensorflow/python/eager/function.py\u001b[0m in \u001b[0;36m_call_flat\u001b[0;34m(self, args, captured_inputs, cancellation_manager)\u001b[0m\n\u001b[1;32m   1917\u001b[0m       \u001b[0;31m# No tape is watching; skip to running the function.\u001b[0m\u001b[0;34m\u001b[0m\u001b[0;34m\u001b[0m\u001b[0;34m\u001b[0m\u001b[0m\n\u001b[1;32m   1918\u001b[0m       return self._build_call_outputs(self._inference_function.call(\n\u001b[0;32m-> 1919\u001b[0;31m           ctx, args, cancellation_manager=cancellation_manager))\n\u001b[0m\u001b[1;32m   1920\u001b[0m     forward_backward = self._select_forward_and_backward_functions(\n\u001b[1;32m   1921\u001b[0m         \u001b[0margs\u001b[0m\u001b[0;34m,\u001b[0m\u001b[0;34m\u001b[0m\u001b[0;34m\u001b[0m\u001b[0m\n",
            "\u001b[0;32m/usr/local/lib/python3.6/dist-packages/tensorflow/python/eager/function.py\u001b[0m in \u001b[0;36mcall\u001b[0;34m(self, ctx, args, cancellation_manager)\u001b[0m\n\u001b[1;32m    558\u001b[0m               \u001b[0minputs\u001b[0m\u001b[0;34m=\u001b[0m\u001b[0margs\u001b[0m\u001b[0;34m,\u001b[0m\u001b[0;34m\u001b[0m\u001b[0;34m\u001b[0m\u001b[0m\n\u001b[1;32m    559\u001b[0m               \u001b[0mattrs\u001b[0m\u001b[0;34m=\u001b[0m\u001b[0mattrs\u001b[0m\u001b[0;34m,\u001b[0m\u001b[0;34m\u001b[0m\u001b[0;34m\u001b[0m\u001b[0m\n\u001b[0;32m--> 560\u001b[0;31m               ctx=ctx)\n\u001b[0m\u001b[1;32m    561\u001b[0m         \u001b[0;32melse\u001b[0m\u001b[0;34m:\u001b[0m\u001b[0;34m\u001b[0m\u001b[0;34m\u001b[0m\u001b[0m\n\u001b[1;32m    562\u001b[0m           outputs = execute.execute_with_cancellation(\n",
            "\u001b[0;32m/usr/local/lib/python3.6/dist-packages/tensorflow/python/eager/execute.py\u001b[0m in \u001b[0;36mquick_execute\u001b[0;34m(op_name, num_outputs, inputs, attrs, ctx, name)\u001b[0m\n\u001b[1;32m     58\u001b[0m     \u001b[0mctx\u001b[0m\u001b[0;34m.\u001b[0m\u001b[0mensure_initialized\u001b[0m\u001b[0;34m(\u001b[0m\u001b[0;34m)\u001b[0m\u001b[0;34m\u001b[0m\u001b[0;34m\u001b[0m\u001b[0m\n\u001b[1;32m     59\u001b[0m     tensors = pywrap_tfe.TFE_Py_Execute(ctx._handle, device_name, op_name,\n\u001b[0;32m---> 60\u001b[0;31m                                         inputs, attrs, num_outputs)\n\u001b[0m\u001b[1;32m     61\u001b[0m   \u001b[0;32mexcept\u001b[0m \u001b[0mcore\u001b[0m\u001b[0;34m.\u001b[0m\u001b[0m_NotOkStatusException\u001b[0m \u001b[0;32mas\u001b[0m \u001b[0me\u001b[0m\u001b[0;34m:\u001b[0m\u001b[0;34m\u001b[0m\u001b[0;34m\u001b[0m\u001b[0m\n\u001b[1;32m     62\u001b[0m     \u001b[0;32mif\u001b[0m \u001b[0mname\u001b[0m \u001b[0;32mis\u001b[0m \u001b[0;32mnot\u001b[0m \u001b[0;32mNone\u001b[0m\u001b[0;34m:\u001b[0m\u001b[0;34m\u001b[0m\u001b[0;34m\u001b[0m\u001b[0m\n",
            "\u001b[0;31mKeyboardInterrupt\u001b[0m: "
          ]
        }
      ]
    },
    {
      "cell_type": "code",
      "metadata": {
        "colab": {
          "base_uri": "https://localhost:8080/"
        },
        "id": "vJRHQfLV0fT9",
        "outputId": "a21e2b87-04f0-4640-84da-48e9bd9dee17"
      },
      "source": [
        "# Importing the Keras libraries and packages\n",
        "from tensorflow.keras.layers import Conv2D, MaxPooling2D, Flatten, Activation\n",
        "from tensorflow.keras.layers import Input, Dense, Dropout, BatchNormalization\n",
        "from tensorflow.keras.models import Model\n",
        "from tensorflow.keras.optimizers import RMSprop, Adam\n",
        "from tensorflow.keras.models import Sequential\n",
        "from tensorflow.keras import layers\n",
        "from tensorflow.keras.callbacks import EarlyStopping, ReduceLROnPlateau\n",
        "\n",
        "classifier = None\n",
        "classifier = Sequential([\n",
        "    layers.Conv2D(NUM_RECEPTIVE_FILTERS, kernel_size=GABOR_SIZE, strides=(1,1), \n",
        "                  padding='same', name=\"GaborLayer\", input_shape=train_generator.image_shape),\n",
        "    layers.BatchNormalization(),\n",
        "    layers.Activation('relu'),\n",
        "    Conv2D(32, (3, 3), activation='relu', padding='same'),\n",
        "    layers.BatchNormalization(),\n",
        "    layers.Activation('relu'),\n",
        "    layers.MaxPooling2D(pool_size=(2,2)),\n",
        "    layers.Dropout(0.1),\n",
        "    layers.Conv2D(64, kernel_size=(3,3), padding='same', strides=(1,1)),\n",
        "    layers.BatchNormalization(),\n",
        "    layers.Activation('relu'),\n",
        "    layers.Conv2D(64, kernel_size=(3,3), padding='same', strides=(1,1)),\n",
        "    layers.BatchNormalization(),\n",
        "    layers.Activation('relu'),\n",
        "    layers.MaxPooling2D(pool_size=(2,2)),\n",
        "    layers.Dropout(0.1),\n",
        "    layers.Conv2D(128, kernel_size=(3,3), padding='same', strides=(1,1)),\n",
        "    layers.BatchNormalization(),\n",
        "    layers.Activation('relu'),\n",
        "    layers.Conv2D(128, kernel_size=(3,3), padding='same', strides=(1,1)),\n",
        "    layers.BatchNormalization(),\n",
        "    layers.Activation('relu'),\n",
        "    layers.MaxPooling2D(pool_size=(2,2)),\n",
        "    layers.Conv2D(128, kernel_size=(3,3), padding='same', strides=(1,1)),\n",
        "    layers.BatchNormalization(),\n",
        "    layers.Activation('relu'),\n",
        "    layers.Dropout(0.1),\n",
        "    layers.Conv2D(256, kernel_size=(3,3), padding='same', strides=(1,1)),\n",
        "    layers.BatchNormalization(),\n",
        "    layers.Activation('relu'),\n",
        "    layers.Conv2D(256, kernel_size=(3,3), padding='same', strides=(1,1)),\n",
        "    layers.BatchNormalization(),\n",
        "    layers.Activation('relu'),\n",
        "    layers.Conv2D(256, kernel_size=(3,3), padding='same', strides=(1,1)),\n",
        "    layers.BatchNormalization(),\n",
        "    layers.Activation('relu'),\n",
        "    \n",
        "    layers.MaxPooling2D(pool_size=(2,2)),\n",
        "    layers.Flatten(),\n",
        "    layers.Dropout(0.1),\n",
        "    layers.Dense(512),\n",
        "    layers.BatchNormalization(),\n",
        "    layers.Activation('relu'),\n",
        "    layers.Dropout(0.1),\n",
        "    layers.Dense(512),\n",
        "    layers.BatchNormalization(),\n",
        "    layers.Activation('relu'),\n",
        "    layers.Dense(NUM_CLASSES, activation='softmax')\n",
        "])\n",
        "\n",
        "classifier.summary()\n",
        "\n",
        "import copy\n",
        "untrained_layers = copy.deepcopy(classifier.get_layer(name=classifier.layers[GABOR_LAYER_INDEX].name).get_weights())"
      ],
      "execution_count": 25,
      "outputs": [
        {
          "output_type": "stream",
          "text": [
            "Model: \"sequential_1\"\n",
            "_________________________________________________________________\n",
            "Layer (type)                 Output Shape              Param #   \n",
            "=================================================================\n",
            "GaborLayer (Conv2D)          (None, 128, 128, 32)      21632     \n",
            "_________________________________________________________________\n",
            "batch_normalization_12 (Batc (None, 128, 128, 32)      128       \n",
            "_________________________________________________________________\n",
            "activation_12 (Activation)   (None, 128, 128, 32)      0         \n",
            "_________________________________________________________________\n",
            "conv2d_9 (Conv2D)            (None, 128, 128, 32)      9248      \n",
            "_________________________________________________________________\n",
            "batch_normalization_13 (Batc (None, 128, 128, 32)      128       \n",
            "_________________________________________________________________\n",
            "activation_13 (Activation)   (None, 128, 128, 32)      0         \n",
            "_________________________________________________________________\n",
            "max_pooling2d_4 (MaxPooling2 (None, 64, 64, 32)        0         \n",
            "_________________________________________________________________\n",
            "dropout_5 (Dropout)          (None, 64, 64, 32)        0         \n",
            "_________________________________________________________________\n",
            "conv2d_10 (Conv2D)           (None, 64, 64, 64)        18496     \n",
            "_________________________________________________________________\n",
            "batch_normalization_14 (Batc (None, 64, 64, 64)        256       \n",
            "_________________________________________________________________\n",
            "activation_14 (Activation)   (None, 64, 64, 64)        0         \n",
            "_________________________________________________________________\n",
            "conv2d_11 (Conv2D)           (None, 64, 64, 64)        36928     \n",
            "_________________________________________________________________\n",
            "batch_normalization_15 (Batc (None, 64, 64, 64)        256       \n",
            "_________________________________________________________________\n",
            "activation_15 (Activation)   (None, 64, 64, 64)        0         \n",
            "_________________________________________________________________\n",
            "max_pooling2d_5 (MaxPooling2 (None, 32, 32, 64)        0         \n",
            "_________________________________________________________________\n",
            "dropout_6 (Dropout)          (None, 32, 32, 64)        0         \n",
            "_________________________________________________________________\n",
            "conv2d_12 (Conv2D)           (None, 32, 32, 128)       73856     \n",
            "_________________________________________________________________\n",
            "batch_normalization_16 (Batc (None, 32, 32, 128)       512       \n",
            "_________________________________________________________________\n",
            "activation_16 (Activation)   (None, 32, 32, 128)       0         \n",
            "_________________________________________________________________\n",
            "conv2d_13 (Conv2D)           (None, 32, 32, 128)       147584    \n",
            "_________________________________________________________________\n",
            "batch_normalization_17 (Batc (None, 32, 32, 128)       512       \n",
            "_________________________________________________________________\n",
            "activation_17 (Activation)   (None, 32, 32, 128)       0         \n",
            "_________________________________________________________________\n",
            "max_pooling2d_6 (MaxPooling2 (None, 16, 16, 128)       0         \n",
            "_________________________________________________________________\n",
            "conv2d_14 (Conv2D)           (None, 16, 16, 128)       147584    \n",
            "_________________________________________________________________\n",
            "batch_normalization_18 (Batc (None, 16, 16, 128)       512       \n",
            "_________________________________________________________________\n",
            "activation_18 (Activation)   (None, 16, 16, 128)       0         \n",
            "_________________________________________________________________\n",
            "dropout_7 (Dropout)          (None, 16, 16, 128)       0         \n",
            "_________________________________________________________________\n",
            "conv2d_15 (Conv2D)           (None, 16, 16, 256)       295168    \n",
            "_________________________________________________________________\n",
            "batch_normalization_19 (Batc (None, 16, 16, 256)       1024      \n",
            "_________________________________________________________________\n",
            "activation_19 (Activation)   (None, 16, 16, 256)       0         \n",
            "_________________________________________________________________\n",
            "conv2d_16 (Conv2D)           (None, 16, 16, 256)       590080    \n",
            "_________________________________________________________________\n",
            "batch_normalization_20 (Batc (None, 16, 16, 256)       1024      \n",
            "_________________________________________________________________\n",
            "activation_20 (Activation)   (None, 16, 16, 256)       0         \n",
            "_________________________________________________________________\n",
            "conv2d_17 (Conv2D)           (None, 16, 16, 256)       590080    \n",
            "_________________________________________________________________\n",
            "batch_normalization_21 (Batc (None, 16, 16, 256)       1024      \n",
            "_________________________________________________________________\n",
            "activation_21 (Activation)   (None, 16, 16, 256)       0         \n",
            "_________________________________________________________________\n",
            "max_pooling2d_7 (MaxPooling2 (None, 8, 8, 256)         0         \n",
            "_________________________________________________________________\n",
            "flatten_1 (Flatten)          (None, 16384)             0         \n",
            "_________________________________________________________________\n",
            "dropout_8 (Dropout)          (None, 16384)             0         \n",
            "_________________________________________________________________\n",
            "dense_3 (Dense)              (None, 512)               8389120   \n",
            "_________________________________________________________________\n",
            "batch_normalization_22 (Batc (None, 512)               2048      \n",
            "_________________________________________________________________\n",
            "activation_22 (Activation)   (None, 512)               0         \n",
            "_________________________________________________________________\n",
            "dropout_9 (Dropout)          (None, 512)               0         \n",
            "_________________________________________________________________\n",
            "dense_4 (Dense)              (None, 512)               262656    \n",
            "_________________________________________________________________\n",
            "batch_normalization_23 (Batc (None, 512)               2048      \n",
            "_________________________________________________________________\n",
            "activation_23 (Activation)   (None, 512)               0         \n",
            "_________________________________________________________________\n",
            "dense_5 (Dense)              (None, 100)               51300     \n",
            "=================================================================\n",
            "Total params: 10,643,204\n",
            "Trainable params: 10,638,468\n",
            "Non-trainable params: 4,736\n",
            "_________________________________________________________________\n"
          ],
          "name": "stdout"
        }
      ]
    },
    {
      "cell_type": "code",
      "metadata": {
        "colab": {
          "base_uri": "https://localhost:8080/"
        },
        "id": "_NzxrvzG8aXE",
        "outputId": "4f08306a-4d44-4af6-f4dc-ff8d6172b936"
      },
      "source": [
        "reduce_lr = ReduceLROnPlateau(monitor='val_loss', factor=0.5, patience=10,  \n",
        "                              min_delta=1e-4, mode='min', verbose=1)\n",
        "stop_alg = EarlyStopping(monitor='val_loss', patience=35, \n",
        "                         restore_best_weights=True, verbose=1)\n",
        "callbacks = [stop_alg, reduce_lr]\n",
        "opt = Adam(learning_rate=0.001)\n",
        "classifier.compile(loss='categorical_crossentropy', optimizer=opt, metrics=['accuracy', 'AUC'])\n",
        "\n",
        "start = time.perf_counter()\n",
        "hist = classifier.fit(\n",
        "    train_generator, \n",
        "    epochs=EPOCHS,\n",
        "    validation_data=validation_generator,\n",
        "    validation_steps=total_validate//BATCH_SIZE,\n",
        "    steps_per_epoch=total_train//BATCH_SIZE,\n",
        "    callbacks=callbacks\n",
        ")\n",
        "finish = time.perf_counter()"
      ],
      "execution_count": 26,
      "outputs": [
        {
          "output_type": "stream",
          "text": [
            "Epoch 1/1000\n",
            "1562/1562 [==============================] - 83s 52ms/step - loss: 3.9845 - accuracy: 0.1011 - auc: 0.7641 - val_loss: 3.1555 - val_accuracy: 0.2346 - val_auc: 0.8731\n",
            "Epoch 2/1000\n",
            "1562/1562 [==============================] - 81s 52ms/step - loss: 2.7332 - accuracy: 0.3118 - auc: 0.9122 - val_loss: 2.6687 - val_accuracy: 0.3343 - val_auc: 0.9071\n",
            "Epoch 3/1000\n",
            "1562/1562 [==============================] - 81s 52ms/step - loss: 2.1545 - accuracy: 0.4331 - auc: 0.9456 - val_loss: 2.4470 - val_accuracy: 0.3814 - val_auc: 0.9168\n",
            "Epoch 4/1000\n",
            "1562/1562 [==============================] - 81s 52ms/step - loss: 1.8350 - accuracy: 0.5000 - auc: 0.9605 - val_loss: 1.9070 - val_accuracy: 0.4875 - val_auc: 0.9525\n",
            "Epoch 5/1000\n",
            "1562/1562 [==============================] - 81s 52ms/step - loss: 1.5858 - accuracy: 0.5588 - auc: 0.9695 - val_loss: 2.2772 - val_accuracy: 0.4279 - val_auc: 0.9244\n",
            "Epoch 6/1000\n",
            "1562/1562 [==============================] - 81s 52ms/step - loss: 1.3543 - accuracy: 0.6147 - auc: 0.9774 - val_loss: 1.8075 - val_accuracy: 0.5154 - val_auc: 0.9528\n",
            "Epoch 7/1000\n",
            "1562/1562 [==============================] - 81s 52ms/step - loss: 1.1945 - accuracy: 0.6596 - auc: 0.9819 - val_loss: 1.8798 - val_accuracy: 0.5130 - val_auc: 0.9449\n",
            "Epoch 8/1000\n",
            "1562/1562 [==============================] - 81s 52ms/step - loss: 1.0218 - accuracy: 0.7036 - auc: 0.9856 - val_loss: 1.6737 - val_accuracy: 0.5680 - val_auc: 0.9517\n",
            "Epoch 9/1000\n",
            "1562/1562 [==============================] - 81s 52ms/step - loss: 0.8803 - accuracy: 0.7394 - auc: 0.9891 - val_loss: 1.7924 - val_accuracy: 0.5593 - val_auc: 0.9423\n",
            "Epoch 10/1000\n",
            "1562/1562 [==============================] - 81s 52ms/step - loss: 0.7565 - accuracy: 0.7724 - auc: 0.9915 - val_loss: 1.9342 - val_accuracy: 0.5415 - val_auc: 0.9323\n",
            "Epoch 11/1000\n",
            "1562/1562 [==============================] - 81s 52ms/step - loss: 0.6385 - accuracy: 0.8082 - auc: 0.9936 - val_loss: 1.8847 - val_accuracy: 0.5557 - val_auc: 0.9350\n",
            "Epoch 12/1000\n",
            "1562/1562 [==============================] - 81s 52ms/step - loss: 0.5502 - accuracy: 0.8345 - auc: 0.9941 - val_loss: 1.8778 - val_accuracy: 0.5725 - val_auc: 0.9317\n",
            "Epoch 13/1000\n",
            "1562/1562 [==============================] - 81s 52ms/step - loss: 0.4743 - accuracy: 0.8550 - auc: 0.9954 - val_loss: 1.9151 - val_accuracy: 0.5761 - val_auc: 0.9308\n",
            "Epoch 14/1000\n",
            "1562/1562 [==============================] - 81s 52ms/step - loss: 0.4030 - accuracy: 0.8737 - auc: 0.9966 - val_loss: 1.9756 - val_accuracy: 0.5800 - val_auc: 0.9237\n",
            "Epoch 15/1000\n",
            "1562/1562 [==============================] - 81s 52ms/step - loss: 0.3739 - accuracy: 0.8812 - auc: 0.9973 - val_loss: 2.1453 - val_accuracy: 0.5616 - val_auc: 0.9178\n",
            "Epoch 16/1000\n",
            "1562/1562 [==============================] - 81s 52ms/step - loss: 0.3234 - accuracy: 0.8985 - auc: 0.9972 - val_loss: 2.0710 - val_accuracy: 0.5805 - val_auc: 0.9181\n",
            "Epoch 17/1000\n",
            "1562/1562 [==============================] - 81s 52ms/step - loss: 0.3077 - accuracy: 0.9007 - auc: 0.9976 - val_loss: 2.0927 - val_accuracy: 0.5781 - val_auc: 0.9194\n",
            "Epoch 18/1000\n",
            "1562/1562 [==============================] - 81s 52ms/step - loss: 0.2765 - accuracy: 0.9098 - auc: 0.9976 - val_loss: 2.2548 - val_accuracy: 0.5641 - val_auc: 0.9097\n",
            "\n",
            "Epoch 00018: ReduceLROnPlateau reducing learning rate to 0.0005000000237487257.\n",
            "Epoch 19/1000\n",
            "1562/1562 [==============================] - 81s 52ms/step - loss: 0.1873 - accuracy: 0.9402 - auc: 0.9989 - val_loss: 2.0032 - val_accuracy: 0.6061 - val_auc: 0.9212\n",
            "Epoch 20/1000\n",
            "1562/1562 [==============================] - 81s 52ms/step - loss: 0.1363 - accuracy: 0.9563 - auc: 0.9993 - val_loss: 2.0625 - val_accuracy: 0.6062 - val_auc: 0.9182\n",
            "Epoch 21/1000\n",
            "1562/1562 [==============================] - 81s 52ms/step - loss: 0.1170 - accuracy: 0.9638 - auc: 0.9994 - val_loss: 2.2022 - val_accuracy: 0.5931 - val_auc: 0.9121\n",
            "Epoch 22/1000\n",
            "1562/1562 [==============================] - 82s 52ms/step - loss: 0.1079 - accuracy: 0.9653 - auc: 0.9995 - val_loss: 2.1789 - val_accuracy: 0.6064 - val_auc: 0.9133\n",
            "Epoch 23/1000\n",
            "1562/1562 [==============================] - 82s 52ms/step - loss: 0.0921 - accuracy: 0.9711 - auc: 0.9996 - val_loss: 2.3274 - val_accuracy: 0.5956 - val_auc: 0.9055\n",
            "Epoch 24/1000\n",
            "1562/1562 [==============================] - 81s 52ms/step - loss: 0.0951 - accuracy: 0.9683 - auc: 0.9996 - val_loss: 2.2572 - val_accuracy: 0.6087 - val_auc: 0.9102\n",
            "Epoch 25/1000\n",
            "1562/1562 [==============================] - 81s 52ms/step - loss: 0.0868 - accuracy: 0.9711 - auc: 0.9996 - val_loss: 2.3200 - val_accuracy: 0.5990 - val_auc: 0.9079\n",
            "Epoch 26/1000\n",
            "1562/1562 [==============================] - 82s 52ms/step - loss: 0.0856 - accuracy: 0.9726 - auc: 0.9994 - val_loss: 2.4142 - val_accuracy: 0.6029 - val_auc: 0.9028\n",
            "Epoch 27/1000\n",
            "1562/1562 [==============================] - 82s 52ms/step - loss: 0.0786 - accuracy: 0.9747 - auc: 0.9995 - val_loss: 2.4027 - val_accuracy: 0.6017 - val_auc: 0.9024\n",
            "Epoch 28/1000\n",
            "1562/1562 [==============================] - 82s 52ms/step - loss: 0.0749 - accuracy: 0.9758 - auc: 0.9996 - val_loss: 2.4963 - val_accuracy: 0.6030 - val_auc: 0.8986\n",
            "\n",
            "Epoch 00028: ReduceLROnPlateau reducing learning rate to 0.0002500000118743628.\n",
            "Epoch 29/1000\n",
            "1562/1562 [==============================] - 81s 52ms/step - loss: 0.0626 - accuracy: 0.9800 - auc: 0.9997 - val_loss: 2.3449 - val_accuracy: 0.6145 - val_auc: 0.9049\n",
            "Epoch 30/1000\n",
            "1562/1562 [==============================] - 81s 52ms/step - loss: 0.0471 - accuracy: 0.9854 - auc: 0.9997 - val_loss: 2.3396 - val_accuracy: 0.6186 - val_auc: 0.9048\n",
            "Epoch 31/1000\n",
            "1562/1562 [==============================] - 82s 52ms/step - loss: 0.0449 - accuracy: 0.9860 - auc: 0.9998 - val_loss: 2.3775 - val_accuracy: 0.6151 - val_auc: 0.9051\n",
            "Epoch 32/1000\n",
            "1562/1562 [==============================] - 81s 52ms/step - loss: 0.0419 - accuracy: 0.9869 - auc: 0.9998 - val_loss: 2.4208 - val_accuracy: 0.6137 - val_auc: 0.9039\n",
            "Epoch 33/1000\n",
            "1562/1562 [==============================] - 81s 52ms/step - loss: 0.0361 - accuracy: 0.9891 - auc: 0.9998 - val_loss: 2.3946 - val_accuracy: 0.6177 - val_auc: 0.9037\n",
            "Epoch 34/1000\n",
            "1562/1562 [==============================] - 82s 52ms/step - loss: 0.0355 - accuracy: 0.9895 - auc: 0.9998 - val_loss: 2.4275 - val_accuracy: 0.6189 - val_auc: 0.9034\n",
            "Epoch 35/1000\n",
            "1562/1562 [==============================] - 82s 52ms/step - loss: 0.0340 - accuracy: 0.9894 - auc: 0.9999 - val_loss: 2.4197 - val_accuracy: 0.6162 - val_auc: 0.9028\n",
            "Epoch 36/1000\n",
            "1562/1562 [==============================] - 82s 52ms/step - loss: 0.0319 - accuracy: 0.9902 - auc: 0.9999 - val_loss: 2.4320 - val_accuracy: 0.6138 - val_auc: 0.9037\n",
            "Epoch 37/1000\n",
            "1562/1562 [==============================] - 81s 52ms/step - loss: 0.0316 - accuracy: 0.9899 - auc: 0.9999 - val_loss: 2.4360 - val_accuracy: 0.6158 - val_auc: 0.9021\n",
            "Epoch 38/1000\n",
            "1562/1562 [==============================] - 82s 52ms/step - loss: 0.0315 - accuracy: 0.9901 - auc: 0.9999 - val_loss: 2.5303 - val_accuracy: 0.6150 - val_auc: 0.8994\n",
            "\n",
            "Epoch 00038: ReduceLROnPlateau reducing learning rate to 0.0001250000059371814.\n",
            "Epoch 39/1000\n",
            "1562/1562 [==============================] - 82s 52ms/step - loss: 0.0274 - accuracy: 0.9918 - auc: 0.9998 - val_loss: 2.4312 - val_accuracy: 0.6235 - val_auc: 0.9048\n",
            "Epoch 40/1000\n",
            "1562/1562 [==============================] - 81s 52ms/step - loss: 0.0228 - accuracy: 0.9929 - auc: 0.9999 - val_loss: 2.4115 - val_accuracy: 0.6234 - val_auc: 0.9049\n",
            "Epoch 41/1000\n",
            "1562/1562 [==============================] - 82s 52ms/step - loss: 0.0206 - accuracy: 0.9937 - auc: 1.0000 - val_loss: 2.4471 - val_accuracy: 0.6231 - val_auc: 0.9038\n",
            "Epoch 42/1000\n",
            "1562/1562 [==============================] - 81s 52ms/step - loss: 0.0202 - accuracy: 0.9932 - auc: 1.0000 - val_loss: 2.4118 - val_accuracy: 0.6243 - val_auc: 0.9041\n",
            "Epoch 43/1000\n",
            "1562/1562 [==============================] - 82s 52ms/step - loss: 0.0182 - accuracy: 0.9941 - auc: 1.0000 - val_loss: 2.4627 - val_accuracy: 0.6225 - val_auc: 0.9027\n",
            "Restoring model weights from the end of the best epoch.\n",
            "Epoch 00043: early stopping\n"
          ],
          "name": "stdout"
        }
      ]
    },
    {
      "cell_type": "code",
      "metadata": {
        "colab": {
          "base_uri": "https://localhost:8080/",
          "height": 1000
        },
        "id": "wYm50V4v0i9E",
        "outputId": "890d91da-162f-49f3-b055-a18ab27bd68f"
      },
      "source": [
        "reduce_lr = ReduceLROnPlateau(monitor='val_loss', factor=0.5, patience=10,  \n",
        "                              min_delta=1e-4, mode='min', verbose=1)\n",
        "stop_alg = EarlyStopping(monitor='val_loss', patience=35, \n",
        "                         restore_best_weights=True, verbose=1)\n",
        "callbacks = [stop_alg, reduce_lr]\n",
        "opt = Adam(learning_rate=0.001)\n",
        "classifier.compile(loss='categorical_crossentropy', optimizer=opt, metrics=['accuracy', 'AUC'])\n",
        "\n",
        "start = time.perf_counter()\n",
        "hist = classifier.fit(\n",
        "    train_generator, \n",
        "    epochs=EPOCHS,\n",
        "    validation_data=validation_generator,\n",
        "    validation_steps=total_validate//BATCH_SIZE,\n",
        "    steps_per_epoch=total_train//BATCH_SIZE,\n",
        "    callbacks=callbacks\n",
        ")\n",
        "finish = time.perf_counter()"
      ],
      "execution_count": null,
      "outputs": [
        {
          "output_type": "stream",
          "text": [
            "Epoch 1/1000\n",
            "312/312 [==============================] - 57s 166ms/step - loss: 4.5369 - accuracy: 0.0324 - auc: 0.6455 - val_loss: 5.1287 - val_accuracy: 0.0531 - val_auc: 0.6710\n",
            "Epoch 2/1000\n",
            "312/312 [==============================] - 50s 161ms/step - loss: 3.8352 - accuracy: 0.1162 - auc: 0.8035 - val_loss: 5.7407 - val_accuracy: 0.0761 - val_auc: 0.6485\n",
            "Epoch 3/1000\n",
            "312/312 [==============================] - 50s 161ms/step - loss: 3.3564 - accuracy: 0.1931 - auc: 0.8635 - val_loss: 6.5729 - val_accuracy: 0.0660 - val_auc: 0.6249\n",
            "Epoch 4/1000\n",
            "312/312 [==============================] - 50s 160ms/step - loss: 2.9144 - accuracy: 0.2709 - auc: 0.9053 - val_loss: 4.3447 - val_accuracy: 0.1520 - val_auc: 0.7564\n",
            "Epoch 5/1000\n",
            "312/312 [==============================] - 50s 161ms/step - loss: 2.4667 - accuracy: 0.3673 - auc: 0.9357 - val_loss: 3.9080 - val_accuracy: 0.1878 - val_auc: 0.7990\n",
            "Epoch 6/1000\n",
            "312/312 [==============================] - 50s 161ms/step - loss: 1.9675 - accuracy: 0.4828 - auc: 0.9637 - val_loss: 3.8244 - val_accuracy: 0.2027 - val_auc: 0.8097\n",
            "Epoch 7/1000\n",
            "312/312 [==============================] - 50s 161ms/step - loss: 1.4534 - accuracy: 0.6152 - auc: 0.9813 - val_loss: 5.2655 - val_accuracy: 0.1447 - val_auc: 0.7176\n",
            "Epoch 8/1000\n",
            "312/312 [==============================] - 50s 160ms/step - loss: 0.9346 - accuracy: 0.7560 - auc: 0.9937 - val_loss: 3.7669 - val_accuracy: 0.2481 - val_auc: 0.8164\n",
            "Epoch 9/1000\n",
            "312/312 [==============================] - 49s 158ms/step - loss: 0.5671 - accuracy: 0.8633 - auc: 0.9977 - val_loss: 3.7037 - val_accuracy: 0.2731 - val_auc: 0.8204\n",
            "Epoch 10/1000\n",
            "312/312 [==============================] - 49s 159ms/step - loss: 0.3303 - accuracy: 0.9219 - auc: 0.9994 - val_loss: 4.0111 - val_accuracy: 0.2569 - val_auc: 0.8028\n",
            "Epoch 11/1000\n",
            "312/312 [==============================] - 49s 159ms/step - loss: 0.2061 - accuracy: 0.9563 - auc: 0.9996 - val_loss: 4.1197 - val_accuracy: 0.2559 - val_auc: 0.7973\n",
            "Epoch 12/1000\n",
            "312/312 [==============================] - 49s 158ms/step - loss: 0.1610 - accuracy: 0.9628 - auc: 0.9999 - val_loss: 4.4821 - val_accuracy: 0.2481 - val_auc: 0.7780\n",
            "Epoch 13/1000\n",
            "312/312 [==============================] - 50s 161ms/step - loss: 0.1177 - accuracy: 0.9742 - auc: 0.9999 - val_loss: 4.4343 - val_accuracy: 0.2570 - val_auc: 0.7820\n",
            "Epoch 14/1000\n",
            "312/312 [==============================] - 49s 159ms/step - loss: 0.1291 - accuracy: 0.9675 - auc: 0.9998 - val_loss: 4.7949 - val_accuracy: 0.2448 - val_auc: 0.7628\n",
            "Epoch 15/1000\n",
            "312/312 [==============================] - 50s 159ms/step - loss: 0.1543 - accuracy: 0.9559 - auc: 0.9997 - val_loss: 4.9003 - val_accuracy: 0.2510 - val_auc: 0.7639\n",
            "Epoch 16/1000\n",
            "312/312 [==============================] - 49s 159ms/step - loss: 0.1467 - accuracy: 0.9567 - auc: 0.9994 - val_loss: 5.1782 - val_accuracy: 0.2470 - val_auc: 0.7511\n",
            "Epoch 17/1000\n",
            "312/312 [==============================] - 49s 158ms/step - loss: 0.1632 - accuracy: 0.9511 - auc: 0.9994 - val_loss: 5.2780 - val_accuracy: 0.2401 - val_auc: 0.7467\n",
            "Epoch 18/1000\n",
            "312/312 [==============================] - 49s 159ms/step - loss: 0.1388 - accuracy: 0.9605 - auc: 0.9997 - val_loss: 5.1434 - val_accuracy: 0.2511 - val_auc: 0.7557\n",
            "Epoch 19/1000\n",
            "312/312 [==============================] - 50s 160ms/step - loss: 0.1081 - accuracy: 0.9684 - auc: 0.9993 - val_loss: 5.0512 - val_accuracy: 0.2627 - val_auc: 0.7607\n",
            "\n",
            "Epoch 00019: ReduceLROnPlateau reducing learning rate to 0.0005000000237487257.\n",
            "Epoch 20/1000\n",
            "312/312 [==============================] - 50s 159ms/step - loss: 0.0593 - accuracy: 0.9843 - auc: 0.9996 - val_loss: 4.6402 - val_accuracy: 0.2881 - val_auc: 0.7798\n",
            "Epoch 21/1000\n",
            "312/312 [==============================] - 50s 160ms/step - loss: 0.0198 - accuracy: 0.9969 - auc: 0.9999 - val_loss: 4.6653 - val_accuracy: 0.2885 - val_auc: 0.7784\n",
            "Epoch 22/1000\n",
            "312/312 [==============================] - 50s 160ms/step - loss: 0.0164 - accuracy: 0.9971 - auc: 1.0000 - val_loss: 4.6534 - val_accuracy: 0.2903 - val_auc: 0.7794\n",
            "Epoch 23/1000\n",
            "312/312 [==============================] - 49s 159ms/step - loss: 0.0143 - accuracy: 0.9967 - auc: 1.0000 - val_loss: 4.6654 - val_accuracy: 0.2924 - val_auc: 0.7789\n",
            "Epoch 24/1000\n",
            "312/312 [==============================] - 50s 160ms/step - loss: 0.0104 - accuracy: 0.9984 - auc: 1.0000 - val_loss: 4.6883 - val_accuracy: 0.2932 - val_auc: 0.7779\n",
            "Epoch 25/1000\n",
            "312/312 [==============================] - 50s 159ms/step - loss: 0.0147 - accuracy: 0.9972 - auc: 0.9999 - val_loss: 4.7973 - val_accuracy: 0.2891 - val_auc: 0.7743\n",
            "Epoch 26/1000\n",
            "312/312 [==============================] - 50s 159ms/step - loss: 0.0150 - accuracy: 0.9965 - auc: 1.0000 - val_loss: 4.8727 - val_accuracy: 0.2833 - val_auc: 0.7696\n",
            "Epoch 27/1000\n",
            "312/312 [==============================] - 49s 159ms/step - loss: 0.0120 - accuracy: 0.9979 - auc: 0.9999 - val_loss: 5.0239 - val_accuracy: 0.2759 - val_auc: 0.7637\n",
            "Epoch 28/1000\n",
            "312/312 [==============================] - 50s 159ms/step - loss: 0.0191 - accuracy: 0.9958 - auc: 0.9999 - val_loss: 5.1687 - val_accuracy: 0.2779 - val_auc: 0.7602\n",
            "Epoch 29/1000\n",
            "312/312 [==============================] - 50s 159ms/step - loss: 0.0166 - accuracy: 0.9962 - auc: 1.0000 - val_loss: 5.1736 - val_accuracy: 0.2752 - val_auc: 0.7584\n",
            "\n",
            "Epoch 00029: ReduceLROnPlateau reducing learning rate to 0.0002500000118743628.\n",
            "Epoch 30/1000\n",
            "312/312 [==============================] - 50s 159ms/step - loss: 0.0121 - accuracy: 0.9977 - auc: 1.0000 - val_loss: 4.9354 - val_accuracy: 0.2858 - val_auc: 0.7681\n",
            "Epoch 31/1000\n",
            "312/312 [==============================] - 50s 160ms/step - loss: 0.0156 - accuracy: 0.9958 - auc: 0.9998 - val_loss: 5.0037 - val_accuracy: 0.2856 - val_auc: 0.7662\n",
            "Epoch 32/1000\n",
            "312/312 [==============================] - 50s 160ms/step - loss: 0.0071 - accuracy: 0.9986 - auc: 1.0000 - val_loss: 5.0354 - val_accuracy: 0.2861 - val_auc: 0.7649\n",
            "Epoch 33/1000\n",
            "312/312 [==============================] - 50s 160ms/step - loss: 0.0056 - accuracy: 0.9991 - auc: 1.0000 - val_loss: 4.9393 - val_accuracy: 0.2897 - val_auc: 0.7690\n",
            "Epoch 34/1000\n",
            "312/312 [==============================] - 50s 159ms/step - loss: 0.0048 - accuracy: 0.9992 - auc: 1.0000 - val_loss: 4.9386 - val_accuracy: 0.2931 - val_auc: 0.7704\n",
            "Epoch 35/1000\n",
            "312/312 [==============================] - 49s 159ms/step - loss: 0.0048 - accuracy: 0.9992 - auc: 1.0000 - val_loss: 5.2031 - val_accuracy: 0.2773 - val_auc: 0.7581\n",
            "Epoch 36/1000\n",
            "312/312 [==============================] - 49s 159ms/step - loss: 0.0051 - accuracy: 0.9989 - auc: 1.0000 - val_loss: 4.9763 - val_accuracy: 0.2927 - val_auc: 0.7695\n",
            "Epoch 37/1000\n",
            "312/312 [==============================] - 49s 159ms/step - loss: 0.0035 - accuracy: 0.9994 - auc: 1.0000 - val_loss: 4.9717 - val_accuracy: 0.2923 - val_auc: 0.7689\n",
            "Epoch 38/1000\n",
            "312/312 [==============================] - 50s 161ms/step - loss: 0.0027 - accuracy: 0.9998 - auc: 1.0000 - val_loss: 5.0172 - val_accuracy: 0.2930 - val_auc: 0.7666\n",
            "Epoch 39/1000\n",
            "312/312 [==============================] - ETA: 0s - loss: 0.0045 - accuracy: 0.9995 - auc: 1.0000"
          ],
          "name": "stdout"
        },
        {
          "output_type": "error",
          "ename": "KeyboardInterrupt",
          "evalue": "ignored",
          "traceback": [
            "\u001b[0;31m---------------------------------------------------------------------------\u001b[0m",
            "\u001b[0;31mKeyboardInterrupt\u001b[0m                         Traceback (most recent call last)",
            "\u001b[0;32m<ipython-input-19-98c01fd43a63>\u001b[0m in \u001b[0;36m<module>\u001b[0;34m()\u001b[0m\n\u001b[1;32m     14\u001b[0m     \u001b[0mvalidation_steps\u001b[0m\u001b[0;34m=\u001b[0m\u001b[0mtotal_validate\u001b[0m\u001b[0;34m//\u001b[0m\u001b[0mBATCH_SIZE\u001b[0m\u001b[0;34m,\u001b[0m\u001b[0;34m\u001b[0m\u001b[0;34m\u001b[0m\u001b[0m\n\u001b[1;32m     15\u001b[0m     \u001b[0msteps_per_epoch\u001b[0m\u001b[0;34m=\u001b[0m\u001b[0mtotal_train\u001b[0m\u001b[0;34m//\u001b[0m\u001b[0mBATCH_SIZE\u001b[0m\u001b[0;34m,\u001b[0m\u001b[0;34m\u001b[0m\u001b[0;34m\u001b[0m\u001b[0m\n\u001b[0;32m---> 16\u001b[0;31m     \u001b[0mcallbacks\u001b[0m\u001b[0;34m=\u001b[0m\u001b[0mcallbacks\u001b[0m\u001b[0;34m\u001b[0m\u001b[0;34m\u001b[0m\u001b[0m\n\u001b[0m\u001b[1;32m     17\u001b[0m )\n\u001b[1;32m     18\u001b[0m \u001b[0mfinish\u001b[0m \u001b[0;34m=\u001b[0m \u001b[0mtime\u001b[0m\u001b[0;34m.\u001b[0m\u001b[0mperf_counter\u001b[0m\u001b[0;34m(\u001b[0m\u001b[0;34m)\u001b[0m\u001b[0;34m\u001b[0m\u001b[0;34m\u001b[0m\u001b[0m\n",
            "\u001b[0;32m/usr/local/lib/python3.6/dist-packages/tensorflow/python/keras/engine/training.py\u001b[0m in \u001b[0;36mfit\u001b[0;34m(self, x, y, batch_size, epochs, verbose, callbacks, validation_split, validation_data, shuffle, class_weight, sample_weight, initial_epoch, steps_per_epoch, validation_steps, validation_batch_size, validation_freq, max_queue_size, workers, use_multiprocessing)\u001b[0m\n\u001b[1;32m   1139\u001b[0m               \u001b[0mworkers\u001b[0m\u001b[0;34m=\u001b[0m\u001b[0mworkers\u001b[0m\u001b[0;34m,\u001b[0m\u001b[0;34m\u001b[0m\u001b[0;34m\u001b[0m\u001b[0m\n\u001b[1;32m   1140\u001b[0m               \u001b[0muse_multiprocessing\u001b[0m\u001b[0;34m=\u001b[0m\u001b[0muse_multiprocessing\u001b[0m\u001b[0;34m,\u001b[0m\u001b[0;34m\u001b[0m\u001b[0;34m\u001b[0m\u001b[0m\n\u001b[0;32m-> 1141\u001b[0;31m               return_dict=True)\n\u001b[0m\u001b[1;32m   1142\u001b[0m           \u001b[0mval_logs\u001b[0m \u001b[0;34m=\u001b[0m \u001b[0;34m{\u001b[0m\u001b[0;34m'val_'\u001b[0m \u001b[0;34m+\u001b[0m \u001b[0mname\u001b[0m\u001b[0;34m:\u001b[0m \u001b[0mval\u001b[0m \u001b[0;32mfor\u001b[0m \u001b[0mname\u001b[0m\u001b[0;34m,\u001b[0m \u001b[0mval\u001b[0m \u001b[0;32min\u001b[0m \u001b[0mval_logs\u001b[0m\u001b[0;34m.\u001b[0m\u001b[0mitems\u001b[0m\u001b[0;34m(\u001b[0m\u001b[0;34m)\u001b[0m\u001b[0;34m}\u001b[0m\u001b[0;34m\u001b[0m\u001b[0;34m\u001b[0m\u001b[0m\n\u001b[1;32m   1143\u001b[0m           \u001b[0mepoch_logs\u001b[0m\u001b[0;34m.\u001b[0m\u001b[0mupdate\u001b[0m\u001b[0;34m(\u001b[0m\u001b[0mval_logs\u001b[0m\u001b[0;34m)\u001b[0m\u001b[0;34m\u001b[0m\u001b[0;34m\u001b[0m\u001b[0m\n",
            "\u001b[0;32m/usr/local/lib/python3.6/dist-packages/tensorflow/python/keras/engine/training.py\u001b[0m in \u001b[0;36mevaluate\u001b[0;34m(self, x, y, batch_size, verbose, sample_weight, steps, callbacks, max_queue_size, workers, use_multiprocessing, return_dict)\u001b[0m\n\u001b[1;32m   1387\u001b[0m             \u001b[0;32mwith\u001b[0m \u001b[0mtrace\u001b[0m\u001b[0;34m.\u001b[0m\u001b[0mTrace\u001b[0m\u001b[0;34m(\u001b[0m\u001b[0;34m'test'\u001b[0m\u001b[0;34m,\u001b[0m \u001b[0mstep_num\u001b[0m\u001b[0;34m=\u001b[0m\u001b[0mstep\u001b[0m\u001b[0;34m,\u001b[0m \u001b[0m_r\u001b[0m\u001b[0;34m=\u001b[0m\u001b[0;36m1\u001b[0m\u001b[0;34m)\u001b[0m\u001b[0;34m:\u001b[0m\u001b[0;34m\u001b[0m\u001b[0;34m\u001b[0m\u001b[0m\n\u001b[1;32m   1388\u001b[0m               \u001b[0mcallbacks\u001b[0m\u001b[0;34m.\u001b[0m\u001b[0mon_test_batch_begin\u001b[0m\u001b[0;34m(\u001b[0m\u001b[0mstep\u001b[0m\u001b[0;34m)\u001b[0m\u001b[0;34m\u001b[0m\u001b[0;34m\u001b[0m\u001b[0m\n\u001b[0;32m-> 1389\u001b[0;31m               \u001b[0mtmp_logs\u001b[0m \u001b[0;34m=\u001b[0m \u001b[0mself\u001b[0m\u001b[0;34m.\u001b[0m\u001b[0mtest_function\u001b[0m\u001b[0;34m(\u001b[0m\u001b[0miterator\u001b[0m\u001b[0;34m)\u001b[0m\u001b[0;34m\u001b[0m\u001b[0;34m\u001b[0m\u001b[0m\n\u001b[0m\u001b[1;32m   1390\u001b[0m               \u001b[0;32mif\u001b[0m \u001b[0mdata_handler\u001b[0m\u001b[0;34m.\u001b[0m\u001b[0mshould_sync\u001b[0m\u001b[0;34m:\u001b[0m\u001b[0;34m\u001b[0m\u001b[0;34m\u001b[0m\u001b[0m\n\u001b[1;32m   1391\u001b[0m                 \u001b[0mcontext\u001b[0m\u001b[0;34m.\u001b[0m\u001b[0masync_wait\u001b[0m\u001b[0;34m(\u001b[0m\u001b[0;34m)\u001b[0m\u001b[0;34m\u001b[0m\u001b[0;34m\u001b[0m\u001b[0m\n",
            "\u001b[0;32m/usr/local/lib/python3.6/dist-packages/tensorflow/python/eager/def_function.py\u001b[0m in \u001b[0;36m__call__\u001b[0;34m(self, *args, **kwds)\u001b[0m\n\u001b[1;32m    826\u001b[0m     \u001b[0mtracing_count\u001b[0m \u001b[0;34m=\u001b[0m \u001b[0mself\u001b[0m\u001b[0;34m.\u001b[0m\u001b[0mexperimental_get_tracing_count\u001b[0m\u001b[0;34m(\u001b[0m\u001b[0;34m)\u001b[0m\u001b[0;34m\u001b[0m\u001b[0;34m\u001b[0m\u001b[0m\n\u001b[1;32m    827\u001b[0m     \u001b[0;32mwith\u001b[0m \u001b[0mtrace\u001b[0m\u001b[0;34m.\u001b[0m\u001b[0mTrace\u001b[0m\u001b[0;34m(\u001b[0m\u001b[0mself\u001b[0m\u001b[0;34m.\u001b[0m\u001b[0m_name\u001b[0m\u001b[0;34m)\u001b[0m \u001b[0;32mas\u001b[0m \u001b[0mtm\u001b[0m\u001b[0;34m:\u001b[0m\u001b[0;34m\u001b[0m\u001b[0;34m\u001b[0m\u001b[0m\n\u001b[0;32m--> 828\u001b[0;31m       \u001b[0mresult\u001b[0m \u001b[0;34m=\u001b[0m \u001b[0mself\u001b[0m\u001b[0;34m.\u001b[0m\u001b[0m_call\u001b[0m\u001b[0;34m(\u001b[0m\u001b[0;34m*\u001b[0m\u001b[0margs\u001b[0m\u001b[0;34m,\u001b[0m \u001b[0;34m**\u001b[0m\u001b[0mkwds\u001b[0m\u001b[0;34m)\u001b[0m\u001b[0;34m\u001b[0m\u001b[0;34m\u001b[0m\u001b[0m\n\u001b[0m\u001b[1;32m    829\u001b[0m       \u001b[0mcompiler\u001b[0m \u001b[0;34m=\u001b[0m \u001b[0;34m\"xla\"\u001b[0m \u001b[0;32mif\u001b[0m \u001b[0mself\u001b[0m\u001b[0;34m.\u001b[0m\u001b[0m_experimental_compile\u001b[0m \u001b[0;32melse\u001b[0m \u001b[0;34m\"nonXla\"\u001b[0m\u001b[0;34m\u001b[0m\u001b[0;34m\u001b[0m\u001b[0m\n\u001b[1;32m    830\u001b[0m       \u001b[0mnew_tracing_count\u001b[0m \u001b[0;34m=\u001b[0m \u001b[0mself\u001b[0m\u001b[0;34m.\u001b[0m\u001b[0mexperimental_get_tracing_count\u001b[0m\u001b[0;34m(\u001b[0m\u001b[0;34m)\u001b[0m\u001b[0;34m\u001b[0m\u001b[0;34m\u001b[0m\u001b[0m\n",
            "\u001b[0;32m/usr/local/lib/python3.6/dist-packages/tensorflow/python/eager/def_function.py\u001b[0m in \u001b[0;36m_call\u001b[0;34m(self, *args, **kwds)\u001b[0m\n\u001b[1;32m    860\u001b[0m       \u001b[0;31m# In this case we have not created variables on the first call. So we can\u001b[0m\u001b[0;34m\u001b[0m\u001b[0;34m\u001b[0m\u001b[0;34m\u001b[0m\u001b[0m\n\u001b[1;32m    861\u001b[0m       \u001b[0;31m# run the first trace but we should fail if variables are created.\u001b[0m\u001b[0;34m\u001b[0m\u001b[0;34m\u001b[0m\u001b[0;34m\u001b[0m\u001b[0m\n\u001b[0;32m--> 862\u001b[0;31m       \u001b[0mresults\u001b[0m \u001b[0;34m=\u001b[0m \u001b[0mself\u001b[0m\u001b[0;34m.\u001b[0m\u001b[0m_stateful_fn\u001b[0m\u001b[0;34m(\u001b[0m\u001b[0;34m*\u001b[0m\u001b[0margs\u001b[0m\u001b[0;34m,\u001b[0m \u001b[0;34m**\u001b[0m\u001b[0mkwds\u001b[0m\u001b[0;34m)\u001b[0m\u001b[0;34m\u001b[0m\u001b[0;34m\u001b[0m\u001b[0m\n\u001b[0m\u001b[1;32m    863\u001b[0m       \u001b[0;32mif\u001b[0m \u001b[0mself\u001b[0m\u001b[0;34m.\u001b[0m\u001b[0m_created_variables\u001b[0m\u001b[0;34m:\u001b[0m\u001b[0;34m\u001b[0m\u001b[0;34m\u001b[0m\u001b[0m\n\u001b[1;32m    864\u001b[0m         raise ValueError(\"Creating variables on a non-first call to a function\"\n",
            "\u001b[0;32m/usr/local/lib/python3.6/dist-packages/tensorflow/python/eager/function.py\u001b[0m in \u001b[0;36m__call__\u001b[0;34m(self, *args, **kwargs)\u001b[0m\n\u001b[1;32m   2941\u001b[0m        filtered_flat_args) = self._maybe_define_function(args, kwargs)\n\u001b[1;32m   2942\u001b[0m     return graph_function._call_flat(\n\u001b[0;32m-> 2943\u001b[0;31m         filtered_flat_args, captured_inputs=graph_function.captured_inputs)  # pylint: disable=protected-access\n\u001b[0m\u001b[1;32m   2944\u001b[0m \u001b[0;34m\u001b[0m\u001b[0m\n\u001b[1;32m   2945\u001b[0m   \u001b[0;34m@\u001b[0m\u001b[0mproperty\u001b[0m\u001b[0;34m\u001b[0m\u001b[0;34m\u001b[0m\u001b[0m\n",
            "\u001b[0;32m/usr/local/lib/python3.6/dist-packages/tensorflow/python/eager/function.py\u001b[0m in \u001b[0;36m_call_flat\u001b[0;34m(self, args, captured_inputs, cancellation_manager)\u001b[0m\n\u001b[1;32m   1917\u001b[0m       \u001b[0;31m# No tape is watching; skip to running the function.\u001b[0m\u001b[0;34m\u001b[0m\u001b[0;34m\u001b[0m\u001b[0;34m\u001b[0m\u001b[0m\n\u001b[1;32m   1918\u001b[0m       return self._build_call_outputs(self._inference_function.call(\n\u001b[0;32m-> 1919\u001b[0;31m           ctx, args, cancellation_manager=cancellation_manager))\n\u001b[0m\u001b[1;32m   1920\u001b[0m     forward_backward = self._select_forward_and_backward_functions(\n\u001b[1;32m   1921\u001b[0m         \u001b[0margs\u001b[0m\u001b[0;34m,\u001b[0m\u001b[0;34m\u001b[0m\u001b[0;34m\u001b[0m\u001b[0m\n",
            "\u001b[0;32m/usr/local/lib/python3.6/dist-packages/tensorflow/python/eager/function.py\u001b[0m in \u001b[0;36mcall\u001b[0;34m(self, ctx, args, cancellation_manager)\u001b[0m\n\u001b[1;32m    558\u001b[0m               \u001b[0minputs\u001b[0m\u001b[0;34m=\u001b[0m\u001b[0margs\u001b[0m\u001b[0;34m,\u001b[0m\u001b[0;34m\u001b[0m\u001b[0;34m\u001b[0m\u001b[0m\n\u001b[1;32m    559\u001b[0m               \u001b[0mattrs\u001b[0m\u001b[0;34m=\u001b[0m\u001b[0mattrs\u001b[0m\u001b[0;34m,\u001b[0m\u001b[0;34m\u001b[0m\u001b[0;34m\u001b[0m\u001b[0m\n\u001b[0;32m--> 560\u001b[0;31m               ctx=ctx)\n\u001b[0m\u001b[1;32m    561\u001b[0m         \u001b[0;32melse\u001b[0m\u001b[0;34m:\u001b[0m\u001b[0;34m\u001b[0m\u001b[0;34m\u001b[0m\u001b[0m\n\u001b[1;32m    562\u001b[0m           outputs = execute.execute_with_cancellation(\n",
            "\u001b[0;32m/usr/local/lib/python3.6/dist-packages/tensorflow/python/eager/execute.py\u001b[0m in \u001b[0;36mquick_execute\u001b[0;34m(op_name, num_outputs, inputs, attrs, ctx, name)\u001b[0m\n\u001b[1;32m     58\u001b[0m     \u001b[0mctx\u001b[0m\u001b[0;34m.\u001b[0m\u001b[0mensure_initialized\u001b[0m\u001b[0;34m(\u001b[0m\u001b[0;34m)\u001b[0m\u001b[0;34m\u001b[0m\u001b[0;34m\u001b[0m\u001b[0m\n\u001b[1;32m     59\u001b[0m     tensors = pywrap_tfe.TFE_Py_Execute(ctx._handle, device_name, op_name,\n\u001b[0;32m---> 60\u001b[0;31m                                         inputs, attrs, num_outputs)\n\u001b[0m\u001b[1;32m     61\u001b[0m   \u001b[0;32mexcept\u001b[0m \u001b[0mcore\u001b[0m\u001b[0;34m.\u001b[0m\u001b[0m_NotOkStatusException\u001b[0m \u001b[0;32mas\u001b[0m \u001b[0me\u001b[0m\u001b[0;34m:\u001b[0m\u001b[0;34m\u001b[0m\u001b[0;34m\u001b[0m\u001b[0m\n\u001b[1;32m     62\u001b[0m     \u001b[0;32mif\u001b[0m \u001b[0mname\u001b[0m \u001b[0;32mis\u001b[0m \u001b[0;32mnot\u001b[0m \u001b[0;32mNone\u001b[0m\u001b[0;34m:\u001b[0m\u001b[0;34m\u001b[0m\u001b[0;34m\u001b[0m\u001b[0m\n",
            "\u001b[0;31mKeyboardInterrupt\u001b[0m: "
          ]
        }
      ]
    },
    {
      "cell_type": "code",
      "metadata": {
        "id": "OPd59y7J0rdp"
      },
      "source": [
        ""
      ],
      "execution_count": null,
      "outputs": []
    }
  ]
}