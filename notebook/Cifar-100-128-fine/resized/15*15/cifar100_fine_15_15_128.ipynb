{
  "nbformat": 4,
  "nbformat_minor": 0,
  "metadata": {
    "colab": {
      "name": "cifar100_fine-15*15-128.ipynb",
      "provenance": [],
      "include_colab_link": true
    },
    "kernelspec": {
      "name": "python3",
      "display_name": "Python 3"
    },
    "accelerator": "GPU"
  },
  "cells": [
    {
      "cell_type": "markdown",
      "metadata": {
        "id": "view-in-github",
        "colab_type": "text"
      },
      "source": [
        "<a href=\"https://colab.research.google.com/github/mehang/Improvised-CNN/blob/master/notebook/Cifar-100-128-fine/resized/15*15/cifar100_fine_15_15_128.ipynb\" target=\"_parent\"><img src=\"https://colab.research.google.com/assets/colab-badge.svg\" alt=\"Open In Colab\"/></a>"
      ]
    },
    {
      "cell_type": "code",
      "metadata": {
        "colab": {
          "base_uri": "https://localhost:8080/"
        },
        "id": "yidYo4zCxGcb",
        "outputId": "50036436-d7a5-4312-ae40-6a3998b3ddc4"
      },
      "source": [
        "from google.colab import drive\n",
        "drive.mount('/content/drive')"
      ],
      "execution_count": null,
      "outputs": [
        {
          "output_type": "stream",
          "text": [
            "Mounted at /content/drive\n"
          ],
          "name": "stdout"
        }
      ]
    },
    {
      "cell_type": "code",
      "metadata": {
        "id": "DLIPBW-yxxwB"
      },
      "source": [
        "import matplotlib.pyplot as plt\n",
        "import numpy as np\n",
        "import os\n",
        "import PIL\n",
        "import tensorflow as tf\n",
        "import pandas as pd\n",
        "\n",
        "from tensorflow import keras\n",
        "from tensorflow.keras import layers\n",
        "from tensorflow.keras.models import Sequential\n",
        "from tensorflow.keras.preprocessing.image import ImageDataGenerator\n",
        "import pathlib\n",
        "import time\n",
        "\n",
        "from tensorflow.keras.preprocessing.image import ImageDataGenerator, load_img\n",
        "from tensorflow.keras.utils import to_categorical\n",
        "from sklearn.model_selection import train_test_split\n"
      ],
      "execution_count": null,
      "outputs": []
    },
    {
      "cell_type": "code",
      "metadata": {
        "id": "w9oqfW4wx5tM"
      },
      "source": [
        "!unzip /content/drive/My\\ Drive/Mehang\\ Rai/cifar100-64.zip -d cifar100-64"
      ],
      "execution_count": null,
      "outputs": []
    },
    {
      "cell_type": "code",
      "metadata": {
        "id": "eLrDbwA8yCb2"
      },
      "source": [
        "ITERATION = 1\n",
        "IMAGE_WIDTH=64\n",
        "IMAGE_HEIGHT=64\n",
        "IMAGE_SIZE=(IMAGE_WIDTH, IMAGE_HEIGHT)\n",
        "IMAGE_CHANNELS=3\n",
        "RANDOM_SEED = [42, 42, 57, 48, 86, 7, 15, 28, 39, 52][ITERATION-1]\n",
        "BATCH_SIZE = 32\n",
        "NUM_CLASSES = 100\n",
        "EPOCHS = 1000\n",
        "GABOR_LAYER_INDEX = 0\n",
        "GABOR_WIDTH = 11\n",
        "GABOR_HEIGHT = 11\n",
        "GABOR_SIZE = (GABOR_WIDTH, GABOR_HEIGHT)\n",
        "NUM_RECEPTIVE_FILTERS = 32\n",
        "TRAIN_DIR = \"cifar100-64/cifar100-64/train/\"\n",
        "TEST_DIR = \"cifar100-64/cifar100-64/test/\"\n",
        "# TEST_DIR = \"cifar100_128_fine/cifar100_128_fine/train/\"\n",
        "# TRAIN_DIR = \"cifar100_128_fine/cifar100_128_fine/test/\""
      ],
      "execution_count": null,
      "outputs": []
    },
    {
      "cell_type": "code",
      "metadata": {
        "id": "gh6_BZuBzmCE"
      },
      "source": [
        "filenames = os.listdir(TRAIN_DIR)\n",
        "categories = []\n",
        "for filename in filenames:\n",
        "    category = filename.split('.')[0]\n",
        "    categories.append(category)\n",
        "\n",
        "train_df = pd.DataFrame({\n",
        "    'filename': filenames,\n",
        "    'category': categories\n",
        "})\n",
        "\n",
        "filenames = os.listdir(TEST_DIR)\n",
        "categories = []\n",
        "for filename in filenames:\n",
        "    category = filename.split('.')[0]\n",
        "    categories.append(category)\n",
        "\n",
        "validate_df = pd.DataFrame({\n",
        "    'filename': filenames,\n",
        "    'category': categories\n",
        "})"
      ],
      "execution_count": null,
      "outputs": []
    },
    {
      "cell_type": "code",
      "metadata": {
        "id": "HiNt-8InznNT"
      },
      "source": [
        "train_df = train_df.reset_index(drop=True)\n",
        "validate_df = validate_df.reset_index(drop=True)\n",
        "total_train = train_df.shape[0]\n",
        "total_validate = validate_df.shape[0]"
      ],
      "execution_count": null,
      "outputs": []
    },
    {
      "cell_type": "code",
      "metadata": {
        "colab": {
          "base_uri": "https://localhost:8080/",
          "height": 371
        },
        "id": "OfXfZisAz1FG",
        "outputId": "0b9416f2-272c-4f24-94e0-397af3ded1e0"
      },
      "source": [
        "train_df['category'].value_counts().plot.bar()"
      ],
      "execution_count": null,
      "outputs": [
        {
          "output_type": "execute_result",
          "data": {
            "text/plain": [
              "<matplotlib.axes._subplots.AxesSubplot at 0x7f218dba4290>"
            ]
          },
          "metadata": {
            "tags": []
          },
          "execution_count": 7
        },
        {
          "output_type": "display_data",
          "data": {
            "image/png": "[encoded data removed]",
            "text/plain": [
              "<Figure size 432x288 with 1 Axes>"
            ]
          },
          "metadata": {
            "tags": [],
            "needs_background": "light"
          }
        }
      ]
    },
    {
      "cell_type": "code",
      "metadata": {
        "colab": {
          "base_uri": "https://localhost:8080/",
          "height": 371
        },
        "id": "_CXsiVhfz2_P",
        "outputId": "d97be520-9dc7-4b09-f3d1-132af463b225"
      },
      "source": [
        "validate_df['category'].value_counts().plot.bar()"
      ],
      "execution_count": null,
      "outputs": [
        {
          "output_type": "execute_result",
          "data": {
            "text/plain": [
              "<matplotlib.axes._subplots.AxesSubplot at 0x7f218d88d490>"
            ]
          },
          "metadata": {
            "tags": []
          },
          "execution_count": 8
        },
        {
          "output_type": "display_data",
          "data": {
            "image/png": "[encoded data removed]",
            "text/plain": [
              "<Figure size 432x288 with 1 Axes>"
            ]
          },
          "metadata": {
            "tags": [],
            "needs_background": "light"
          }
        }
      ]
    },
    {
      "cell_type": "code",
      "metadata": {
        "colab": {
          "base_uri": "https://localhost:8080/"
        },
        "id": "5PIJxj2wz47t",
        "outputId": "676a4a2d-d4a0-4b42-bd4f-35fd39207283"
      },
      "source": [
        "train_datagen = ImageDataGenerator(\n",
        "    rotation_range=40,\n",
        "    width_shift_range=0.2,\n",
        "    height_shift_range=0.2,\n",
        "    shear_range=0.2,\n",
        "    zoom_range=0.2,\n",
        "    horizontal_flip=True,\n",
        "    rescale=1./255,\n",
        ")\n",
        "train_generator = train_datagen.flow_from_dataframe(\n",
        "    train_df, \n",
        "    TRAIN_DIR, \n",
        "    x_col='filename',\n",
        "    y_col='category',\n",
        "    target_size=IMAGE_SIZE,\n",
        "    class_mode='categorical',\n",
        "    batch_size=BATCH_SIZE\n",
        ")"
      ],
      "execution_count": null,
      "outputs": [
        {
          "output_type": "stream",
          "text": [
            "Found 50000 validated image filenames belonging to 100 classes.\n"
          ],
          "name": "stdout"
        }
      ]
    },
    {
      "cell_type": "code",
      "metadata": {
        "colab": {
          "base_uri": "https://localhost:8080/"
        },
        "id": "OmZsnb4Qz_c0",
        "outputId": "1badc6bd-b2dd-4823-9a58-e00d6d010674"
      },
      "source": [
        "validation_datagen = ImageDataGenerator(rescale=1./255)\n",
        "validation_generator = validation_datagen.flow_from_dataframe(\n",
        "    validate_df, \n",
        "    TEST_DIR, \n",
        "    x_col='filename',\n",
        "    y_col='category',\n",
        "    target_size=IMAGE_SIZE,\n",
        "    class_mode='categorical',\n",
        "    batch_size=BATCH_SIZE\n",
        ")"
      ],
      "execution_count": null,
      "outputs": [
        {
          "output_type": "stream",
          "text": [
            "Found 10000 validated image filenames belonging to 100 classes.\n"
          ],
          "name": "stdout"
        }
      ]
    },
    {
      "cell_type": "code",
      "metadata": {
        "colab": {
          "base_uri": "https://localhost:8080/"
        },
        "id": "ubu8-wWQ0Ba9",
        "outputId": "02873bf1-14d5-4009-9fd9-4f3c6df522e1"
      },
      "source": [
        "print(train_df.shape)\n",
        "print(validate_df.shape)"
      ],
      "execution_count": null,
      "outputs": [
        {
          "output_type": "stream",
          "text": [
            "(50000, 2)\n",
            "(10000, 2)\n"
          ],
          "name": "stdout"
        }
      ]
    },
    {
      "cell_type": "code",
      "metadata": {
        "colab": {
          "base_uri": "https://localhost:8080/"
        },
        "id": "x-D7iNGo0U5M",
        "outputId": "7279dd6b-7756-4aa1-b77c-ea0be084310c"
      },
      "source": [
        "train_generator.image_shape"
      ],
      "execution_count": null,
      "outputs": [
        {
          "output_type": "execute_result",
          "data": {
            "text/plain": [
              "(128, 128, 3)"
            ]
          },
          "metadata": {
            "tags": []
          },
          "execution_count": 12
        }
      ]
    },
    {
      "cell_type": "code",
      "metadata": {
        "colab": {
          "base_uri": "https://localhost:8080/"
        },
        "id": "cipIxpVg0bfp",
        "outputId": "fb003296-42dc-4c48-a40f-cfe50e2f19da"
      },
      "source": [
        "NUM_CLASSES = len(train_df['category'].value_counts())\n",
        "print(NUM_CLASSES)"
      ],
      "execution_count": null,
      "outputs": [
        {
          "output_type": "stream",
          "text": [
            "100\n"
          ],
          "name": "stdout"
        }
      ]
    },
    {
      "cell_type": "code",
      "metadata": {
        "id": "AbCBmmYZIGgL",
        "colab": {
          "base_uri": "https://localhost:8080/"
        },
        "outputId": "5d44a3f1-953c-4869-8fe1-1512decd82f2"
      },
      "source": [
        "# Importing the Keras libraries and packages\n",
        "from tensorflow.keras.layers import Conv2D, MaxPooling2D, Flatten, Activation\n",
        "from tensorflow.keras.layers import Input, Dense, Dropout, BatchNormalization\n",
        "from tensorflow.keras.models import Model\n",
        "from tensorflow.keras.optimizers import RMSprop, Adam\n",
        "from tensorflow.keras.models import Sequential\n",
        "from tensorflow.keras import layers\n",
        "from tensorflow.keras.callbacks import EarlyStopping, ReduceLROnPlateau\n",
        "\n",
        "classifier = None\n",
        "classifier = Sequential([\n",
        "    layers.Conv2D(NUM_RECEPTIVE_FILTERS, kernel_size=GABOR_SIZE, strides=(1,1), \n",
        "                  padding='same', name=\"GaborLayer\", input_shape=train_generator.image_shape),\n",
        "    layers.BatchNormalization(),\n",
        "    layers.Activation('relu'),\n",
        "    Conv2D(32, (3, 3), padding='same', strides=(1,1)),\n",
        "    layers.BatchNormalization(),\n",
        "    layers.Activation('relu'),\n",
        "    layers.MaxPooling2D(pool_size=(2,2)),\n",
        "    layers.Dropout(0.1),\n",
        "    layers.Conv2D(64, kernel_size=(3,3), padding='same', strides=(1,1)),\n",
        "    layers.BatchNormalization(),\n",
        "    layers.Activation('relu'),\n",
        "    layers.Conv2D(64, kernel_size=(3,3), padding='same', strides=(1,1)),\n",
        "    layers.BatchNormalization(),\n",
        "    layers.Activation('relu'),\n",
        "    layers.MaxPooling2D(pool_size=(2,2)),\n",
        "    layers.Dropout(0.1),\n",
        "    layers.Conv2D(128, kernel_size=(3,3), padding='same', strides=(1,1)),\n",
        "    layers.BatchNormalization(),\n",
        "    layers.Activation('relu'),\n",
        "    layers.Conv2D(128, kernel_size=(3,3), padding='same', strides=(1,1)),\n",
        "    layers.BatchNormalization(),\n",
        "    layers.Activation('relu'),\n",
        "    layers.MaxPooling2D(pool_size=(2,2)),\n",
        "    layers.Conv2D(128, kernel_size=(3,3), padding='same', strides=(1,1)),\n",
        "    layers.BatchNormalization(),\n",
        "    layers.Activation('relu'),\n",
        "    layers.Dropout(0.1),\n",
        "    layers.Conv2D(256, kernel_size=(3,3), padding='same', strides=(1,1)),\n",
        "    layers.BatchNormalization(),\n",
        "    layers.Activation('relu'),\n",
        "    layers.Conv2D(256, kernel_size=(3,3), padding='same', strides=(1,1)),\n",
        "    layers.BatchNormalization(),\n",
        "    layers.Activation('relu'),\n",
        "    layers.Conv2D(256, kernel_size=(3,3), padding='same', strides=(1,1)),\n",
        "    layers.BatchNormalization(),\n",
        "    layers.Activation('relu'),\n",
        "    \n",
        "    layers.MaxPooling2D(pool_size=(2,2)),\n",
        "    layers.Flatten(),\n",
        "    layers.Dropout(0.1),\n",
        "    layers.Dense(512),\n",
        "    layers.BatchNormalization(),\n",
        "    layers.Activation('relu'),\n",
        "    layers.Dropout(0.1),\n",
        "    layers.Dense(512),\n",
        "    layers.BatchNormalization(),\n",
        "    layers.Activation('relu'),\n",
        "    layers.Dense(NUM_CLASSES, activation='softmax')\n",
        "])\n",
        "\n",
        "classifier.summary()\n",
        "\n",
        "import copy\n",
        "untrained_layers = copy.deepcopy(classifier.get_layer(name=classifier.layers[GABOR_LAYER_INDEX].name).get_weights())"
      ],
      "execution_count": null,
      "outputs": [
        {
          "output_type": "stream",
          "text": [
            "Model: \"sequential\"\n",
            "_________________________________________________________________\n",
            "Layer (type)                 Output Shape              Param #   \n",
            "=================================================================\n",
            "GaborLayer (Conv2D)          (None, 128, 128, 32)      21632     \n",
            "_________________________________________________________________\n",
            "batch_normalization (BatchNo (None, 128, 128, 32)      128       \n",
            "_________________________________________________________________\n",
            "activation (Activation)      (None, 128, 128, 32)      0         \n",
            "_________________________________________________________________\n",
            "conv2d (Conv2D)              (None, 128, 128, 32)      9248      \n",
            "_________________________________________________________________\n",
            "batch_normalization_1 (Batch (None, 128, 128, 32)      128       \n",
            "_________________________________________________________________\n",
            "activation_1 (Activation)    (None, 128, 128, 32)      0         \n",
            "_________________________________________________________________\n",
            "max_pooling2d (MaxPooling2D) (None, 64, 64, 32)        0         \n",
            "_________________________________________________________________\n",
            "dropout (Dropout)            (None, 64, 64, 32)        0         \n",
            "_________________________________________________________________\n",
            "conv2d_1 (Conv2D)            (None, 64, 64, 64)        18496     \n",
            "_________________________________________________________________\n",
            "batch_normalization_2 (Batch (None, 64, 64, 64)        256       \n",
            "_________________________________________________________________\n",
            "activation_2 (Activation)    (None, 64, 64, 64)        0         \n",
            "_________________________________________________________________\n",
            "conv2d_2 (Conv2D)            (None, 64, 64, 64)        36928     \n",
            "_________________________________________________________________\n",
            "batch_normalization_3 (Batch (None, 64, 64, 64)        256       \n",
            "_________________________________________________________________\n",
            "activation_3 (Activation)    (None, 64, 64, 64)        0         \n",
            "_________________________________________________________________\n",
            "max_pooling2d_1 (MaxPooling2 (None, 32, 32, 64)        0         \n",
            "_________________________________________________________________\n",
            "dropout_1 (Dropout)          (None, 32, 32, 64)        0         \n",
            "_________________________________________________________________\n",
            "conv2d_3 (Conv2D)            (None, 32, 32, 128)       73856     \n",
            "_________________________________________________________________\n",
            "batch_normalization_4 (Batch (None, 32, 32, 128)       512       \n",
            "_________________________________________________________________\n",
            "activation_4 (Activation)    (None, 32, 32, 128)       0         \n",
            "_________________________________________________________________\n",
            "conv2d_4 (Conv2D)            (None, 32, 32, 128)       147584    \n",
            "_________________________________________________________________\n",
            "batch_normalization_5 (Batch (None, 32, 32, 128)       512       \n",
            "_________________________________________________________________\n",
            "activation_5 (Activation)    (None, 32, 32, 128)       0         \n",
            "_________________________________________________________________\n",
            "max_pooling2d_2 (MaxPooling2 (None, 16, 16, 128)       0         \n",
            "_________________________________________________________________\n",
            "conv2d_5 (Conv2D)            (None, 16, 16, 128)       147584    \n",
            "_________________________________________________________________\n",
            "batch_normalization_6 (Batch (None, 16, 16, 128)       512       \n",
            "_________________________________________________________________\n",
            "activation_6 (Activation)    (None, 16, 16, 128)       0         \n",
            "_________________________________________________________________\n",
            "dropout_2 (Dropout)          (None, 16, 16, 128)       0         \n",
            "_________________________________________________________________\n",
            "conv2d_6 (Conv2D)            (None, 16, 16, 256)       295168    \n",
            "_________________________________________________________________\n",
            "batch_normalization_7 (Batch (None, 16, 16, 256)       1024      \n",
            "_________________________________________________________________\n",
            "activation_7 (Activation)    (None, 16, 16, 256)       0         \n",
            "_________________________________________________________________\n",
            "conv2d_7 (Conv2D)            (None, 16, 16, 256)       590080    \n",
            "_________________________________________________________________\n",
            "batch_normalization_8 (Batch (None, 16, 16, 256)       1024      \n",
            "_________________________________________________________________\n",
            "activation_8 (Activation)    (None, 16, 16, 256)       0         \n",
            "_________________________________________________________________\n",
            "conv2d_8 (Conv2D)            (None, 16, 16, 256)       590080    \n",
            "_________________________________________________________________\n",
            "batch_normalization_9 (Batch (None, 16, 16, 256)       1024      \n",
            "_________________________________________________________________\n",
            "activation_9 (Activation)    (None, 16, 16, 256)       0         \n",
            "_________________________________________________________________\n",
            "max_pooling2d_3 (MaxPooling2 (None, 8, 8, 256)         0         \n",
            "_________________________________________________________________\n",
            "flatten (Flatten)            (None, 16384)             0         \n",
            "_________________________________________________________________\n",
            "dropout_3 (Dropout)          (None, 16384)             0         \n",
            "_________________________________________________________________\n",
            "dense (Dense)                (None, 512)               8389120   \n",
            "_________________________________________________________________\n",
            "batch_normalization_10 (Batc (None, 512)               2048      \n",
            "_________________________________________________________________\n",
            "activation_10 (Activation)   (None, 512)               0         \n",
            "_________________________________________________________________\n",
            "dropout_4 (Dropout)          (None, 512)               0         \n",
            "_________________________________________________________________\n",
            "dense_1 (Dense)              (None, 512)               262656    \n",
            "_________________________________________________________________\n",
            "batch_normalization_11 (Batc (None, 512)               2048      \n",
            "_________________________________________________________________\n",
            "activation_11 (Activation)   (None, 512)               0         \n",
            "_________________________________________________________________\n",
            "dense_2 (Dense)              (None, 100)               51300     \n",
            "=================================================================\n",
            "Total params: 10,643,204\n",
            "Trainable params: 10,638,468\n",
            "Non-trainable params: 4,736\n",
            "_________________________________________________________________\n",
            "Epoch 1/1000\n",
            "1562/1562 [==============================] - 274s 172ms/step - loss: 4.2770 - accuracy: 0.0565 - auc: 0.7100 - val_loss: 4.5397 - val_accuracy: 0.0772 - val_auc: 0.7263\n",
            "Epoch 2/1000\n",
            "1562/1562 [==============================] - 268s 171ms/step - loss: 3.6242 - accuracy: 0.1385 - auc: 0.8336 - val_loss: 3.4545 - val_accuracy: 0.1810 - val_auc: 0.8453\n",
            "Epoch 3/1000\n",
            "1562/1562 [==============================] - 258s 165ms/step - loss: 3.3248 - accuracy: 0.1876 - auc: 0.8680 - val_loss: 2.8997 - val_accuracy: 0.2725 - val_auc: 0.9037\n",
            "Epoch 4/1000\n",
            "1562/1562 [==============================] - 249s 159ms/step - loss: 3.0867 - accuracy: 0.2337 - auc: 0.8884 - val_loss: 2.7571 - val_accuracy: 0.3017 - val_auc: 0.9109\n",
            "Epoch 5/1000\n",
            "1562/1562 [==============================] - 245s 157ms/step - loss: 2.8852 - accuracy: 0.2734 - auc: 0.9040 - val_loss: 2.6296 - val_accuracy: 0.3268 - val_auc: 0.9148\n",
            "Epoch 6/1000\n",
            "1562/1562 [==============================] - 244s 156ms/step - loss: 2.6895 - accuracy: 0.3084 - auc: 0.9174 - val_loss: 2.2613 - val_accuracy: 0.4003 - val_auc: 0.9409\n",
            "Epoch 7/1000\n",
            "1562/1562 [==============================] - 244s 156ms/step - loss: 2.5360 - accuracy: 0.3394 - auc: 0.9266 - val_loss: 2.1972 - val_accuracy: 0.4157 - val_auc: 0.9440\n",
            "Epoch 8/1000\n",
            "1562/1562 [==============================] - 240s 154ms/step - loss: 2.4144 - accuracy: 0.3642 - auc: 0.9336 - val_loss: 2.4632 - val_accuracy: 0.3768 - val_auc: 0.9184\n",
            "Epoch 9/1000\n",
            "1562/1562 [==============================] - 239s 153ms/step - loss: 2.3001 - accuracy: 0.3980 - auc: 0.9387 - val_loss: 2.1599 - val_accuracy: 0.4274 - val_auc: 0.9396\n",
            "Epoch 10/1000\n",
            "1562/1562 [==============================] - 237s 152ms/step - loss: 2.1764 - accuracy: 0.4161 - auc: 0.9458 - val_loss: 1.8205 - val_accuracy: 0.4988 - val_auc: 0.9599\n",
            "Epoch 11/1000\n",
            "1562/1562 [==============================] - 236s 151ms/step - loss: 2.0890 - accuracy: 0.4367 - auc: 0.9500 - val_loss: 1.9808 - val_accuracy: 0.4677 - val_auc: 0.9490\n",
            "Epoch 12/1000\n",
            "1562/1562 [==============================] - 233s 149ms/step - loss: 2.0108 - accuracy: 0.4550 - auc: 0.9536 - val_loss: 1.7605 - val_accuracy: 0.5237 - val_auc: 0.9581\n",
            "Epoch 13/1000\n",
            "1562/1562 [==============================] - 234s 150ms/step - loss: 1.9281 - accuracy: 0.4753 - auc: 0.9565 - val_loss: 1.8890 - val_accuracy: 0.4947 - val_auc: 0.9494\n",
            "Epoch 14/1000\n",
            "1562/1562 [==============================] - 250s 160ms/step - loss: 1.8712 - accuracy: 0.4881 - auc: 0.9591 - val_loss: 1.7235 - val_accuracy: 0.5228 - val_auc: 0.9602\n",
            "Epoch 15/1000\n",
            "1562/1562 [==============================] - 265s 170ms/step - loss: 1.8086 - accuracy: 0.4991 - auc: 0.9615 - val_loss: 1.7664 - val_accuracy: 0.5272 - val_auc: 0.9523\n",
            "Epoch 16/1000\n",
            "1562/1562 [==============================] - 266s 170ms/step - loss: 1.7418 - accuracy: 0.5176 - auc: 0.9644 - val_loss: 1.8198 - val_accuracy: 0.5168 - val_auc: 0.9504\n",
            "Epoch 17/1000\n",
            "1562/1562 [==============================] - 266s 170ms/step - loss: 1.7040 - accuracy: 0.5273 - auc: 0.9652 - val_loss: 1.5970 - val_accuracy: 0.5598 - val_auc: 0.9642\n",
            "Epoch 18/1000\n",
            "1562/1562 [==============================] - 265s 169ms/step - loss: 1.6398 - accuracy: 0.5397 - auc: 0.9678 - val_loss: 1.6621 - val_accuracy: 0.5472 - val_auc: 0.9597\n",
            "Epoch 19/1000\n",
            "1562/1562 [==============================] - 263s 169ms/step - loss: 1.6013 - accuracy: 0.5502 - auc: 0.9688 - val_loss: 1.6880 - val_accuracy: 0.5469 - val_auc: 0.9552\n",
            "Epoch 20/1000\n",
            "1562/1562 [==============================] - 263s 168ms/step - loss: 1.5624 - accuracy: 0.5562 - auc: 0.9707 - val_loss: 1.6781 - val_accuracy: 0.5518 - val_auc: 0.9556\n",
            "Epoch 21/1000\n",
            "1562/1562 [==============================] - 264s 169ms/step - loss: 1.5063 - accuracy: 0.5721 - auc: 0.9722 - val_loss: 1.4644 - val_accuracy: 0.5919 - val_auc: 0.9677\n",
            "Epoch 22/1000\n",
            "1562/1562 [==============================] - 265s 170ms/step - loss: 1.4784 - accuracy: 0.5759 - auc: 0.9727 - val_loss: 1.5811 - val_accuracy: 0.5678 - val_auc: 0.9608\n",
            "Epoch 23/1000\n",
            "1562/1562 [==============================] - 265s 170ms/step - loss: 1.4517 - accuracy: 0.5851 - auc: 0.9740 - val_loss: 1.4275 - val_accuracy: 0.6063 - val_auc: 0.9682\n",
            "Epoch 24/1000\n",
            "1562/1562 [==============================] - 266s 170ms/step - loss: 1.4246 - accuracy: 0.5925 - auc: 0.9743 - val_loss: 1.4526 - val_accuracy: 0.5987 - val_auc: 0.9658\n",
            "Epoch 25/1000\n",
            "1562/1562 [==============================] - 265s 170ms/step - loss: 1.3819 - accuracy: 0.6034 - auc: 0.9762 - val_loss: 1.4633 - val_accuracy: 0.5944 - val_auc: 0.9662\n",
            "Epoch 26/1000\n",
            "1562/1562 [==============================] - 265s 170ms/step - loss: 1.3419 - accuracy: 0.6152 - auc: 0.9765 - val_loss: 1.4257 - val_accuracy: 0.6088 - val_auc: 0.9668\n",
            "Epoch 27/1000\n",
            "1562/1562 [==============================] - 265s 170ms/step - loss: 1.3308 - accuracy: 0.6179 - auc: 0.9770 - val_loss: 1.3921 - val_accuracy: 0.6135 - val_auc: 0.9691\n",
            "Epoch 28/1000\n",
            "1562/1562 [==============================] - 265s 170ms/step - loss: 1.2991 - accuracy: 0.6235 - auc: 0.9779 - val_loss: 1.4750 - val_accuracy: 0.6022 - val_auc: 0.9622\n",
            "Epoch 29/1000\n",
            "1562/1562 [==============================] - 264s 169ms/step - loss: 1.2835 - accuracy: 0.6307 - auc: 0.9783 - val_loss: 1.3749 - val_accuracy: 0.6156 - val_auc: 0.9706\n",
            "Epoch 30/1000\n",
            "1562/1562 [==============================] - 266s 171ms/step - loss: 1.2535 - accuracy: 0.6349 - auc: 0.9791 - val_loss: 1.5654 - val_accuracy: 0.5833 - val_auc: 0.9582\n",
            "Epoch 31/1000\n",
            "1562/1562 [==============================] - 264s 169ms/step - loss: 1.2155 - accuracy: 0.6451 - auc: 0.9799 - val_loss: 1.5537 - val_accuracy: 0.5900 - val_auc: 0.9579\n",
            "Epoch 32/1000\n",
            "1562/1562 [==============================] - 265s 170ms/step - loss: 1.2005 - accuracy: 0.6462 - auc: 0.9809 - val_loss: 1.4461 - val_accuracy: 0.6120 - val_auc: 0.9624\n",
            "Epoch 33/1000\n",
            "1562/1562 [==============================] - 265s 169ms/step - loss: 1.1838 - accuracy: 0.6525 - auc: 0.9811 - val_loss: 1.4770 - val_accuracy: 0.6026 - val_auc: 0.9622\n",
            "Epoch 34/1000\n",
            "1562/1562 [==============================] - 263s 168ms/step - loss: 1.1623 - accuracy: 0.6592 - auc: 0.9815 - val_loss: 1.4071 - val_accuracy: 0.6254 - val_auc: 0.9630\n",
            "Epoch 35/1000\n",
            "1562/1562 [==============================] - 265s 170ms/step - loss: 1.1420 - accuracy: 0.6634 - auc: 0.9821 - val_loss: 1.3546 - val_accuracy: 0.6374 - val_auc: 0.9672\n",
            "Epoch 36/1000\n",
            "1562/1562 [==============================] - 266s 170ms/step - loss: 1.1231 - accuracy: 0.6675 - auc: 0.9827 - val_loss: 1.4311 - val_accuracy: 0.6159 - val_auc: 0.9631\n",
            "Epoch 37/1000\n",
            "1562/1562 [==============================] - 266s 170ms/step - loss: 1.1162 - accuracy: 0.6718 - auc: 0.9827 - val_loss: 1.3772 - val_accuracy: 0.6305 - val_auc: 0.9641\n",
            "Epoch 38/1000\n",
            "1562/1562 [==============================] - 267s 171ms/step - loss: 1.1099 - accuracy: 0.6704 - auc: 0.9831 - val_loss: 1.3506 - val_accuracy: 0.6374 - val_auc: 0.9651\n",
            "Epoch 39/1000\n",
            "1562/1562 [==============================] - 267s 171ms/step - loss: 1.0729 - accuracy: 0.6785 - auc: 0.9840 - val_loss: 1.3641 - val_accuracy: 0.6365 - val_auc: 0.9642\n",
            "Epoch 40/1000\n",
            "1562/1562 [==============================] - 267s 171ms/step - loss: 1.0561 - accuracy: 0.6881 - auc: 0.9844 - val_loss: 1.2911 - val_accuracy: 0.6455 - val_auc: 0.9682\n",
            "Epoch 41/1000\n",
            "1562/1562 [==============================] - 266s 171ms/step - loss: 1.0486 - accuracy: 0.6906 - auc: 0.9845 - val_loss: 1.2966 - val_accuracy: 0.6478 - val_auc: 0.9660\n",
            "Epoch 42/1000\n",
            "1562/1562 [==============================] - 259s 166ms/step - loss: 1.0289 - accuracy: 0.6939 - auc: 0.9851 - val_loss: 1.3035 - val_accuracy: 0.6512 - val_auc: 0.9664\n",
            "Epoch 43/1000\n",
            "1562/1562 [==============================] - 262s 167ms/step - loss: 1.0077 - accuracy: 0.6942 - auc: 0.9861 - val_loss: 1.3347 - val_accuracy: 0.6501 - val_auc: 0.9654\n",
            "Epoch 44/1000\n",
            "1562/1562 [==============================] - 268s 171ms/step - loss: 1.0134 - accuracy: 0.6972 - auc: 0.9856 - val_loss: 1.2868 - val_accuracy: 0.6554 - val_auc: 0.9675\n",
            "Epoch 45/1000\n",
            "1562/1562 [==============================] - 267s 171ms/step - loss: 0.9875 - accuracy: 0.7037 - auc: 0.9860 - val_loss: 1.3676 - val_accuracy: 0.6417 - val_auc: 0.9622\n",
            "Epoch 46/1000\n",
            "1562/1562 [==============================] - 265s 169ms/step - loss: 0.9621 - accuracy: 0.7106 - auc: 0.9872 - val_loss: 1.3712 - val_accuracy: 0.6441 - val_auc: 0.9625\n",
            "Epoch 47/1000\n",
            "1562/1562 [==============================] - 263s 169ms/step - loss: 0.9465 - accuracy: 0.7132 - auc: 0.9875 - val_loss: 1.3092 - val_accuracy: 0.6538 - val_auc: 0.9665\n",
            "Epoch 48/1000\n",
            "1562/1562 [==============================] - 265s 169ms/step - loss: 0.9459 - accuracy: 0.7154 - auc: 0.9867 - val_loss: 1.3020 - val_accuracy: 0.6562 - val_auc: 0.9668\n",
            "Epoch 49/1000\n",
            "1562/1562 [==============================] - 266s 170ms/step - loss: 0.9462 - accuracy: 0.7163 - auc: 0.9869 - val_loss: 1.2905 - val_accuracy: 0.6613 - val_auc: 0.9658\n",
            "Epoch 50/1000\n",
            "1562/1562 [==============================] - 266s 170ms/step - loss: 0.9309 - accuracy: 0.7145 - auc: 0.9875 - val_loss: 1.3987 - val_accuracy: 0.6357 - val_auc: 0.9612\n",
            "Epoch 51/1000\n",
            "1562/1562 [==============================] - 266s 171ms/step - loss: 0.9181 - accuracy: 0.7259 - auc: 0.9868 - val_loss: 1.3298 - val_accuracy: 0.6544 - val_auc: 0.9651\n",
            "Epoch 52/1000\n",
            "1562/1562 [==============================] - 266s 170ms/step - loss: 0.9027 - accuracy: 0.7288 - auc: 0.9872 - val_loss: 1.2612 - val_accuracy: 0.6659 - val_auc: 0.9669\n",
            "Epoch 53/1000\n",
            "1562/1562 [==============================] - 266s 171ms/step - loss: 0.8925 - accuracy: 0.7295 - auc: 0.9879 - val_loss: 1.2567 - val_accuracy: 0.6722 - val_auc: 0.9666\n",
            "Epoch 54/1000\n",
            "1562/1562 [==============================] - 266s 170ms/step - loss: 0.8637 - accuracy: 0.7380 - auc: 0.9888 - val_loss: 1.2729 - val_accuracy: 0.6723 - val_auc: 0.9660\n",
            "Epoch 55/1000\n",
            "1562/1562 [==============================] - 267s 171ms/step - loss: 0.8813 - accuracy: 0.7326 - auc: 0.9884 - val_loss: 1.2651 - val_accuracy: 0.6682 - val_auc: 0.9669\n",
            "Epoch 56/1000\n",
            "1562/1562 [==============================] - 267s 171ms/step - loss: 0.8617 - accuracy: 0.7399 - auc: 0.9883 - val_loss: 1.3698 - val_accuracy: 0.6457 - val_auc: 0.9606\n",
            "Epoch 57/1000\n",
            "1562/1562 [==============================] - 265s 170ms/step - loss: 0.8487 - accuracy: 0.7410 - auc: 0.9887 - val_loss: 1.3980 - val_accuracy: 0.6461 - val_auc: 0.9587\n",
            "Epoch 58/1000\n",
            "1562/1562 [==============================] - 265s 170ms/step - loss: 0.8343 - accuracy: 0.7433 - auc: 0.9895 - val_loss: 1.3053 - val_accuracy: 0.6633 - val_auc: 0.9644\n",
            "Epoch 59/1000\n",
            "1562/1562 [==============================] - 264s 169ms/step - loss: 0.8218 - accuracy: 0.7472 - auc: 0.9896 - val_loss: 1.3178 - val_accuracy: 0.6583 - val_auc: 0.9623\n",
            "Epoch 60/1000\n",
            "1562/1562 [==============================] - 264s 169ms/step - loss: 0.8230 - accuracy: 0.7483 - auc: 0.9890 - val_loss: 1.2661 - val_accuracy: 0.6785 - val_auc: 0.9646\n",
            "Epoch 61/1000\n",
            "1562/1562 [==============================] - 264s 169ms/step - loss: 0.8074 - accuracy: 0.7515 - auc: 0.9901 - val_loss: 1.2983 - val_accuracy: 0.6671 - val_auc: 0.9634\n",
            "Epoch 62/1000\n",
            "1562/1562 [==============================] - 263s 168ms/step - loss: 0.8023 - accuracy: 0.7567 - auc: 0.9893 - val_loss: 1.2437 - val_accuracy: 0.6857 - val_auc: 0.9664\n",
            "Epoch 63/1000\n",
            "1562/1562 [==============================] - 264s 169ms/step - loss: 0.8015 - accuracy: 0.7538 - auc: 0.9895 - val_loss: 1.3566 - val_accuracy: 0.6606 - val_auc: 0.9606\n",
            "Epoch 64/1000\n",
            "1562/1562 [==============================] - 264s 169ms/step - loss: 0.7909 - accuracy: 0.7594 - auc: 0.9897 - val_loss: 1.2981 - val_accuracy: 0.6682 - val_auc: 0.9634\n",
            "Epoch 65/1000\n",
            "1562/1562 [==============================] - 264s 169ms/step - loss: 0.7896 - accuracy: 0.7557 - auc: 0.9897 - val_loss: 1.2746 - val_accuracy: 0.6766 - val_auc: 0.9634\n",
            "Epoch 66/1000\n",
            "1562/1562 [==============================] - 264s 169ms/step - loss: 0.7785 - accuracy: 0.7603 - auc: 0.9904 - val_loss: 1.3430 - val_accuracy: 0.6707 - val_auc: 0.9598\n",
            "Epoch 67/1000\n",
            "1562/1562 [==============================] - 264s 169ms/step - loss: 0.7583 - accuracy: 0.7663 - auc: 0.9906 - val_loss: 1.4073 - val_accuracy: 0.6573 - val_auc: 0.9566\n",
            "Epoch 68/1000\n",
            "1562/1562 [==============================] - 264s 169ms/step - loss: 0.7601 - accuracy: 0.7677 - auc: 0.9906 - val_loss: 1.3456 - val_accuracy: 0.6607 - val_auc: 0.9607\n",
            "Epoch 69/1000\n",
            "1562/1562 [==============================] - 265s 170ms/step - loss: 0.7560 - accuracy: 0.7652 - auc: 0.9907 - val_loss: 1.2957 - val_accuracy: 0.6771 - val_auc: 0.9614\n",
            "Epoch 70/1000\n",
            "1562/1562 [==============================] - 265s 170ms/step - loss: 0.7495 - accuracy: 0.7659 - auc: 0.9907 - val_loss: 1.3200 - val_accuracy: 0.6670 - val_auc: 0.9621\n",
            "Epoch 71/1000\n",
            "1562/1562 [==============================] - 265s 170ms/step - loss: 0.7259 - accuracy: 0.7747 - auc: 0.9916 - val_loss: 1.3801 - val_accuracy: 0.6580 - val_auc: 0.9585\n",
            "Epoch 72/1000\n",
            "1562/1562 [==============================] - 265s 170ms/step - loss: 0.7220 - accuracy: 0.7749 - auc: 0.9913 - val_loss: 1.3782 - val_accuracy: 0.6626 - val_auc: 0.9583\n",
            "\n",
            "Epoch 00072: ReduceLROnPlateau reducing learning rate to 0.0005000000237487257.\n",
            "Epoch 73/1000\n",
            "1562/1562 [==============================] - 263s 168ms/step - loss: 0.6598 - accuracy: 0.7922 - auc: 0.9934 - val_loss: 1.2184 - val_accuracy: 0.6959 - val_auc: 0.9642\n",
            "Epoch 74/1000\n",
            "1562/1562 [==============================] - 261s 167ms/step - loss: 0.6232 - accuracy: 0.8052 - auc: 0.9934 - val_loss: 1.2623 - val_accuracy: 0.6897 - val_auc: 0.9622\n",
            "Epoch 75/1000\n",
            "1562/1562 [==============================] - 262s 168ms/step - loss: 0.6169 - accuracy: 0.8120 - auc: 0.9929 - val_loss: 1.2034 - val_accuracy: 0.6983 - val_auc: 0.9643\n",
            "Epoch 76/1000\n",
            "1562/1562 [==============================] - 262s 167ms/step - loss: 0.5992 - accuracy: 0.8139 - auc: 0.9937 - val_loss: 1.2873 - val_accuracy: 0.6859 - val_auc: 0.9608\n",
            "Epoch 77/1000\n",
            "1562/1562 [==============================] - 254s 163ms/step - loss: 0.5920 - accuracy: 0.8144 - auc: 0.9934 - val_loss: 1.2496 - val_accuracy: 0.6961 - val_auc: 0.9623\n",
            "Epoch 78/1000\n",
            "1562/1562 [==============================] - 254s 163ms/step - loss: 0.5852 - accuracy: 0.8144 - auc: 0.9937 - val_loss: 1.2473 - val_accuracy: 0.6952 - val_auc: 0.9626\n",
            "Epoch 79/1000\n",
            "1562/1562 [==============================] - 251s 161ms/step - loss: 0.5784 - accuracy: 0.8168 - auc: 0.9937 - val_loss: 1.2330 - val_accuracy: 0.6970 - val_auc: 0.9638\n",
            "Epoch 80/1000\n",
            "1562/1562 [==============================] - 253s 162ms/step - loss: 0.5681 - accuracy: 0.8226 - auc: 0.9937 - val_loss: 1.2642 - val_accuracy: 0.6926 - val_auc: 0.9616\n",
            "Epoch 81/1000\n",
            "1562/1562 [==============================] - 252s 161ms/step - loss: 0.5472 - accuracy: 0.8292 - auc: 0.9942 - val_loss: 1.2455 - val_accuracy: 0.6947 - val_auc: 0.9614\n",
            "Epoch 82/1000\n",
            "1562/1562 [==============================] - 262s 167ms/step - loss: 0.5538 - accuracy: 0.8250 - auc: 0.9943 - val_loss: 1.2852 - val_accuracy: 0.6918 - val_auc: 0.9602\n",
            "Epoch 83/1000\n",
            "1562/1562 [==============================] - 266s 170ms/step - loss: 0.5470 - accuracy: 0.8284 - auc: 0.9944 - val_loss: 1.2756 - val_accuracy: 0.6963 - val_auc: 0.9603\n",
            "Epoch 84/1000\n",
            "1562/1562 [==============================] - 266s 170ms/step - loss: 0.5473 - accuracy: 0.8283 - auc: 0.9941 - val_loss: 1.2450 - val_accuracy: 0.6942 - val_auc: 0.9620\n",
            "Epoch 85/1000\n",
            "1562/1562 [==============================] - 266s 170ms/step - loss: 0.5292 - accuracy: 0.8295 - auc: 0.9950 - val_loss: 1.2724 - val_accuracy: 0.6969 - val_auc: 0.9590\n",
            "\n",
            "Epoch 00085: ReduceLROnPlateau reducing learning rate to 0.0002500000118743628.\n",
            "Epoch 86/1000\n",
            "1562/1562 [==============================] - 266s 170ms/step - loss: 0.5206 - accuracy: 0.8346 - auc: 0.9944 - val_loss: 1.2061 - val_accuracy: 0.7072 - val_auc: 0.9627\n",
            "Epoch 87/1000\n",
            "1562/1562 [==============================] - 267s 171ms/step - loss: 0.4926 - accuracy: 0.8454 - auc: 0.9955 - val_loss: 1.2255 - val_accuracy: 0.7066 - val_auc: 0.9624\n",
            "Epoch 88/1000\n",
            "1562/1562 [==============================] - 266s 170ms/step - loss: 0.4824 - accuracy: 0.8458 - auc: 0.9956 - val_loss: 1.2328 - val_accuracy: 0.7072 - val_auc: 0.9606\n",
            "Epoch 89/1000\n",
            "1562/1562 [==============================] - 265s 170ms/step - loss: 0.4779 - accuracy: 0.8507 - auc: 0.9951 - val_loss: 1.2444 - val_accuracy: 0.7086 - val_auc: 0.9605\n",
            "Epoch 90/1000\n",
            "1562/1562 [==============================] - 265s 170ms/step - loss: 0.4751 - accuracy: 0.8507 - auc: 0.9955 - val_loss: 1.2536 - val_accuracy: 0.7065 - val_auc: 0.9595\n",
            "Epoch 91/1000\n",
            "1562/1562 [==============================] - 265s 169ms/step - loss: 0.4652 - accuracy: 0.8532 - auc: 0.9955 - val_loss: 1.2454 - val_accuracy: 0.7083 - val_auc: 0.9606\n",
            "Epoch 92/1000\n",
            "1562/1562 [==============================] - 265s 170ms/step - loss: 0.4619 - accuracy: 0.8562 - auc: 0.9951 - val_loss: 1.2346 - val_accuracy: 0.7063 - val_auc: 0.9625\n",
            "Epoch 93/1000\n",
            "1562/1562 [==============================] - 265s 170ms/step - loss: 0.4724 - accuracy: 0.8491 - auc: 0.9955 - val_loss: 1.2478 - val_accuracy: 0.7064 - val_auc: 0.9597\n",
            "Epoch 94/1000\n",
            "1562/1562 [==============================] - 266s 171ms/step - loss: 0.4613 - accuracy: 0.8532 - auc: 0.9950 - val_loss: 1.2518 - val_accuracy: 0.7075 - val_auc: 0.9595\n",
            "Epoch 95/1000\n",
            "1562/1562 [==============================] - 267s 171ms/step - loss: 0.4553 - accuracy: 0.8552 - auc: 0.9959 - val_loss: 1.2358 - val_accuracy: 0.7102 - val_auc: 0.9608\n",
            "\n",
            "Epoch 00095: ReduceLROnPlateau reducing learning rate to 0.0001250000059371814.\n",
            "Epoch 96/1000\n",
            "1562/1562 [==============================] - 268s 171ms/step - loss: 0.4481 - accuracy: 0.8559 - auc: 0.9956 - val_loss: 1.2297 - val_accuracy: 0.7102 - val_auc: 0.9605\n",
            "Epoch 97/1000\n",
            "1562/1562 [==============================] - 268s 171ms/step - loss: 0.4336 - accuracy: 0.8625 - auc: 0.9960 - val_loss: 1.2320 - val_accuracy: 0.7101 - val_auc: 0.9609\n",
            "Epoch 98/1000\n",
            "1562/1562 [==============================] - 270s 173ms/step - loss: 0.4301 - accuracy: 0.8625 - auc: 0.9957 - val_loss: 1.2275 - val_accuracy: 0.7120 - val_auc: 0.9609\n",
            "Epoch 99/1000\n",
            "1562/1562 [==============================] - 270s 173ms/step - loss: 0.4282 - accuracy: 0.8626 - auc: 0.9963 - val_loss: 1.2213 - val_accuracy: 0.7150 - val_auc: 0.9614\n",
            "Epoch 100/1000\n",
            "1562/1562 [==============================] - 271s 174ms/step - loss: 0.4242 - accuracy: 0.8654 - auc: 0.9957 - val_loss: 1.2446 - val_accuracy: 0.7071 - val_auc: 0.9591\n",
            "Epoch 101/1000\n",
            "1562/1562 [==============================] - 272s 174ms/step - loss: 0.4351 - accuracy: 0.8621 - auc: 0.9958 - val_loss: 1.2223 - val_accuracy: 0.7134 - val_auc: 0.9611\n",
            "Epoch 102/1000\n",
            "1562/1562 [==============================] - 271s 173ms/step - loss: 0.4101 - accuracy: 0.8685 - auc: 0.9967 - val_loss: 1.2304 - val_accuracy: 0.7133 - val_auc: 0.9603\n",
            "Epoch 103/1000\n",
            "1562/1562 [==============================] - 269s 172ms/step - loss: 0.4143 - accuracy: 0.8685 - auc: 0.9961 - val_loss: 1.2650 - val_accuracy: 0.7076 - val_auc: 0.9586\n",
            "Epoch 104/1000\n",
            "1562/1562 [==============================] - 268s 172ms/step - loss: 0.4090 - accuracy: 0.8689 - auc: 0.9967 - val_loss: 1.2592 - val_accuracy: 0.7103 - val_auc: 0.9586\n",
            "Epoch 105/1000\n",
            "1562/1562 [==============================] - 267s 171ms/step - loss: 0.4133 - accuracy: 0.8679 - auc: 0.9957 - val_loss: 1.2408 - val_accuracy: 0.7108 - val_auc: 0.9591\n",
            "\n",
            "Epoch 00105: ReduceLROnPlateau reducing learning rate to 6.25000029685907e-05.\n",
            "Epoch 106/1000\n",
            "1562/1562 [==============================] - 267s 171ms/step - loss: 0.4054 - accuracy: 0.8702 - auc: 0.9965 - val_loss: 1.2417 - val_accuracy: 0.7138 - val_auc: 0.9601\n",
            "Epoch 107/1000\n",
            "1562/1562 [==============================] - 268s 171ms/step - loss: 0.4046 - accuracy: 0.8731 - auc: 0.9962 - val_loss: 1.2347 - val_accuracy: 0.7135 - val_auc: 0.9601\n",
            "Epoch 108/1000\n",
            "1562/1562 [==============================] - 268s 171ms/step - loss: 0.3939 - accuracy: 0.8718 - auc: 0.9966 - val_loss: 1.2340 - val_accuracy: 0.7165 - val_auc: 0.9594\n",
            "Epoch 109/1000\n",
            "1562/1562 [==============================] - 268s 172ms/step - loss: 0.3965 - accuracy: 0.8739 - auc: 0.9963 - val_loss: 1.2261 - val_accuracy: 0.7152 - val_auc: 0.9600\n",
            "Epoch 110/1000\n",
            "1562/1562 [==============================] - 267s 171ms/step - loss: 0.3931 - accuracy: 0.8746 - auc: 0.9965 - val_loss: 1.2360 - val_accuracy: 0.7144 - val_auc: 0.9597\n",
            "Restoring model weights from the end of the best epoch.\n",
            "Epoch 00110: early stopping\n"
          ],
          "name": "stdout"
        }
      ]
    },
    {
      "cell_type": "code",
      "metadata": {
        "id": "OPd59y7J0rdp"
      },
      "source": [
        "reduce_lr = ReduceLROnPlateau(monitor='val_loss', factor=0.5, patience=10,  \n",
        "                              min_delta=1e-4, mode='min', verbose=1)\n",
        "stop_alg = EarlyStopping(monitor='val_loss', patience=35, \n",
        "                         restore_best_weights=True, verbose=1)\n",
        "callbacks = [stop_alg, reduce_lr]\n",
        "opt = Adam(learning_rate=0.001)\n",
        "classifier.compile(loss='categorical_crossentropy', optimizer=opt, metrics=['accuracy', 'AUC'])\n",
        "\n",
        "start = time.perf_counter()\n",
        "hist = classifier.fit(\n",
        "    train_generator, \n",
        "    epochs=EPOCHS,\n",
        "    validation_data=validation_generator,\n",
        "    validation_steps=total_validate//BATCH_SIZE,\n",
        "    steps_per_epoch=total_train//BATCH_SIZE,\n",
        "    callbacks=callbacks\n",
        ")\n",
        "finish = time.perf_counter()"
      ],
      "execution_count": null,
      "outputs": []
    },
    {
      "cell_type": "code",
      "metadata": {
        "id": "vKk7VEHVapaX"
      },
      "source": [
        "classifier.layers[GABOR_LAYER_INDEX].name"
      ],
      "execution_count": null,
      "outputs": []
    },
    {
      "cell_type": "code",
      "metadata": {
        "id": "SVo0vc7PapV2"
      },
      "source": [
        "print(\"Start time = {}\".format(start))\n",
        "print(\"Finish time = {}\".format(finish))\n",
        "print(\"Training time = {}\".format(finish-start))\n",
        "hist.history['start_time'] = start\n",
        "hist.history['finish_time'] = finish\n",
        "hist.history['train_time'] = finish-start"
      ],
      "execution_count": null,
      "outputs": []
    },
    {
      "cell_type": "code",
      "metadata": {
        "id": "cgUZFT_iapR3"
      },
      "source": [
        "import pickle\n",
        "\n",
        "trained_layers = copy.deepcopy(classifier.get_layer(name=classifier.layers[GABOR_LAYER_INDEX].name).get_weights())\n",
        "hist.history['untrained_layers'] = untrained_layers\n",
        "hist.history['trained_layers'] = trained_layers\n",
        "\n",
        "with open('cifar100-fine-{}-history-kernel-{}.p'.format(ITERATION, GABOR_WIDTH),'wb') as fp:\n",
        "    pickle.dump(hist.history, fp, protocol=pickle.HIGHEST_PROTOCOL)"
      ],
      "execution_count": null,
      "outputs": []
    },
    {
      "cell_type": "code",
      "metadata": {
        "id": "QOxgCzlpapMN"
      },
      "source": [
        "import matplotlib.pyplot as plt\n",
        "\n",
        "fig = plt.figure(figsize=(10,6))\n",
        "plt.plot(hist.history['loss'], color='#785ef0')\n",
        "plt.plot(hist.history['val_loss'], color='#dc267f')\n",
        "plt.title('Model Loss Progress')\n",
        "plt.ylabel('Loss')\n",
        "plt.xlabel('Epoch')\n",
        "plt.legend(['Training Set', 'Test Set'], loc='upper right')\n",
        "plt.savefig('cifar100-fine-{}-loss-kernel-{}.png'.format(ITERATION,GABOR_WIDTH), dpi=350, bbox_inches='tight')\n",
        "plt.show()"
      ],
      "execution_count": null,
      "outputs": []
    },
    {
      "cell_type": "code",
      "metadata": {
        "id": "0GIyww6_apIR"
      },
      "source": [
        "fig = plt.figure(figsize=(10,6))\n",
        "plt.plot(hist.history['accuracy'], color='#785ef0')\n",
        "plt.plot(hist.history['val_accuracy'], color='#dc267f')\n",
        "plt.title('Model Accuracy Progress')\n",
        "plt.ylabel('Accuracy')\n",
        "plt.xlabel('Epoch')\n",
        "plt.legend(['Training Set', 'Test Set'], loc='upper right')\n",
        "plt.savefig('cifar100-fine-{}-accuracy-kernel-{}.png'.format(ITERATION, GABOR_WIDTH), dpi=350, bbox_inches='tight')\n",
        "plt.show()"
      ],
      "execution_count": null,
      "outputs": []
    },
    {
      "cell_type": "code",
      "metadata": {
        "id": "dz158rkdapBm"
      },
      "source": [
        "from sklearn.preprocessing import MinMaxScaler\n",
        "\n",
        "cnnl1 = classifier.layers[GABOR_LAYER_INDEX].name   # get the name of the first conv layer\n",
        "W = classifier.get_layer(name=cnnl1).get_weights()[0]   #get the filters\n",
        "wshape = W.shape  #save the original shape\n",
        "\n",
        "# this part will scale to [0, 1] for visualization purposes\n",
        "scaler = MinMaxScaler()\n",
        "scaler.fit(W.reshape(-1,1))\n",
        "W = scaler.transform(W.reshape(-1,1))\n",
        "W = W.reshape(wshape)\n",
        "\n",
        "fig, axs = plt.subplots(8,NUM_RECEPTIVE_FILTERS//8, figsize=(24,24))\n",
        "fig.subplots_adjust(hspace = .25, wspace=.001)\n",
        "axs = axs.ravel()\n",
        "for i in range(W.shape[-1]):\n",
        "  # we reshape to a 3D (RGB) image shape and display\n",
        "  h = np.reshape(W[:,:,:,i], (GABOR_WIDTH,GABOR_HEIGHT,3))\n",
        "  axs[i].imshow(h)\n",
        "  axs[i].set_title('Filter ' + str(i))    \n",
        "plt.savefig(\"cifar100-fine-{}-filters-kernel-{}.png\".format(ITERATION,GABOR_WIDTH), bbox_inches='tight', dpi=350)"
      ],
      "execution_count": null,
      "outputs": []
    },
    {
      "cell_type": "code",
      "metadata": {
        "id": "g_o9IU8Naouu"
      },
      "source": [
        "cnnl1 = classifier.layers[GABOR_LAYER_INDEX].name   # get the name of the first conv layer\n",
        "W = classifier.get_layer(name=cnnl1).get_weights()[0]\n",
        "plt.hist(W.ravel(), bins=100)\n",
        "print(np.min(W),np.max(W))"
      ],
      "execution_count": null,
      "outputs": []
    },
    {
      "cell_type": "code",
      "metadata": {
        "id": "wVWg8y4ea7iY"
      },
      "source": [
        "filter_layers = []\n",
        "for i in range(NUM_RECEPTIVE_FILTERS):\n",
        "    for j in range(3):\n",
        "        filter_layers.append(np.reshape(W[:,:,j, i], GABOR_SIZE))\n",
        "for i,gf in enumerate(filter_layers):\n",
        "    plt.subplot(8, (W.shape[3]*3)//8, i+1)\n",
        "    plt.imshow(gf, cmap='gray')\n",
        "    plt.axis('off')\n",
        "plt.savefig(\"cifar100-fine-{}-channelwise-filters-kernel-{}.png\".format(ITERATION,GABOR_WIDTH), bbox_inches='tight', dpi=350)"
      ],
      "execution_count": null,
      "outputs": []
    },
    {
      "cell_type": "code",
      "metadata": {
        "id": "RFRH3P9ga7dO"
      },
      "source": [
        "!cp cifar100-fine-1-history-kernel-11.p /content/drive/My\\ Drive/Mehang\\ Rai/analysis/image-size/64/11/cifar100-fine-64/1/"
      ],
      "execution_count": null,
      "outputs": []
    },
    {
      "cell_type": "code",
      "metadata": {
        "id": "fKJJ_XVUa7aG"
      },
      "source": [
        "!cp cifar100-fine-1-loss-kernel-11.png /content/drive/My\\ Drive/Mehang\\ Rai/analysis/image-size/64/11/cifar100-fine-64/1/"
      ],
      "execution_count": null,
      "outputs": []
    },
    {
      "cell_type": "code",
      "metadata": {
        "id": "770Xs78Pa7WZ"
      },
      "source": [
        "!cp cifar100-fine-1-accuracy-kernel-11.png /content/drive/My\\ Drive/Mehang\\ Rai/analysis/image-size/64/11/cifar100-fine-64/1/"
      ],
      "execution_count": null,
      "outputs": []
    },
    {
      "cell_type": "code",
      "metadata": {
        "id": "tjjduGeIa7TO"
      },
      "source": [
        "!cp cifar100-fine-1-filters-kernel-11.png /content/drive/My\\ Drive/Mehang\\ Rai/analysis/image-size/64/11/cifar100-fine-64/1/"
      ],
      "execution_count": null,
      "outputs": []
    },
    {
      "cell_type": "code",
      "metadata": {
        "id": "o8mTM1GAa7N_"
      },
      "source": [
        "!cp cifar100-fine-1-channelwise-filters-kernel-11.png /content/drive/My\\ Drive/Mehang\\ Rai/analysis/image-size/64/11/cifar100-fine-64/1/"
      ],
      "execution_count": null,
      "outputs": []
    },
    {
      "cell_type": "code",
      "metadata": {
        "id": "QdAV2t61a7E3"
      },
      "source": [
        ""
      ],
      "execution_count": null,
      "outputs": []
    }
  ]
}