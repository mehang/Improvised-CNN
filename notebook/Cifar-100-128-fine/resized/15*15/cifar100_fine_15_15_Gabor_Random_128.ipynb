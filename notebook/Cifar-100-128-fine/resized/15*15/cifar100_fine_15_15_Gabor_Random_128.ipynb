{
  "nbformat": 4,
  "nbformat_minor": 0,
  "metadata": {
    "colab": {
      "name": "cifar100_fine-15*15-Gabor-Random-128.ipynb",
      "provenance": [],
      "include_colab_link": true
    },
    "kernelspec": {
      "name": "python3",
      "display_name": "Python 3"
    },
    "accelerator": "GPU"
  },
  "cells": [
    {
      "cell_type": "markdown",
      "metadata": {
        "id": "view-in-github",
        "colab_type": "text"
      },
      "source": [
        "<a href=\"https://colab.research.google.com/github/mehang/Improvised-CNN/blob/master/notebook/Cifar-100-128-fine/resized/15*15/cifar100_fine_15_15_Gabor_Random_128.ipynb\" target=\"_parent\"><img src=\"https://colab.research.google.com/assets/colab-badge.svg\" alt=\"Open In Colab\"/></a>"
      ]
    },
    {
      "cell_type": "code",
      "metadata": {
        "colab": {
          "base_uri": "https://localhost:8080/"
        },
        "id": "XPXuQbaiDa0K",
        "outputId": "eb8e1eb4-f0e5-49fb-871b-06ed50b410b2"
      },
      "source": [
        "from google.colab import drive\n",
        "drive.mount('/content/drive')"
      ],
      "execution_count": null,
      "outputs": [
        {
          "output_type": "stream",
          "text": [
            "Mounted at /content/drive\n"
          ],
          "name": "stdout"
        }
      ]
    },
    {
      "cell_type": "code",
      "metadata": {
        "id": "cd1FEWQfDoUa"
      },
      "source": [
        "import matplotlib.pyplot as plt\n",
        "import numpy as np\n",
        "import os\n",
        "import PIL\n",
        "import tensorflow as tf\n",
        "import pandas as pd\n",
        "\n",
        "from tensorflow import keras\n",
        "from tensorflow.keras import layers\n",
        "from tensorflow.keras.models import Sequential\n",
        "from tensorflow.keras.preprocessing.image import ImageDataGenerator\n",
        "import pathlib\n",
        "import time\n",
        "\n",
        "from tensorflow.keras.preprocessing.image import ImageDataGenerator, load_img\n",
        "from tensorflow.keras.utils import to_categorical\n",
        "from sklearn.model_selection import train_test_split\n"
      ],
      "execution_count": null,
      "outputs": []
    },
    {
      "cell_type": "code",
      "metadata": {
        "id": "ssHK5WQFDvhv"
      },
      "source": [
        "!unzip /content/drive/My\\ Drive/Mehang\\ Rai/cifar100_128_fine.zip -d cifar100_128_fine"
      ],
      "execution_count": null,
      "outputs": []
    },
    {
      "cell_type": "code",
      "metadata": {
        "id": "5bPIhegcDw3X"
      },
      "source": [
        "ITERATION = 1\n",
        "IMAGE_WIDTH=128\n",
        "IMAGE_HEIGHT=128\n",
        "IMAGE_SIZE=(IMAGE_WIDTH, IMAGE_HEIGHT)\n",
        "IMAGE_CHANNELS=3\n",
        "RANDOM_SEED = [42, 42, 57, 48, 86, 7, 15, 28, 39, 52][ITERATION-1]\n",
        "BATCH_SIZE = 32\n",
        "NUM_CLASSES = 100\n",
        "EPOCHS = 1000\n",
        "GABOR_LAYER_INDEX = 0\n",
        "GABOR_WIDTH = 7\n",
        "GABOR_HEIGHT = 7\n",
        "GABOR_SIZE = (GABOR_WIDTH, GABOR_HEIGHT)\n",
        "NUM_RECEPTIVE_FILTERS = 32\n",
        "TRAIN_DIR = \"cifar100_128_fine/cifar100_128_fine/train/\"\n",
        "TEST_DIR = \"cifar100_128_fine/cifar100_128_fine/test/\"\n",
        "# TEST_DIR = \"cifar100_128_fine/cifar100_128_fine/train/\"\n",
        "# TRAIN_DIR = \"cifar100_128_fine/cifar100_128_fine/test/\""
      ],
      "execution_count": null,
      "outputs": []
    },
    {
      "cell_type": "code",
      "metadata": {
        "id": "3IIZkuuVDzB2"
      },
      "source": [
        "filenames = os.listdir(TRAIN_DIR)\n",
        "categories = []\n",
        "for filename in filenames:\n",
        "    category = filename.split('.')[0]\n",
        "    categories.append(category)\n",
        "\n",
        "train_df = pd.DataFrame({\n",
        "    'filename': filenames,\n",
        "    'category': categories\n",
        "})\n",
        "\n",
        "filenames = os.listdir(TEST_DIR)\n",
        "categories = []\n",
        "for filename in filenames:\n",
        "    category = filename.split('.')[0]\n",
        "    categories.append(category)\n",
        "\n",
        "validate_df = pd.DataFrame({\n",
        "    'filename': filenames,\n",
        "    'category': categories\n",
        "})"
      ],
      "execution_count": null,
      "outputs": []
    },
    {
      "cell_type": "code",
      "metadata": {
        "id": "U-91Csg_D0tO"
      },
      "source": [
        "train_df = train_df.reset_index(drop=True)\n",
        "validate_df = validate_df.reset_index(drop=True)\n",
        "total_train = train_df.shape[0]\n",
        "total_validate = validate_df.shape[0]"
      ],
      "execution_count": null,
      "outputs": []
    },
    {
      "cell_type": "code",
      "metadata": {
        "colab": {
          "base_uri": "https://localhost:8080/",
          "height": 371
        },
        "id": "tdWlejaeD18Y",
        "outputId": "8e4734a4-cf46-44f4-92cd-d5e912db19b5"
      },
      "source": [
        "train_df['category'].value_counts().plot.bar()"
      ],
      "execution_count": null,
      "outputs": [
        {
          "output_type": "execute_result",
          "data": {
            "text/plain": [
              "<matplotlib.axes._subplots.AxesSubplot at 0x7f059be9f410>"
            ]
          },
          "metadata": {
            "tags": []
          },
          "execution_count": 7
        },
        {
          "output_type": "display_data",
          "data": {
            "image/png": "[encoded data removed]",
            "text/plain": [
              "<Figure size 432x288 with 1 Axes>"
            ]
          },
          "metadata": {
            "tags": [],
            "needs_background": "light"
          }
        }
      ]
    },
    {
      "cell_type": "code",
      "metadata": {
        "colab": {
          "base_uri": "https://localhost:8080/",
          "height": 371
        },
        "id": "lj9mg0kED3P9",
        "outputId": "1ad0d97d-91ab-40ba-96ff-1a56ce768984"
      },
      "source": [
        "validate_df['category'].value_counts().plot.bar()"
      ],
      "execution_count": null,
      "outputs": [
        {
          "output_type": "execute_result",
          "data": {
            "text/plain": [
              "<matplotlib.axes._subplots.AxesSubplot at 0x7f059bb89b10>"
            ]
          },
          "metadata": {
            "tags": []
          },
          "execution_count": 8
        },
        {
          "output_type": "display_data",
          "data": {
            "image/png": "[encoded data removed]",
            "text/plain": [
              "<Figure size 432x288 with 1 Axes>"
            ]
          },
          "metadata": {
            "tags": [],
            "needs_background": "light"
          }
        }
      ]
    },
    {
      "cell_type": "code",
      "metadata": {
        "colab": {
          "base_uri": "https://localhost:8080/"
        },
        "id": "ZAizGVG9D4_t",
        "outputId": "7a20ef11-fac7-4bba-8e51-c0fadf7d08ac"
      },
      "source": [
        "train_datagen = ImageDataGenerator(\n",
        "    rotation_range=40,\n",
        "    width_shift_range=0.2,\n",
        "    height_shift_range=0.2,\n",
        "    shear_range=0.2,\n",
        "    zoom_range=0.2,\n",
        "    horizontal_flip=True,\n",
        "    rescale=1./255,\n",
        ")\n",
        "train_generator = train_datagen.flow_from_dataframe(\n",
        "    train_df, \n",
        "    TRAIN_DIR, \n",
        "    x_col='filename',\n",
        "    y_col='category',\n",
        "    target_size=IMAGE_SIZE,\n",
        "    class_mode='categorical',\n",
        "    batch_size=BATCH_SIZE\n",
        ")"
      ],
      "execution_count": null,
      "outputs": [
        {
          "output_type": "stream",
          "text": [
            "Found 50000 validated image filenames belonging to 100 classes.\n"
          ],
          "name": "stdout"
        }
      ]
    },
    {
      "cell_type": "code",
      "metadata": {
        "colab": {
          "base_uri": "https://localhost:8080/"
        },
        "id": "FB4g4JqsD6qV",
        "outputId": "642d0949-61a3-467a-b206-983aae9dda07"
      },
      "source": [
        "validation_datagen = ImageDataGenerator(rescale=1./255)\n",
        "validation_generator = validation_datagen.flow_from_dataframe(\n",
        "    validate_df, \n",
        "    TEST_DIR, \n",
        "    x_col='filename',\n",
        "    y_col='category',\n",
        "    target_size=IMAGE_SIZE,\n",
        "    class_mode='categorical',\n",
        "    batch_size=BATCH_SIZE\n",
        ")"
      ],
      "execution_count": null,
      "outputs": [
        {
          "output_type": "stream",
          "text": [
            "Found 10000 validated image filenames belonging to 100 classes.\n"
          ],
          "name": "stdout"
        }
      ]
    },
    {
      "cell_type": "code",
      "metadata": {
        "id": "6c5j5UX4YqyX"
      },
      "source": [
        "import math\n",
        "\n",
        "def get_gabor_filters(inchannels, outchannels, kernel_size = (3,3)):\n",
        "    delta = 1e-4\n",
        "    freqs = (math.pi/2)*(math.sqrt(2)**(-np.random.randint(0,5, (outchannels, inchannels))))\n",
        "    thetas = (math.pi/8)*np.random.randint(0,8, (outchannels, inchannels))\n",
        "    sigmas = math.pi/(freqs)\n",
        "    psis = math.pi * np.random.rand(outchannels, inchannels)\n",
        "    x0, y0 = np.ceil(np.array(kernel_size)/2)    \n",
        "    \n",
        "    y, x = np.meshgrid(\n",
        "            np.linspace(-x0 + 1, x0 + 0, kernel_size[0]),\n",
        "            np.linspace(-y0 + 1, y0 + 0, kernel_size[1]),\n",
        "    )\n",
        "    filterbank = []\n",
        "    \n",
        "    for i in range(outchannels):\n",
        "        for j in range(inchannels):\n",
        "            freq = freqs[i][j]\n",
        "            theta = thetas[i][j]\n",
        "            sigma = sigmas[i][j]\n",
        "            psi = psis[i][j]\n",
        "            \n",
        "            rotx = x * np.cos(theta) + y * np.sin(theta)\n",
        "            roty = -x * np.sin(theta) + y * np.cos(theta)\n",
        "\n",
        "            g = np.exp(\n",
        "                -0.5 * ((rotx ** 2 + roty ** 2) / (sigma + delta) ** 2)\n",
        "            )\n",
        "            g = g * np.cos(freq * rotx + psi)\n",
        "#             g = g / (2 * math.pi * (sigma ** 2))\n",
        "#             g = gabor_kernel(frequency=freq, bandwidth=sigma, theta=theta, offset=psi, n_stds=0).real\n",
        "            filterbank.append(g)\n",
        "    return filterbank\n",
        "\n",
        "filterbank = get_gabor_filters(3, NUM_RECEPTIVE_FILTERS, GABOR_SIZE)\n",
        "\n",
        "fig = plt.subplots(8, len(filterbank)//8, figsize=(22,22))\n",
        "for i,gf in enumerate(filterbank):\n",
        "    plt.subplot(8, len(filterbank)//8, i+1)\n",
        "    plt.imshow(gf, cmap='gray')\n",
        "    plt.axis('off')"
      ],
      "execution_count": null,
      "outputs": []
    },
    {
      "cell_type": "code",
      "metadata": {
        "colab": {
          "base_uri": "https://localhost:8080/"
        },
        "id": "SBY7UmC3D8hU",
        "outputId": "fbd2637d-643e-474a-8729-d5d14b37498f"
      },
      "source": [
        "print(train_df.shape)\n",
        "print(validate_df.shape)"
      ],
      "execution_count": null,
      "outputs": [
        {
          "output_type": "stream",
          "text": [
            "(50000, 2)\n",
            "(10000, 2)\n"
          ],
          "name": "stdout"
        }
      ]
    },
    {
      "cell_type": "code",
      "metadata": {
        "colab": {
          "base_uri": "https://localhost:8080/"
        },
        "id": "_HzRZAClD-GE",
        "outputId": "746c2d99-2055-4256-b97b-4c658c515209"
      },
      "source": [
        "train_generator.image_shape"
      ],
      "execution_count": null,
      "outputs": [
        {
          "output_type": "execute_result",
          "data": {
            "text/plain": [
              "(128, 128, 3)"
            ]
          },
          "metadata": {
            "tags": []
          },
          "execution_count": 12
        }
      ]
    },
    {
      "cell_type": "code",
      "metadata": {
        "colab": {
          "base_uri": "https://localhost:8080/"
        },
        "id": "J8H9gmtxD_b8",
        "outputId": "a62fe3c3-5a7f-4a3f-9677-86652317747c"
      },
      "source": [
        "NUM_CLASSES = len(train_df['category'].value_counts())\n",
        "print(NUM_CLASSES)"
      ],
      "execution_count": null,
      "outputs": [
        {
          "output_type": "stream",
          "text": [
            "100\n"
          ],
          "name": "stdout"
        }
      ]
    },
    {
      "cell_type": "code",
      "metadata": {
        "id": "GKj47TcMKMi8",
        "colab": {
          "base_uri": "https://localhost:8080/"
        },
        "outputId": "cb4c2cb3-b767-402f-8c32-db170c2a7bfc"
      },
      "source": [
        "# Importing the Keras libraries and packages\n",
        "from tensorflow.keras.layers import Conv2D, MaxPooling2D, Flatten, Activation\n",
        "from tensorflow.keras.layers import Input, Dense, Dropout, BatchNormalization\n",
        "from tensorflow.keras.models import Model\n",
        "from tensorflow.keras.optimizers import RMSprop, Adam\n",
        "from tensorflow.keras.models import Sequential\n",
        "from tensorflow.keras import layers\n",
        "from tensorflow.keras.callbacks import EarlyStopping, ReduceLROnPlateau\n",
        "\n",
        "classifier = None\n",
        "classifier = Sequential([\n",
        "    layers.Conv2D(NUM_RECEPTIVE_FILTERS, kernel_size=GABOR_SIZE, strides=(1,1), \n",
        "                  padding='same', name=\"GaborLayer\", input_shape=train_generator.image_shape),\n",
        "    layers.BatchNormalization(),\n",
        "    layers.Activation('relu'),\n",
        "    Conv2D(32, (3, 3),padding='same',strides=(1,1)),\n",
        "    layers.BatchNormalization(),\n",
        "    layers.Activation('relu'),\n",
        "    layers.MaxPooling2D(pool_size=(2,2)),\n",
        "    layers.Dropout(0.1),\n",
        "    layers.Conv2D(64, kernel_size=(3,3), padding='same', strides=(1,1)),\n",
        "    layers.BatchNormalization(),\n",
        "    layers.Activation('relu'),\n",
        "    layers.Conv2D(64, kernel_size=(3,3), padding='same', strides=(1,1)),\n",
        "    layers.BatchNormalization(),\n",
        "    layers.Activation('relu'),\n",
        "    layers.MaxPooling2D(pool_size=(2,2)),\n",
        "    layers.Dropout(0.1),\n",
        "    layers.Conv2D(128, kernel_size=(3,3), padding='same', strides=(1,1)),\n",
        "    layers.BatchNormalization(),\n",
        "    layers.Activation('relu'),\n",
        "    layers.Conv2D(128, kernel_size=(3,3), padding='same', strides=(1,1)),\n",
        "    layers.BatchNormalization(),\n",
        "    layers.Activation('relu'),\n",
        "    layers.MaxPooling2D(pool_size=(2,2)),\n",
        "    layers.Conv2D(128, kernel_size=(3,3), padding='same', strides=(1,1)),\n",
        "    layers.BatchNormalization(),\n",
        "    layers.Activation('relu'),\n",
        "    layers.Dropout(0.1),\n",
        "    layers.Conv2D(256, kernel_size=(3,3), padding='same', strides=(1,1)),\n",
        "    layers.BatchNormalization(),\n",
        "    layers.Activation('relu'),\n",
        "    layers.Conv2D(256, kernel_size=(3,3), padding='same', strides=(1,1)),\n",
        "    layers.BatchNormalization(),\n",
        "    layers.Activation('relu'),\n",
        "    layers.Conv2D(256, kernel_size=(3,3), padding='same', strides=(1,1)),\n",
        "    layers.BatchNormalization(),\n",
        "    layers.Activation('relu'),\n",
        "    \n",
        "    layers.MaxPooling2D(pool_size=(2,2)),\n",
        "    layers.Flatten(),\n",
        "    layers.Dropout(0.1),\n",
        "    layers.Dense(512),\n",
        "    layers.BatchNormalization(),\n",
        "    layers.Activation('relu'),\n",
        "    layers.Dropout(0.1),\n",
        "    layers.Dense(512),\n",
        "    layers.BatchNormalization(),\n",
        "    layers.Activation('relu'),\n",
        "    layers.Dense(NUM_CLASSES, activation='softmax')\n",
        "])\n",
        "\n",
        "classifier.summary()"
      ],
      "execution_count": null,
      "outputs": [
        {
          "output_type": "stream",
          "text": [
            "Model: \"sequential\"\n",
            "_________________________________________________________________\n",
            "Layer (type)                 Output Shape              Param #   \n",
            "=================================================================\n",
            "conv2d (Conv2D)              (None, 128, 128, 32)      21632     \n",
            "_________________________________________________________________\n",
            "batch_normalization (BatchNo (None, 128, 128, 32)      128       \n",
            "_________________________________________________________________\n",
            "activation (Activation)      (None, 128, 128, 32)      0         \n",
            "_________________________________________________________________\n",
            "max_pooling2d (MaxPooling2D) (None, 64, 64, 32)        0         \n",
            "_________________________________________________________________\n",
            "dropout (Dropout)            (None, 64, 64, 32)        0         \n",
            "_________________________________________________________________\n",
            "conv2d_1 (Conv2D)            (None, 64, 64, 128)       36992     \n",
            "_________________________________________________________________\n",
            "batch_normalization_1 (Batch (None, 64, 64, 128)       512       \n",
            "_________________________________________________________________\n",
            "activation_1 (Activation)    (None, 64, 64, 128)       0         \n",
            "_________________________________________________________________\n",
            "max_pooling2d_1 (MaxPooling2 (None, 32, 32, 128)       0         \n",
            "_________________________________________________________________\n",
            "dropout_1 (Dropout)          (None, 32, 32, 128)       0         \n",
            "_________________________________________________________________\n",
            "conv2d_2 (Conv2D)            (None, 32, 32, 256)       295168    \n",
            "_________________________________________________________________\n",
            "batch_normalization_2 (Batch (None, 32, 32, 256)       1024      \n",
            "_________________________________________________________________\n",
            "activation_2 (Activation)    (None, 32, 32, 256)       0         \n",
            "_________________________________________________________________\n",
            "max_pooling2d_2 (MaxPooling2 (None, 16, 16, 256)       0         \n",
            "_________________________________________________________________\n",
            "dropout_2 (Dropout)          (None, 16, 16, 256)       0         \n",
            "_________________________________________________________________\n",
            "conv2d_3 (Conv2D)            (None, 16, 16, 512)       1180160   \n",
            "_________________________________________________________________\n",
            "batch_normalization_3 (Batch (None, 16, 16, 512)       2048      \n",
            "_________________________________________________________________\n",
            "activation_3 (Activation)    (None, 16, 16, 512)       0         \n",
            "_________________________________________________________________\n",
            "max_pooling2d_3 (MaxPooling2 (None, 8, 8, 512)         0         \n",
            "_________________________________________________________________\n",
            "dropout_3 (Dropout)          (None, 8, 8, 512)         0         \n",
            "_________________________________________________________________\n",
            "conv2d_4 (Conv2D)            (None, 8, 8, 512)         2359808   \n",
            "_________________________________________________________________\n",
            "batch_normalization_4 (Batch (None, 8, 8, 512)         2048      \n",
            "_________________________________________________________________\n",
            "activation_4 (Activation)    (None, 8, 8, 512)         0         \n",
            "_________________________________________________________________\n",
            "max_pooling2d_4 (MaxPooling2 (None, 4, 4, 512)         0         \n",
            "_________________________________________________________________\n",
            "flatten (Flatten)            (None, 8192)              0         \n",
            "_________________________________________________________________\n",
            "dropout_4 (Dropout)          (None, 8192)              0         \n",
            "_________________________________________________________________\n",
            "dense (Dense)                (None, 4096)              33558528  \n",
            "_________________________________________________________________\n",
            "activation_5 (Activation)    (None, 4096)              0         \n",
            "_________________________________________________________________\n",
            "batch_normalization_5 (Batch (None, 4096)              16384     \n",
            "_________________________________________________________________\n",
            "dropout_5 (Dropout)          (None, 4096)              0         \n",
            "_________________________________________________________________\n",
            "dense_1 (Dense)              (None, 4096)              16781312  \n",
            "_________________________________________________________________\n",
            "activation_6 (Activation)    (None, 4096)              0         \n",
            "_________________________________________________________________\n",
            "batch_normalization_6 (Batch (None, 4096)              16384     \n",
            "_________________________________________________________________\n",
            "dropout_6 (Dropout)          (None, 4096)              0         \n",
            "_________________________________________________________________\n",
            "dense_2 (Dense)              (None, 100)               409700    \n",
            "=================================================================\n",
            "Total params: 54,681,828\n",
            "Trainable params: 54,662,564\n",
            "Non-trainable params: 19,264\n",
            "_________________________________________________________________\n",
            "Epoch 1/1000\n",
            "1562/1562 [==============================] - 272s 171ms/step - loss: 6.0178 - accuracy: 0.0365 - auc: 0.6209 - val_loss: 6.1512 - val_accuracy: 0.0564 - val_auc: 0.6842\n",
            "Epoch 2/1000\n",
            "1562/1562 [==============================] - 263s 169ms/step - loss: 5.0496 - accuracy: 0.0677 - auc: 0.7134 - val_loss: 4.0632 - val_accuracy: 0.1034 - val_auc: 0.7796\n",
            "Epoch 3/1000\n",
            "1562/1562 [==============================] - 263s 169ms/step - loss: 4.0881 - accuracy: 0.1074 - auc: 0.7821 - val_loss: 3.5830 - val_accuracy: 0.1599 - val_auc: 0.8380\n",
            "Epoch 4/1000\n",
            "1562/1562 [==============================] - 265s 169ms/step - loss: 3.6404 - accuracy: 0.1489 - auc: 0.8309 - val_loss: 3.7712 - val_accuracy: 0.1969 - val_auc: 0.8424\n",
            "Epoch 5/1000\n",
            "1562/1562 [==============================] - 265s 169ms/step - loss: 3.3839 - accuracy: 0.1814 - auc: 0.8593 - val_loss: 3.0954 - val_accuracy: 0.2393 - val_auc: 0.8883\n",
            "Epoch 6/1000\n",
            "1562/1562 [==============================] - 265s 170ms/step - loss: 3.1895 - accuracy: 0.2148 - auc: 0.8789 - val_loss: 3.1321 - val_accuracy: 0.2616 - val_auc: 0.8939\n",
            "Epoch 7/1000\n",
            "1562/1562 [==============================] - 264s 169ms/step - loss: 3.0601 - accuracy: 0.2363 - auc: 0.8907 - val_loss: 2.7426 - val_accuracy: 0.3178 - val_auc: 0.9174\n",
            "Epoch 8/1000\n",
            "1562/1562 [==============================] - 265s 170ms/step - loss: 2.9184 - accuracy: 0.2675 - auc: 0.8994 - val_loss: 2.9943 - val_accuracy: 0.3063 - val_auc: 0.9142\n",
            "Epoch 9/1000\n",
            "1562/1562 [==============================] - 265s 169ms/step - loss: 2.8099 - accuracy: 0.2879 - auc: 0.9078 - val_loss: 3.3099 - val_accuracy: 0.2848 - val_auc: 0.8966\n",
            "Epoch 10/1000\n",
            "1562/1562 [==============================] - 264s 169ms/step - loss: 2.7501 - accuracy: 0.3009 - auc: 0.9118 - val_loss: 2.5958 - val_accuracy: 0.3596 - val_auc: 0.9291\n",
            "Epoch 11/1000\n",
            "1562/1562 [==============================] - 264s 169ms/step - loss: 2.6537 - accuracy: 0.3184 - auc: 0.9192 - val_loss: 2.6624 - val_accuracy: 0.3514 - val_auc: 0.9212\n",
            "Epoch 12/1000\n",
            "1562/1562 [==============================] - 264s 169ms/step - loss: 2.5850 - accuracy: 0.3324 - auc: 0.9233 - val_loss: 3.7414 - val_accuracy: 0.4132 - val_auc: 0.9363\n",
            "Epoch 13/1000\n",
            "1562/1562 [==============================] - 264s 169ms/step - loss: 2.5082 - accuracy: 0.3466 - auc: 0.9271 - val_loss: 2.5151 - val_accuracy: 0.4100 - val_auc: 0.9380\n",
            "Epoch 14/1000\n",
            "1562/1562 [==============================] - 265s 169ms/step - loss: 2.4437 - accuracy: 0.3644 - auc: 0.9310 - val_loss: 3.6604 - val_accuracy: 0.4166 - val_auc: 0.9351\n",
            "Epoch 15/1000\n",
            "1562/1562 [==============================] - 264s 169ms/step - loss: 2.4028 - accuracy: 0.3673 - auc: 0.9323 - val_loss: 2.8625 - val_accuracy: 0.4450 - val_auc: 0.9419\n",
            "Epoch 16/1000\n",
            "1562/1562 [==============================] - 263s 169ms/step - loss: 2.3358 - accuracy: 0.3868 - auc: 0.9357 - val_loss: 2.3900 - val_accuracy: 0.4648 - val_auc: 0.9500\n",
            "Epoch 17/1000\n",
            "1562/1562 [==============================] - 263s 168ms/step - loss: 2.2728 - accuracy: 0.3957 - auc: 0.9400 - val_loss: 2.6768 - val_accuracy: 0.4538 - val_auc: 0.9453\n",
            "Epoch 18/1000\n",
            "1562/1562 [==============================] - 263s 168ms/step - loss: 2.2318 - accuracy: 0.4065 - auc: 0.9422 - val_loss: 2.9259 - val_accuracy: 0.4606 - val_auc: 0.9445\n",
            "Epoch 19/1000\n",
            "1562/1562 [==============================] - 264s 169ms/step - loss: 2.2047 - accuracy: 0.4140 - auc: 0.9425 - val_loss: 2.4514 - val_accuracy: 0.4433 - val_auc: 0.9453\n",
            "Epoch 20/1000\n",
            "1562/1562 [==============================] - 264s 169ms/step - loss: 2.1342 - accuracy: 0.4279 - auc: 0.9462 - val_loss: 3.3058 - val_accuracy: 0.4617 - val_auc: 0.9434\n",
            "Epoch 21/1000\n",
            "1562/1562 [==============================] - 263s 169ms/step - loss: 2.1160 - accuracy: 0.4337 - auc: 0.9459 - val_loss: 2.4859 - val_accuracy: 0.4865 - val_auc: 0.9469\n",
            "Epoch 22/1000\n",
            "1562/1562 [==============================] - 264s 169ms/step - loss: 2.0600 - accuracy: 0.4473 - auc: 0.9497 - val_loss: 3.3310 - val_accuracy: 0.4653 - val_auc: 0.9409\n",
            "Epoch 23/1000\n",
            "1562/1562 [==============================] - 264s 169ms/step - loss: 2.0389 - accuracy: 0.4498 - auc: 0.9502 - val_loss: 2.5360 - val_accuracy: 0.4948 - val_auc: 0.9490\n",
            "Epoch 24/1000\n",
            "1562/1562 [==============================] - 264s 169ms/step - loss: 1.9941 - accuracy: 0.4634 - auc: 0.9522 - val_loss: 2.1208 - val_accuracy: 0.5248 - val_auc: 0.9584\n",
            "Epoch 25/1000\n",
            "1562/1562 [==============================] - 265s 170ms/step - loss: 1.9587 - accuracy: 0.4723 - auc: 0.9536 - val_loss: 2.9878 - val_accuracy: 0.4943 - val_auc: 0.9474\n",
            "Epoch 26/1000\n",
            "1562/1562 [==============================] - 262s 168ms/step - loss: 1.9307 - accuracy: 0.4770 - auc: 0.9535 - val_loss: 3.1699 - val_accuracy: 0.4919 - val_auc: 0.9417\n",
            "Epoch 27/1000\n",
            "1562/1562 [==============================] - 264s 169ms/step - loss: 1.8984 - accuracy: 0.4869 - auc: 0.9563 - val_loss: 2.1138 - val_accuracy: 0.5225 - val_auc: 0.9586\n",
            "Epoch 28/1000\n",
            "1562/1562 [==============================] - 265s 170ms/step - loss: 1.8728 - accuracy: 0.4891 - auc: 0.9566 - val_loss: 2.1616 - val_accuracy: 0.5368 - val_auc: 0.9612\n",
            "Epoch 29/1000\n",
            "1562/1562 [==============================] - 265s 170ms/step - loss: 1.8367 - accuracy: 0.4955 - auc: 0.9588 - val_loss: 3.3007 - val_accuracy: 0.5377 - val_auc: 0.9555\n",
            "Epoch 30/1000\n",
            "1562/1562 [==============================] - 264s 169ms/step - loss: 1.8481 - accuracy: 0.4939 - auc: 0.9581 - val_loss: 2.0231 - val_accuracy: 0.5326 - val_auc: 0.9603\n",
            "Epoch 31/1000\n",
            "1562/1562 [==============================] - 263s 168ms/step - loss: 1.7976 - accuracy: 0.5075 - auc: 0.9602 - val_loss: 2.4625 - val_accuracy: 0.5451 - val_auc: 0.9581\n",
            "Epoch 32/1000\n",
            "1562/1562 [==============================] - 264s 169ms/step - loss: 1.7762 - accuracy: 0.5089 - auc: 0.9610 - val_loss: 2.1781 - val_accuracy: 0.5087 - val_auc: 0.9488\n",
            "Epoch 33/1000\n",
            "1562/1562 [==============================] - 266s 170ms/step - loss: 1.7419 - accuracy: 0.5203 - auc: 0.9615 - val_loss: 2.2253 - val_accuracy: 0.5514 - val_auc: 0.9602\n",
            "Epoch 34/1000\n",
            "1562/1562 [==============================] - 265s 170ms/step - loss: 1.7366 - accuracy: 0.5168 - auc: 0.9628 - val_loss: 1.9290 - val_accuracy: 0.5502 - val_auc: 0.9580\n",
            "Epoch 35/1000\n",
            "1562/1562 [==============================] - 263s 168ms/step - loss: 1.7084 - accuracy: 0.5286 - auc: 0.9633 - val_loss: 2.7201 - val_accuracy: 0.5722 - val_auc: 0.9605\n",
            "Epoch 36/1000\n",
            "1562/1562 [==============================] - 263s 168ms/step - loss: 1.6826 - accuracy: 0.5318 - auc: 0.9654 - val_loss: 1.9054 - val_accuracy: 0.5589 - val_auc: 0.9603\n",
            "Epoch 37/1000\n",
            "1562/1562 [==============================] - 263s 168ms/step - loss: 1.6514 - accuracy: 0.5430 - auc: 0.9650 - val_loss: 2.0093 - val_accuracy: 0.5678 - val_auc: 0.9622\n",
            "Epoch 38/1000\n",
            "1562/1562 [==============================] - 263s 168ms/step - loss: 1.6363 - accuracy: 0.5421 - auc: 0.9667 - val_loss: 1.8700 - val_accuracy: 0.5560 - val_auc: 0.9565\n",
            "Epoch 39/1000\n",
            "1562/1562 [==============================] - 265s 170ms/step - loss: 1.6358 - accuracy: 0.5425 - auc: 0.9654 - val_loss: 2.3523 - val_accuracy: 0.5093 - val_auc: 0.9479\n",
            "Epoch 40/1000\n",
            "1562/1562 [==============================] - 265s 170ms/step - loss: 1.6045 - accuracy: 0.5516 - auc: 0.9677 - val_loss: 1.7271 - val_accuracy: 0.5666 - val_auc: 0.9597\n",
            "Epoch 41/1000\n",
            "1562/1562 [==============================] - 262s 168ms/step - loss: 1.5930 - accuracy: 0.5538 - auc: 0.9678 - val_loss: 1.6435 - val_accuracy: 0.5985 - val_auc: 0.9657\n",
            "Epoch 42/1000\n",
            "1562/1562 [==============================] - 263s 168ms/step - loss: 1.5717 - accuracy: 0.5557 - auc: 0.9690 - val_loss: 1.7986 - val_accuracy: 0.5650 - val_auc: 0.9630\n",
            "Epoch 43/1000\n",
            "1562/1562 [==============================] - 262s 168ms/step - loss: 1.5572 - accuracy: 0.5628 - auc: 0.9690 - val_loss: 1.6664 - val_accuracy: 0.5927 - val_auc: 0.9645\n",
            "Epoch 44/1000\n",
            "1562/1562 [==============================] - 263s 168ms/step - loss: 1.5266 - accuracy: 0.5701 - auc: 0.9693 - val_loss: 1.7471 - val_accuracy: 0.5946 - val_auc: 0.9635\n",
            "Epoch 45/1000\n",
            "1562/1562 [==============================] - 265s 170ms/step - loss: 1.5120 - accuracy: 0.5747 - auc: 0.9703 - val_loss: 1.7659 - val_accuracy: 0.5546 - val_auc: 0.9591\n",
            "Epoch 46/1000\n",
            "1562/1562 [==============================] - 262s 168ms/step - loss: 1.5075 - accuracy: 0.5724 - auc: 0.9707 - val_loss: 1.7046 - val_accuracy: 0.5836 - val_auc: 0.9620\n",
            "Epoch 47/1000\n",
            "1562/1562 [==============================] - 265s 169ms/step - loss: 1.4817 - accuracy: 0.5810 - auc: 0.9716 - val_loss: 1.6327 - val_accuracy: 0.5974 - val_auc: 0.9677\n",
            "Epoch 48/1000\n",
            "1562/1562 [==============================] - 265s 170ms/step - loss: 1.4774 - accuracy: 0.5807 - auc: 0.9719 - val_loss: 1.6763 - val_accuracy: 0.5862 - val_auc: 0.9610\n",
            "Epoch 49/1000\n",
            "1562/1562 [==============================] - 265s 170ms/step - loss: 1.4663 - accuracy: 0.5872 - auc: 0.9715 - val_loss: 1.6709 - val_accuracy: 0.6007 - val_auc: 0.9622\n",
            "Epoch 50/1000\n",
            "1562/1562 [==============================] - 265s 170ms/step - loss: 1.4495 - accuracy: 0.5885 - auc: 0.9719 - val_loss: 1.5235 - val_accuracy: 0.6051 - val_auc: 0.9652\n",
            "Epoch 51/1000\n",
            "1562/1562 [==============================] - 266s 170ms/step - loss: 1.4359 - accuracy: 0.5947 - auc: 0.9724 - val_loss: 1.9208 - val_accuracy: 0.5316 - val_auc: 0.9535\n",
            "Epoch 52/1000\n",
            "1562/1562 [==============================] - 266s 170ms/step - loss: 1.4395 - accuracy: 0.5926 - auc: 0.9724 - val_loss: 2.1845 - val_accuracy: 0.5521 - val_auc: 0.9487\n",
            "Epoch 53/1000\n",
            "1562/1562 [==============================] - 265s 170ms/step - loss: 1.4033 - accuracy: 0.6021 - auc: 0.9736 - val_loss: 1.6469 - val_accuracy: 0.6008 - val_auc: 0.9642\n",
            "Epoch 54/1000\n",
            "1562/1562 [==============================] - 265s 170ms/step - loss: 1.4286 - accuracy: 0.5933 - auc: 0.9727 - val_loss: 1.5173 - val_accuracy: 0.5950 - val_auc: 0.9658\n",
            "Epoch 55/1000\n",
            "1562/1562 [==============================] - 264s 169ms/step - loss: 1.4093 - accuracy: 0.5997 - auc: 0.9727 - val_loss: 1.4647 - val_accuracy: 0.6203 - val_auc: 0.9683\n",
            "Epoch 56/1000\n",
            "1562/1562 [==============================] - 264s 169ms/step - loss: 1.3819 - accuracy: 0.5999 - auc: 0.9739 - val_loss: 1.9491 - val_accuracy: 0.6148 - val_auc: 0.9638\n",
            "Epoch 57/1000\n",
            "1562/1562 [==============================] - 263s 168ms/step - loss: 1.3821 - accuracy: 0.6045 - auc: 0.9739 - val_loss: 3.1919 - val_accuracy: 0.6147 - val_auc: 0.9601\n",
            "Epoch 58/1000\n",
            "1562/1562 [==============================] - 263s 169ms/step - loss: 1.3532 - accuracy: 0.6141 - auc: 0.9742 - val_loss: 1.8853 - val_accuracy: 0.6292 - val_auc: 0.9663\n",
            "Epoch 59/1000\n",
            "1562/1562 [==============================] - 263s 168ms/step - loss: 1.3573 - accuracy: 0.6112 - auc: 0.9747 - val_loss: 1.6562 - val_accuracy: 0.6123 - val_auc: 0.9658\n",
            "Epoch 60/1000\n",
            "1562/1562 [==============================] - 263s 169ms/step - loss: 1.3450 - accuracy: 0.6144 - auc: 0.9761 - val_loss: 2.0670 - val_accuracy: 0.6117 - val_auc: 0.9643\n",
            "Epoch 61/1000\n",
            "1562/1562 [==============================] - 263s 169ms/step - loss: 1.3388 - accuracy: 0.6153 - auc: 0.9748 - val_loss: 1.7602 - val_accuracy: 0.6185 - val_auc: 0.9674\n",
            "Epoch 62/1000\n",
            "1562/1562 [==============================] - 263s 168ms/step - loss: 1.3467 - accuracy: 0.6144 - auc: 0.9757 - val_loss: 1.9191 - val_accuracy: 0.6338 - val_auc: 0.9694\n",
            "Epoch 63/1000\n",
            "1562/1562 [==============================] - 263s 169ms/step - loss: 1.3223 - accuracy: 0.6175 - auc: 0.9755 - val_loss: 1.8465 - val_accuracy: 0.6184 - val_auc: 0.9633\n",
            "Epoch 64/1000\n",
            "1562/1562 [==============================] - 263s 169ms/step - loss: 1.3041 - accuracy: 0.6247 - auc: 0.9764 - val_loss: 1.9233 - val_accuracy: 0.6085 - val_auc: 0.9654\n",
            "Epoch 65/1000\n",
            "1562/1562 [==============================] - 265s 170ms/step - loss: 1.2942 - accuracy: 0.6228 - auc: 0.9774 - val_loss: 2.0871 - val_accuracy: 0.6165 - val_auc: 0.9668\n",
            "\n",
            "Epoch 00065: ReduceLROnPlateau reducing learning rate to 0.0005000000237487257.\n",
            "Epoch 66/1000\n",
            "1562/1562 [==============================] - 266s 170ms/step - loss: 1.2275 - accuracy: 0.6449 - auc: 0.9795 - val_loss: 1.8821 - val_accuracy: 0.6347 - val_auc: 0.9650\n",
            "Epoch 67/1000\n",
            "1562/1562 [==============================] - 266s 170ms/step - loss: 1.1983 - accuracy: 0.6517 - auc: 0.9801 - val_loss: 1.6921 - val_accuracy: 0.6452 - val_auc: 0.9694\n",
            "Epoch 68/1000\n",
            "1562/1562 [==============================] - 267s 171ms/step - loss: 1.1652 - accuracy: 0.6609 - auc: 0.9807 - val_loss: 1.8769 - val_accuracy: 0.6469 - val_auc: 0.9689\n",
            "Epoch 69/1000\n",
            "1562/1562 [==============================] - 266s 170ms/step - loss: 1.1430 - accuracy: 0.6627 - auc: 0.9815 - val_loss: 2.3030 - val_accuracy: 0.6537 - val_auc: 0.9667\n",
            "Epoch 70/1000\n",
            "1562/1562 [==============================] - 265s 170ms/step - loss: 1.1362 - accuracy: 0.6681 - auc: 0.9813 - val_loss: 1.7128 - val_accuracy: 0.6491 - val_auc: 0.9681\n",
            "Epoch 71/1000\n",
            "1562/1562 [==============================] - 265s 169ms/step - loss: 1.1144 - accuracy: 0.6744 - auc: 0.9820 - val_loss: 1.8293 - val_accuracy: 0.6500 - val_auc: 0.9645\n",
            "Epoch 72/1000\n",
            "1562/1562 [==============================] - 264s 169ms/step - loss: 1.1028 - accuracy: 0.6746 - auc: 0.9826 - val_loss: 1.8637 - val_accuracy: 0.6571 - val_auc: 0.9648\n",
            "Epoch 73/1000\n",
            "1562/1562 [==============================] - 263s 169ms/step - loss: 1.0988 - accuracy: 0.6795 - auc: 0.9825 - val_loss: 2.2075 - val_accuracy: 0.6391 - val_auc: 0.9611\n",
            "Epoch 74/1000\n",
            "1562/1562 [==============================] - 262s 168ms/step - loss: 1.0958 - accuracy: 0.6793 - auc: 0.9822 - val_loss: 2.0898 - val_accuracy: 0.6443 - val_auc: 0.9630\n",
            "Epoch 75/1000\n",
            "1562/1562 [==============================] - 263s 169ms/step - loss: 1.0955 - accuracy: 0.6755 - auc: 0.9826 - val_loss: 1.5231 - val_accuracy: 0.6452 - val_auc: 0.9663\n",
            "\n",
            "Epoch 00075: ReduceLROnPlateau reducing learning rate to 0.0002500000118743628.\n",
            "Epoch 76/1000\n",
            "1562/1562 [==============================] - 264s 169ms/step - loss: 1.0436 - accuracy: 0.6881 - auc: 0.9849 - val_loss: 1.5102 - val_accuracy: 0.6694 - val_auc: 0.9713\n",
            "Epoch 77/1000\n",
            "1562/1562 [==============================] - 264s 169ms/step - loss: 1.0149 - accuracy: 0.6990 - auc: 0.9848 - val_loss: 1.5803 - val_accuracy: 0.6751 - val_auc: 0.9693\n",
            "Epoch 78/1000\n",
            "1562/1562 [==============================] - 265s 170ms/step - loss: 1.0059 - accuracy: 0.7008 - auc: 0.9858 - val_loss: 1.4733 - val_accuracy: 0.6754 - val_auc: 0.9703\n",
            "Epoch 79/1000\n",
            "1562/1562 [==============================] - 265s 170ms/step - loss: 1.0032 - accuracy: 0.7007 - auc: 0.9845 - val_loss: 1.5405 - val_accuracy: 0.6695 - val_auc: 0.9702\n",
            "Epoch 80/1000\n",
            "1562/1562 [==============================] - 265s 170ms/step - loss: 0.9911 - accuracy: 0.7016 - auc: 0.9864 - val_loss: 1.9277 - val_accuracy: 0.6675 - val_auc: 0.9679\n",
            "Epoch 81/1000\n",
            "1562/1562 [==============================] - 265s 170ms/step - loss: 1.0118 - accuracy: 0.6999 - auc: 0.9845 - val_loss: 1.8408 - val_accuracy: 0.6727 - val_auc: 0.9687\n",
            "Epoch 82/1000\n",
            "1562/1562 [==============================] - 265s 170ms/step - loss: 0.9825 - accuracy: 0.7074 - auc: 0.9854 - val_loss: 1.9006 - val_accuracy: 0.6706 - val_auc: 0.9682\n",
            "Epoch 83/1000\n",
            "1562/1562 [==============================] - 265s 170ms/step - loss: 0.9778 - accuracy: 0.7062 - auc: 0.9859 - val_loss: 1.8612 - val_accuracy: 0.6671 - val_auc: 0.9688\n",
            "Epoch 84/1000\n",
            "1562/1562 [==============================] - 265s 170ms/step - loss: 0.9625 - accuracy: 0.7165 - auc: 0.9860 - val_loss: 1.9449 - val_accuracy: 0.6648 - val_auc: 0.9672\n",
            "Epoch 85/1000\n",
            "1562/1562 [==============================] - 264s 169ms/step - loss: 0.9656 - accuracy: 0.7109 - auc: 0.9864 - val_loss: 1.6824 - val_accuracy: 0.6720 - val_auc: 0.9677\n",
            "\n",
            "Epoch 00085: ReduceLROnPlateau reducing learning rate to 0.0001250000059371814.\n",
            "Epoch 86/1000\n",
            "1562/1562 [==============================] - 264s 169ms/step - loss: 0.9397 - accuracy: 0.7176 - auc: 0.9877 - val_loss: 1.9112 - val_accuracy: 0.6806 - val_auc: 0.9685\n",
            "Epoch 87/1000\n",
            "1562/1562 [==============================] - 263s 168ms/step - loss: 0.9371 - accuracy: 0.7202 - auc: 0.9869 - val_loss: 1.6848 - val_accuracy: 0.6770 - val_auc: 0.9677\n",
            "Epoch 88/1000\n",
            "1562/1562 [==============================] - 263s 169ms/step - loss: 0.9418 - accuracy: 0.7153 - auc: 0.9870 - val_loss: 1.6302 - val_accuracy: 0.6746 - val_auc: 0.9686\n",
            "Epoch 89/1000\n",
            "1562/1562 [==============================] - 264s 169ms/step - loss: 0.9219 - accuracy: 0.7216 - auc: 0.9877 - val_loss: 2.4388 - val_accuracy: 0.6735 - val_auc: 0.9676\n",
            "Epoch 90/1000\n",
            "1562/1562 [==============================] - 265s 170ms/step - loss: 0.9313 - accuracy: 0.7211 - auc: 0.9868 - val_loss: 2.4373 - val_accuracy: 0.6761 - val_auc: 0.9681\n",
            "Restoring model weights from the end of the best epoch.\n",
            "Epoch 00090: early stopping\n"
          ],
          "name": "stdout"
        }
      ]
    },
    {
      "cell_type": "code",
      "metadata": {
        "id": "_LdPcA2bEcLu"
      },
      "source": [
        "cnnl1 = classifier.layers[GABOR_LAYER_INDEX].name   # get the name of the first conv layer\n",
        "W = classifier.get_layer(name=cnnl1).get_weights()[0]   #get the filters\n",
        "wshape = W.shape  #save the original shape\n",
        "gabor_filters = W\n",
        "for kernel_index in range(wshape[3]):\n",
        "    for channel_index in range(3):\n",
        "        gabor_filters[:,:,channel_index, kernel_index] = filterbank[kernel_index+channel_index]\n",
        "\n",
        "classifier.get_layer(name=cnnl1).set_weights([gabor_filters, classifier.get_layer(name=cnnl1).get_weights()[1]])\n",
        "filter_layers = []\n",
        "for i in range(NUM_RECEPTIVE_FILTERS):\n",
        "    for j in range(3):\n",
        "        filter_layers.append(np.reshape(W[:,:,j, i], GABOR_SIZE))\n",
        "for i,gf in enumerate(filter_layers):\n",
        "    plt.subplot(8, len(filterbank)//8, i+1)\n",
        "    plt.imshow(gf, cmap='gray')\n",
        "    plt.axis('off')\n",
        "plt.savefig('cifar100-fine-{}-initial-gabor-random-kernel-{}.png'.format(ITERATION, GABOR_WIDTH), dpi=350, bbox_inches='tight')\n",
        "\n",
        "import copy\n",
        "untrained_layers = copy.deepcopy(classifier.get_layer(name=classifier.layers[GABOR_LAYER_INDEX].name).get_weights())"
      ],
      "execution_count": null,
      "outputs": []
    },
    {
      "cell_type": "code",
      "metadata": {
        "id": "UN-K7BgBcEBc"
      },
      "source": [
        "reduce_lr = ReduceLROnPlateau(monitor='val_loss', factor=0.5, patience=10,  \n",
        "                              min_delta=1e-4, mode='min', verbose=1)\n",
        "stop_alg = EarlyStopping(monitor='val_loss', patience=35, \n",
        "                         restore_best_weights=True, verbose=1)\n",
        "callbacks = [stop_alg, reduce_lr]\n",
        "opt = Adam(learning_rate=0.001)\n",
        "classifier.compile(loss='categorical_crossentropy', optimizer=opt, metrics=['accuracy', 'AUC'])\n",
        "\n",
        "start = time.perf_counter()\n",
        "hist = classifier.fit(\n",
        "    train_generator, \n",
        "    epochs=EPOCHS,\n",
        "    validation_data=validation_generator,\n",
        "    validation_steps=total_validate//BATCH_SIZE,\n",
        "    steps_per_epoch=total_train//BATCH_SIZE,\n",
        "    callbacks=callbacks\n",
        ")\n",
        "finish = time.perf_counter()"
      ],
      "execution_count": null,
      "outputs": []
    },
    {
      "cell_type": "code",
      "metadata": {
        "id": "70FtA2M5cD59"
      },
      "source": [
        "classifier.layers[GABOR_LAYER_INDEX].name"
      ],
      "execution_count": null,
      "outputs": []
    },
    {
      "cell_type": "code",
      "metadata": {
        "id": "4ParT5k0cD03"
      },
      "source": [
        "print(\"Start time = {}\".format(start))\n",
        "print(\"Finish time = {}\".format(finish))\n",
        "print(\"Training time = {}\".format(finish-start))\n",
        "hist.history['start_time'] = start\n",
        "hist.history['finish_time'] = finish\n",
        "hist.history['train_time'] = finish-start"
      ],
      "execution_count": null,
      "outputs": []
    },
    {
      "cell_type": "code",
      "metadata": {
        "id": "69Wh4QCscDvd"
      },
      "source": [
        "import pickle\n",
        "\n",
        "trained_layers = copy.deepcopy(classifier.get_layer(name=classifier.layers[GABOR_LAYER_INDEX].name).get_weights())\n",
        "hist.history['untrained_layers'] = untrained_layers\n",
        "hist.history['trained_layers'] = trained_layers\n",
        "\n",
        "with open('cifar100-fine-{}-history-gabor-random-kernel-{}.p'.format(ITERATION, GABOR_WIDTH),'wb') as fp:\n",
        "    pickle.dump(hist.history, fp, protocol=pickle.HIGHEST_PROTOCOL)"
      ],
      "execution_count": null,
      "outputs": []
    },
    {
      "cell_type": "code",
      "metadata": {
        "id": "StdAtTSWcDql"
      },
      "source": [
        "import matplotlib.pyplot as plt\n",
        "\n",
        "fig = plt.figure(figsize=(10,6))\n",
        "plt.plot(hist.history['loss'], color='#785ef0')\n",
        "plt.plot(hist.history['val_loss'], color='#dc267f')\n",
        "plt.title('Model Loss Progress')\n",
        "plt.ylabel('Loss')\n",
        "plt.xlabel('Epoch')\n",
        "plt.legend(['Training Set', 'Test Set'], loc='upper right')\n",
        "plt.savefig('cifar100-fine-{}-loss-gabor-random-kernel-{}.png'.format(ITERATION,GABOR_WIDTH), dpi=350, bbox_inches='tight')\n",
        "plt.show()"
      ],
      "execution_count": null,
      "outputs": []
    },
    {
      "cell_type": "code",
      "metadata": {
        "id": "nAmodzIFcDkm"
      },
      "source": [
        "fig = plt.figure(figsize=(10,6))\n",
        "plt.plot(hist.history['accuracy'], color='#785ef0')\n",
        "plt.plot(hist.history['val_accuracy'], color='#dc267f')\n",
        "plt.title('Model Accuracy Progress')\n",
        "plt.ylabel('Accuracy')\n",
        "plt.xlabel('Epoch')\n",
        "plt.legend(['Training Set', 'Test Set'], loc='upper right')\n",
        "plt.savefig('cifar100-fine-{}-accuracy-gabor-random-kernel-{}.png'.format(ITERATION, GABOR_WIDTH), dpi=350, bbox_inches='tight')\n",
        "plt.show()"
      ],
      "execution_count": null,
      "outputs": []
    },
    {
      "cell_type": "code",
      "metadata": {
        "id": "xygmef5xcDfz"
      },
      "source": [
        "from sklearn.preprocessing import MinMaxScaler\n",
        "\n",
        "cnnl1 = classifier.layers[GABOR_LAYER_INDEX].name   # get the name of the first conv layer\n",
        "W = classifier.get_layer(name=cnnl1).get_weights()[0]   #get the filters\n",
        "wshape = W.shape  #save the original shape\n",
        "\n",
        "# this part will scale to [0, 1] for visualization purposes\n",
        "scaler = MinMaxScaler()\n",
        "scaler.fit(W.reshape(-1,1))\n",
        "W = scaler.transform(W.reshape(-1,1))\n",
        "W = W.reshape(wshape)\n",
        "\n",
        "fig, axs = plt.subplots(8,NUM_RECEPTIVE_FILTERS//8, figsize=(24,24))\n",
        "fig.subplots_adjust(hspace = .25, wspace=.001)\n",
        "axs = axs.ravel()\n",
        "for i in range(W.shape[-1]):\n",
        "  # we reshape to a 3D (RGB) image shape and display\n",
        "  h = np.reshape(W[:,:,:,i], (GABOR_WIDTH,GABOR_HEIGHT,3))\n",
        "  axs[i].imshow(h)\n",
        "  axs[i].set_title('Filter ' + str(i))    \n",
        "plt.savefig(\"cifar100-fine-{}-filters-gabor-random-kernel-{}.png\".format(ITERATION,GABOR_WIDTH), bbox_inches='tight', dpi=350)"
      ],
      "execution_count": null,
      "outputs": []
    },
    {
      "cell_type": "code",
      "metadata": {
        "id": "K8lvmldqcDad"
      },
      "source": [
        "cnnl1 = classifier.layers[GABOR_LAYER_INDEX].name   # get the name of the first conv layer\n",
        "W = classifier.get_layer(name=cnnl1).get_weights()[0]\n",
        "plt.hist(W.ravel(), bins=100)\n",
        "print(np.min(W),np.max(W))"
      ],
      "execution_count": null,
      "outputs": []
    },
    {
      "cell_type": "code",
      "metadata": {
        "id": "qLVjAwRxcDUU"
      },
      "source": [
        "filter_layers = []\n",
        "for i in range(NUM_RECEPTIVE_FILTERS):\n",
        "    for j in range(3):\n",
        "        filter_layers.append(np.reshape(W[:,:,j, i], GABOR_SIZE))\n",
        "for i,gf in enumerate(filter_layers):\n",
        "    plt.subplot(8, (W.shape[3]*3)//8, i+1)\n",
        "    plt.imshow(gf, cmap='gray')\n",
        "    plt.axis('off')\n",
        "plt.savefig(\"cifar100-fine-{}-channelwise-gabor-random-filters-kernel-{}.png\".format(ITERATION,GABOR_WIDTH), bbox_inches='tight', dpi=350)"
      ],
      "execution_count": null,
      "outputs": []
    },
    {
      "cell_type": "code",
      "metadata": {
        "id": "JlyI1KGCcDMF"
      },
      "source": [
        "!cp cifar100-fine-1-initial-gabor-random-kernel-7.png /content/drive/My\\ Drive/Mehang\\ Rai/analysis/7/cifar100-fine/1/"
      ],
      "execution_count": null,
      "outputs": []
    },
    {
      "cell_type": "code",
      "metadata": {
        "id": "_VH7NfU8cf2r"
      },
      "source": [
        "!cp cifar100-fine-1-history-gabor-random-kernel-7.p /content/drive/My\\ Drive/Mehang\\ Rai/analysis/7/cifar100-fine/1/"
      ],
      "execution_count": null,
      "outputs": []
    },
    {
      "cell_type": "code",
      "metadata": {
        "id": "v1BcXwEccfv4"
      },
      "source": [
        "!cp cifar100-fine-1-loss-gabor-random-kernel-7.png /content/drive/My\\ Drive/Mehang\\ Rai/analysis/7/cifar100-fine/1/"
      ],
      "execution_count": null,
      "outputs": []
    },
    {
      "cell_type": "code",
      "metadata": {
        "id": "M1PqY6GVcfpx"
      },
      "source": [
        "!cp cifar100-fine-1-accuracy-gabor-random-kernel-7.png /content/drive/My\\ Drive/Mehang\\ Rai/analysis/7/cifar100-fine/1/"
      ],
      "execution_count": null,
      "outputs": []
    },
    {
      "cell_type": "code",
      "metadata": {
        "id": "-6qPQYHncfjg"
      },
      "source": [
        "!cp cifar100-fine-1-filters-gabor-random-kernel-7.png /content/drive/My\\ Drive/Mehang\\ Rai/analysis/7/cifar100-fine/1/"
      ],
      "execution_count": null,
      "outputs": []
    },
    {
      "cell_type": "code",
      "metadata": {
        "id": "jBh6gmSBcfdA"
      },
      "source": [
        "!cp cifar100-fine-1-channelwise-gabor-random-filters-kernel-7.png /content/drive/My\\ Drive/Mehang\\ Rai/analysis/7/cifar100-fine/1/"
      ],
      "execution_count": null,
      "outputs": []
    },
    {
      "cell_type": "code",
      "metadata": {
        "id": "9oXvuao-cfXI"
      },
      "source": [
        ""
      ],
      "execution_count": null,
      "outputs": []
    }
  ]
}