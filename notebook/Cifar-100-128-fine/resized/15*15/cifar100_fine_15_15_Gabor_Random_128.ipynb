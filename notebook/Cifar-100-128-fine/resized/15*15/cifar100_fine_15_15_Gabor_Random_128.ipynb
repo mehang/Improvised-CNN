{
  "nbformat": 4,
  "nbformat_minor": 0,
  "metadata": {
    "colab": {
      "name": "cifar100_fine-15*15-Gabor-Random-128.ipynb",
      "provenance": [],
      "authorship_tag": "ABX9TyMYYNdDg3Z0XprFKJJ/nwLx",
      "include_colab_link": true
    },
    "kernelspec": {
      "name": "python3",
      "display_name": "Python 3"
    },
    "accelerator": "GPU"
  },
  "cells": [
    {
      "cell_type": "markdown",
      "metadata": {
        "id": "view-in-github",
        "colab_type": "text"
      },
      "source": [
        "<a href=\"https://colab.research.google.com/github/mehang/Improvised-CNN/blob/master/notebook/Cifar-100-128-fine/resized/15*15/cifar100_fine_15_15_Gabor_Random_128.ipynb\" target=\"_parent\"><img src=\"https://colab.research.google.com/assets/colab-badge.svg\" alt=\"Open In Colab\"/></a>"
      ]
    },
    {
      "cell_type": "code",
      "metadata": {
        "colab": {
          "base_uri": "https://localhost:8080/"
        },
        "id": "XPXuQbaiDa0K",
        "outputId": "b8635feb-4bd0-49df-db8e-fc727c74c5c3"
      },
      "source": [
        "from google.colab import drive\n",
        "drive.mount('/content/drive')"
      ],
      "execution_count": 1,
      "outputs": [
        {
          "output_type": "stream",
          "text": [
            "Mounted at /content/drive\n"
          ],
          "name": "stdout"
        }
      ]
    },
    {
      "cell_type": "code",
      "metadata": {
        "id": "cd1FEWQfDoUa"
      },
      "source": [
        "import matplotlib.pyplot as plt\n",
        "import numpy as np\n",
        "import os\n",
        "import PIL\n",
        "import tensorflow as tf\n",
        "import pandas as pd\n",
        "\n",
        "from tensorflow import keras\n",
        "from tensorflow.keras import layers\n",
        "from tensorflow.keras.models import Sequential\n",
        "from tensorflow.keras.preprocessing.image import ImageDataGenerator\n",
        "import pathlib\n",
        "import time\n",
        "\n",
        "from tensorflow.keras.preprocessing.image import ImageDataGenerator, load_img\n",
        "from tensorflow.keras.utils import to_categorical\n",
        "from sklearn.model_selection import train_test_split\n"
      ],
      "execution_count": 2,
      "outputs": []
    },
    {
      "cell_type": "code",
      "metadata": {
        "id": "ssHK5WQFDvhv"
      },
      "source": [
        "!unzip /content/drive/My\\ Drive/Mehang\\ Rai/cifar100_128_fine.zip -d cifar100_128_fine"
      ],
      "execution_count": null,
      "outputs": []
    },
    {
      "cell_type": "code",
      "metadata": {
        "id": "5bPIhegcDw3X"
      },
      "source": [
        "ITERATION = 1\n",
        "IMAGE_WIDTH=128\n",
        "IMAGE_HEIGHT=128\n",
        "IMAGE_SIZE=(IMAGE_WIDTH, IMAGE_HEIGHT)\n",
        "IMAGE_CHANNELS=3\n",
        "RANDOM_SEED = [42, 42, 57, 48, 86, 7, 15, 28, 39, 52][ITERATION-1]\n",
        "BATCH_SIZE = 32\n",
        "NUM_CLASSES = 100\n",
        "EPOCHS = 1000\n",
        "GABOR_LAYER_INDEX = 0\n",
        "GABOR_WIDTH = 15\n",
        "GABOR_HEIGHT = 15\n",
        "GABOR_SIZE = (GABOR_WIDTH, GABOR_HEIGHT)\n",
        "NUM_RECEPTIVE_FILTERS = 32\n",
        "TRAIN_DIR = \"cifar100_128_fine/cifar100_128_fine/train/\"\n",
        "TEST_DIR = \"cifar100_128_fine/cifar100_128_fine/test/\"\n",
        "# TEST_DIR = \"cifar100_128_fine/cifar100_128_fine/train/\"\n",
        "# TRAIN_DIR = \"cifar100_128_fine/cifar100_128_fine/test/\""
      ],
      "execution_count": 16,
      "outputs": []
    },
    {
      "cell_type": "code",
      "metadata": {
        "id": "3IIZkuuVDzB2"
      },
      "source": [
        "filenames = os.listdir(TRAIN_DIR)\n",
        "categories = []\n",
        "for filename in filenames:\n",
        "    category = filename.split('.')[0]\n",
        "    categories.append(category)\n",
        "\n",
        "train_df = pd.DataFrame({\n",
        "    'filename': filenames,\n",
        "    'category': categories\n",
        "})\n",
        "\n",
        "filenames = os.listdir(TEST_DIR)\n",
        "categories = []\n",
        "for filename in filenames:\n",
        "    category = filename.split('.')[0]\n",
        "    categories.append(category)\n",
        "\n",
        "validate_df = pd.DataFrame({\n",
        "    'filename': filenames,\n",
        "    'category': categories\n",
        "})"
      ],
      "execution_count": 17,
      "outputs": []
    },
    {
      "cell_type": "code",
      "metadata": {
        "id": "U-91Csg_D0tO"
      },
      "source": [
        "train_df = train_df.reset_index(drop=True)\n",
        "validate_df = validate_df.reset_index(drop=True)\n",
        "total_train = train_df.shape[0]\n",
        "total_validate = validate_df.shape[0]"
      ],
      "execution_count": 18,
      "outputs": []
    },
    {
      "cell_type": "code",
      "metadata": {
        "colab": {
          "base_uri": "https://localhost:8080/",
          "height": 371
        },
        "id": "tdWlejaeD18Y",
        "outputId": "7b0aff8f-f1ed-40c6-84d5-421ce4a59b2d"
      },
      "source": [
        "train_df['category'].value_counts().plot.bar()"
      ],
      "execution_count": 19,
      "outputs": [
        {
          "output_type": "execute_result",
          "data": {
            "text/plain": [
              "<matplotlib.axes._subplots.AxesSubplot at 0x7fb68bedc2e8>"
            ]
          },
          "metadata": {
            "tags": []
          },
          "execution_count": 19
        },
        {
          "output_type": "display_data",
          "data": {
            "image/png": "[encoded data removed]",
            "text/plain": [
              "<Figure size 432x288 with 1 Axes>"
            ]
          },
          "metadata": {
            "tags": [],
            "needs_background": "light"
          }
        }
      ]
    },
    {
      "cell_type": "code",
      "metadata": {
        "colab": {
          "base_uri": "https://localhost:8080/",
          "height": 371
        },
        "id": "lj9mg0kED3P9",
        "outputId": "4e1afb5e-f4c6-4a93-e98c-ea5a3f85bc16"
      },
      "source": [
        "validate_df['category'].value_counts().plot.bar()"
      ],
      "execution_count": 20,
      "outputs": [
        {
          "output_type": "execute_result",
          "data": {
            "text/plain": [
              "<matplotlib.axes._subplots.AxesSubplot at 0x7fb68c03efd0>"
            ]
          },
          "metadata": {
            "tags": []
          },
          "execution_count": 20
        },
        {
          "output_type": "display_data",
          "data": {
            "image/png": "[encoded data removed]",
            "text/plain": [
              "<Figure size 432x288 with 1 Axes>"
            ]
          },
          "metadata": {
            "tags": [],
            "needs_background": "light"
          }
        }
      ]
    },
    {
      "cell_type": "code",
      "metadata": {
        "colab": {
          "base_uri": "https://localhost:8080/"
        },
        "id": "ZAizGVG9D4_t",
        "outputId": "197c3777-7510-4092-cba8-7a1b7f71c317"
      },
      "source": [
        "train_datagen = ImageDataGenerator(\n",
        "    # rotation_range=40,\n",
        "    # width_shift_range=0.2,\n",
        "    # height_shift_range=0.2,\n",
        "    # shear_range=0.2,\n",
        "    # zoom_range=0.2,\n",
        "    # horizontal_flip=True,\n",
        "    rescale=1./255,\n",
        ")\n",
        "train_generator = train_datagen.flow_from_dataframe(\n",
        "    train_df, \n",
        "    TRAIN_DIR, \n",
        "    x_col='filename',\n",
        "    y_col='category',\n",
        "    target_size=IMAGE_SIZE,\n",
        "    class_mode='categorical',\n",
        "    batch_size=BATCH_SIZE\n",
        ")"
      ],
      "execution_count": 21,
      "outputs": [
        {
          "output_type": "stream",
          "text": [
            "Found 50000 validated image filenames belonging to 100 classes.\n"
          ],
          "name": "stdout"
        }
      ]
    },
    {
      "cell_type": "code",
      "metadata": {
        "colab": {
          "base_uri": "https://localhost:8080/"
        },
        "id": "FB4g4JqsD6qV",
        "outputId": "a6b9ec2d-d128-4704-fa7e-8ce38d6d5c52"
      },
      "source": [
        "validation_datagen = ImageDataGenerator(rescale=1./255)\n",
        "validation_generator = validation_datagen.flow_from_dataframe(\n",
        "    validate_df, \n",
        "    TEST_DIR, \n",
        "    x_col='filename',\n",
        "    y_col='category',\n",
        "    target_size=IMAGE_SIZE,\n",
        "    class_mode='categorical',\n",
        "    batch_size=BATCH_SIZE\n",
        ")"
      ],
      "execution_count": 22,
      "outputs": [
        {
          "output_type": "stream",
          "text": [
            "Found 10000 validated image filenames belonging to 100 classes.\n"
          ],
          "name": "stdout"
        }
      ]
    },
    {
      "cell_type": "code",
      "metadata": {
        "colab": {
          "base_uri": "https://localhost:8080/"
        },
        "id": "SBY7UmC3D8hU",
        "outputId": "3ceb5f72-f7a6-4ade-e7a1-ec4cc4d5500f"
      },
      "source": [
        "print(train_df.shape)\n",
        "print(validate_df.shape)"
      ],
      "execution_count": 23,
      "outputs": [
        {
          "output_type": "stream",
          "text": [
            "(50000, 2)\n",
            "(10000, 2)\n"
          ],
          "name": "stdout"
        }
      ]
    },
    {
      "cell_type": "code",
      "metadata": {
        "colab": {
          "base_uri": "https://localhost:8080/"
        },
        "id": "_HzRZAClD-GE",
        "outputId": "52bfbf20-538b-40cf-8e95-d87c33c852ec"
      },
      "source": [
        "train_generator.image_shape"
      ],
      "execution_count": 24,
      "outputs": [
        {
          "output_type": "execute_result",
          "data": {
            "text/plain": [
              "(128, 128, 3)"
            ]
          },
          "metadata": {
            "tags": []
          },
          "execution_count": 24
        }
      ]
    },
    {
      "cell_type": "code",
      "metadata": {
        "colab": {
          "base_uri": "https://localhost:8080/"
        },
        "id": "J8H9gmtxD_b8",
        "outputId": "39c9aa53-d171-4eb1-85b1-71c14ddf861f"
      },
      "source": [
        "NUM_CLASSES = len(train_df['category'].value_counts())\n",
        "print(NUM_CLASSES)"
      ],
      "execution_count": 25,
      "outputs": [
        {
          "output_type": "stream",
          "text": [
            "100\n"
          ],
          "name": "stdout"
        }
      ]
    },
    {
      "cell_type": "code",
      "metadata": {
        "colab": {
          "base_uri": "https://localhost:8080/"
        },
        "id": "1c86Ra98TMPE",
        "outputId": "460ae95b-04d3-4575-82e5-90106343ce88"
      },
      "source": [
        "# Importing the Keras libraries and packages\n",
        "from tensorflow.keras.layers import Conv2D, MaxPooling2D, Flatten, Activation\n",
        "from tensorflow.keras.layers import Input, Dense, Dropout, BatchNormalization\n",
        "from tensorflow.keras.models import Model\n",
        "from tensorflow.keras.optimizers import RMSprop, Adam\n",
        "from tensorflow.keras.models import Sequential\n",
        "from tensorflow.keras import layers\n",
        "from tensorflow.keras.callbacks import EarlyStopping, ReduceLROnPlateau\n",
        "\n",
        "classifier = None\n",
        "classifier = Sequential([\n",
        "    layers.Conv2D(NUM_RECEPTIVE_FILTERS, kernel_size=GABOR_SIZE, strides=(1,1), padding='same', input_shape=(IMAGE_WIDTH, IMAGE_HEIGHT, 3)),\n",
        "    layers.BatchNormalization(),\n",
        "    layers.Activation(\"relu\"),\n",
        "    layers.MaxPooling2D(pool_size=(2,2)),\n",
        "    Dropout(0.5),\n",
        "    layers.Conv2D(128, kernel_size=(3,3), padding='same', strides=(1,1)),\n",
        "    layers.BatchNormalization(),\n",
        "    layers.Activation(\"relu\"),\n",
        "    layers.MaxPooling2D(pool_size=(2,2)),\n",
        "    Dropout(0.4),\n",
        "    layers.Conv2D(256, kernel_size=(3,3), padding='same', strides=(1,1)),\n",
        "    layers.BatchNormalization(),\n",
        "    layers.Activation(\"relu\"),\n",
        "    layers.MaxPooling2D(pool_size=(2,2)),\n",
        "    Dropout(0.3),\n",
        "    layers.Conv2D(512, kernel_size=(3,3), padding='same', strides=(1,1)),\n",
        "    layers.BatchNormalization(),\n",
        "    layers.Activation(\"relu\"),\n",
        "    layers.MaxPooling2D(pool_size=(2,2)),\n",
        "    Dropout(0.2),\n",
        "    layers.Conv2D(512, kernel_size=(3,3), padding='same', strides=(1,1)),\n",
        "    layers.BatchNormalization(),\n",
        "    layers.Activation(\"relu\"),\n",
        "    layers.MaxPooling2D(pool_size=(2,2)),\n",
        "    layers.Flatten(),\n",
        "    Dropout(0.1),\n",
        "    layers.Dense(4096),\n",
        "    layers.Activation(\"relu\"),\n",
        "    layers.BatchNormalization(),\n",
        "    Dropout(0.1),\n",
        "    layers.Dense(4096),\n",
        "    layers.Activation(\"relu\"),\n",
        "    layers.BatchNormalization(),\n",
        "    Dropout(0.1),\n",
        "    layers.Dense(NUM_CLASSES, activation='softmax')\n",
        "])\n",
        "\n",
        "classifier.summary()\n",
        "\n",
        "import copy\n",
        "untrained_layers = copy.deepcopy([classifier.get_layer(name=classifier.layers[GABOR_LAYER_INDEX].name).get_weights(),\n",
        "                                  classifier.get_layer(name=classifier.layers[GABOR_LAYER_INDEX+1].name).get_weights()])\n",
        "\n",
        "\n",
        "reduce_lr = ReduceLROnPlateau(monitor='val_loss', factor=0.5, patience=10,  \n",
        "                              min_delta=1e-4, mode='min', verbose=1)\n",
        "stop_alg = EarlyStopping(monitor='val_loss', patience=35, \n",
        "                         restore_best_weights=True, verbose=1)\n",
        "callbacks = [stop_alg, reduce_lr]\n",
        "opt = Adam(learning_rate=0.001)\n",
        "classifier.compile(loss='categorical_crossentropy', optimizer=opt, metrics=['accuracy', 'AUC'])\n",
        "\n",
        "start = time.perf_counter()\n",
        "hist = classifier.fit(\n",
        "    train_generator, \n",
        "    epochs=EPOCHS,\n",
        "    validation_data=validation_generator,\n",
        "    validation_steps=total_validate//BATCH_SIZE,\n",
        "    steps_per_epoch=total_train//BATCH_SIZE,\n",
        "    callbacks=callbacks\n",
        ")\n",
        "finish = time.perf_counter()"
      ],
      "execution_count": 26,
      "outputs": [
        {
          "output_type": "stream",
          "text": [
            "Model: \"sequential_1\"\n",
            "_________________________________________________________________\n",
            "Layer (type)                 Output Shape              Param #   \n",
            "=================================================================\n",
            "conv2d_5 (Conv2D)            (None, 128, 128, 32)      21632     \n",
            "_________________________________________________________________\n",
            "batch_normalization_7 (Batch (None, 128, 128, 32)      128       \n",
            "_________________________________________________________________\n",
            "activation_7 (Activation)    (None, 128, 128, 32)      0         \n",
            "_________________________________________________________________\n",
            "max_pooling2d_5 (MaxPooling2 (None, 64, 64, 32)        0         \n",
            "_________________________________________________________________\n",
            "dropout_7 (Dropout)          (None, 64, 64, 32)        0         \n",
            "_________________________________________________________________\n",
            "conv2d_6 (Conv2D)            (None, 64, 64, 128)       36992     \n",
            "_________________________________________________________________\n",
            "batch_normalization_8 (Batch (None, 64, 64, 128)       512       \n",
            "_________________________________________________________________\n",
            "activation_8 (Activation)    (None, 64, 64, 128)       0         \n",
            "_________________________________________________________________\n",
            "max_pooling2d_6 (MaxPooling2 (None, 32, 32, 128)       0         \n",
            "_________________________________________________________________\n",
            "dropout_8 (Dropout)          (None, 32, 32, 128)       0         \n",
            "_________________________________________________________________\n",
            "conv2d_7 (Conv2D)            (None, 32, 32, 256)       295168    \n",
            "_________________________________________________________________\n",
            "batch_normalization_9 (Batch (None, 32, 32, 256)       1024      \n",
            "_________________________________________________________________\n",
            "activation_9 (Activation)    (None, 32, 32, 256)       0         \n",
            "_________________________________________________________________\n",
            "max_pooling2d_7 (MaxPooling2 (None, 16, 16, 256)       0         \n",
            "_________________________________________________________________\n",
            "dropout_9 (Dropout)          (None, 16, 16, 256)       0         \n",
            "_________________________________________________________________\n",
            "conv2d_8 (Conv2D)            (None, 16, 16, 512)       1180160   \n",
            "_________________________________________________________________\n",
            "batch_normalization_10 (Batc (None, 16, 16, 512)       2048      \n",
            "_________________________________________________________________\n",
            "activation_10 (Activation)   (None, 16, 16, 512)       0         \n",
            "_________________________________________________________________\n",
            "max_pooling2d_8 (MaxPooling2 (None, 8, 8, 512)         0         \n",
            "_________________________________________________________________\n",
            "dropout_10 (Dropout)         (None, 8, 8, 512)         0         \n",
            "_________________________________________________________________\n",
            "conv2d_9 (Conv2D)            (None, 8, 8, 512)         2359808   \n",
            "_________________________________________________________________\n",
            "batch_normalization_11 (Batc (None, 8, 8, 512)         2048      \n",
            "_________________________________________________________________\n",
            "activation_11 (Activation)   (None, 8, 8, 512)         0         \n",
            "_________________________________________________________________\n",
            "max_pooling2d_9 (MaxPooling2 (None, 4, 4, 512)         0         \n",
            "_________________________________________________________________\n",
            "flatten_1 (Flatten)          (None, 8192)              0         \n",
            "_________________________________________________________________\n",
            "dropout_11 (Dropout)         (None, 8192)              0         \n",
            "_________________________________________________________________\n",
            "dense_3 (Dense)              (None, 4096)              33558528  \n",
            "_________________________________________________________________\n",
            "activation_12 (Activation)   (None, 4096)              0         \n",
            "_________________________________________________________________\n",
            "batch_normalization_12 (Batc (None, 4096)              16384     \n",
            "_________________________________________________________________\n",
            "dropout_12 (Dropout)         (None, 4096)              0         \n",
            "_________________________________________________________________\n",
            "dense_4 (Dense)              (None, 4096)              16781312  \n",
            "_________________________________________________________________\n",
            "activation_13 (Activation)   (None, 4096)              0         \n",
            "_________________________________________________________________\n",
            "batch_normalization_13 (Batc (None, 4096)              16384     \n",
            "_________________________________________________________________\n",
            "dropout_13 (Dropout)         (None, 4096)              0         \n",
            "_________________________________________________________________\n",
            "dense_5 (Dense)              (None, 100)               409700    \n",
            "=================================================================\n",
            "Total params: 54,681,828\n",
            "Trainable params: 54,662,564\n",
            "Non-trainable params: 19,264\n",
            "_________________________________________________________________\n",
            "Epoch 1/1000\n",
            "1562/1562 [==============================] - 64s 40ms/step - loss: 5.8238 - accuracy: 0.0501 - auc: 0.6439 - val_loss: 4.7125 - val_accuracy: 0.0689 - val_auc: 0.6989\n",
            "Epoch 2/1000\n",
            "1562/1562 [==============================] - 62s 40ms/step - loss: 3.9447 - accuracy: 0.1466 - auc: 0.7976 - val_loss: 3.6361 - val_accuracy: 0.1624 - val_auc: 0.8235\n",
            "Epoch 3/1000\n",
            "1562/1562 [==============================] - 62s 40ms/step - loss: 3.0039 - accuracy: 0.2581 - auc: 0.8886 - val_loss: 2.8925 - val_accuracy: 0.2864 - val_auc: 0.8975\n",
            "Epoch 4/1000\n",
            "1562/1562 [==============================] - 63s 40ms/step - loss: 2.5448 - accuracy: 0.3466 - auc: 0.9228 - val_loss: 2.6864 - val_accuracy: 0.3302 - val_auc: 0.9090\n",
            "Epoch 5/1000\n",
            "1562/1562 [==============================] - 62s 40ms/step - loss: 2.2892 - accuracy: 0.3970 - auc: 0.9391 - val_loss: 2.5504 - val_accuracy: 0.3572 - val_auc: 0.9208\n",
            "Epoch 6/1000\n",
            "1562/1562 [==============================] - 63s 40ms/step - loss: 2.0584 - accuracy: 0.4470 - auc: 0.9492 - val_loss: 2.7547 - val_accuracy: 0.3546 - val_auc: 0.9027\n",
            "Epoch 7/1000\n",
            "1562/1562 [==============================] - 63s 40ms/step - loss: 1.8765 - accuracy: 0.4874 - auc: 0.9576 - val_loss: 2.7813 - val_accuracy: 0.3331 - val_auc: 0.8964\n",
            "Epoch 8/1000\n",
            "1562/1562 [==============================] - 63s 40ms/step - loss: 1.7128 - accuracy: 0.5248 - auc: 0.9645 - val_loss: 2.4481 - val_accuracy: 0.4346 - val_auc: 0.9282\n",
            "Epoch 9/1000\n",
            "1562/1562 [==============================] - 63s 40ms/step - loss: 1.5425 - accuracy: 0.5664 - auc: 0.9703 - val_loss: 2.6060 - val_accuracy: 0.4400 - val_auc: 0.9217\n",
            "Epoch 10/1000\n",
            "1562/1562 [==============================] - 63s 40ms/step - loss: 1.3828 - accuracy: 0.6058 - auc: 0.9758 - val_loss: 2.4573 - val_accuracy: 0.4249 - val_auc: 0.9167\n",
            "Epoch 11/1000\n",
            "1562/1562 [==============================] - 62s 40ms/step - loss: 1.2333 - accuracy: 0.6404 - auc: 0.9806 - val_loss: 2.4415 - val_accuracy: 0.4235 - val_auc: 0.9131\n",
            "Epoch 12/1000\n",
            "1562/1562 [==============================] - 63s 40ms/step - loss: 1.0866 - accuracy: 0.6787 - auc: 0.9849 - val_loss: 3.1571 - val_accuracy: 0.4135 - val_auc: 0.8890\n",
            "Epoch 13/1000\n",
            "1562/1562 [==============================] - 63s 40ms/step - loss: 0.9865 - accuracy: 0.7036 - auc: 0.9868 - val_loss: 2.3904 - val_accuracy: 0.4610 - val_auc: 0.9166\n",
            "Epoch 14/1000\n",
            "1562/1562 [==============================] - 63s 40ms/step - loss: 0.8445 - accuracy: 0.7413 - auc: 0.9896 - val_loss: 2.6940 - val_accuracy: 0.4732 - val_auc: 0.9144\n",
            "Epoch 15/1000\n",
            "1562/1562 [==============================] - 63s 40ms/step - loss: 0.7441 - accuracy: 0.7677 - auc: 0.9915 - val_loss: 2.5030 - val_accuracy: 0.4716 - val_auc: 0.9120\n",
            "Epoch 16/1000\n",
            "1562/1562 [==============================] - 62s 40ms/step - loss: 0.6267 - accuracy: 0.8008 - auc: 0.9936 - val_loss: 2.8995 - val_accuracy: 0.4542 - val_auc: 0.8973\n",
            "Epoch 17/1000\n",
            "1562/1562 [==============================] - 62s 40ms/step - loss: 0.5379 - accuracy: 0.8300 - auc: 0.9945 - val_loss: 2.9436 - val_accuracy: 0.4253 - val_auc: 0.8846\n",
            "Epoch 18/1000\n",
            "1562/1562 [==============================] - 62s 40ms/step - loss: 0.4765 - accuracy: 0.8477 - auc: 0.9952 - val_loss: 2.6559 - val_accuracy: 0.4781 - val_auc: 0.9032\n",
            "Epoch 19/1000\n",
            "1562/1562 [==============================] - 62s 40ms/step - loss: 0.4200 - accuracy: 0.8646 - auc: 0.9959 - val_loss: 3.1408 - val_accuracy: 0.4879 - val_auc: 0.8873\n",
            "Epoch 20/1000\n",
            "1562/1562 [==============================] - 62s 40ms/step - loss: 0.3886 - accuracy: 0.8742 - auc: 0.9957 - val_loss: 3.2994 - val_accuracy: 0.4630 - val_auc: 0.8776\n",
            "Epoch 21/1000\n",
            "1562/1562 [==============================] - 62s 40ms/step - loss: 0.3479 - accuracy: 0.8868 - auc: 0.9963 - val_loss: 3.2182 - val_accuracy: 0.4666 - val_auc: 0.8732\n",
            "Epoch 22/1000\n",
            "1562/1562 [==============================] - 62s 40ms/step - loss: 0.3160 - accuracy: 0.8994 - auc: 0.9968 - val_loss: 3.4646 - val_accuracy: 0.4354 - val_auc: 0.8663\n",
            "Epoch 23/1000\n",
            "1562/1562 [==============================] - 62s 40ms/step - loss: 0.3108 - accuracy: 0.8990 - auc: 0.9969 - val_loss: 3.0080 - val_accuracy: 0.4922 - val_auc: 0.8779\n",
            "\n",
            "Epoch 00023: ReduceLROnPlateau reducing learning rate to 0.0005000000237487257.\n",
            "Epoch 24/1000\n",
            "1562/1562 [==============================] - 62s 40ms/step - loss: 0.1970 - accuracy: 0.9366 - auc: 0.9984 - val_loss: 2.8173 - val_accuracy: 0.5225 - val_auc: 0.8866\n",
            "Epoch 25/1000\n",
            "1562/1562 [==============================] - 62s 40ms/step - loss: 0.1342 - accuracy: 0.9553 - auc: 0.9994 - val_loss: 3.0593 - val_accuracy: 0.5059 - val_auc: 0.8740\n",
            "Epoch 26/1000\n",
            "1562/1562 [==============================] - 62s 40ms/step - loss: 0.1188 - accuracy: 0.9610 - auc: 0.9992 - val_loss: 2.9513 - val_accuracy: 0.5156 - val_auc: 0.8792\n",
            "Epoch 27/1000\n",
            "1562/1562 [==============================] - 62s 40ms/step - loss: 0.1070 - accuracy: 0.9644 - auc: 0.9994 - val_loss: 3.2024 - val_accuracy: 0.5091 - val_auc: 0.8685\n",
            "Epoch 28/1000\n",
            "1562/1562 [==============================] - 62s 40ms/step - loss: 0.1071 - accuracy: 0.9628 - auc: 0.9994 - val_loss: 3.1536 - val_accuracy: 0.5137 - val_auc: 0.8713\n",
            "Epoch 29/1000\n",
            "1562/1562 [==============================] - 62s 40ms/step - loss: 0.0920 - accuracy: 0.9690 - auc: 0.9994 - val_loss: 3.4936 - val_accuracy: 0.4992 - val_auc: 0.8657\n",
            "Epoch 30/1000\n",
            "1562/1562 [==============================] - 62s 40ms/step - loss: 0.0986 - accuracy: 0.9664 - auc: 0.9993 - val_loss: 3.3442 - val_accuracy: 0.4865 - val_auc: 0.8608\n",
            "Epoch 31/1000\n",
            "1562/1562 [==============================] - 62s 40ms/step - loss: 0.0921 - accuracy: 0.9701 - auc: 0.9991 - val_loss: 3.1950 - val_accuracy: 0.5191 - val_auc: 0.8701\n",
            "Epoch 32/1000\n",
            "1562/1562 [==============================] - 62s 40ms/step - loss: 0.0909 - accuracy: 0.9715 - auc: 0.9991 - val_loss: 3.2831 - val_accuracy: 0.5235 - val_auc: 0.8667\n",
            "Epoch 33/1000\n",
            "1562/1562 [==============================] - 62s 40ms/step - loss: 0.0838 - accuracy: 0.9723 - auc: 0.9995 - val_loss: 3.3022 - val_accuracy: 0.5132 - val_auc: 0.8658\n",
            "\n",
            "Epoch 00033: ReduceLROnPlateau reducing learning rate to 0.0002500000118743628.\n",
            "Epoch 34/1000\n",
            "1562/1562 [==============================] - 62s 40ms/step - loss: 0.0666 - accuracy: 0.9775 - auc: 0.9996 - val_loss: 3.1456 - val_accuracy: 0.5314 - val_auc: 0.8718\n",
            "Epoch 35/1000\n",
            "1562/1562 [==============================] - 62s 39ms/step - loss: 0.0496 - accuracy: 0.9842 - auc: 0.9997 - val_loss: 3.3222 - val_accuracy: 0.5291 - val_auc: 0.8695\n",
            "Epoch 36/1000\n",
            "1562/1562 [==============================] - 62s 40ms/step - loss: 0.0446 - accuracy: 0.9862 - auc: 0.9998 - val_loss: 3.2713 - val_accuracy: 0.5283 - val_auc: 0.8702\n",
            "Epoch 37/1000\n",
            "1562/1562 [==============================] - 62s 40ms/step - loss: 0.0402 - accuracy: 0.9871 - auc: 0.9998 - val_loss: 3.3425 - val_accuracy: 0.5255 - val_auc: 0.8666\n",
            "Epoch 38/1000\n",
            "1562/1562 [==============================] - 62s 40ms/step - loss: 0.0394 - accuracy: 0.9872 - auc: 0.9998 - val_loss: 3.4646 - val_accuracy: 0.5301 - val_auc: 0.8651\n",
            "Epoch 39/1000\n",
            "1562/1562 [==============================] - 62s 40ms/step - loss: 0.0392 - accuracy: 0.9874 - auc: 0.9996 - val_loss: 3.3089 - val_accuracy: 0.5393 - val_auc: 0.8660\n",
            "Epoch 40/1000\n",
            "1562/1562 [==============================] - 62s 40ms/step - loss: 0.0345 - accuracy: 0.9888 - auc: 0.9998 - val_loss: 3.6161 - val_accuracy: 0.5207 - val_auc: 0.8612\n",
            "Epoch 41/1000\n",
            "1562/1562 [==============================] - 62s 40ms/step - loss: 0.0324 - accuracy: 0.9895 - auc: 0.9998 - val_loss: 3.4176 - val_accuracy: 0.5307 - val_auc: 0.8677\n",
            "Epoch 42/1000\n",
            "1562/1562 [==============================] - 63s 40ms/step - loss: 0.0340 - accuracy: 0.9891 - auc: 0.9997 - val_loss: 3.3861 - val_accuracy: 0.5277 - val_auc: 0.8653\n",
            "Epoch 43/1000\n",
            "1562/1562 [==============================] - 63s 40ms/step - loss: 0.0335 - accuracy: 0.9897 - auc: 0.9996 - val_loss: 3.4127 - val_accuracy: 0.5288 - val_auc: 0.8626\n",
            "\n",
            "Epoch 00043: ReduceLROnPlateau reducing learning rate to 0.0001250000059371814.\n",
            "Epoch 44/1000\n",
            "1562/1562 [==============================] - 62s 40ms/step - loss: 0.0280 - accuracy: 0.9905 - auc: 0.9999 - val_loss: 3.3645 - val_accuracy: 0.5402 - val_auc: 0.8657\n",
            "Epoch 45/1000\n",
            "1562/1562 [==============================] - 62s 40ms/step - loss: 0.0245 - accuracy: 0.9922 - auc: 0.9998 - val_loss: 3.3921 - val_accuracy: 0.5341 - val_auc: 0.8647\n",
            "Epoch 46/1000\n",
            "1562/1562 [==============================] - 62s 40ms/step - loss: 0.0202 - accuracy: 0.9937 - auc: 0.9999 - val_loss: 3.3539 - val_accuracy: 0.5392 - val_auc: 0.8669\n",
            "Epoch 47/1000\n",
            "1562/1562 [==============================] - 62s 40ms/step - loss: 0.0211 - accuracy: 0.9940 - auc: 0.9999 - val_loss: 3.4274 - val_accuracy: 0.5316 - val_auc: 0.8637\n",
            "Epoch 48/1000\n",
            "1562/1562 [==============================] - 62s 40ms/step - loss: 0.0201 - accuracy: 0.9934 - auc: 0.9999 - val_loss: 3.3807 - val_accuracy: 0.5387 - val_auc: 0.8663\n",
            "Restoring model weights from the end of the best epoch.\n",
            "Epoch 00048: early stopping\n"
          ],
          "name": "stdout"
        }
      ]
    },
    {
      "cell_type": "code",
      "metadata": {
        "colab": {
          "base_uri": "https://localhost:8080/"
        },
        "id": "nVQEHYZwEA57",
        "outputId": "606bdf8d-689d-43b8-f5b7-c7437200dde2"
      },
      "source": [
        "# Importing the Keras libraries and packages\n",
        "from tensorflow.keras.layers import Conv2D, MaxPooling2D, Flatten, Activation\n",
        "from tensorflow.keras.layers import Input, Dense, Dropout, BatchNormalization\n",
        "from tensorflow.keras.models import Model\n",
        "from tensorflow.keras.optimizers import RMSprop, Adam\n",
        "from tensorflow.keras.models import Sequential\n",
        "from tensorflow.keras import layers\n",
        "from tensorflow.keras.callbacks import EarlyStopping, ReduceLROnPlateau\n",
        "\n",
        "classifier = None\n",
        "classifier = Sequential([\n",
        "    layers.Conv2D(NUM_RECEPTIVE_FILTERS, kernel_size=GABOR_SIZE, strides=(1,1), padding='same', input_shape=(IMAGE_WIDTH, IMAGE_HEIGHT, 3)),\n",
        "    layers.BatchNormalization(),\n",
        "    layers.Activation(\"relu\"),\n",
        "    layers.MaxPooling2D(pool_size=(2,2)),\n",
        "    Dropout(0.25),\n",
        "    layers.Conv2D(128, kernel_size=(3,3), padding='same', strides=(1,1)),\n",
        "    layers.BatchNormalization(),\n",
        "    layers.Activation(\"relu\"),\n",
        "    layers.MaxPooling2D(pool_size=(2,2)),\n",
        "    Dropout(0.25),\n",
        "    layers.Conv2D(256, kernel_size=(3,3), padding='same', strides=(1,1)),\n",
        "    layers.BatchNormalization(),\n",
        "    layers.Activation(\"relu\"),\n",
        "    layers.MaxPooling2D(pool_size=(2,2)),\n",
        "    Dropout(0.25),\n",
        "    layers.Conv2D(512, kernel_size=(3,3), padding='same', strides=(1,1)),\n",
        "    layers.BatchNormalization(),\n",
        "    layers.Activation(\"relu\"),\n",
        "    layers.MaxPooling2D(pool_size=(2,2)),\n",
        "    Dropout(0.25),\n",
        "    layers.Conv2D(512, kernel_size=(3,3), padding='same', strides=(1,1)),\n",
        "    layers.BatchNormalization(),\n",
        "    layers.Activation(\"relu\"),\n",
        "    layers.MaxPooling2D(pool_size=(2,2)),\n",
        "    layers.Flatten(),\n",
        "    Dropout(0.25),\n",
        "    layers.Dense(4096),\n",
        "    layers.Activation(\"relu\"),\n",
        "    layers.BatchNormalization(),\n",
        "    Dropout(0.25),\n",
        "    layers.Dense(4096),\n",
        "    layers.Activation(\"relu\"),\n",
        "    layers.BatchNormalization(),\n",
        "    Dropout(0.25),\n",
        "    layers.Dense(NUM_CLASSES, activation='softmax')\n",
        "])\n",
        "\n",
        "classifier.summary()\n",
        "\n",
        "import copy\n",
        "untrained_layers = copy.deepcopy([classifier.get_layer(name=classifier.layers[GABOR_LAYER_INDEX].name).get_weights(),\n",
        "                                  classifier.get_layer(name=classifier.layers[GABOR_LAYER_INDEX+1].name).get_weights()])\n"
      ],
      "execution_count": 14,
      "outputs": [
        {
          "output_type": "stream",
          "text": [
            "Model: \"sequential\"\n",
            "_________________________________________________________________\n",
            "Layer (type)                 Output Shape              Param #   \n",
            "=================================================================\n",
            "conv2d (Conv2D)              (None, 128, 128, 32)      21632     \n",
            "_________________________________________________________________\n",
            "batch_normalization (BatchNo (None, 128, 128, 32)      128       \n",
            "_________________________________________________________________\n",
            "activation (Activation)      (None, 128, 128, 32)      0         \n",
            "_________________________________________________________________\n",
            "max_pooling2d (MaxPooling2D) (None, 64, 64, 32)        0         \n",
            "_________________________________________________________________\n",
            "dropout (Dropout)            (None, 64, 64, 32)        0         \n",
            "_________________________________________________________________\n",
            "conv2d_1 (Conv2D)            (None, 64, 64, 128)       36992     \n",
            "_________________________________________________________________\n",
            "batch_normalization_1 (Batch (None, 64, 64, 128)       512       \n",
            "_________________________________________________________________\n",
            "activation_1 (Activation)    (None, 64, 64, 128)       0         \n",
            "_________________________________________________________________\n",
            "max_pooling2d_1 (MaxPooling2 (None, 32, 32, 128)       0         \n",
            "_________________________________________________________________\n",
            "dropout_1 (Dropout)          (None, 32, 32, 128)       0         \n",
            "_________________________________________________________________\n",
            "conv2d_2 (Conv2D)            (None, 32, 32, 256)       295168    \n",
            "_________________________________________________________________\n",
            "batch_normalization_2 (Batch (None, 32, 32, 256)       1024      \n",
            "_________________________________________________________________\n",
            "activation_2 (Activation)    (None, 32, 32, 256)       0         \n",
            "_________________________________________________________________\n",
            "max_pooling2d_2 (MaxPooling2 (None, 16, 16, 256)       0         \n",
            "_________________________________________________________________\n",
            "dropout_2 (Dropout)          (None, 16, 16, 256)       0         \n",
            "_________________________________________________________________\n",
            "conv2d_3 (Conv2D)            (None, 16, 16, 512)       1180160   \n",
            "_________________________________________________________________\n",
            "batch_normalization_3 (Batch (None, 16, 16, 512)       2048      \n",
            "_________________________________________________________________\n",
            "activation_3 (Activation)    (None, 16, 16, 512)       0         \n",
            "_________________________________________________________________\n",
            "max_pooling2d_3 (MaxPooling2 (None, 8, 8, 512)         0         \n",
            "_________________________________________________________________\n",
            "dropout_3 (Dropout)          (None, 8, 8, 512)         0         \n",
            "_________________________________________________________________\n",
            "conv2d_4 (Conv2D)            (None, 8, 8, 512)         2359808   \n",
            "_________________________________________________________________\n",
            "batch_normalization_4 (Batch (None, 8, 8, 512)         2048      \n",
            "_________________________________________________________________\n",
            "activation_4 (Activation)    (None, 8, 8, 512)         0         \n",
            "_________________________________________________________________\n",
            "max_pooling2d_4 (MaxPooling2 (None, 4, 4, 512)         0         \n",
            "_________________________________________________________________\n",
            "flatten (Flatten)            (None, 8192)              0         \n",
            "_________________________________________________________________\n",
            "dropout_4 (Dropout)          (None, 8192)              0         \n",
            "_________________________________________________________________\n",
            "dense (Dense)                (None, 4096)              33558528  \n",
            "_________________________________________________________________\n",
            "activation_5 (Activation)    (None, 4096)              0         \n",
            "_________________________________________________________________\n",
            "batch_normalization_5 (Batch (None, 4096)              16384     \n",
            "_________________________________________________________________\n",
            "dropout_5 (Dropout)          (None, 4096)              0         \n",
            "_________________________________________________________________\n",
            "dense_1 (Dense)              (None, 4096)              16781312  \n",
            "_________________________________________________________________\n",
            "activation_6 (Activation)    (None, 4096)              0         \n",
            "_________________________________________________________________\n",
            "batch_normalization_6 (Batch (None, 4096)              16384     \n",
            "_________________________________________________________________\n",
            "dropout_6 (Dropout)          (None, 4096)              0         \n",
            "_________________________________________________________________\n",
            "dense_2 (Dense)              (None, 100)               409700    \n",
            "=================================================================\n",
            "Total params: 54,681,828\n",
            "Trainable params: 54,662,564\n",
            "Non-trainable params: 19,264\n",
            "_________________________________________________________________\n"
          ],
          "name": "stdout"
        }
      ]
    },
    {
      "cell_type": "code",
      "metadata": {
        "colab": {
          "base_uri": "https://localhost:8080/"
        },
        "id": "BnyAHOaLEFtU",
        "outputId": "de3f7e92-4fbf-4509-9092-85c69c88c461"
      },
      "source": [
        "reduce_lr = ReduceLROnPlateau(monitor='val_loss', factor=0.5, patience=10,  \n",
        "                              min_delta=1e-4, mode='min', verbose=1)\n",
        "stop_alg = EarlyStopping(monitor='val_loss', patience=35, \n",
        "                         restore_best_weights=True, verbose=1)\n",
        "callbacks = [stop_alg, reduce_lr]\n",
        "opt = Adam(learning_rate=0.001)\n",
        "classifier.compile(loss='categorical_crossentropy', optimizer=opt, metrics=['accuracy', 'AUC'])\n",
        "\n",
        "start = time.perf_counter()\n",
        "hist = classifier.fit(\n",
        "    train_generator, \n",
        "    epochs=EPOCHS,\n",
        "    validation_data=validation_generator,\n",
        "    validation_steps=total_validate//BATCH_SIZE,\n",
        "    steps_per_epoch=total_train//BATCH_SIZE,\n",
        "    callbacks=callbacks\n",
        ")\n",
        "finish = time.perf_counter()"
      ],
      "execution_count": 15,
      "outputs": [
        {
          "output_type": "stream",
          "text": [
            "Epoch 1/1000\n",
            "1562/1562 [==============================] - 69s 40ms/step - loss: 5.9024 - accuracy: 0.0533 - auc: 0.6465 - val_loss: 5.6735 - val_accuracy: 0.0511 - val_auc: 0.6403\n",
            "Epoch 2/1000\n",
            "1562/1562 [==============================] - 62s 40ms/step - loss: 4.3827 - accuracy: 0.1331 - auc: 0.7801 - val_loss: 3.2145 - val_accuracy: 0.2326 - val_auc: 0.8704\n",
            "Epoch 3/1000\n",
            "1562/1562 [==============================] - 62s 40ms/step - loss: 3.1633 - accuracy: 0.2445 - auc: 0.8728 - val_loss: 3.0045 - val_accuracy: 0.2801 - val_auc: 0.8858\n",
            "Epoch 4/1000\n",
            "1562/1562 [==============================] - 62s 40ms/step - loss: 2.6754 - accuracy: 0.3213 - auc: 0.9133 - val_loss: 2.8499 - val_accuracy: 0.3174 - val_auc: 0.8892\n",
            "Epoch 5/1000\n",
            "1562/1562 [==============================] - 62s 40ms/step - loss: 2.3771 - accuracy: 0.3840 - auc: 0.9323 - val_loss: 2.3607 - val_accuracy: 0.3958 - val_auc: 0.9308\n",
            "Epoch 6/1000\n",
            "1562/1562 [==============================] - 62s 40ms/step - loss: 2.1830 - accuracy: 0.4171 - auc: 0.9428 - val_loss: 2.5256 - val_accuracy: 0.3864 - val_auc: 0.9258\n",
            "Epoch 7/1000\n",
            "1562/1562 [==============================] - 62s 40ms/step - loss: 1.9855 - accuracy: 0.4635 - auc: 0.9519 - val_loss: 2.2624 - val_accuracy: 0.4168 - val_auc: 0.9351\n",
            "Epoch 8/1000\n",
            "1562/1562 [==============================] - 62s 40ms/step - loss: 1.8105 - accuracy: 0.5016 - auc: 0.9608 - val_loss: 2.2520 - val_accuracy: 0.4372 - val_auc: 0.9328\n",
            "Epoch 9/1000\n",
            "1562/1562 [==============================] - 62s 40ms/step - loss: 1.6824 - accuracy: 0.5319 - auc: 0.9654 - val_loss: 2.2650 - val_accuracy: 0.4334 - val_auc: 0.9345\n",
            "Epoch 10/1000\n",
            "1562/1562 [==============================] - 62s 40ms/step - loss: 1.5750 - accuracy: 0.5577 - auc: 0.9685 - val_loss: 2.6224 - val_accuracy: 0.5037 - val_auc: 0.9458\n",
            "Epoch 11/1000\n",
            "1562/1562 [==============================] - 62s 40ms/step - loss: 1.4372 - accuracy: 0.5897 - auc: 0.9732 - val_loss: 2.2059 - val_accuracy: 0.4788 - val_auc: 0.9384\n",
            "Epoch 12/1000\n",
            "1562/1562 [==============================] - 62s 40ms/step - loss: 1.3005 - accuracy: 0.6217 - auc: 0.9782 - val_loss: 2.0953 - val_accuracy: 0.4940 - val_auc: 0.9404\n",
            "Epoch 13/1000\n",
            "1562/1562 [==============================] - 62s 40ms/step - loss: 1.1947 - accuracy: 0.6490 - auc: 0.9805 - val_loss: 2.2429 - val_accuracy: 0.4900 - val_auc: 0.9336\n",
            "Epoch 14/1000\n",
            "1562/1562 [==============================] - 62s 40ms/step - loss: 1.0950 - accuracy: 0.6775 - auc: 0.9831 - val_loss: 2.2436 - val_accuracy: 0.5363 - val_auc: 0.9405\n",
            "Epoch 15/1000\n",
            "1562/1562 [==============================] - 62s 40ms/step - loss: 0.9921 - accuracy: 0.7041 - auc: 0.9858 - val_loss: 2.5564 - val_accuracy: 0.4596 - val_auc: 0.9180\n",
            "Epoch 16/1000\n",
            "1562/1562 [==============================] - 62s 40ms/step - loss: 0.8971 - accuracy: 0.7284 - auc: 0.9873 - val_loss: 2.3556 - val_accuracy: 0.5349 - val_auc: 0.9290\n",
            "Epoch 17/1000\n",
            "1562/1562 [==============================] - 62s 40ms/step - loss: 0.8267 - accuracy: 0.7449 - auc: 0.9891 - val_loss: 2.2216 - val_accuracy: 0.5479 - val_auc: 0.9375\n",
            "Epoch 18/1000\n",
            "1562/1562 [==============================] - 62s 40ms/step - loss: 0.7351 - accuracy: 0.7735 - auc: 0.9909 - val_loss: 2.2505 - val_accuracy: 0.5295 - val_auc: 0.9301\n",
            "Epoch 19/1000\n",
            "1562/1562 [==============================] - 62s 39ms/step - loss: 0.6737 - accuracy: 0.7905 - auc: 0.9919 - val_loss: 2.2308 - val_accuracy: 0.5353 - val_auc: 0.9269\n",
            "Epoch 20/1000\n",
            "1562/1562 [==============================] - 62s 39ms/step - loss: 0.6108 - accuracy: 0.8079 - auc: 0.9934 - val_loss: 2.1145 - val_accuracy: 0.5371 - val_auc: 0.9250\n",
            "Epoch 21/1000\n",
            "1562/1562 [==============================] - 62s 39ms/step - loss: 0.5447 - accuracy: 0.8265 - auc: 0.9940 - val_loss: 2.6944 - val_accuracy: 0.4968 - val_auc: 0.9090\n",
            "Epoch 22/1000\n",
            "1562/1562 [==============================] - 61s 39ms/step - loss: 0.5102 - accuracy: 0.8389 - auc: 0.9945 - val_loss: 2.4968 - val_accuracy: 0.5029 - val_auc: 0.9027\n",
            "\n",
            "Epoch 00022: ReduceLROnPlateau reducing learning rate to 0.0005000000237487257.\n",
            "Epoch 23/1000\n",
            "1562/1562 [==============================] - 62s 40ms/step - loss: 0.3948 - accuracy: 0.8739 - auc: 0.9963 - val_loss: 2.0543 - val_accuracy: 0.5685 - val_auc: 0.9229\n",
            "Epoch 24/1000\n",
            "1562/1562 [==============================] - 61s 39ms/step - loss: 0.3024 - accuracy: 0.9004 - auc: 0.9978 - val_loss: 2.0434 - val_accuracy: 0.5699 - val_auc: 0.9216\n",
            "Epoch 25/1000\n",
            "1562/1562 [==============================] - 61s 39ms/step - loss: 0.2605 - accuracy: 0.9152 - auc: 0.9980 - val_loss: 2.0736 - val_accuracy: 0.5640 - val_auc: 0.9234\n",
            "Epoch 26/1000\n",
            "1562/1562 [==============================] - 61s 39ms/step - loss: 0.2467 - accuracy: 0.9173 - auc: 0.9980 - val_loss: 2.2985 - val_accuracy: 0.5598 - val_auc: 0.9098\n",
            "Epoch 27/1000\n",
            "1562/1562 [==============================] - 62s 39ms/step - loss: 0.2281 - accuracy: 0.9242 - auc: 0.9983 - val_loss: 2.2467 - val_accuracy: 0.5761 - val_auc: 0.9136\n",
            "Epoch 28/1000\n",
            "1562/1562 [==============================] - 62s 40ms/step - loss: 0.2130 - accuracy: 0.9297 - auc: 0.9982 - val_loss: 2.2456 - val_accuracy: 0.5728 - val_auc: 0.9086\n",
            "Epoch 29/1000\n",
            "1562/1562 [==============================] - 62s 39ms/step - loss: 0.1999 - accuracy: 0.9339 - auc: 0.9983 - val_loss: 2.3029 - val_accuracy: 0.5704 - val_auc: 0.9069\n",
            "Epoch 30/1000\n",
            "1562/1562 [==============================] - 62s 39ms/step - loss: 0.1949 - accuracy: 0.9355 - auc: 0.9982 - val_loss: 2.3371 - val_accuracy: 0.5530 - val_auc: 0.9051\n",
            "Epoch 31/1000\n",
            "1562/1562 [==============================] - 62s 40ms/step - loss: 0.1832 - accuracy: 0.9406 - auc: 0.9983 - val_loss: 2.3795 - val_accuracy: 0.5695 - val_auc: 0.9030\n",
            "Epoch 32/1000\n",
            "1562/1562 [==============================] - 62s 40ms/step - loss: 0.1756 - accuracy: 0.9426 - auc: 0.9981 - val_loss: 2.3129 - val_accuracy: 0.5734 - val_auc: 0.9072\n",
            "Epoch 33/1000\n",
            "1562/1562 [==============================] - 62s 40ms/step - loss: 0.1657 - accuracy: 0.9446 - auc: 0.9985 - val_loss: 2.4021 - val_accuracy: 0.5664 - val_auc: 0.9024\n",
            "Epoch 34/1000\n",
            "1562/1562 [==============================] - 62s 40ms/step - loss: 0.1608 - accuracy: 0.9474 - auc: 0.9984 - val_loss: 2.4710 - val_accuracy: 0.5660 - val_auc: 0.8995\n",
            "\n",
            "Epoch 00034: ReduceLROnPlateau reducing learning rate to 0.0002500000118743628.\n",
            "Epoch 35/1000\n",
            "1562/1562 [==============================] - 62s 40ms/step - loss: 0.1358 - accuracy: 0.9559 - auc: 0.9990 - val_loss: 2.3227 - val_accuracy: 0.5853 - val_auc: 0.9044\n",
            "Epoch 36/1000\n",
            "1562/1562 [==============================] - 62s 39ms/step - loss: 0.1151 - accuracy: 0.9613 - auc: 0.9991 - val_loss: 2.3726 - val_accuracy: 0.5902 - val_auc: 0.9033\n",
            "Epoch 37/1000\n",
            "1562/1562 [==============================] - 62s 40ms/step - loss: 0.1074 - accuracy: 0.9662 - auc: 0.9990 - val_loss: 2.3814 - val_accuracy: 0.5898 - val_auc: 0.9048\n",
            "Epoch 38/1000\n",
            "1562/1562 [==============================] - 62s 40ms/step - loss: 0.0987 - accuracy: 0.9657 - auc: 0.9993 - val_loss: 2.3610 - val_accuracy: 0.5855 - val_auc: 0.9042\n",
            "Epoch 39/1000\n",
            "1562/1562 [==============================] - 62s 40ms/step - loss: 0.0926 - accuracy: 0.9689 - auc: 0.9994 - val_loss: 2.4342 - val_accuracy: 0.5879 - val_auc: 0.9020\n",
            "Epoch 40/1000\n",
            "1562/1562 [==============================] - 62s 40ms/step - loss: 0.0944 - accuracy: 0.9687 - auc: 0.9992 - val_loss: 2.3793 - val_accuracy: 0.5879 - val_auc: 0.9031\n",
            "Epoch 41/1000\n",
            "1562/1562 [==============================] - 62s 40ms/step - loss: 0.0835 - accuracy: 0.9727 - auc: 0.9994 - val_loss: 2.3970 - val_accuracy: 0.5901 - val_auc: 0.9029\n",
            "Epoch 42/1000\n",
            "1562/1562 [==============================] - 62s 40ms/step - loss: 0.0829 - accuracy: 0.9728 - auc: 0.9994 - val_loss: 2.5459 - val_accuracy: 0.5789 - val_auc: 0.8980\n",
            "Epoch 43/1000\n",
            "1562/1562 [==============================] - 62s 40ms/step - loss: 0.0795 - accuracy: 0.9736 - auc: 0.9994 - val_loss: 2.4752 - val_accuracy: 0.5863 - val_auc: 0.8994\n",
            "Epoch 44/1000\n",
            "1562/1562 [==============================] - 62s 40ms/step - loss: 0.0813 - accuracy: 0.9738 - auc: 0.9992 - val_loss: 2.5457 - val_accuracy: 0.5849 - val_auc: 0.8968\n",
            "\n",
            "Epoch 00044: ReduceLROnPlateau reducing learning rate to 0.0001250000059371814.\n",
            "Epoch 45/1000\n",
            "1562/1562 [==============================] - 62s 40ms/step - loss: 0.0711 - accuracy: 0.9763 - auc: 0.9993 - val_loss: 2.4792 - val_accuracy: 0.5915 - val_auc: 0.8996\n",
            "Epoch 46/1000\n",
            "1562/1562 [==============================] - 62s 40ms/step - loss: 0.0641 - accuracy: 0.9777 - auc: 0.9996 - val_loss: 2.5253 - val_accuracy: 0.5910 - val_auc: 0.8986\n",
            "Epoch 47/1000\n",
            "1562/1562 [==============================] - 62s 40ms/step - loss: 0.0611 - accuracy: 0.9794 - auc: 0.9997 - val_loss: 2.4571 - val_accuracy: 0.5943 - val_auc: 0.9010\n",
            "Epoch 48/1000\n",
            "1562/1562 [==============================] - 62s 40ms/step - loss: 0.0555 - accuracy: 0.9823 - auc: 0.9997 - val_loss: 2.4826 - val_accuracy: 0.5953 - val_auc: 0.9003\n",
            "Epoch 49/1000\n",
            "1562/1562 [==============================] - 62s 40ms/step - loss: 0.0550 - accuracy: 0.9821 - auc: 0.9996 - val_loss: 2.5070 - val_accuracy: 0.5957 - val_auc: 0.8994\n",
            "Epoch 50/1000\n",
            "1562/1562 [==============================] - 62s 40ms/step - loss: 0.0520 - accuracy: 0.9827 - auc: 0.9997 - val_loss: 2.4941 - val_accuracy: 0.5976 - val_auc: 0.8985\n",
            "Epoch 51/1000\n",
            "1562/1562 [==============================] - 62s 40ms/step - loss: 0.0513 - accuracy: 0.9835 - auc: 0.9996 - val_loss: 2.4624 - val_accuracy: 0.5956 - val_auc: 0.8997\n",
            "Epoch 52/1000\n",
            "1562/1562 [==============================] - 62s 40ms/step - loss: 0.0495 - accuracy: 0.9830 - auc: 0.9997 - val_loss: 2.4954 - val_accuracy: 0.5948 - val_auc: 0.8981\n",
            "Epoch 53/1000\n",
            "1562/1562 [==============================] - 62s 40ms/step - loss: 0.0507 - accuracy: 0.9837 - auc: 0.9996 - val_loss: 2.5245 - val_accuracy: 0.5967 - val_auc: 0.8982\n",
            "Epoch 54/1000\n",
            "1562/1562 [==============================] - 62s 40ms/step - loss: 0.0491 - accuracy: 0.9843 - auc: 0.9996 - val_loss: 2.5155 - val_accuracy: 0.5962 - val_auc: 0.8981\n",
            "\n",
            "Epoch 00054: ReduceLROnPlateau reducing learning rate to 6.25000029685907e-05.\n",
            "Epoch 55/1000\n",
            "1562/1562 [==============================] - 62s 40ms/step - loss: 0.0482 - accuracy: 0.9839 - auc: 0.9996 - val_loss: 2.5221 - val_accuracy: 0.6015 - val_auc: 0.8982\n",
            "Epoch 56/1000\n",
            "1562/1562 [==============================] - 62s 40ms/step - loss: 0.0427 - accuracy: 0.9864 - auc: 0.9997 - val_loss: 2.5354 - val_accuracy: 0.6000 - val_auc: 0.8970\n",
            "Epoch 57/1000\n",
            "1562/1562 [==============================] - 62s 40ms/step - loss: 0.0416 - accuracy: 0.9857 - auc: 0.9998 - val_loss: 2.5240 - val_accuracy: 0.6033 - val_auc: 0.8977\n",
            "Epoch 58/1000\n",
            "1562/1562 [==============================] - 62s 40ms/step - loss: 0.0397 - accuracy: 0.9867 - auc: 0.9998 - val_loss: 2.5107 - val_accuracy: 0.6024 - val_auc: 0.8982\n",
            "Epoch 59/1000\n",
            "1562/1562 [==============================] - 62s 40ms/step - loss: 0.0351 - accuracy: 0.9879 - auc: 0.9999 - val_loss: 2.5340 - val_accuracy: 0.5994 - val_auc: 0.8978\n",
            "Restoring model weights from the end of the best epoch.\n",
            "Epoch 00059: early stopping\n"
          ],
          "name": "stdout"
        }
      ]
    },
    {
      "cell_type": "code",
      "metadata": {
        "id": "_LdPcA2bEcLu"
      },
      "source": [
        ""
      ],
      "execution_count": null,
      "outputs": []
    }
  ]
}