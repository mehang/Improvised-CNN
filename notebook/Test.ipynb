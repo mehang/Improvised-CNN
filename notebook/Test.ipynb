{
 "cells": [
  {
   "cell_type": "markdown",
   "metadata": {
    "colab_type": "text",
    "id": "view-in-github"
   },
   "source": [
    "<a href=\"https://colab.research.google.com/github/mehang/Improvised-CNN/blob/master/notebook/Test.ipynb\" target=\"_parent\"><img src=\"https://colab.research.google.com/assets/colab-badge.svg\" alt=\"Open In Colab\"/></a>"
   ]
  },
  {
   "cell_type": "code",
   "execution_count": 1,
   "metadata": {
    "colab": {},
    "colab_type": "code",
    "id": "-tPO1OAjGr0C"
   },
   "outputs": [],
   "source": [
    "from tensorflow.keras.datasets import cifar10\n",
    "from tensorflow.keras.utils import to_categorical\n",
    "from tensorflow.keras.layers import Conv2D, MaxPooling2D, Flatten\n",
    "from tensorflow.keras.layers import Input, Dense, Dropout, BatchNormalization\n",
    "from tensorflow.keras.models import Model\n",
    "from tensorflow.keras.optimizers import RMSprop\n",
    "from tensorflow.keras.callbacks import ReduceLROnPlateau, EarlyStopping"
   ]
  },
  {
   "cell_type": "code",
   "execution_count": 2,
   "metadata": {
    "colab": {
     "base_uri": "https://localhost:8080/",
     "height": 53
    },
    "colab_type": "code",
    "id": "5NV78Ns0Gxco",
    "outputId": "538e76f6-968b-4290-932d-a442fa1d4819"
   },
   "outputs": [
    {
     "name": "stdout",
     "output_type": "stream",
     "text": [
      "Downloading data from https://www.cs.toronto.edu/~kriz/cifar-10-python.tar.gz\n",
      "170500096/170498071 [==============================] - 8s 0us/step\n"
     ]
    }
   ],
   "source": [
    "(x_train, y_train), (x_test, y_test) = cifar10.load_data()\n",
    "x_train = x_train.astype('float32')/255\n",
    "x_test = x_test.astype('float32')/255"
   ]
  },
  {
   "cell_type": "code",
   "execution_count": 3,
   "metadata": {
    "colab": {},
    "colab_type": "code",
    "id": "q17Yi-6ELzzT"
   },
   "outputs": [],
   "source": [
    "y_train = to_categorical(y_train, num_classes=10)\n",
    "y_test = to_categorical(y_test, num_classes=10)"
   ]
  },
  {
   "cell_type": "code",
   "execution_count": 4,
   "metadata": {
    "colab": {},
    "colab_type": "code",
    "id": "3FpNwxMOL29X"
   },
   "outputs": [],
   "source": [
    "input_dim = (32,32,3)\n",
    "input_img = Input(shape=input_dim)"
   ]
  },
  {
   "cell_type": "code",
   "execution_count": 5,
   "metadata": {
    "colab": {},
    "colab_type": "code",
    "id": "AADstTWeL8CY"
   },
   "outputs": [],
   "source": [
    "cl1 = Conv2D(64, kernel_size=(3,3), strides=(1,1), padding='same',\n",
    "             input_shape=input_dim, activation='relu')(input_img)\n",
    "pl1 = MaxPooling2D(pool_size=(2,2), strides=(2,2))(cl1)\n",
    "\n",
    "cl2 = Conv2D(128, kernel_size=(3,3), strides=(1,1), padding='same', \n",
    "             activation='relu')(pl1)\n",
    "pl2 = MaxPooling2D(pool_size=(2,2), strides=(2,2))(cl2)\n",
    "\n",
    "cl3 = Conv2D(256, kernel_size=(3,3), strides=(1,1), padding='same', \n",
    "             activation='relu')(pl2)\n",
    "pl3 = MaxPooling2D(pool_size=(2,2), strides=(2,2))(cl3)\n",
    "\n",
    "cl4 = Conv2D(512, kernel_size=(3,3), strides=(1,1), padding='same', \n",
    "             activation='relu')(pl3)\n",
    "pl4 = MaxPooling2D(pool_size=(2,2), strides=(2,2))(cl4)\n",
    "\n",
    "cl5 = Conv2D(512, kernel_size=(3,3), strides=(1,1), padding='same', \n",
    "             activation='relu')(pl4)\n",
    "pl5 = MaxPooling2D(pool_size=(2,2), strides=(2,2))(cl5)"
   ]
  },
  {
   "cell_type": "code",
   "execution_count": 6,
   "metadata": {
    "colab": {},
    "colab_type": "code",
    "id": "UybJBKP0PwPH"
   },
   "outputs": [],
   "source": [
    "flat = Flatten()(pl5)\n",
    "\n",
    "fc6 = Dense(units=4096, activation='relu')(flat)\n",
    "fc7 = Dense(units=4096, activation='relu')(fc6)\n",
    "\n",
    "output = Dense(units=10, activation='softmax')(fc7)"
   ]
  },
  {
   "cell_type": "code",
   "execution_count": 7,
   "metadata": {
    "colab": {
     "base_uri": "https://localhost:8080/",
     "height": 1000
    },
    "colab_type": "code",
    "id": "pLTj2vn9QsvO",
    "outputId": "2e035e52-a4fd-4289-eaa5-d88c272581c8"
   },
   "outputs": [
    {
     "name": "stdout",
     "output_type": "stream",
     "text": [
      "Model: \"functional_1\"\n",
      "_________________________________________________________________\n",
      "Layer (type)                 Output Shape              Param #   \n",
      "=================================================================\n",
      "input_1 (InputLayer)         [(None, 32, 32, 3)]       0         \n",
      "_________________________________________________________________\n",
      "conv2d (Conv2D)              (None, 32, 32, 64)        1792      \n",
      "_________________________________________________________________\n",
      "max_pooling2d (MaxPooling2D) (None, 16, 16, 64)        0         \n",
      "_________________________________________________________________\n",
      "conv2d_1 (Conv2D)            (None, 16, 16, 64)        36928     \n",
      "_________________________________________________________________\n",
      "max_pooling2d_1 (MaxPooling2 (None, 8, 8, 64)          0         \n",
      "_________________________________________________________________\n",
      "conv2d_2 (Conv2D)            (None, 8, 8, 64)          36928     \n",
      "_________________________________________________________________\n",
      "max_pooling2d_2 (MaxPooling2 (None, 4, 4, 64)          0         \n",
      "_________________________________________________________________\n",
      "conv2d_3 (Conv2D)            (None, 4, 4, 64)          36928     \n",
      "_________________________________________________________________\n",
      "max_pooling2d_3 (MaxPooling2 (None, 2, 2, 64)          0         \n",
      "_________________________________________________________________\n",
      "conv2d_4 (Conv2D)            (None, 2, 2, 64)          36928     \n",
      "_________________________________________________________________\n",
      "max_pooling2d_4 (MaxPooling2 (None, 1, 1, 64)          0         \n",
      "_________________________________________________________________\n",
      "flatten (Flatten)            (None, 64)                0         \n",
      "_________________________________________________________________\n",
      "dense (Dense)                (None, 4096)              266240    \n",
      "_________________________________________________________________\n",
      "dense_1 (Dense)              (None, 4096)              16781312  \n",
      "_________________________________________________________________\n",
      "dense_2 (Dense)              (None, 10)                40970     \n",
      "=================================================================\n",
      "Total params: 17,238,026\n",
      "Trainable params: 17,238,026\n",
      "Non-trainable params: 0\n",
      "_________________________________________________________________\n",
      "None\n",
      "Epoch 1/1000\n",
      "500/500 [==============================] - 339s 679ms/step - loss: 0.2713 - accuracy: 0.3143 - val_loss: 0.2593 - val_accuracy: 0.3674\n",
      "Epoch 2/1000\n",
      "500/500 [==============================] - 338s 675ms/step - loss: 0.2139 - accuracy: 0.4997 - val_loss: 0.2040 - val_accuracy: 0.5333\n",
      "Epoch 3/1000\n",
      "500/500 [==============================] - 338s 676ms/step - loss: 0.1829 - accuracy: 0.5882 - val_loss: 0.1747 - val_accuracy: 0.6029\n",
      "Epoch 4/1000\n",
      "500/500 [==============================] - 337s 674ms/step - loss: 0.1617 - accuracy: 0.6444 - val_loss: 0.1670 - val_accuracy: 0.6369\n",
      "Epoch 5/1000\n",
      "500/500 [==============================] - 333s 667ms/step - loss: 0.1474 - accuracy: 0.6803 - val_loss: 0.1584 - val_accuracy: 0.6518\n",
      "Epoch 6/1000\n",
      "500/500 [==============================] - 330s 661ms/step - loss: 0.1356 - accuracy: 0.7108 - val_loss: 0.1570 - val_accuracy: 0.6675\n",
      "Epoch 7/1000\n",
      "500/500 [==============================] - 330s 661ms/step - loss: 0.1257 - accuracy: 0.7348 - val_loss: 0.1670 - val_accuracy: 0.6557\n",
      "Epoch 8/1000\n",
      "500/500 [==============================] - 331s 662ms/step - loss: 0.1185 - accuracy: 0.7464 - val_loss: 0.1593 - val_accuracy: 0.6980\n",
      "Epoch 9/1000\n",
      "500/500 [==============================] - 324s 647ms/step - loss: 0.1121 - accuracy: 0.7643 - val_loss: 0.1418 - val_accuracy: 0.7208\n",
      "Epoch 10/1000\n",
      "500/500 [==============================] - 310s 620ms/step - loss: 0.1067 - accuracy: 0.7772 - val_loss: 0.1407 - val_accuracy: 0.7248\n",
      "Epoch 11/1000\n",
      "500/500 [==============================] - 310s 621ms/step - loss: 0.1009 - accuracy: 0.7900 - val_loss: 0.1496 - val_accuracy: 0.7191\n",
      "Epoch 12/1000\n",
      "500/500 [==============================] - 311s 622ms/step - loss: 0.0972 - accuracy: 0.7998 - val_loss: 0.1698 - val_accuracy: 0.6675\n",
      "Epoch 13/1000\n",
      "500/500 [==============================] - 311s 622ms/step - loss: 0.0922 - accuracy: 0.8094 - val_loss: 0.1553 - val_accuracy: 0.7183\n",
      "Epoch 14/1000\n",
      "500/500 [==============================] - 312s 623ms/step - loss: 0.0891 - accuracy: 0.8182 - val_loss: 0.1456 - val_accuracy: 0.7308\n",
      "Epoch 15/1000\n",
      "500/500 [==============================] - 312s 623ms/step - loss: 0.0851 - accuracy: 0.8274 - val_loss: 0.1654 - val_accuracy: 0.7152\n",
      "Epoch 16/1000\n",
      "500/500 [==============================] - 312s 624ms/step - loss: 0.0832 - accuracy: 0.8334 - val_loss: 0.1505 - val_accuracy: 0.7287\n",
      "Epoch 17/1000\n",
      "500/500 [==============================] - 317s 633ms/step - loss: 0.0786 - accuracy: 0.8423 - val_loss: 0.1830 - val_accuracy: 0.7036\n",
      "Epoch 18/1000\n",
      "500/500 [==============================] - 313s 625ms/step - loss: 0.0781 - accuracy: 0.8451 - val_loss: 0.1515 - val_accuracy: 0.7265\n",
      "Epoch 19/1000\n",
      "500/500 [==============================] - 315s 631ms/step - loss: 0.0740 - accuracy: 0.8526 - val_loss: 0.1610 - val_accuracy: 0.7328\n",
      "Epoch 20/1000\n",
      "500/500 [==============================] - ETA: 0s - loss: 0.0716 - accuracy: 0.8598\n",
      "Epoch 00020: ReduceLROnPlateau reducing learning rate to 0.0005000000237487257.\n",
      "500/500 [==============================] - 310s 621ms/step - loss: 0.0716 - accuracy: 0.8598 - val_loss: 0.1719 - val_accuracy: 0.7285\n",
      "Epoch 21/1000\n",
      "500/500 [==============================] - 315s 630ms/step - loss: 0.0472 - accuracy: 0.9051 - val_loss: 0.1990 - val_accuracy: 0.7493\n",
      "Epoch 22/1000\n",
      "500/500 [==============================] - 312s 625ms/step - loss: 0.0413 - accuracy: 0.9177 - val_loss: 0.2142 - val_accuracy: 0.7486\n",
      "Epoch 23/1000\n",
      "500/500 [==============================] - 315s 631ms/step - loss: 0.0392 - accuracy: 0.9245 - val_loss: 0.2249 - val_accuracy: 0.7469\n",
      "Epoch 24/1000\n",
      "500/500 [==============================] - 312s 623ms/step - loss: 0.0369 - accuracy: 0.9292 - val_loss: 0.2001 - val_accuracy: 0.7384\n",
      "Epoch 25/1000\n",
      "500/500 [==============================] - 315s 630ms/step - loss: 0.0341 - accuracy: 0.9335 - val_loss: 0.2604 - val_accuracy: 0.7407\n",
      "Epoch 26/1000\n",
      "500/500 [==============================] - 311s 622ms/step - loss: 0.0335 - accuracy: 0.9373 - val_loss: 0.2311 - val_accuracy: 0.7328\n",
      "Epoch 27/1000\n",
      "500/500 [==============================] - 314s 629ms/step - loss: 0.0327 - accuracy: 0.9385 - val_loss: 0.2401 - val_accuracy: 0.7408\n",
      "Epoch 28/1000\n",
      "500/500 [==============================] - 311s 623ms/step - loss: 0.0306 - accuracy: 0.9422 - val_loss: 0.2624 - val_accuracy: 0.7218\n",
      "Epoch 29/1000\n",
      "500/500 [==============================] - 311s 621ms/step - loss: 0.0302 - accuracy: 0.9440 - val_loss: 0.2724 - val_accuracy: 0.7369\n",
      "Epoch 30/1000\n",
      "500/500 [==============================] - ETA: 0s - loss: 0.0291 - accuracy: 0.9467\n",
      "Epoch 00030: ReduceLROnPlateau reducing learning rate to 0.0002500000118743628.\n",
      "500/500 [==============================] - 310s 620ms/step - loss: 0.0291 - accuracy: 0.9467 - val_loss: 0.2619 - val_accuracy: 0.7317\n",
      "Epoch 31/1000\n",
      "500/500 [==============================] - 310s 621ms/step - loss: 0.0167 - accuracy: 0.9692 - val_loss: 0.3184 - val_accuracy: 0.7390\n",
      "Epoch 32/1000\n",
      "500/500 [==============================] - 310s 620ms/step - loss: 0.0136 - accuracy: 0.9748 - val_loss: 0.3564 - val_accuracy: 0.7322\n",
      "Epoch 33/1000\n",
      "500/500 [==============================] - 310s 621ms/step - loss: 0.0127 - accuracy: 0.9766 - val_loss: 0.3557 - val_accuracy: 0.7396\n",
      "Epoch 34/1000\n",
      "500/500 [==============================] - 314s 628ms/step - loss: 0.0122 - accuracy: 0.9782 - val_loss: 0.3707 - val_accuracy: 0.7422\n",
      "Epoch 35/1000\n",
      "500/500 [==============================] - 311s 622ms/step - loss: 0.0109 - accuracy: 0.9803 - val_loss: 0.4060 - val_accuracy: 0.7392\n",
      "Epoch 36/1000\n",
      "500/500 [==============================] - 315s 630ms/step - loss: 0.0108 - accuracy: 0.9807 - val_loss: 0.3998 - val_accuracy: 0.7352\n",
      "Epoch 37/1000\n",
      "500/500 [==============================] - 311s 622ms/step - loss: 0.0106 - accuracy: 0.9815 - val_loss: 0.4095 - val_accuracy: 0.7421\n",
      "Epoch 38/1000\n",
      "500/500 [==============================] - 316s 631ms/step - loss: 0.0098 - accuracy: 0.9832 - val_loss: 0.4226 - val_accuracy: 0.7393\n",
      "Epoch 39/1000\n",
      "500/500 [==============================] - 310s 621ms/step - loss: 0.0097 - accuracy: 0.9834 - val_loss: 0.4285 - val_accuracy: 0.7345\n",
      "Epoch 40/1000\n",
      "500/500 [==============================] - ETA: 0s - loss: 0.0095 - accuracy: 0.9839\n",
      "Epoch 00040: ReduceLROnPlateau reducing learning rate to 0.0001250000059371814.\n",
      "500/500 [==============================] - 315s 629ms/step - loss: 0.0095 - accuracy: 0.9839 - val_loss: 0.4097 - val_accuracy: 0.7423\n",
      "Epoch 41/1000\n",
      "500/500 [==============================] - 311s 621ms/step - loss: 0.0051 - accuracy: 0.9909 - val_loss: 0.4616 - val_accuracy: 0.7404\n",
      "Epoch 42/1000\n",
      "500/500 [==============================] - 315s 629ms/step - loss: 0.0040 - accuracy: 0.9929 - val_loss: 0.4784 - val_accuracy: 0.7400\n",
      "Epoch 43/1000\n",
      "500/500 [==============================] - 311s 622ms/step - loss: 0.0035 - accuracy: 0.9938 - val_loss: 0.4776 - val_accuracy: 0.7389\n",
      "Epoch 44/1000\n",
      "500/500 [==============================] - 315s 630ms/step - loss: 0.0032 - accuracy: 0.9942 - val_loss: 0.5068 - val_accuracy: 0.7365\n",
      "Epoch 45/1000\n",
      "500/500 [==============================] - ETA: 0s - loss: 0.0027 - accuracy: 0.9952Restoring model weights from the end of the best epoch.\n",
      "500/500 [==============================] - 311s 623ms/step - loss: 0.0027 - accuracy: 0.9952 - val_loss: 0.5218 - val_accuracy: 0.7418\n",
      "Epoch 00045: early stopping\n"
     ]
    }
   ],
   "source": [
    "classifier = Model(input_img, output)\n",
    "\n",
    "opt = RMSprop(learning_rate=0.001)\n",
    "classifier.compile(optimizer=opt, loss ='binary_crossentropy',\n",
    "                   metrics = ['accuracy'])\n",
    "print(classifier.summary())\n",
    "reduce_lr = ReduceLROnPlateau(monitor='val_loss', factor=0.5,\n",
    "                              patience=10, min_delta=1e-4,\n",
    "                              mode='min', verbose=1)\n",
    "stop_alg = EarlyStopping(monitor='val_loss', patience=35,\n",
    "                         restore_best_weights=True, verbose=1)\n",
    "\n",
    "hist = classifier.fit(x_train, y_train, batch_size=100,\n",
    "                      epochs=1000, callbacks=[stop_alg, reduce_lr],\n",
    "                      shuffle=True, validation_data=(x_test, y_test))\n",
    "classifier.save_weights(\"cnn.hdf5\")"
   ]
  },
  {
   "cell_type": "code",
   "execution_count": 8,
   "metadata": {
    "colab": {
     "base_uri": "https://localhost:8080/",
     "height": 35
    },
    "colab_type": "code",
    "id": "wv2J9j_sRY2X",
    "outputId": "3f604887-1b60-4eea-bb04-e2b00de4c486"
   },
   "outputs": [
    {
     "name": "stdout",
     "output_type": "stream",
     "text": [
      "jpt\n"
     ]
    }
   ],
   "source": [
    "  print(\"jpt\")"
   ]
  },
  {
   "cell_type": "code",
   "execution_count": null,
   "metadata": {
    "colab": {},
    "colab_type": "code",
    "id": "p-Gjen5TacVm"
   },
   "outputs": [],
   "source": []
  }
 ],
 "metadata": {
  "colab": {
   "authorship_tag": "ABX9TyNPBqhc8uyoPqBwXNwgIYpO",
   "include_colab_link": true,
   "name": "Test.ipynb",
   "provenance": []
  },
  "kernelspec": {
   "display_name": "Python 3",
   "language": "python",
   "name": "python3"
  },
  "language_info": {
   "codemirror_mode": {
    "name": "ipython",
    "version": 3
   },
   "file_extension": ".py",
   "mimetype": "text/x-python",
   "name": "python",
   "nbconvert_exporter": "python",
   "pygments_lexer": "ipython3",
   "version": "3.7.7"
  }
 },
 "nbformat": 4,
 "nbformat_minor": 1
}
