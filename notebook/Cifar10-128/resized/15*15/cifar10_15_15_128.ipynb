{
  "nbformat": 4,
  "nbformat_minor": 0,
  "metadata": {
    "colab": {
      "name": "cifar10-15*15-128.ipynb",
      "provenance": [],
      "include_colab_link": true
    },
    "kernelspec": {
      "name": "python3",
      "display_name": "Python 3"
    },
    "accelerator": "GPU"
  },
  "cells": [
    {
      "cell_type": "markdown",
      "metadata": {
        "id": "view-in-github",
        "colab_type": "text"
      },
      "source": [
        "<a href=\"https://colab.research.google.com/github/mehang/Improvised-CNN/blob/master/notebook/Cifar10-128/resized/15*15/cifar10_15_15_128.ipynb\" target=\"_parent\"><img src=\"https://colab.research.google.com/assets/colab-badge.svg\" alt=\"Open In Colab\"/></a>"
      ]
    },
    {
      "cell_type": "code",
      "metadata": {
        "colab": {
          "base_uri": "https://localhost:8080/"
        },
        "id": "VHM8BWHSsWHX",
        "outputId": "7aabb628-8012-4599-9b3b-6afb61229d04"
      },
      "source": [
        "from google.colab import drive\n",
        "drive.mount('/content/drive')"
      ],
      "execution_count": 1,
      "outputs": [
        {
          "output_type": "stream",
          "text": [
            "Drive already mounted at /content/drive; to attempt to forcibly remount, call drive.mount(\"/content/drive\", force_remount=True).\n"
          ],
          "name": "stdout"
        }
      ]
    },
    {
      "cell_type": "code",
      "metadata": {
        "id": "BgKlsGqrxD22"
      },
      "source": [
        "import matplotlib.pyplot as plt\n",
        "import numpy as np\n",
        "import os\n",
        "import PIL\n",
        "import tensorflow as tf\n",
        "import pandas as pd\n",
        "\n",
        "from tensorflow import keras\n",
        "from tensorflow.keras import layers\n",
        "from tensorflow.keras.models import Sequential\n",
        "from tensorflow.keras.preprocessing.image import ImageDataGenerator\n",
        "import pathlib\n",
        "import time\n",
        "\n",
        "from tensorflow.keras.preprocessing.image import ImageDataGenerator, load_img\n",
        "from tensorflow.keras.utils import to_categorical\n",
        "from sklearn.model_selection import train_test_split\n"
      ],
      "execution_count": 2,
      "outputs": []
    },
    {
      "cell_type": "code",
      "metadata": {
        "id": "X7IoR5hRxKwQ"
      },
      "source": [
        "!unzip /content/drive/My\\ Drive/Mehang\\ Rai/cifar10-32.zip -d cifar10-32"
      ],
      "execution_count": null,
      "outputs": []
    },
    {
      "cell_type": "code",
      "metadata": {
        "id": "giztz-bcxaZt"
      },
      "source": [
        "ITERATION = 1\n",
        "IMAGE_WIDTH=32\n",
        "IMAGE_HEIGHT=32\n",
        "IMAGE_SIZE=(IMAGE_WIDTH, IMAGE_HEIGHT)\n",
        "IMAGE_CHANNELS=3\n",
        "RANDOM_SEED = [42, 42, 57, 48, 86, 7, 15, 28, 39, 52][ITERATION-1]\n",
        "BATCH_SIZE = 32\n",
        "NUM_CLASSES = 10\n",
        "EPOCHS = 1000\n",
        "GABOR_LAYER_INDEX = 0\n",
        "GABOR_WIDTH = 3\n",
        "GABOR_HEIGHT = 3\n",
        "GABOR_SIZE = (GABOR_WIDTH, GABOR_HEIGHT)\n",
        "NUM_RECEPTIVE_FILTERS = 32\n",
        "TRAIN_DIR = \"cifar10-32/cifar10-32/train/\"\n",
        "TEST_DIR = \"cifar10-32/cifar10-32/test/\"\n",
        "# TEST_DIR = \"cifar100_128_fine/cifar100_128_fine/train/\"\n",
        "# TRAIN_DIR = \"cifar100_128_fine/cifar100_128_fine/test/\""
      ],
      "execution_count": 5,
      "outputs": []
    },
    {
      "cell_type": "code",
      "metadata": {
        "id": "1C4bbsPAx8_c"
      },
      "source": [
        "filenames = os.listdir(TRAIN_DIR)\n",
        "categories = []\n",
        "for filename in filenames:\n",
        "    category = filename.split('.')[0]\n",
        "    categories.append(category)\n",
        "\n",
        "train_df = pd.DataFrame({\n",
        "    'filename': filenames,\n",
        "    'category': categories\n",
        "})\n",
        "\n",
        "filenames = os.listdir(TEST_DIR)\n",
        "categories = []\n",
        "for filename in filenames:\n",
        "    category = filename.split('.')[0]\n",
        "    categories.append(category)\n",
        "\n",
        "validate_df = pd.DataFrame({\n",
        "    'filename': filenames,\n",
        "    'category': categories\n",
        "})"
      ],
      "execution_count": 4,
      "outputs": []
    },
    {
      "cell_type": "code",
      "metadata": {
        "id": "szeBehwtx_rc"
      },
      "source": [
        "train_df = train_df.reset_index(drop=True)\n",
        "validate_df = validate_df.reset_index(drop=True)\n",
        "total_train = train_df.shape[0]\n",
        "total_validate = validate_df.shape[0]"
      ],
      "execution_count": 5,
      "outputs": []
    },
    {
      "cell_type": "code",
      "metadata": {
        "colab": {
          "base_uri": "https://localhost:8080/",
          "height": 328
        },
        "id": "5nT44Mk-yBhF",
        "outputId": "8bc672cf-06db-4c3b-ad60-6135dcba9c40"
      },
      "source": [
        "train_df['category'].value_counts().plot.bar()"
      ],
      "execution_count": 6,
      "outputs": [
        {
          "output_type": "execute_result",
          "data": {
            "text/plain": [
              "<matplotlib.axes._subplots.AxesSubplot at 0x7f5d9eb51e90>"
            ]
          },
          "metadata": {
            "tags": []
          },
          "execution_count": 6
        },
        {
          "output_type": "display_data",
          "data": {
            "image/png": "[encoded data removed]",
            "text/plain": [
              "<Figure size 432x288 with 1 Axes>"
            ]
          },
          "metadata": {
            "tags": [],
            "needs_background": "light"
          }
        }
      ]
    },
    {
      "cell_type": "code",
      "metadata": {
        "colab": {
          "base_uri": "https://localhost:8080/",
          "height": 328
        },
        "id": "CfbwDM9FyDQS",
        "outputId": "c81ae983-fa3a-4a21-d9d1-0be874a58b5e"
      },
      "source": [
        "validate_df['category'].value_counts().plot.bar()"
      ],
      "execution_count": 7,
      "outputs": [
        {
          "output_type": "execute_result",
          "data": {
            "text/plain": [
              "<matplotlib.axes._subplots.AxesSubplot at 0x7f5d9ea56f10>"
            ]
          },
          "metadata": {
            "tags": []
          },
          "execution_count": 7
        },
        {
          "output_type": "display_data",
          "data": {
            "image/png": "[encoded data removed]",
            "text/plain": [
              "<Figure size 432x288 with 1 Axes>"
            ]
          },
          "metadata": {
            "tags": [],
            "needs_background": "light"
          }
        }
      ]
    },
    {
      "cell_type": "code",
      "metadata": {
        "colab": {
          "base_uri": "https://localhost:8080/"
        },
        "id": "N8hSszjkyYoX",
        "outputId": "c10e15a0-3e27-4a19-ac0b-2ab522341496"
      },
      "source": [
        "train_datagen = ImageDataGenerator(\n",
        "    # rotation_range=40,\n",
        "    # width_shift_range=0.2,\n",
        "    # height_shift_range=0.2,\n",
        "    # shear_range=0.2,\n",
        "    # zoom_range=0.2,\n",
        "    # horizontal_flip=True,\n",
        "    rescale=1./255,\n",
        ")\n",
        "train_generator = train_datagen.flow_from_dataframe(\n",
        "    train_df, \n",
        "    TRAIN_DIR, \n",
        "    x_col='filename',\n",
        "    y_col='category',\n",
        "    target_size=IMAGE_SIZE,\n",
        "    class_mode='categorical',\n",
        "    batch_size=BATCH_SIZE\n",
        ")"
      ],
      "execution_count": 8,
      "outputs": [
        {
          "output_type": "stream",
          "text": [
            "Found 50000 validated image filenames belonging to 10 classes.\n"
          ],
          "name": "stdout"
        }
      ]
    },
    {
      "cell_type": "code",
      "metadata": {
        "colab": {
          "base_uri": "https://localhost:8080/"
        },
        "id": "wg4HhkU_yaaG",
        "outputId": "6aa80845-b824-4129-9f11-31a14f1356af"
      },
      "source": [
        "validation_datagen = ImageDataGenerator(rescale=1./255)\n",
        "validation_generator = validation_datagen.flow_from_dataframe(\n",
        "    validate_df, \n",
        "    TEST_DIR, \n",
        "    x_col='filename',\n",
        "    y_col='category',\n",
        "    target_size=IMAGE_SIZE,\n",
        "    class_mode='categorical',\n",
        "    batch_size=BATCH_SIZE\n",
        ")"
      ],
      "execution_count": 9,
      "outputs": [
        {
          "output_type": "stream",
          "text": [
            "Found 10000 validated image filenames belonging to 10 classes.\n"
          ],
          "name": "stdout"
        }
      ]
    },
    {
      "cell_type": "code",
      "metadata": {
        "colab": {
          "base_uri": "https://localhost:8080/"
        },
        "id": "0qGTHC25yFVO",
        "outputId": "ce4f3a2e-b4a3-41ec-891f-c0331e498047"
      },
      "source": [
        "print(train_df.shape)\n",
        "print(validate_df.shape)"
      ],
      "execution_count": 10,
      "outputs": [
        {
          "output_type": "stream",
          "text": [
            "(50000, 2)\n",
            "(10000, 2)\n"
          ],
          "name": "stdout"
        }
      ]
    },
    {
      "cell_type": "code",
      "metadata": {
        "colab": {
          "base_uri": "https://localhost:8080/"
        },
        "id": "hwxmdqkCyPuo",
        "outputId": "746bc135-fc31-4f35-c22d-7f399d3103cc"
      },
      "source": [
        "train_generator.image_shape"
      ],
      "execution_count": 11,
      "outputs": [
        {
          "output_type": "execute_result",
          "data": {
            "text/plain": [
              "(64, 64, 3)"
            ]
          },
          "metadata": {
            "tags": []
          },
          "execution_count": 11
        }
      ]
    },
    {
      "cell_type": "code",
      "metadata": {
        "colab": {
          "base_uri": "https://localhost:8080/"
        },
        "id": "9mcjl9K3yRmI",
        "outputId": "c27fa5c0-4c69-4f5c-f5a4-425bfc4bf910"
      },
      "source": [
        "NUM_CLASSES = len(train_df['category'].value_counts())\n",
        "print(NUM_CLASSES)"
      ],
      "execution_count": 12,
      "outputs": [
        {
          "output_type": "stream",
          "text": [
            "10\n"
          ],
          "name": "stdout"
        }
      ]
    },
    {
      "cell_type": "code",
      "metadata": {
        "colab": {
          "base_uri": "https://localhost:8080/"
        },
        "id": "-WxxvuEdNn2d",
        "outputId": "4a0a9a8d-dcc1-44a1-d79b-25fef62709e3"
      },
      "source": [
        "# Importing the Keras libraries and packages\n",
        "from tensorflow.keras.layers import Conv2D, MaxPooling2D, Flatten, Activation\n",
        "from tensorflow.keras.layers import Input, Dense, Dropout, BatchNormalization\n",
        "from tensorflow.keras.models import Model\n",
        "from tensorflow.keras.optimizers import RMSprop, Adam\n",
        "from tensorflow.keras.models import Sequential\n",
        "from tensorflow.keras import layers\n",
        "from tensorflow.keras.callbacks import EarlyStopping, ReduceLROnPlateau\n",
        "\n",
        "classifier = None\n",
        "classifier = Sequential([\n",
        "    layers.Conv2D(NUM_RECEPTIVE_FILTERS, kernel_size=GABOR_SIZE, strides=(1,1), activation='relu', name=\"GaborLayer\", input_shape=(IMAGE_WIDTH, IMAGE_HEIGHT, 3)),\n",
        "    layers.BatchNormalization(),\n",
        "    layers.MaxPooling2D(pool_size=(2,2)),\n",
        "    Dropout(0.25),\n",
        "    layers.Conv2D(64, kernel_size=(3,3), strides=(2,2), activation='relu'),\n",
        "    layers.BatchNormalization(),\n",
        "    layers.MaxPooling2D(pool_size=(2,2)),\n",
        "    Dropout(0.25),\n",
        "    layers.Conv2D(128, kernel_size=(3,3), strides=(2,2), activation='relu'),\n",
        "    layers.BatchNormalization(),\n",
        "    layers.MaxPooling2D(pool_size=(2,2)),\n",
        "    Dropout(0.25),\n",
        "    layers.Flatten(),\n",
        "    layers.Dense(512, activation='relu'),\n",
        "    layers.BatchNormalization(),\n",
        "    Dropout(0.25),\n",
        "    layers.Dense(NUM_CLASSES, activation='softmax')\n",
        "])\n",
        "\n",
        "classifier.summary()\n",
        "\n",
        "import copy\n",
        "untrained_layers = copy.deepcopy(classifier.get_layer(name=classifier.layers[GABOR_LAYER_INDEX].name).get_weights())"
      ],
      "execution_count": 13,
      "outputs": [
        {
          "output_type": "stream",
          "text": [
            "Model: \"sequential\"\n",
            "_________________________________________________________________\n",
            "Layer (type)                 Output Shape              Param #   \n",
            "=================================================================\n",
            "GaborLayer (Conv2D)          (None, 62, 62, 32)        896       \n",
            "_________________________________________________________________\n",
            "batch_normalization (BatchNo (None, 62, 62, 32)        128       \n",
            "_________________________________________________________________\n",
            "max_pooling2d (MaxPooling2D) (None, 31, 31, 32)        0         \n",
            "_________________________________________________________________\n",
            "dropout (Dropout)            (None, 31, 31, 32)        0         \n",
            "_________________________________________________________________\n",
            "conv2d (Conv2D)              (None, 15, 15, 64)        18496     \n",
            "_________________________________________________________________\n",
            "batch_normalization_1 (Batch (None, 15, 15, 64)        256       \n",
            "_________________________________________________________________\n",
            "max_pooling2d_1 (MaxPooling2 (None, 7, 7, 64)          0         \n",
            "_________________________________________________________________\n",
            "dropout_1 (Dropout)          (None, 7, 7, 64)          0         \n",
            "_________________________________________________________________\n",
            "conv2d_1 (Conv2D)            (None, 3, 3, 128)         73856     \n",
            "_________________________________________________________________\n",
            "batch_normalization_2 (Batch (None, 3, 3, 128)         512       \n",
            "_________________________________________________________________\n",
            "max_pooling2d_2 (MaxPooling2 (None, 1, 1, 128)         0         \n",
            "_________________________________________________________________\n",
            "dropout_2 (Dropout)          (None, 1, 1, 128)         0         \n",
            "_________________________________________________________________\n",
            "flatten (Flatten)            (None, 128)               0         \n",
            "_________________________________________________________________\n",
            "dense (Dense)                (None, 512)               66048     \n",
            "_________________________________________________________________\n",
            "batch_normalization_3 (Batch (None, 512)               2048      \n",
            "_________________________________________________________________\n",
            "dropout_3 (Dropout)          (None, 512)               0         \n",
            "_________________________________________________________________\n",
            "dense_1 (Dense)              (None, 10)                5130      \n",
            "=================================================================\n",
            "Total params: 167,370\n",
            "Trainable params: 165,898\n",
            "Non-trainable params: 1,472\n",
            "_________________________________________________________________\n"
          ],
          "name": "stdout"
        }
      ]
    },
    {
      "cell_type": "code",
      "metadata": {
        "colab": {
          "base_uri": "https://localhost:8080/"
        },
        "id": "kQNoQkKXyh0J",
        "outputId": "08ea0009-caa1-419e-a077-9026d5b0cd16"
      },
      "source": [
        "reduce_lr = ReduceLROnPlateau(monitor='val_loss', factor=0.5, patience=10,  \n",
        "                              min_delta=1e-4, mode='min', verbose=1)\n",
        "stop_alg = EarlyStopping(monitor='val_loss', patience=35, \n",
        "                         restore_best_weights=True, verbose=1)\n",
        "callbacks = [stop_alg, reduce_lr]\n",
        "opt = Adam(learning_rate=0.001)\n",
        "classifier.compile(loss='categorical_crossentropy', optimizer=opt, metrics=['accuracy', 'AUC'])\n",
        "\n",
        "start = time.perf_counter()\n",
        "hist = classifier.fit(\n",
        "    train_generator, \n",
        "    epochs=EPOCHS,\n",
        "    validation_data=validation_generator,\n",
        "    validation_steps=total_validate//BATCH_SIZE,\n",
        "    steps_per_epoch=total_train//BATCH_SIZE,\n",
        "    callbacks=callbacks\n",
        ")\n",
        "finish = time.perf_counter()"
      ],
      "execution_count": 14,
      "outputs": [
        {
          "output_type": "stream",
          "text": [
            "Epoch 1/1000\n",
            "1562/1562 [==============================] - 28s 16ms/step - loss: 2.1735 - accuracy: 0.2690 - auc: 0.7368 - val_loss: 1.6460 - val_accuracy: 0.3912 - val_auc: 0.8427\n",
            "Epoch 2/1000\n",
            "1562/1562 [==============================] - 25s 16ms/step - loss: 1.6343 - accuracy: 0.4067 - auc: 0.8443 - val_loss: 1.4554 - val_accuracy: 0.4726 - val_auc: 0.8776\n",
            "Epoch 3/1000\n",
            "1562/1562 [==============================] - 25s 16ms/step - loss: 1.5104 - accuracy: 0.4544 - auc: 0.8684 - val_loss: 1.4571 - val_accuracy: 0.4760 - val_auc: 0.8772\n",
            "Epoch 4/1000\n",
            "1562/1562 [==============================] - 25s 16ms/step - loss: 1.4218 - accuracy: 0.4892 - auc: 0.8841 - val_loss: 1.2559 - val_accuracy: 0.5578 - val_auc: 0.9103\n",
            "Epoch 5/1000\n",
            "1562/1562 [==============================] - 25s 16ms/step - loss: 1.3549 - accuracy: 0.5102 - auc: 0.8951 - val_loss: 1.2764 - val_accuracy: 0.5535 - val_auc: 0.9063\n",
            "Epoch 6/1000\n",
            "1562/1562 [==============================] - 25s 16ms/step - loss: 1.3146 - accuracy: 0.5333 - auc: 0.9013 - val_loss: 1.2285 - val_accuracy: 0.5664 - val_auc: 0.9140\n",
            "Epoch 7/1000\n",
            "1562/1562 [==============================] - 25s 16ms/step - loss: 1.2628 - accuracy: 0.5517 - auc: 0.9089 - val_loss: 1.2807 - val_accuracy: 0.5473 - val_auc: 0.9061\n",
            "Epoch 8/1000\n",
            "1562/1562 [==============================] - 25s 16ms/step - loss: 1.2337 - accuracy: 0.5628 - auc: 0.9131 - val_loss: 1.1841 - val_accuracy: 0.5819 - val_auc: 0.9204\n",
            "Epoch 9/1000\n",
            "1562/1562 [==============================] - 25s 16ms/step - loss: 1.2137 - accuracy: 0.5697 - auc: 0.9160 - val_loss: 1.0963 - val_accuracy: 0.6173 - val_auc: 0.9317\n",
            "Epoch 10/1000\n",
            "1562/1562 [==============================] - 25s 16ms/step - loss: 1.1984 - accuracy: 0.5722 - auc: 0.9182 - val_loss: 1.1365 - val_accuracy: 0.6053 - val_auc: 0.9262\n",
            "Epoch 11/1000\n",
            "1562/1562 [==============================] - 25s 16ms/step - loss: 1.1717 - accuracy: 0.5859 - auc: 0.9218 - val_loss: 1.1027 - val_accuracy: 0.6107 - val_auc: 0.9309\n",
            "Epoch 12/1000\n",
            "1562/1562 [==============================] - 25s 16ms/step - loss: 1.1476 - accuracy: 0.5940 - auc: 0.9249 - val_loss: 1.1238 - val_accuracy: 0.6065 - val_auc: 0.9280\n",
            "Epoch 13/1000\n",
            "1562/1562 [==============================] - 25s 16ms/step - loss: 1.1329 - accuracy: 0.6015 - auc: 0.9268 - val_loss: 1.0814 - val_accuracy: 0.6248 - val_auc: 0.9334\n",
            "Epoch 14/1000\n",
            "1562/1562 [==============================] - 25s 16ms/step - loss: 1.1034 - accuracy: 0.6132 - auc: 0.9305 - val_loss: 1.0530 - val_accuracy: 0.6354 - val_auc: 0.9367\n",
            "Epoch 15/1000\n",
            "1562/1562 [==============================] - 25s 16ms/step - loss: 1.0976 - accuracy: 0.6132 - auc: 0.9314 - val_loss: 1.0374 - val_accuracy: 0.6398 - val_auc: 0.9383\n",
            "Epoch 16/1000\n",
            "1562/1562 [==============================] - 25s 16ms/step - loss: 1.0917 - accuracy: 0.6163 - auc: 0.9321 - val_loss: 1.0075 - val_accuracy: 0.6481 - val_auc: 0.9422\n",
            "Epoch 17/1000\n",
            "1562/1562 [==============================] - 26s 16ms/step - loss: 1.0905 - accuracy: 0.6154 - auc: 0.9322 - val_loss: 1.0317 - val_accuracy: 0.6405 - val_auc: 0.9395\n",
            "Epoch 18/1000\n",
            "1562/1562 [==============================] - 25s 16ms/step - loss: 1.0800 - accuracy: 0.6199 - auc: 0.9334 - val_loss: 1.0990 - val_accuracy: 0.6192 - val_auc: 0.9309\n",
            "Epoch 19/1000\n",
            "1562/1562 [==============================] - 26s 16ms/step - loss: 1.0649 - accuracy: 0.6213 - auc: 0.9355 - val_loss: 0.9950 - val_accuracy: 0.6582 - val_auc: 0.9435\n",
            "Epoch 20/1000\n",
            "1562/1562 [==============================] - 25s 16ms/step - loss: 1.0582 - accuracy: 0.6302 - auc: 0.9360 - val_loss: 1.0045 - val_accuracy: 0.6440 - val_auc: 0.9424\n",
            "Epoch 21/1000\n",
            "1562/1562 [==============================] - 26s 16ms/step - loss: 1.0512 - accuracy: 0.6318 - auc: 0.9368 - val_loss: 0.9840 - val_accuracy: 0.6589 - val_auc: 0.9444\n",
            "Epoch 22/1000\n",
            "1562/1562 [==============================] - 25s 16ms/step - loss: 1.0400 - accuracy: 0.6308 - auc: 0.9384 - val_loss: 1.0160 - val_accuracy: 0.6449 - val_auc: 0.9411\n",
            "Epoch 23/1000\n",
            "1562/1562 [==============================] - 25s 16ms/step - loss: 1.0232 - accuracy: 0.6362 - auc: 0.9404 - val_loss: 0.9948 - val_accuracy: 0.6572 - val_auc: 0.9431\n",
            "Epoch 24/1000\n",
            "1562/1562 [==============================] - 26s 16ms/step - loss: 1.0275 - accuracy: 0.6390 - auc: 0.9397 - val_loss: 1.0221 - val_accuracy: 0.6477 - val_auc: 0.9401\n",
            "Epoch 25/1000\n",
            "1562/1562 [==============================] - 25s 16ms/step - loss: 1.0218 - accuracy: 0.6404 - auc: 0.9402 - val_loss: 0.9616 - val_accuracy: 0.6677 - val_auc: 0.9469\n",
            "Epoch 26/1000\n",
            "1562/1562 [==============================] - 25s 16ms/step - loss: 1.0128 - accuracy: 0.6452 - auc: 0.9413 - val_loss: 0.9967 - val_accuracy: 0.6557 - val_auc: 0.9428\n",
            "Epoch 27/1000\n",
            "1562/1562 [==============================] - 25s 16ms/step - loss: 1.0059 - accuracy: 0.6474 - auc: 0.9423 - val_loss: 0.9785 - val_accuracy: 0.6608 - val_auc: 0.9450\n",
            "Epoch 28/1000\n",
            "1562/1562 [==============================] - 26s 16ms/step - loss: 1.0041 - accuracy: 0.6449 - auc: 0.9425 - val_loss: 0.9900 - val_accuracy: 0.6570 - val_auc: 0.9437\n",
            "Epoch 29/1000\n",
            "1562/1562 [==============================] - 25s 16ms/step - loss: 1.0073 - accuracy: 0.6418 - auc: 0.9423 - val_loss: 1.0109 - val_accuracy: 0.6508 - val_auc: 0.9409\n",
            "Epoch 30/1000\n",
            "1562/1562 [==============================] - 25s 16ms/step - loss: 0.9998 - accuracy: 0.6533 - auc: 0.9429 - val_loss: 0.9465 - val_accuracy: 0.6702 - val_auc: 0.9486\n",
            "Epoch 31/1000\n",
            "1562/1562 [==============================] - 25s 16ms/step - loss: 0.9933 - accuracy: 0.6515 - auc: 0.9437 - val_loss: 0.9534 - val_accuracy: 0.6731 - val_auc: 0.9475\n",
            "Epoch 32/1000\n",
            "1562/1562 [==============================] - 26s 16ms/step - loss: 0.9929 - accuracy: 0.6511 - auc: 0.9435 - val_loss: 1.0137 - val_accuracy: 0.6435 - val_auc: 0.9411\n",
            "Epoch 33/1000\n",
            "1562/1562 [==============================] - 26s 16ms/step - loss: 0.9827 - accuracy: 0.6560 - auc: 0.9447 - val_loss: 1.0145 - val_accuracy: 0.6540 - val_auc: 0.9405\n",
            "Epoch 34/1000\n",
            "1562/1562 [==============================] - 25s 16ms/step - loss: 0.9734 - accuracy: 0.6591 - auc: 0.9459 - val_loss: 1.0183 - val_accuracy: 0.6438 - val_auc: 0.9406\n",
            "Epoch 35/1000\n",
            "1562/1562 [==============================] - 25s 16ms/step - loss: 0.9810 - accuracy: 0.6554 - auc: 0.9451 - val_loss: 0.9927 - val_accuracy: 0.6529 - val_auc: 0.9434\n",
            "Epoch 36/1000\n",
            "1562/1562 [==============================] - 25s 16ms/step - loss: 0.9727 - accuracy: 0.6538 - auc: 0.9460 - val_loss: 0.9742 - val_accuracy: 0.6624 - val_auc: 0.9454\n",
            "Epoch 37/1000\n",
            "1562/1562 [==============================] - 25s 16ms/step - loss: 0.9725 - accuracy: 0.6611 - auc: 0.9458 - val_loss: 1.0266 - val_accuracy: 0.6444 - val_auc: 0.9394\n",
            "Epoch 38/1000\n",
            "1562/1562 [==============================] - 26s 16ms/step - loss: 0.9672 - accuracy: 0.6608 - auc: 0.9464 - val_loss: 0.9751 - val_accuracy: 0.6650 - val_auc: 0.9449\n",
            "Epoch 39/1000\n",
            "1562/1562 [==============================] - 25s 16ms/step - loss: 0.9550 - accuracy: 0.6661 - auc: 0.9477 - val_loss: 0.9713 - val_accuracy: 0.6615 - val_auc: 0.9456\n",
            "Epoch 40/1000\n",
            "1562/1562 [==============================] - 26s 16ms/step - loss: 0.9588 - accuracy: 0.6627 - auc: 0.9474 - val_loss: 0.9216 - val_accuracy: 0.6804 - val_auc: 0.9510\n",
            "Epoch 41/1000\n",
            "1562/1562 [==============================] - 25s 16ms/step - loss: 0.9522 - accuracy: 0.6657 - auc: 0.9482 - val_loss: 0.9180 - val_accuracy: 0.6853 - val_auc: 0.9512\n",
            "Epoch 42/1000\n",
            "1562/1562 [==============================] - 25s 16ms/step - loss: 0.9493 - accuracy: 0.6688 - auc: 0.9484 - val_loss: 0.9621 - val_accuracy: 0.6664 - val_auc: 0.9466\n",
            "Epoch 43/1000\n",
            "1562/1562 [==============================] - 26s 16ms/step - loss: 0.9627 - accuracy: 0.6620 - auc: 0.9467 - val_loss: 0.9537 - val_accuracy: 0.6738 - val_auc: 0.9476\n",
            "Epoch 44/1000\n",
            "1562/1562 [==============================] - 25s 16ms/step - loss: 0.9501 - accuracy: 0.6677 - auc: 0.9483 - val_loss: 0.9807 - val_accuracy: 0.6633 - val_auc: 0.9446\n",
            "Epoch 45/1000\n",
            "1562/1562 [==============================] - 26s 16ms/step - loss: 0.9530 - accuracy: 0.6637 - auc: 0.9480 - val_loss: 0.9483 - val_accuracy: 0.6713 - val_auc: 0.9481\n",
            "Epoch 46/1000\n",
            "1562/1562 [==============================] - 26s 16ms/step - loss: 0.9363 - accuracy: 0.6720 - auc: 0.9499 - val_loss: 0.9624 - val_accuracy: 0.6649 - val_auc: 0.9468\n",
            "Epoch 47/1000\n",
            "1562/1562 [==============================] - 25s 16ms/step - loss: 0.9430 - accuracy: 0.6713 - auc: 0.9492 - val_loss: 0.9130 - val_accuracy: 0.6853 - val_auc: 0.9514\n",
            "Epoch 48/1000\n",
            "1562/1562 [==============================] - 25s 16ms/step - loss: 0.9368 - accuracy: 0.6700 - auc: 0.9499 - val_loss: 0.9263 - val_accuracy: 0.6821 - val_auc: 0.9503\n",
            "Epoch 49/1000\n",
            "1562/1562 [==============================] - 25s 16ms/step - loss: 0.9394 - accuracy: 0.6708 - auc: 0.9494 - val_loss: 0.9498 - val_accuracy: 0.6724 - val_auc: 0.9477\n",
            "Epoch 50/1000\n",
            "1562/1562 [==============================] - 25s 16ms/step - loss: 0.9320 - accuracy: 0.6732 - auc: 0.9501 - val_loss: 0.9463 - val_accuracy: 0.6735 - val_auc: 0.9482\n",
            "Epoch 51/1000\n",
            "1562/1562 [==============================] - 25s 16ms/step - loss: 0.9338 - accuracy: 0.6716 - auc: 0.9501 - val_loss: 0.9313 - val_accuracy: 0.6771 - val_auc: 0.9500\n",
            "Epoch 52/1000\n",
            "1562/1562 [==============================] - 25s 16ms/step - loss: 0.9244 - accuracy: 0.6761 - auc: 0.9510 - val_loss: 0.9352 - val_accuracy: 0.6815 - val_auc: 0.9492\n",
            "Epoch 53/1000\n",
            "1562/1562 [==============================] - 26s 16ms/step - loss: 0.9428 - accuracy: 0.6692 - auc: 0.9490 - val_loss: 0.9278 - val_accuracy: 0.6812 - val_auc: 0.9500\n",
            "Epoch 54/1000\n",
            "1562/1562 [==============================] - 25s 16ms/step - loss: 0.9354 - accuracy: 0.6704 - auc: 0.9499 - val_loss: 0.9358 - val_accuracy: 0.6784 - val_auc: 0.9492\n",
            "Epoch 55/1000\n",
            "1562/1562 [==============================] - 25s 16ms/step - loss: 0.9258 - accuracy: 0.6739 - auc: 0.9509 - val_loss: 0.9578 - val_accuracy: 0.6711 - val_auc: 0.9471\n",
            "Epoch 56/1000\n",
            "1562/1562 [==============================] - 25s 16ms/step - loss: 0.9235 - accuracy: 0.6757 - auc: 0.9510 - val_loss: 0.9367 - val_accuracy: 0.6738 - val_auc: 0.9494\n",
            "Epoch 57/1000\n",
            "1562/1562 [==============================] - 25s 16ms/step - loss: 0.9297 - accuracy: 0.6766 - auc: 0.9506 - val_loss: 0.9396 - val_accuracy: 0.6790 - val_auc: 0.9488\n",
            "\n",
            "Epoch 00057: ReduceLROnPlateau reducing learning rate to 0.0005000000237487257.\n",
            "Epoch 58/1000\n",
            "1562/1562 [==============================] - 25s 16ms/step - loss: 0.9039 - accuracy: 0.6815 - auc: 0.9533 - val_loss: 0.8956 - val_accuracy: 0.6951 - val_auc: 0.9534\n",
            "Epoch 59/1000\n",
            "1562/1562 [==============================] - 25s 16ms/step - loss: 0.8918 - accuracy: 0.6883 - auc: 0.9543 - val_loss: 0.9011 - val_accuracy: 0.6896 - val_auc: 0.9527\n",
            "Epoch 60/1000\n",
            "1562/1562 [==============================] - 25s 16ms/step - loss: 0.8862 - accuracy: 0.6895 - auc: 0.9549 - val_loss: 0.8985 - val_accuracy: 0.6919 - val_auc: 0.9530\n",
            "Epoch 61/1000\n",
            "1562/1562 [==============================] - 26s 16ms/step - loss: 0.8818 - accuracy: 0.6906 - auc: 0.9552 - val_loss: 0.9032 - val_accuracy: 0.6908 - val_auc: 0.9527\n",
            "Epoch 62/1000\n",
            "1562/1562 [==============================] - 25s 16ms/step - loss: 0.8855 - accuracy: 0.6913 - auc: 0.9549 - val_loss: 0.8951 - val_accuracy: 0.6911 - val_auc: 0.9534\n",
            "Epoch 63/1000\n",
            "1562/1562 [==============================] - 25s 16ms/step - loss: 0.8857 - accuracy: 0.6906 - auc: 0.9547 - val_loss: 0.8914 - val_accuracy: 0.6956 - val_auc: 0.9536\n",
            "Epoch 64/1000\n",
            "1562/1562 [==============================] - 26s 16ms/step - loss: 0.8843 - accuracy: 0.6903 - auc: 0.9550 - val_loss: 0.8935 - val_accuracy: 0.6923 - val_auc: 0.9536\n",
            "Epoch 65/1000\n",
            "1562/1562 [==============================] - 26s 16ms/step - loss: 0.8749 - accuracy: 0.6920 - auc: 0.9560 - val_loss: 0.8852 - val_accuracy: 0.6950 - val_auc: 0.9544\n",
            "Epoch 66/1000\n",
            "1562/1562 [==============================] - 25s 16ms/step - loss: 0.8768 - accuracy: 0.6933 - auc: 0.9557 - val_loss: 0.8822 - val_accuracy: 0.6985 - val_auc: 0.9546\n",
            "Epoch 67/1000\n",
            "1562/1562 [==============================] - 25s 16ms/step - loss: 0.8739 - accuracy: 0.6949 - auc: 0.9558 - val_loss: 0.8871 - val_accuracy: 0.6954 - val_auc: 0.9543\n",
            "Epoch 68/1000\n",
            "1562/1562 [==============================] - 25s 16ms/step - loss: 0.8633 - accuracy: 0.6970 - auc: 0.9571 - val_loss: 0.8987 - val_accuracy: 0.6927 - val_auc: 0.9532\n",
            "Epoch 69/1000\n",
            "1562/1562 [==============================] - 26s 16ms/step - loss: 0.8642 - accuracy: 0.6946 - auc: 0.9571 - val_loss: 0.9100 - val_accuracy: 0.6873 - val_auc: 0.9521\n",
            "Epoch 70/1000\n",
            "1562/1562 [==============================] - 25s 16ms/step - loss: 0.8771 - accuracy: 0.6932 - auc: 0.9559 - val_loss: 0.9366 - val_accuracy: 0.6753 - val_auc: 0.9492\n",
            "Epoch 71/1000\n",
            "1562/1562 [==============================] - 25s 16ms/step - loss: 0.8729 - accuracy: 0.6939 - auc: 0.9562 - val_loss: 0.8812 - val_accuracy: 0.6991 - val_auc: 0.9548\n",
            "Epoch 72/1000\n",
            "1562/1562 [==============================] - 25s 16ms/step - loss: 0.8653 - accuracy: 0.6956 - auc: 0.9569 - val_loss: 0.8893 - val_accuracy: 0.6985 - val_auc: 0.9537\n",
            "Epoch 73/1000\n",
            "1562/1562 [==============================] - 26s 16ms/step - loss: 0.8651 - accuracy: 0.6938 - auc: 0.9569 - val_loss: 0.8928 - val_accuracy: 0.6948 - val_auc: 0.9537\n",
            "Epoch 74/1000\n",
            "1562/1562 [==============================] - 25s 16ms/step - loss: 0.8631 - accuracy: 0.6968 - auc: 0.9570 - val_loss: 0.8865 - val_accuracy: 0.6980 - val_auc: 0.9542\n",
            "Epoch 75/1000\n",
            "1562/1562 [==============================] - 25s 16ms/step - loss: 0.8625 - accuracy: 0.6960 - auc: 0.9571 - val_loss: 0.8870 - val_accuracy: 0.6994 - val_auc: 0.9540\n",
            "Epoch 76/1000\n",
            "1562/1562 [==============================] - 26s 16ms/step - loss: 0.8600 - accuracy: 0.6973 - auc: 0.9575 - val_loss: 0.8952 - val_accuracy: 0.6927 - val_auc: 0.9533\n",
            "Epoch 77/1000\n",
            "1562/1562 [==============================] - 26s 16ms/step - loss: 0.8582 - accuracy: 0.6970 - auc: 0.9576 - val_loss: 0.8969 - val_accuracy: 0.6921 - val_auc: 0.9531\n",
            "Epoch 78/1000\n",
            "1562/1562 [==============================] - 26s 16ms/step - loss: 0.8650 - accuracy: 0.6970 - auc: 0.9570 - val_loss: 0.8950 - val_accuracy: 0.6936 - val_auc: 0.9535\n",
            "Epoch 79/1000\n",
            "1562/1562 [==============================] - 25s 16ms/step - loss: 0.8692 - accuracy: 0.6918 - auc: 0.9566 - val_loss: 0.9002 - val_accuracy: 0.6898 - val_auc: 0.9530\n",
            "Epoch 80/1000\n",
            "1562/1562 [==============================] - 26s 16ms/step - loss: 0.8590 - accuracy: 0.7003 - auc: 0.9573 - val_loss: 0.9114 - val_accuracy: 0.6824 - val_auc: 0.9518\n",
            "Epoch 81/1000\n",
            "1562/1562 [==============================] - 26s 16ms/step - loss: 0.8658 - accuracy: 0.6972 - auc: 0.9568 - val_loss: 0.8905 - val_accuracy: 0.6958 - val_auc: 0.9535\n",
            "\n",
            "Epoch 00081: ReduceLROnPlateau reducing learning rate to 0.0002500000118743628.\n",
            "Epoch 82/1000\n",
            "1562/1562 [==============================] - 26s 16ms/step - loss: 0.8531 - accuracy: 0.6972 - auc: 0.9582 - val_loss: 0.8803 - val_accuracy: 0.6954 - val_auc: 0.9549\n",
            "Epoch 83/1000\n",
            "1562/1562 [==============================] - 26s 16ms/step - loss: 0.8365 - accuracy: 0.7057 - auc: 0.9597 - val_loss: 0.8718 - val_accuracy: 0.7009 - val_auc: 0.9556\n",
            "Epoch 84/1000\n",
            "1562/1562 [==============================] - 25s 16ms/step - loss: 0.8450 - accuracy: 0.7036 - auc: 0.9589 - val_loss: 0.8845 - val_accuracy: 0.6983 - val_auc: 0.9546\n",
            "Epoch 85/1000\n",
            "1562/1562 [==============================] - 26s 16ms/step - loss: 0.8379 - accuracy: 0.7047 - auc: 0.9594 - val_loss: 0.8727 - val_accuracy: 0.7012 - val_auc: 0.9555\n",
            "Epoch 86/1000\n",
            "1562/1562 [==============================] - 26s 16ms/step - loss: 0.8457 - accuracy: 0.7021 - auc: 0.9587 - val_loss: 0.8692 - val_accuracy: 0.7006 - val_auc: 0.9558\n",
            "Epoch 87/1000\n",
            "1562/1562 [==============================] - 26s 16ms/step - loss: 0.8464 - accuracy: 0.7006 - auc: 0.9590 - val_loss: 0.8700 - val_accuracy: 0.6989 - val_auc: 0.9558\n",
            "Epoch 88/1000\n",
            "1562/1562 [==============================] - 26s 16ms/step - loss: 0.8327 - accuracy: 0.7074 - auc: 0.9600 - val_loss: 0.8691 - val_accuracy: 0.6987 - val_auc: 0.9559\n",
            "Epoch 89/1000\n",
            "1562/1562 [==============================] - 26s 16ms/step - loss: 0.8416 - accuracy: 0.7015 - auc: 0.9592 - val_loss: 0.8674 - val_accuracy: 0.7036 - val_auc: 0.9561\n",
            "Epoch 90/1000\n",
            "1562/1562 [==============================] - 26s 16ms/step - loss: 0.8461 - accuracy: 0.7055 - auc: 0.9585 - val_loss: 0.8675 - val_accuracy: 0.7035 - val_auc: 0.9561\n",
            "Epoch 91/1000\n",
            "1562/1562 [==============================] - 26s 17ms/step - loss: 0.8370 - accuracy: 0.7041 - auc: 0.9597 - val_loss: 0.8811 - val_accuracy: 0.6944 - val_auc: 0.9546\n",
            "Epoch 92/1000\n",
            "1562/1562 [==============================] - 26s 16ms/step - loss: 0.8408 - accuracy: 0.7053 - auc: 0.9590 - val_loss: 0.8689 - val_accuracy: 0.7023 - val_auc: 0.9559\n",
            "Epoch 93/1000\n",
            "1562/1562 [==============================] - 26s 16ms/step - loss: 0.8298 - accuracy: 0.7092 - auc: 0.9601 - val_loss: 0.8734 - val_accuracy: 0.7005 - val_auc: 0.9555\n",
            "Epoch 94/1000\n",
            "1562/1562 [==============================] - 26s 16ms/step - loss: 0.8349 - accuracy: 0.7066 - auc: 0.9598 - val_loss: 0.8641 - val_accuracy: 0.7030 - val_auc: 0.9563\n",
            "Epoch 95/1000\n",
            "1562/1562 [==============================] - 26s 16ms/step - loss: 0.8218 - accuracy: 0.7100 - auc: 0.9613 - val_loss: 0.8631 - val_accuracy: 0.7039 - val_auc: 0.9563\n",
            "Epoch 96/1000\n",
            "1562/1562 [==============================] - 26s 16ms/step - loss: 0.8345 - accuracy: 0.7082 - auc: 0.9597 - val_loss: 0.8668 - val_accuracy: 0.7016 - val_auc: 0.9561\n",
            "Epoch 97/1000\n",
            "1562/1562 [==============================] - 26s 17ms/step - loss: 0.8319 - accuracy: 0.7063 - auc: 0.9602 - val_loss: 0.8918 - val_accuracy: 0.6912 - val_auc: 0.9533\n",
            "Epoch 98/1000\n",
            "1562/1562 [==============================] - 26s 16ms/step - loss: 0.8308 - accuracy: 0.7093 - auc: 0.9602 - val_loss: 0.8859 - val_accuracy: 0.6962 - val_auc: 0.9542\n",
            "Epoch 99/1000\n",
            "1562/1562 [==============================] - 26s 16ms/step - loss: 0.8225 - accuracy: 0.7098 - auc: 0.9609 - val_loss: 0.8704 - val_accuracy: 0.7019 - val_auc: 0.9558\n",
            "Epoch 100/1000\n",
            "1562/1562 [==============================] - 26s 16ms/step - loss: 0.8241 - accuracy: 0.7111 - auc: 0.9608 - val_loss: 0.8972 - val_accuracy: 0.6900 - val_auc: 0.9531\n",
            "Epoch 101/1000\n",
            "1562/1562 [==============================] - 26s 16ms/step - loss: 0.8250 - accuracy: 0.7101 - auc: 0.9606 - val_loss: 0.8696 - val_accuracy: 0.7022 - val_auc: 0.9558\n",
            "Epoch 102/1000\n",
            "1562/1562 [==============================] - 26s 16ms/step - loss: 0.8245 - accuracy: 0.7103 - auc: 0.9608 - val_loss: 0.8687 - val_accuracy: 0.7010 - val_auc: 0.9560\n",
            "Epoch 103/1000\n",
            "1562/1562 [==============================] - 26s 16ms/step - loss: 0.8197 - accuracy: 0.7089 - auc: 0.9613 - val_loss: 0.8648 - val_accuracy: 0.7046 - val_auc: 0.9563\n",
            "Epoch 104/1000\n",
            "1562/1562 [==============================] - 26s 17ms/step - loss: 0.8243 - accuracy: 0.7101 - auc: 0.9608 - val_loss: 0.8754 - val_accuracy: 0.7012 - val_auc: 0.9555\n",
            "Epoch 105/1000\n",
            "1562/1562 [==============================] - 26s 16ms/step - loss: 0.8250 - accuracy: 0.7098 - auc: 0.9608 - val_loss: 0.8806 - val_accuracy: 0.6987 - val_auc: 0.9549\n",
            "\n",
            "Epoch 00105: ReduceLROnPlateau reducing learning rate to 0.0001250000059371814.\n",
            "Epoch 106/1000\n",
            "1562/1562 [==============================] - 26s 16ms/step - loss: 0.8123 - accuracy: 0.7144 - auc: 0.9620 - val_loss: 0.8761 - val_accuracy: 0.6986 - val_auc: 0.9551\n",
            "Epoch 107/1000\n",
            "1562/1562 [==============================] - 26s 16ms/step - loss: 0.8338 - accuracy: 0.7077 - auc: 0.9598 - val_loss: 0.8618 - val_accuracy: 0.7074 - val_auc: 0.9564\n",
            "Epoch 108/1000\n",
            "1562/1562 [==============================] - 26s 16ms/step - loss: 0.8180 - accuracy: 0.7127 - auc: 0.9614 - val_loss: 0.8649 - val_accuracy: 0.7050 - val_auc: 0.9563\n",
            "Epoch 109/1000\n",
            "1562/1562 [==============================] - 26s 16ms/step - loss: 0.8135 - accuracy: 0.7133 - auc: 0.9617 - val_loss: 0.8667 - val_accuracy: 0.7031 - val_auc: 0.9561\n",
            "Epoch 110/1000\n",
            "1562/1562 [==============================] - 26s 16ms/step - loss: 0.8162 - accuracy: 0.7123 - auc: 0.9613 - val_loss: 0.8613 - val_accuracy: 0.7077 - val_auc: 0.9567\n",
            "Epoch 111/1000\n",
            "1562/1562 [==============================] - 26s 17ms/step - loss: 0.8169 - accuracy: 0.7108 - auc: 0.9616 - val_loss: 0.8583 - val_accuracy: 0.7066 - val_auc: 0.9570\n",
            "Epoch 112/1000\n",
            "1562/1562 [==============================] - 26s 17ms/step - loss: 0.8185 - accuracy: 0.7133 - auc: 0.9612 - val_loss: 0.8660 - val_accuracy: 0.7037 - val_auc: 0.9562\n",
            "Epoch 113/1000\n",
            "1562/1562 [==============================] - 26s 17ms/step - loss: 0.8109 - accuracy: 0.7158 - auc: 0.9620 - val_loss: 0.8611 - val_accuracy: 0.7061 - val_auc: 0.9566\n",
            "Epoch 114/1000\n",
            "1562/1562 [==============================] - 26s 17ms/step - loss: 0.8137 - accuracy: 0.7138 - auc: 0.9617 - val_loss: 0.8792 - val_accuracy: 0.6979 - val_auc: 0.9547\n",
            "Epoch 115/1000\n",
            "1562/1562 [==============================] - 26s 17ms/step - loss: 0.8215 - accuracy: 0.7110 - auc: 0.9611 - val_loss: 0.8629 - val_accuracy: 0.7052 - val_auc: 0.9565\n",
            "Epoch 116/1000\n",
            "1562/1562 [==============================] - 26s 17ms/step - loss: 0.8110 - accuracy: 0.7170 - auc: 0.9619 - val_loss: 0.8598 - val_accuracy: 0.7062 - val_auc: 0.9568\n",
            "Epoch 117/1000\n",
            "1562/1562 [==============================] - 26s 17ms/step - loss: 0.8276 - accuracy: 0.7094 - auc: 0.9605 - val_loss: 0.8577 - val_accuracy: 0.7068 - val_auc: 0.9571\n",
            "Epoch 118/1000\n",
            "1562/1562 [==============================] - 26s 17ms/step - loss: 0.8188 - accuracy: 0.7145 - auc: 0.9610 - val_loss: 0.8580 - val_accuracy: 0.7078 - val_auc: 0.9572\n",
            "Epoch 119/1000\n",
            "1562/1562 [==============================] - 26s 17ms/step - loss: 0.8206 - accuracy: 0.7095 - auc: 0.9612 - val_loss: 0.8557 - val_accuracy: 0.7086 - val_auc: 0.9575\n",
            "Epoch 120/1000\n",
            "1562/1562 [==============================] - 26s 17ms/step - loss: 0.8036 - accuracy: 0.7155 - auc: 0.9628 - val_loss: 0.8596 - val_accuracy: 0.7077 - val_auc: 0.9569\n",
            "Epoch 121/1000\n",
            "1562/1562 [==============================] - 26s 17ms/step - loss: 0.8187 - accuracy: 0.7122 - auc: 0.9611 - val_loss: 0.8619 - val_accuracy: 0.7048 - val_auc: 0.9568\n",
            "Epoch 122/1000\n",
            "1562/1562 [==============================] - 26s 17ms/step - loss: 0.8166 - accuracy: 0.7130 - auc: 0.9613 - val_loss: 0.8696 - val_accuracy: 0.7006 - val_auc: 0.9559\n",
            "Epoch 123/1000\n",
            "1562/1562 [==============================] - 26s 17ms/step - loss: 0.8099 - accuracy: 0.7125 - auc: 0.9623 - val_loss: 0.8637 - val_accuracy: 0.7033 - val_auc: 0.9565\n",
            "Epoch 124/1000\n",
            "1562/1562 [==============================] - 26s 17ms/step - loss: 0.8208 - accuracy: 0.7168 - auc: 0.9608 - val_loss: 0.8611 - val_accuracy: 0.7040 - val_auc: 0.9567\n",
            "Epoch 125/1000\n",
            "1562/1562 [==============================] - 26s 17ms/step - loss: 0.8199 - accuracy: 0.7132 - auc: 0.9610 - val_loss: 0.8587 - val_accuracy: 0.7047 - val_auc: 0.9570\n",
            "Epoch 126/1000\n",
            "1562/1562 [==============================] - 26s 17ms/step - loss: 0.8198 - accuracy: 0.7101 - auc: 0.9610 - val_loss: 0.8622 - val_accuracy: 0.7036 - val_auc: 0.9565\n",
            "Epoch 127/1000\n",
            "1562/1562 [==============================] - 26s 17ms/step - loss: 0.8138 - accuracy: 0.7149 - auc: 0.9617 - val_loss: 0.8588 - val_accuracy: 0.7082 - val_auc: 0.9569\n",
            "Epoch 128/1000\n",
            "1562/1562 [==============================] - 26s 17ms/step - loss: 0.8159 - accuracy: 0.7114 - auc: 0.9616 - val_loss: 0.8641 - val_accuracy: 0.7034 - val_auc: 0.9566\n",
            "Epoch 129/1000\n",
            "1562/1562 [==============================] - 26s 17ms/step - loss: 0.8112 - accuracy: 0.7159 - auc: 0.9620 - val_loss: 0.8633 - val_accuracy: 0.7046 - val_auc: 0.9564\n",
            "\n",
            "Epoch 00129: ReduceLROnPlateau reducing learning rate to 6.25000029685907e-05.\n",
            "Epoch 130/1000\n",
            "1562/1562 [==============================] - 26s 16ms/step - loss: 0.8121 - accuracy: 0.7159 - auc: 0.9618 - val_loss: 0.8620 - val_accuracy: 0.7045 - val_auc: 0.9566\n",
            "Epoch 131/1000\n",
            "1562/1562 [==============================] - 26s 17ms/step - loss: 0.8011 - accuracy: 0.7205 - auc: 0.9628 - val_loss: 0.8618 - val_accuracy: 0.7054 - val_auc: 0.9567\n",
            "Epoch 132/1000\n",
            "1562/1562 [==============================] - 26s 17ms/step - loss: 0.8180 - accuracy: 0.7107 - auc: 0.9614 - val_loss: 0.8585 - val_accuracy: 0.7065 - val_auc: 0.9569\n",
            "Epoch 133/1000\n",
            "1562/1562 [==============================] - 26s 16ms/step - loss: 0.8048 - accuracy: 0.7162 - auc: 0.9625 - val_loss: 0.8631 - val_accuracy: 0.7020 - val_auc: 0.9564\n",
            "Epoch 134/1000\n",
            "1562/1562 [==============================] - 26s 17ms/step - loss: 0.8074 - accuracy: 0.7162 - auc: 0.9622 - val_loss: 0.8593 - val_accuracy: 0.7055 - val_auc: 0.9569\n",
            "Epoch 135/1000\n",
            "1562/1562 [==============================] - 26s 17ms/step - loss: 0.8097 - accuracy: 0.7118 - auc: 0.9620 - val_loss: 0.8596 - val_accuracy: 0.7035 - val_auc: 0.9567\n",
            "Epoch 136/1000\n",
            "1562/1562 [==============================] - 26s 17ms/step - loss: 0.8084 - accuracy: 0.7177 - auc: 0.9621 - val_loss: 0.8592 - val_accuracy: 0.7049 - val_auc: 0.9568\n",
            "Epoch 137/1000\n",
            "1562/1562 [==============================] - 26s 17ms/step - loss: 0.8053 - accuracy: 0.7160 - auc: 0.9625 - val_loss: 0.8569 - val_accuracy: 0.7075 - val_auc: 0.9571\n",
            "Epoch 138/1000\n",
            "1562/1562 [==============================] - 26s 17ms/step - loss: 0.8104 - accuracy: 0.7169 - auc: 0.9618 - val_loss: 0.8659 - val_accuracy: 0.7002 - val_auc: 0.9563\n",
            "Epoch 139/1000\n",
            "1562/1562 [==============================] - 26s 16ms/step - loss: 0.8055 - accuracy: 0.7152 - auc: 0.9626 - val_loss: 0.8584 - val_accuracy: 0.7073 - val_auc: 0.9569\n",
            "\n",
            "Epoch 00139: ReduceLROnPlateau reducing learning rate to 3.125000148429535e-05.\n",
            "Epoch 140/1000\n",
            "1562/1562 [==============================] - 26s 17ms/step - loss: 0.8123 - accuracy: 0.7155 - auc: 0.9616 - val_loss: 0.8573 - val_accuracy: 0.7085 - val_auc: 0.9571\n",
            "Epoch 141/1000\n",
            "1562/1562 [==============================] - 26s 17ms/step - loss: 0.8131 - accuracy: 0.7178 - auc: 0.9616 - val_loss: 0.8584 - val_accuracy: 0.7055 - val_auc: 0.9570\n",
            "Epoch 142/1000\n",
            "1562/1562 [==============================] - 26s 16ms/step - loss: 0.8225 - accuracy: 0.7114 - auc: 0.9609 - val_loss: 0.8576 - val_accuracy: 0.7037 - val_auc: 0.9571\n",
            "Epoch 143/1000\n",
            "1562/1562 [==============================] - 26s 17ms/step - loss: 0.7992 - accuracy: 0.7175 - auc: 0.9633 - val_loss: 0.8558 - val_accuracy: 0.7085 - val_auc: 0.9573\n",
            "Epoch 144/1000\n",
            "1562/1562 [==============================] - 26s 17ms/step - loss: 0.8054 - accuracy: 0.7146 - auc: 0.9625 - val_loss: 0.8602 - val_accuracy: 0.7047 - val_auc: 0.9569\n",
            "Epoch 145/1000\n",
            "1562/1562 [==============================] - 26s 17ms/step - loss: 0.8098 - accuracy: 0.7168 - auc: 0.9621 - val_loss: 0.8589 - val_accuracy: 0.7054 - val_auc: 0.9570\n",
            "Epoch 146/1000\n",
            "1562/1562 [==============================] - 26s 17ms/step - loss: 0.7975 - accuracy: 0.7163 - auc: 0.9633 - val_loss: 0.8605 - val_accuracy: 0.7041 - val_auc: 0.9567\n",
            "Epoch 147/1000\n",
            "1562/1562 [==============================] - 26s 17ms/step - loss: 0.7990 - accuracy: 0.7200 - auc: 0.9630 - val_loss: 0.8563 - val_accuracy: 0.7055 - val_auc: 0.9572\n",
            "Epoch 148/1000\n",
            "1562/1562 [==============================] - 26s 17ms/step - loss: 0.8032 - accuracy: 0.7166 - auc: 0.9629 - val_loss: 0.8599 - val_accuracy: 0.7057 - val_auc: 0.9568\n",
            "Epoch 149/1000\n",
            "1562/1562 [==============================] - 26s 17ms/step - loss: 0.8002 - accuracy: 0.7214 - auc: 0.9629 - val_loss: 0.8589 - val_accuracy: 0.7047 - val_auc: 0.9568\n",
            "\n",
            "Epoch 00149: ReduceLROnPlateau reducing learning rate to 1.5625000742147677e-05.\n",
            "Epoch 150/1000\n",
            "1562/1562 [==============================] - 26s 17ms/step - loss: 0.7941 - accuracy: 0.7196 - auc: 0.9636 - val_loss: 0.8578 - val_accuracy: 0.7047 - val_auc: 0.9570\n",
            "Epoch 151/1000\n",
            "1562/1562 [==============================] - 26s 17ms/step - loss: 0.7955 - accuracy: 0.7173 - auc: 0.9636 - val_loss: 0.8554 - val_accuracy: 0.7071 - val_auc: 0.9573\n",
            "Epoch 152/1000\n",
            "1562/1562 [==============================] - 26s 17ms/step - loss: 0.8051 - accuracy: 0.7158 - auc: 0.9626 - val_loss: 0.8559 - val_accuracy: 0.7069 - val_auc: 0.9572\n",
            "Epoch 153/1000\n",
            "1562/1562 [==============================] - 26s 17ms/step - loss: 0.8057 - accuracy: 0.7205 - auc: 0.9621 - val_loss: 0.8570 - val_accuracy: 0.7060 - val_auc: 0.9571\n",
            "Epoch 154/1000\n",
            "1562/1562 [==============================] - 26s 17ms/step - loss: 0.8045 - accuracy: 0.7159 - auc: 0.9628 - val_loss: 0.8588 - val_accuracy: 0.7052 - val_auc: 0.9569\n",
            "Epoch 155/1000\n",
            "1562/1562 [==============================] - 26s 17ms/step - loss: 0.7956 - accuracy: 0.7212 - auc: 0.9633 - val_loss: 0.8598 - val_accuracy: 0.7053 - val_auc: 0.9568\n",
            "Epoch 156/1000\n",
            "1562/1562 [==============================] - 26s 17ms/step - loss: 0.7998 - accuracy: 0.7188 - auc: 0.9628 - val_loss: 0.8573 - val_accuracy: 0.7069 - val_auc: 0.9571\n",
            "Epoch 157/1000\n",
            "1562/1562 [==============================] - 26s 17ms/step - loss: 0.7977 - accuracy: 0.7182 - auc: 0.9633 - val_loss: 0.8564 - val_accuracy: 0.7064 - val_auc: 0.9572\n",
            "Epoch 158/1000\n",
            "1562/1562 [==============================] - 26s 17ms/step - loss: 0.8008 - accuracy: 0.7175 - auc: 0.9630 - val_loss: 0.8589 - val_accuracy: 0.7064 - val_auc: 0.9568\n",
            "Epoch 159/1000\n",
            "1562/1562 [==============================] - 26s 17ms/step - loss: 0.7897 - accuracy: 0.7213 - auc: 0.9639 - val_loss: 0.8585 - val_accuracy: 0.7055 - val_auc: 0.9569\n",
            "Epoch 160/1000\n",
            "1562/1562 [==============================] - 26s 17ms/step - loss: 0.8047 - accuracy: 0.7170 - auc: 0.9626 - val_loss: 0.8572 - val_accuracy: 0.7065 - val_auc: 0.9571\n",
            "Epoch 161/1000\n",
            "1562/1562 [==============================] - 26s 17ms/step - loss: 0.7967 - accuracy: 0.7212 - auc: 0.9632 - val_loss: 0.8575 - val_accuracy: 0.7063 - val_auc: 0.9570\n",
            "\n",
            "Epoch 00161: ReduceLROnPlateau reducing learning rate to 7.812500371073838e-06.\n",
            "Epoch 162/1000\n",
            "1562/1562 [==============================] - 26s 17ms/step - loss: 0.8036 - accuracy: 0.7176 - auc: 0.9627 - val_loss: 0.8559 - val_accuracy: 0.7065 - val_auc: 0.9571\n",
            "Epoch 163/1000\n",
            "1562/1562 [==============================] - 26s 17ms/step - loss: 0.7996 - accuracy: 0.7170 - auc: 0.9631 - val_loss: 0.8578 - val_accuracy: 0.7069 - val_auc: 0.9570\n",
            "Epoch 164/1000\n",
            "1562/1562 [==============================] - 26s 17ms/step - loss: 0.7914 - accuracy: 0.7210 - auc: 0.9639 - val_loss: 0.8596 - val_accuracy: 0.7061 - val_auc: 0.9568\n",
            "Epoch 165/1000\n",
            "1562/1562 [==============================] - 26s 17ms/step - loss: 0.7985 - accuracy: 0.7176 - auc: 0.9631 - val_loss: 0.8589 - val_accuracy: 0.7058 - val_auc: 0.9569\n",
            "Epoch 166/1000\n",
            "1562/1562 [==============================] - 26s 17ms/step - loss: 0.7941 - accuracy: 0.7199 - auc: 0.9636 - val_loss: 0.8575 - val_accuracy: 0.7055 - val_auc: 0.9571\n",
            "Epoch 167/1000\n",
            "1562/1562 [==============================] - 26s 17ms/step - loss: 0.7999 - accuracy: 0.7172 - auc: 0.9630 - val_loss: 0.8589 - val_accuracy: 0.7064 - val_auc: 0.9569\n",
            "Epoch 168/1000\n",
            "1562/1562 [==============================] - 26s 17ms/step - loss: 0.7977 - accuracy: 0.7181 - auc: 0.9632 - val_loss: 0.8575 - val_accuracy: 0.7072 - val_auc: 0.9571\n",
            "Epoch 169/1000\n",
            "1562/1562 [==============================] - 26s 17ms/step - loss: 0.8115 - accuracy: 0.7154 - auc: 0.9622 - val_loss: 0.8567 - val_accuracy: 0.7073 - val_auc: 0.9571\n",
            "Epoch 170/1000\n",
            "1562/1562 [==============================] - 26s 17ms/step - loss: 0.8064 - accuracy: 0.7172 - auc: 0.9622 - val_loss: 0.8565 - val_accuracy: 0.7080 - val_auc: 0.9571\n",
            "Epoch 171/1000\n",
            "1562/1562 [==============================] - 26s 17ms/step - loss: 0.8047 - accuracy: 0.7189 - auc: 0.9625 - val_loss: 0.8585 - val_accuracy: 0.7063 - val_auc: 0.9569\n",
            "\n",
            "Epoch 00171: ReduceLROnPlateau reducing learning rate to 3.906250185536919e-06.\n",
            "Epoch 172/1000\n",
            "1562/1562 [==============================] - 26s 17ms/step - loss: 0.7979 - accuracy: 0.7225 - auc: 0.9630 - val_loss: 0.8557 - val_accuracy: 0.7076 - val_auc: 0.9572\n",
            "Epoch 173/1000\n",
            "1562/1562 [==============================] - 26s 17ms/step - loss: 0.8037 - accuracy: 0.7212 - auc: 0.9624 - val_loss: 0.8564 - val_accuracy: 0.7070 - val_auc: 0.9571\n",
            "Epoch 174/1000\n",
            "1562/1562 [==============================] - 26s 17ms/step - loss: 0.8009 - accuracy: 0.7178 - auc: 0.9630 - val_loss: 0.8554 - val_accuracy: 0.7080 - val_auc: 0.9572\n",
            "Epoch 175/1000\n",
            "1562/1562 [==============================] - 26s 17ms/step - loss: 0.7974 - accuracy: 0.7194 - auc: 0.9631 - val_loss: 0.8585 - val_accuracy: 0.7069 - val_auc: 0.9569\n",
            "Epoch 176/1000\n",
            "1562/1562 [==============================] - 26s 17ms/step - loss: 0.7948 - accuracy: 0.7209 - auc: 0.9636 - val_loss: 0.8556 - val_accuracy: 0.7078 - val_auc: 0.9572\n",
            "Epoch 177/1000\n",
            "1562/1562 [==============================] - 26s 17ms/step - loss: 0.8056 - accuracy: 0.7191 - auc: 0.9622 - val_loss: 0.8566 - val_accuracy: 0.7053 - val_auc: 0.9571\n",
            "Epoch 178/1000\n",
            "1562/1562 [==============================] - 25s 16ms/step - loss: 0.8076 - accuracy: 0.7138 - auc: 0.9624 - val_loss: 0.8556 - val_accuracy: 0.7079 - val_auc: 0.9573\n",
            "Epoch 179/1000\n",
            "1562/1562 [==============================] - 25s 16ms/step - loss: 0.8011 - accuracy: 0.7192 - auc: 0.9627 - val_loss: 0.8562 - val_accuracy: 0.7067 - val_auc: 0.9571\n",
            "Epoch 180/1000\n",
            "1562/1562 [==============================] - 25s 16ms/step - loss: 0.7923 - accuracy: 0.7225 - auc: 0.9636 - val_loss: 0.8569 - val_accuracy: 0.7058 - val_auc: 0.9572\n",
            "Epoch 181/1000\n",
            "1562/1562 [==============================] - 25s 16ms/step - loss: 0.7989 - accuracy: 0.7211 - auc: 0.9629 - val_loss: 0.8592 - val_accuracy: 0.7080 - val_auc: 0.9568\n",
            "\n",
            "Epoch 00181: ReduceLROnPlateau reducing learning rate to 1.9531250927684596e-06.\n",
            "Epoch 182/1000\n",
            "1562/1562 [==============================] - 25s 16ms/step - loss: 0.7926 - accuracy: 0.7205 - auc: 0.9636 - val_loss: 0.8554 - val_accuracy: 0.7082 - val_auc: 0.9573\n",
            "Epoch 183/1000\n",
            "1562/1562 [==============================] - 25s 16ms/step - loss: 0.7992 - accuracy: 0.7215 - auc: 0.9630 - val_loss: 0.8555 - val_accuracy: 0.7066 - val_auc: 0.9573\n",
            "Epoch 184/1000\n",
            "1562/1562 [==============================] - 25s 16ms/step - loss: 0.7914 - accuracy: 0.7231 - auc: 0.9636 - val_loss: 0.8546 - val_accuracy: 0.7072 - val_auc: 0.9574\n",
            "Epoch 185/1000\n",
            "1562/1562 [==============================] - 25s 16ms/step - loss: 0.7994 - accuracy: 0.7197 - auc: 0.9630 - val_loss: 0.8557 - val_accuracy: 0.7067 - val_auc: 0.9573\n",
            "Epoch 186/1000\n",
            "1562/1562 [==============================] - 25s 16ms/step - loss: 0.7971 - accuracy: 0.7197 - auc: 0.9634 - val_loss: 0.8577 - val_accuracy: 0.7069 - val_auc: 0.9570\n",
            "Epoch 187/1000\n",
            "1562/1562 [==============================] - 25s 16ms/step - loss: 0.8017 - accuracy: 0.7174 - auc: 0.9628 - val_loss: 0.8564 - val_accuracy: 0.7062 - val_auc: 0.9572\n",
            "Epoch 188/1000\n",
            "1562/1562 [==============================] - 25s 16ms/step - loss: 0.7906 - accuracy: 0.7218 - auc: 0.9638 - val_loss: 0.8570 - val_accuracy: 0.7072 - val_auc: 0.9570\n",
            "Epoch 189/1000\n",
            "1562/1562 [==============================] - 25s 16ms/step - loss: 0.8037 - accuracy: 0.7187 - auc: 0.9626 - val_loss: 0.8564 - val_accuracy: 0.7064 - val_auc: 0.9572\n",
            "Epoch 190/1000\n",
            "1562/1562 [==============================] - 25s 16ms/step - loss: 0.7951 - accuracy: 0.7182 - auc: 0.9634 - val_loss: 0.8554 - val_accuracy: 0.7064 - val_auc: 0.9573\n",
            "Epoch 191/1000\n",
            "1562/1562 [==============================] - 25s 16ms/step - loss: 0.8029 - accuracy: 0.7191 - auc: 0.9627 - val_loss: 0.8565 - val_accuracy: 0.7069 - val_auc: 0.9572\n",
            "Epoch 192/1000\n",
            "1562/1562 [==============================] - 25s 16ms/step - loss: 0.8012 - accuracy: 0.7165 - auc: 0.9627 - val_loss: 0.8580 - val_accuracy: 0.7069 - val_auc: 0.9569\n",
            "Epoch 193/1000\n",
            "1562/1562 [==============================] - 25s 16ms/step - loss: 0.7873 - accuracy: 0.7200 - auc: 0.9643 - val_loss: 0.8571 - val_accuracy: 0.7066 - val_auc: 0.9571\n",
            "Epoch 194/1000\n",
            "1562/1562 [==============================] - 25s 16ms/step - loss: 0.8073 - accuracy: 0.7167 - auc: 0.9621 - val_loss: 0.8576 - val_accuracy: 0.7066 - val_auc: 0.9570\n",
            "\n",
            "Epoch 00194: ReduceLROnPlateau reducing learning rate to 9.765625463842298e-07.\n",
            "Epoch 195/1000\n",
            "1562/1562 [==============================] - 25s 16ms/step - loss: 0.7999 - accuracy: 0.7187 - auc: 0.9628 - val_loss: 0.8569 - val_accuracy: 0.7071 - val_auc: 0.9570\n",
            "Epoch 196/1000\n",
            "1562/1562 [==============================] - 25s 16ms/step - loss: 0.7943 - accuracy: 0.7206 - auc: 0.9635 - val_loss: 0.8583 - val_accuracy: 0.7077 - val_auc: 0.9570\n",
            "Epoch 197/1000\n",
            "1562/1562 [==============================] - 26s 16ms/step - loss: 0.7906 - accuracy: 0.7212 - auc: 0.9638 - val_loss: 0.8577 - val_accuracy: 0.7075 - val_auc: 0.9571\n",
            "Epoch 198/1000\n",
            "1562/1562 [==============================] - 25s 16ms/step - loss: 0.8026 - accuracy: 0.7161 - auc: 0.9628 - val_loss: 0.8573 - val_accuracy: 0.7067 - val_auc: 0.9571\n",
            "Epoch 199/1000\n",
            "1562/1562 [==============================] - 25s 16ms/step - loss: 0.8084 - accuracy: 0.7162 - auc: 0.9622 - val_loss: 0.8577 - val_accuracy: 0.7073 - val_auc: 0.9571\n",
            "Epoch 200/1000\n",
            "1562/1562 [==============================] - 25s 16ms/step - loss: 0.8091 - accuracy: 0.7156 - auc: 0.9622 - val_loss: 0.8559 - val_accuracy: 0.7080 - val_auc: 0.9572\n",
            "Epoch 201/1000\n",
            "1562/1562 [==============================] - 26s 16ms/step - loss: 0.7934 - accuracy: 0.7211 - auc: 0.9635 - val_loss: 0.8566 - val_accuracy: 0.7071 - val_auc: 0.9571\n",
            "Epoch 202/1000\n",
            "1562/1562 [==============================] - 25s 16ms/step - loss: 0.8018 - accuracy: 0.7160 - auc: 0.9629 - val_loss: 0.8554 - val_accuracy: 0.7086 - val_auc: 0.9573\n",
            "Epoch 203/1000\n",
            "1562/1562 [==============================] - 25s 16ms/step - loss: 0.8063 - accuracy: 0.7159 - auc: 0.9623 - val_loss: 0.8563 - val_accuracy: 0.7080 - val_auc: 0.9571\n",
            "Epoch 204/1000\n",
            "1562/1562 [==============================] - 25s 16ms/step - loss: 0.8108 - accuracy: 0.7175 - auc: 0.9616 - val_loss: 0.8580 - val_accuracy: 0.7075 - val_auc: 0.9570\n",
            "\n",
            "Epoch 00204: ReduceLROnPlateau reducing learning rate to 4.882812731921149e-07.\n",
            "Epoch 205/1000\n",
            "1562/1562 [==============================] - 25s 16ms/step - loss: 0.8073 - accuracy: 0.7170 - auc: 0.9624 - val_loss: 0.8591 - val_accuracy: 0.7069 - val_auc: 0.9569\n",
            "Epoch 206/1000\n",
            "1562/1562 [==============================] - 26s 16ms/step - loss: 0.7996 - accuracy: 0.7171 - auc: 0.9630 - val_loss: 0.8586 - val_accuracy: 0.7063 - val_auc: 0.9569\n",
            "Epoch 207/1000\n",
            "1562/1562 [==============================] - 25s 16ms/step - loss: 0.8026 - accuracy: 0.7199 - auc: 0.9629 - val_loss: 0.8571 - val_accuracy: 0.7074 - val_auc: 0.9570\n",
            "Epoch 208/1000\n",
            "1562/1562 [==============================] - 25s 16ms/step - loss: 0.7915 - accuracy: 0.7246 - auc: 0.9638 - val_loss: 0.8586 - val_accuracy: 0.7059 - val_auc: 0.9569\n",
            "Epoch 209/1000\n",
            "1562/1562 [==============================] - 26s 16ms/step - loss: 0.8085 - accuracy: 0.7137 - auc: 0.9623 - val_loss: 0.8558 - val_accuracy: 0.7078 - val_auc: 0.9572\n",
            "Epoch 210/1000\n",
            "1562/1562 [==============================] - 26s 16ms/step - loss: 0.7995 - accuracy: 0.7207 - auc: 0.9631 - val_loss: 0.8582 - val_accuracy: 0.7076 - val_auc: 0.9569\n",
            "Epoch 211/1000\n",
            "1562/1562 [==============================] - 25s 16ms/step - loss: 0.7999 - accuracy: 0.7189 - auc: 0.9632 - val_loss: 0.8569 - val_accuracy: 0.7069 - val_auc: 0.9571\n",
            "Epoch 212/1000\n",
            "1562/1562 [==============================] - 25s 16ms/step - loss: 0.8106 - accuracy: 0.7148 - auc: 0.9619 - val_loss: 0.8578 - val_accuracy: 0.7071 - val_auc: 0.9569\n",
            "Epoch 213/1000\n",
            "1562/1562 [==============================] - 26s 16ms/step - loss: 0.8047 - accuracy: 0.7164 - auc: 0.9626 - val_loss: 0.8560 - val_accuracy: 0.7077 - val_auc: 0.9572\n",
            "Epoch 214/1000\n",
            "1562/1562 [==============================] - 26s 16ms/step - loss: 0.8063 - accuracy: 0.7166 - auc: 0.9624 - val_loss: 0.8553 - val_accuracy: 0.7073 - val_auc: 0.9572\n",
            "\n",
            "Epoch 00214: ReduceLROnPlateau reducing learning rate to 2.4414063659605745e-07.\n",
            "Epoch 215/1000\n",
            "1562/1562 [==============================] - 26s 16ms/step - loss: 0.7992 - accuracy: 0.7202 - auc: 0.9629 - val_loss: 0.8576 - val_accuracy: 0.7071 - val_auc: 0.9570\n",
            "Epoch 216/1000\n",
            "1562/1562 [==============================] - 26s 16ms/step - loss: 0.8004 - accuracy: 0.7213 - auc: 0.9627 - val_loss: 0.8555 - val_accuracy: 0.7082 - val_auc: 0.9572\n",
            "Epoch 217/1000\n",
            "1562/1562 [==============================] - 26s 16ms/step - loss: 0.7998 - accuracy: 0.7163 - auc: 0.9630 - val_loss: 0.8564 - val_accuracy: 0.7069 - val_auc: 0.9572\n",
            "Epoch 218/1000\n",
            "1562/1562 [==============================] - 26s 16ms/step - loss: 0.7924 - accuracy: 0.7232 - auc: 0.9636 - val_loss: 0.8565 - val_accuracy: 0.7066 - val_auc: 0.9572\n",
            "Epoch 219/1000\n",
            "1562/1562 [==============================] - 26s 16ms/step - loss: 0.7982 - accuracy: 0.7191 - auc: 0.9631 - val_loss: 0.8551 - val_accuracy: 0.7064 - val_auc: 0.9573\n",
            "Restoring model weights from the end of the best epoch.\n",
            "Epoch 00219: early stopping\n"
          ],
          "name": "stdout"
        }
      ]
    },
    {
      "cell_type": "code",
      "metadata": {
        "id": "cLxZiHozHSXt",
        "outputId": "4a5b5436-9af4-4322-89d0-3b12be9445ab",
        "colab": {
          "base_uri": "https://localhost:8080/",
          "height": 34
        }
      },
      "source": [
        "classifier.layers[GABOR_LAYER_INDEX].name"
      ],
      "execution_count": 15,
      "outputs": [
        {
          "output_type": "execute_result",
          "data": {
            "application/vnd.google.colaboratory.intrinsic+json": {
              "type": "string"
            },
            "text/plain": [
              "'GaborLayer'"
            ]
          },
          "metadata": {
            "tags": []
          },
          "execution_count": 15
        }
      ]
    },
    {
      "cell_type": "code",
      "metadata": {
        "id": "JY_XqRsqymNN"
      },
      "source": [
        "import pickle\n",
        "\n",
        "trained_layers = copy.deepcopy(classifier.get_layer(name=classifier.layers[GABOR_LAYER_INDEX].name).get_weights())\n",
        "hist.history['untrained_layers'] = untrained_layers\n",
        "hist.history['trained_layers'] = trained_layers\n",
        "\n",
        "with open('cifar10-{}-history-kernel-{}.p'.format(ITERATION, GABOR_WIDTH),'wb') as fp:\n",
        "    pickle.dump(hist.history, fp, protocol=pickle.HIGHEST_PROTOCOL)"
      ],
      "execution_count": 16,
      "outputs": []
    },
    {
      "cell_type": "code",
      "metadata": {
        "id": "FJFHsvGM1D5U",
        "outputId": "db81d1b2-86ef-4e2b-9883-9ac8fa412d7c",
        "colab": {
          "base_uri": "https://localhost:8080/",
          "height": 404
        }
      },
      "source": [
        "import matplotlib.pyplot as plt\n",
        "\n",
        "fig = plt.figure(figsize=(10,6))\n",
        "plt.plot(hist.history['loss'], color='#785ef0')\n",
        "plt.plot(hist.history['val_loss'], color='#dc267f')\n",
        "plt.title('Model Loss Progress')\n",
        "plt.ylabel('Loss')\n",
        "plt.xlabel('Epoch')\n",
        "plt.legend(['Training Set', 'Test Set'], loc='upper right')\n",
        "plt.savefig('cifar10-{}-loss-kernel-{}.png'.format(ITERATION,GABOR_WIDTH), dpi=350, bbox_inches='tight')\n",
        "plt.show()"
      ],
      "execution_count": 17,
      "outputs": [
        {
          "output_type": "display_data",
          "data": {
            "image/png": "[encoded data removed]",
            "text/plain": [
              "<Figure size 720x432 with 1 Axes>"
            ]
          },
          "metadata": {
            "tags": [],
            "needs_background": "light"
          }
        }
      ]
    },
    {
      "cell_type": "code",
      "metadata": {
        "id": "2G_KNTnY1HOb",
        "outputId": "68176b63-b470-450b-8faa-66bcbd32937d",
        "colab": {
          "base_uri": "https://localhost:8080/",
          "height": 404
        }
      },
      "source": [
        "fig = plt.figure(figsize=(10,6))\n",
        "plt.plot(hist.history['accuracy'], color='#785ef0')\n",
        "plt.plot(hist.history['val_accuracy'], color='#dc267f')\n",
        "plt.title('Model Accuracy Progress')\n",
        "plt.ylabel('Accuracy')\n",
        "plt.xlabel('Epoch')\n",
        "plt.legend(['Training Set', 'Test Set'], loc='upper right')\n",
        "plt.savefig('cifar10-{}-accuracy-kernel-{}.png'.format(ITERATION, GABOR_WIDTH), dpi=350, bbox_inches='tight')\n",
        "plt.show()"
      ],
      "execution_count": 18,
      "outputs": [
        {
          "output_type": "display_data",
          "data": {
            "image/png": "[encoded data removed]",
            "text/plain": [
              "<Figure size 720x432 with 1 Axes>"
            ]
          },
          "metadata": {
            "tags": [],
            "needs_background": "light"
          }
        }
      ]
    },
    {
      "cell_type": "code",
      "metadata": {
        "id": "GOXB0dklHknb",
        "outputId": "73b484a7-10b7-44d8-97aa-6b3f41b0dd83",
        "colab": {
          "base_uri": "https://localhost:8080/",
          "height": 1000
        }
      },
      "source": [
        "from sklearn.preprocessing import MinMaxScaler\n",
        "\n",
        "cnnl1 = classifier.layers[GABOR_LAYER_INDEX].name   # get the name of the first conv layer\n",
        "W = classifier.get_layer(name=cnnl1).get_weights()[0]   #get the filters\n",
        "wshape = W.shape  #save the original shape\n",
        "\n",
        "# this part will scale to [0, 1] for visualization purposes\n",
        "scaler = MinMaxScaler()\n",
        "scaler.fit(W.reshape(-1,1))\n",
        "W = scaler.transform(W.reshape(-1,1))\n",
        "W = W.reshape(wshape)\n",
        "\n",
        "fig, axs = plt.subplots(8,NUM_RECEPTIVE_FILTERS//8, figsize=(24,24))\n",
        "fig.subplots_adjust(hspace = .25, wspace=.001)\n",
        "axs = axs.ravel()\n",
        "for i in range(W.shape[-1]):\n",
        "  # we reshape to a 3D (RGB) image shape and display\n",
        "  h = np.reshape(W[:,:,:,i], (GABOR_WIDTH,GABOR_HEIGHT,3))\n",
        "  axs[i].imshow(h)\n",
        "  axs[i].set_title('Filter ' + str(i))    \n",
        "plt.savefig(\"cifar10-{}-filters-kernel-{}.png\".format(ITERATION,GABOR_WIDTH), bbox_inches='tight', dpi=350)"
      ],
      "execution_count": 19,
      "outputs": [
        {
          "output_type": "display_data",
          "data": {
            "image/png": "[encoded data removed]",
            "text/plain": [
              "<Figure size 1728x1728 with 32 Axes>"
            ]
          },
          "metadata": {
            "tags": [],
            "needs_background": "light"
          }
        }
      ]
    },
    {
      "cell_type": "code",
      "metadata": {
        "id": "nnvHM8cxHnTb",
        "outputId": "f8bc0c45-856a-414e-96c2-8060164ad0d3",
        "colab": {
          "base_uri": "https://localhost:8080/",
          "height": 282
        }
      },
      "source": [
        "cnnl1 = classifier.layers[GABOR_LAYER_INDEX].name   # get the name of the first conv layer\n",
        "W = classifier.get_layer(name=cnnl1).get_weights()[0]\n",
        "plt.hist(W.ravel(), bins=100)\n",
        "print(np.min(W),np.max(W))"
      ],
      "execution_count": 20,
      "outputs": [
        {
          "output_type": "stream",
          "text": [
            "-0.87935656 0.8520789\n"
          ],
          "name": "stdout"
        },
        {
          "output_type": "display_data",
          "data": {
            "image/png": "[encoded data removed]",
            "text/plain": [
              "<Figure size 432x288 with 1 Axes>"
            ]
          },
          "metadata": {
            "tags": [],
            "needs_background": "light"
          }
        }
      ]
    },
    {
      "cell_type": "code",
      "metadata": {
        "id": "wvq1WievHpm6",
        "outputId": "e58987c2-6c4b-4d52-d1de-d67395bb00f0",
        "colab": {
          "base_uri": "https://localhost:8080/",
          "height": 248
        }
      },
      "source": [
        "filter_layers = []\n",
        "for i in range(NUM_RECEPTIVE_FILTERS):\n",
        "    for j in range(3):\n",
        "        filter_layers.append(np.reshape(W[:,:,j, i], GABOR_SIZE))\n",
        "for i,gf in enumerate(filter_layers):\n",
        "    plt.subplot(8, (W.shape[3]*3)//8, i+1)\n",
        "    plt.imshow(gf, cmap='gray')\n",
        "    plt.axis('off')\n",
        "plt.savefig(\"cifar10-{}-channelwise-filters-kernel-{}.png\".format(ITERATION,GABOR_WIDTH), bbox_inches='tight', dpi=350)"
      ],
      "execution_count": 21,
      "outputs": [
        {
          "output_type": "display_data",
          "data": {
            "image/png": "[encoded data removed]",
            "text/plain": [
              "<Figure size 432x288 with 96 Axes>"
            ]
          },
          "metadata": {
            "tags": [],
            "needs_background": "light"
          }
        }
      ]
    },
    {
      "cell_type": "code",
      "metadata": {
        "id": "8TUDWlY_HsQH"
      },
      "source": [
        "!cp cifar10-1-history-kernel-3.p /content/drive/My\\ Drive/Mehang\\ Rai/analysis/image-size/32/3/cifar10-64/1/"
      ],
      "execution_count": 22,
      "outputs": []
    },
    {
      "cell_type": "code",
      "metadata": {
        "id": "1IexDcxdHupt"
      },
      "source": [
        "!cp cifar10-1-loss-kernel-3.png /content/drive/My\\ Drive/Mehang\\ Rai/analysis/image-size/32/3/cifar10-64/1/"
      ],
      "execution_count": 23,
      "outputs": []
    },
    {
      "cell_type": "code",
      "metadata": {
        "id": "VKaU1uY6HvFA"
      },
      "source": [
        "!cp cifar10-1-accuracy-kernel-3.png /content/drive/My\\ Drive/Mehang\\ Rai/analysis/image-size/32/3/cifar10-64/1/"
      ],
      "execution_count": 24,
      "outputs": []
    },
    {
      "cell_type": "code",
      "metadata": {
        "id": "ekTsX-BTHvU3"
      },
      "source": [
        "!cp cifar10-1-filters-kernel-3.png /content/drive/My\\ Drive/Mehang\\ Rai/analysis/image-size/32/3/cifar10-64/1/"
      ],
      "execution_count": 25,
      "outputs": []
    },
    {
      "cell_type": "code",
      "metadata": {
        "id": "gQgj6c_HHvmW"
      },
      "source": [
        "!cp cifar10-1-channelwise-filters-kernel-3.png /content/drive/My\\ Drive/Mehang\\ Rai/analysis/image-size/32/3/cifar10-64/1/"
      ],
      "execution_count": 26,
      "outputs": []
    },
    {
      "cell_type": "code",
      "metadata": {
        "id": "0wFTQ9ZbIG0y"
      },
      "source": [
        ""
      ],
      "execution_count": 26,
      "outputs": []
    }
  ]
}