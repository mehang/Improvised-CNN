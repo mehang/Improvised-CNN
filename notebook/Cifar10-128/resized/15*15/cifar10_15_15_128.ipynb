{
  "nbformat": 4,
  "nbformat_minor": 0,
  "metadata": {
    "colab": {
      "name": "cifar10-15*15-128.ipynb",
      "provenance": [],
      "include_colab_link": true
    },
    "kernelspec": {
      "name": "python3",
      "display_name": "Python 3"
    },
    "accelerator": "GPU"
  },
  "cells": [
    {
      "cell_type": "markdown",
      "metadata": {
        "id": "view-in-github",
        "colab_type": "text"
      },
      "source": [
        "<a href=\"https://colab.research.google.com/github/mehang/Improvised-CNN/blob/master/notebook/Cifar10-128/resized/15*15/cifar10_15_15_128.ipynb\" target=\"_parent\"><img src=\"https://colab.research.google.com/assets/colab-badge.svg\" alt=\"Open In Colab\"/></a>"
      ]
    },
    {
      "cell_type": "code",
      "metadata": {
        "colab": {
          "base_uri": "https://localhost:8080/"
        },
        "id": "VHM8BWHSsWHX",
        "outputId": "e7dc9691-e53d-40c5-9655-c8f6b17ce506"
      },
      "source": [
        "from google.colab import drive\n",
        "drive.mount('/content/drive')"
      ],
      "execution_count": 1,
      "outputs": [
        {
          "output_type": "stream",
          "text": [
            "Drive already mounted at /content/drive; to attempt to forcibly remount, call drive.mount(\"/content/drive\", force_remount=True).\n"
          ],
          "name": "stdout"
        }
      ]
    },
    {
      "cell_type": "code",
      "metadata": {
        "id": "BgKlsGqrxD22"
      },
      "source": [
        "import matplotlib.pyplot as plt\n",
        "import numpy as np\n",
        "import os\n",
        "import PIL\n",
        "import tensorflow as tf\n",
        "import pandas as pd\n",
        "\n",
        "from tensorflow import keras\n",
        "from tensorflow.keras import layers\n",
        "from tensorflow.keras.models import Sequential\n",
        "from tensorflow.keras.preprocessing.image import ImageDataGenerator\n",
        "import pathlib\n",
        "import time\n",
        "\n",
        "from tensorflow.keras.preprocessing.image import ImageDataGenerator, load_img\n",
        "from tensorflow.keras.utils import to_categorical\n",
        "from sklearn.model_selection import train_test_split\n"
      ],
      "execution_count": 2,
      "outputs": []
    },
    {
      "cell_type": "code",
      "metadata": {
        "id": "X7IoR5hRxKwQ"
      },
      "source": [
        "!unzip /content/drive/My\\ Drive/Mehang\\ Rai/cifar10-128.zip -d cifar10-128"
      ],
      "execution_count": null,
      "outputs": []
    },
    {
      "cell_type": "code",
      "metadata": {
        "id": "giztz-bcxaZt"
      },
      "source": [
        "ITERATION = 1\n",
        "IMAGE_WIDTH=128\n",
        "IMAGE_HEIGHT=128\n",
        "IMAGE_SIZE=(IMAGE_WIDTH, IMAGE_HEIGHT)\n",
        "IMAGE_CHANNELS=3\n",
        "RANDOM_SEED = [42, 42, 57, 48, 86, 7, 15, 28, 39, 52][ITERATION-1]\n",
        "BATCH_SIZE = 32\n",
        "NUM_CLASSES = 10\n",
        "EPOCHS = 1000\n",
        "GABOR_LAYER_INDEX = 0\n",
        "GABOR_WIDTH = 11\n",
        "GABOR_HEIGHT = 11\n",
        "GABOR_SIZE = (GABOR_WIDTH, GABOR_HEIGHT)\n",
        "NUM_RECEPTIVE_FILTERS = 32\n",
        "TRAIN_DIR = \"cifar10-128/cifar10-128/train/\"\n",
        "TEST_DIR = \"cifar10-128/cifar10-128/test/\"\n",
        "# TEST_DIR = \"cifar100_128_fine/cifar100_128_fine/train/\"\n",
        "# TRAIN_DIR = \"cifar100_128_fine/cifar100_128_fine/test/\""
      ],
      "execution_count": 3,
      "outputs": []
    },
    {
      "cell_type": "code",
      "metadata": {
        "id": "1C4bbsPAx8_c"
      },
      "source": [
        "filenames = os.listdir(TRAIN_DIR)\n",
        "categories = []\n",
        "for filename in filenames:\n",
        "    category = filename.split('.')[0]\n",
        "    categories.append(category)\n",
        "\n",
        "train_df = pd.DataFrame({\n",
        "    'filename': filenames,\n",
        "    'category': categories\n",
        "})\n",
        "\n",
        "filenames = os.listdir(TEST_DIR)\n",
        "categories = []\n",
        "for filename in filenames:\n",
        "    category = filename.split('.')[0]\n",
        "    categories.append(category)\n",
        "\n",
        "validate_df = pd.DataFrame({\n",
        "    'filename': filenames,\n",
        "    'category': categories\n",
        "})"
      ],
      "execution_count": 5,
      "outputs": []
    },
    {
      "cell_type": "code",
      "metadata": {
        "id": "szeBehwtx_rc"
      },
      "source": [
        "train_df = train_df.reset_index(drop=True)\n",
        "validate_df = validate_df.reset_index(drop=True)\n",
        "total_train = train_df.shape[0]\n",
        "total_validate = validate_df.shape[0]"
      ],
      "execution_count": 6,
      "outputs": []
    },
    {
      "cell_type": "code",
      "metadata": {
        "colab": {
          "base_uri": "https://localhost:8080/",
          "height": 328
        },
        "id": "5nT44Mk-yBhF",
        "outputId": "82929e5b-6da6-43be-dfb3-1924e9c5e5e8"
      },
      "source": [
        "train_df['category'].value_counts().plot.bar()"
      ],
      "execution_count": 7,
      "outputs": [
        {
          "output_type": "execute_result",
          "data": {
            "text/plain": [
              "<matplotlib.axes._subplots.AxesSubplot at 0x7f04b6edae10>"
            ]
          },
          "metadata": {
            "tags": []
          },
          "execution_count": 7
        },
        {
          "output_type": "display_data",
          "data": {
            "image/png": "[encoded data removed]",
            "text/plain": [
              "<Figure size 432x288 with 1 Axes>"
            ]
          },
          "metadata": {
            "tags": [],
            "needs_background": "light"
          }
        }
      ]
    },
    {
      "cell_type": "code",
      "metadata": {
        "colab": {
          "base_uri": "https://localhost:8080/",
          "height": 328
        },
        "id": "CfbwDM9FyDQS",
        "outputId": "6653fd2d-a6f8-4a57-c62c-f11d3b902952"
      },
      "source": [
        "validate_df['category'].value_counts().plot.bar()"
      ],
      "execution_count": 8,
      "outputs": [
        {
          "output_type": "execute_result",
          "data": {
            "text/plain": [
              "<matplotlib.axes._subplots.AxesSubplot at 0x7f04b6947690>"
            ]
          },
          "metadata": {
            "tags": []
          },
          "execution_count": 8
        },
        {
          "output_type": "display_data",
          "data": {
            "image/png": "[encoded data removed]",
            "text/plain": [
              "<Figure size 432x288 with 1 Axes>"
            ]
          },
          "metadata": {
            "tags": [],
            "needs_background": "light"
          }
        }
      ]
    },
    {
      "cell_type": "code",
      "metadata": {
        "colab": {
          "base_uri": "https://localhost:8080/"
        },
        "id": "N8hSszjkyYoX",
        "outputId": "5ea9463f-c38c-4a39-d8b4-a541fdd2a79f"
      },
      "source": [
        "train_datagen = ImageDataGenerator(\n",
        "    # rotation_range=40,\n",
        "    # width_shift_range=0.2,\n",
        "    # height_shift_range=0.2,\n",
        "    # shear_range=0.2,\n",
        "    # zoom_range=0.2,\n",
        "    # horizontal_flip=True,\n",
        "    rescale=1./255,\n",
        ")\n",
        "train_generator = train_datagen.flow_from_dataframe(\n",
        "    train_df, \n",
        "    TRAIN_DIR, \n",
        "    x_col='filename',\n",
        "    y_col='category',\n",
        "    target_size=IMAGE_SIZE,\n",
        "    class_mode='categorical',\n",
        "    batch_size=BATCH_SIZE\n",
        ")"
      ],
      "execution_count": 9,
      "outputs": [
        {
          "output_type": "stream",
          "text": [
            "Found 50000 validated image filenames belonging to 10 classes.\n"
          ],
          "name": "stdout"
        }
      ]
    },
    {
      "cell_type": "code",
      "metadata": {
        "colab": {
          "base_uri": "https://localhost:8080/"
        },
        "id": "wg4HhkU_yaaG",
        "outputId": "93c9feca-9073-4b96-eea1-aef8fc98d56c"
      },
      "source": [
        "validation_datagen = ImageDataGenerator(rescale=1./255)\n",
        "validation_generator = validation_datagen.flow_from_dataframe(\n",
        "    validate_df, \n",
        "    TEST_DIR, \n",
        "    x_col='filename',\n",
        "    y_col='category',\n",
        "    target_size=IMAGE_SIZE,\n",
        "    class_mode='categorical',\n",
        "    batch_size=BATCH_SIZE\n",
        ")"
      ],
      "execution_count": 10,
      "outputs": [
        {
          "output_type": "stream",
          "text": [
            "Found 10000 validated image filenames belonging to 10 classes.\n"
          ],
          "name": "stdout"
        }
      ]
    },
    {
      "cell_type": "code",
      "metadata": {
        "colab": {
          "base_uri": "https://localhost:8080/"
        },
        "id": "0qGTHC25yFVO",
        "outputId": "f3a9dc93-eb43-4dad-dcda-1fe321686da2"
      },
      "source": [
        "print(train_df.shape)\n",
        "print(validate_df.shape)"
      ],
      "execution_count": 11,
      "outputs": [
        {
          "output_type": "stream",
          "text": [
            "(50000, 2)\n",
            "(10000, 2)\n"
          ],
          "name": "stdout"
        }
      ]
    },
    {
      "cell_type": "code",
      "metadata": {
        "colab": {
          "base_uri": "https://localhost:8080/"
        },
        "id": "hwxmdqkCyPuo",
        "outputId": "90081f26-01a1-401c-8120-387871827f90"
      },
      "source": [
        "train_generator.image_shape"
      ],
      "execution_count": 12,
      "outputs": [
        {
          "output_type": "execute_result",
          "data": {
            "text/plain": [
              "(128, 128, 3)"
            ]
          },
          "metadata": {
            "tags": []
          },
          "execution_count": 12
        }
      ]
    },
    {
      "cell_type": "code",
      "metadata": {
        "colab": {
          "base_uri": "https://localhost:8080/"
        },
        "id": "9mcjl9K3yRmI",
        "outputId": "03ffb517-c71c-4ee6-d02d-cee4555cb0ab"
      },
      "source": [
        "NUM_CLASSES = len(train_df['category'].value_counts())\n",
        "print(NUM_CLASSES)"
      ],
      "execution_count": 13,
      "outputs": [
        {
          "output_type": "stream",
          "text": [
            "10\n"
          ],
          "name": "stdout"
        }
      ]
    },
    {
      "cell_type": "code",
      "metadata": {
        "colab": {
          "base_uri": "https://localhost:8080/"
        },
        "id": "-WxxvuEdNn2d",
        "outputId": "9ca3010e-ba94-4673-bcb1-7a8c18a348fc"
      },
      "source": [
        "# Importing the Keras libraries and packages\n",
        "from tensorflow.keras.layers import Conv2D, MaxPooling2D, Flatten, Activation\n",
        "from tensorflow.keras.layers import Input, Dense, Dropout, BatchNormalization\n",
        "from tensorflow.keras.models import Model\n",
        "from tensorflow.keras.optimizers import RMSprop, Adam\n",
        "from tensorflow.keras.models import Sequential\n",
        "from tensorflow.keras import layers\n",
        "from tensorflow.keras.callbacks import EarlyStopping, ReduceLROnPlateau\n",
        "\n",
        "classifier = None\n",
        "classifier = Sequential([\n",
        "    layers.Conv2D(NUM_RECEPTIVE_FILTERS, kernel_size=GABOR_SIZE, strides=(1,1), activation='relu', name=\"GaborLayer\", input_shape=(IMAGE_WIDTH, IMAGE_HEIGHT, 3)),\n",
        "    layers.BatchNormalization(),\n",
        "    layers.MaxPooling2D(pool_size=(2,2)),\n",
        "    Dropout(0.25),\n",
        "    layers.Conv2D(64, kernel_size=(3,3), strides=(2,2), activation='relu'),\n",
        "    layers.BatchNormalization(),\n",
        "    layers.MaxPooling2D(pool_size=(2,2)),\n",
        "    Dropout(0.25),\n",
        "    layers.Conv2D(128, kernel_size=(3,3), strides=(2,2), activation='relu'),\n",
        "    layers.BatchNormalization(),\n",
        "    layers.MaxPooling2D(pool_size=(2,2)),\n",
        "    Dropout(0.25),\n",
        "    layers.Flatten(),\n",
        "    layers.Dense(512, activation='relu'),\n",
        "    layers.BatchNormalization(),\n",
        "    Dropout(0.25),\n",
        "    layers.Dense(NUM_CLASSES, activation='softmax')\n",
        "])\n",
        "\n",
        "classifier.summary()\n",
        "\n",
        "import copy\n",
        "untrained_layers = copy.deepcopy(classifier.get_layer(name=classifier.layers[GABOR_LAYER_INDEX].name).get_weights())"
      ],
      "execution_count": 14,
      "outputs": [
        {
          "output_type": "stream",
          "text": [
            "Model: \"sequential\"\n",
            "_________________________________________________________________\n",
            "Layer (type)                 Output Shape              Param #   \n",
            "=================================================================\n",
            "GaborLayer (Conv2D)          (None, 118, 118, 32)      11648     \n",
            "_________________________________________________________________\n",
            "batch_normalization (BatchNo (None, 118, 118, 32)      128       \n",
            "_________________________________________________________________\n",
            "max_pooling2d (MaxPooling2D) (None, 59, 59, 32)        0         \n",
            "_________________________________________________________________\n",
            "dropout (Dropout)            (None, 59, 59, 32)        0         \n",
            "_________________________________________________________________\n",
            "conv2d (Conv2D)              (None, 29, 29, 64)        18496     \n",
            "_________________________________________________________________\n",
            "batch_normalization_1 (Batch (None, 29, 29, 64)        256       \n",
            "_________________________________________________________________\n",
            "max_pooling2d_1 (MaxPooling2 (None, 14, 14, 64)        0         \n",
            "_________________________________________________________________\n",
            "dropout_1 (Dropout)          (None, 14, 14, 64)        0         \n",
            "_________________________________________________________________\n",
            "conv2d_1 (Conv2D)            (None, 6, 6, 128)         73856     \n",
            "_________________________________________________________________\n",
            "batch_normalization_2 (Batch (None, 6, 6, 128)         512       \n",
            "_________________________________________________________________\n",
            "max_pooling2d_2 (MaxPooling2 (None, 3, 3, 128)         0         \n",
            "_________________________________________________________________\n",
            "dropout_2 (Dropout)          (None, 3, 3, 128)         0         \n",
            "_________________________________________________________________\n",
            "flatten (Flatten)            (None, 1152)              0         \n",
            "_________________________________________________________________\n",
            "dense (Dense)                (None, 512)               590336    \n",
            "_________________________________________________________________\n",
            "batch_normalization_3 (Batch (None, 512)               2048      \n",
            "_________________________________________________________________\n",
            "dropout_3 (Dropout)          (None, 512)               0         \n",
            "_________________________________________________________________\n",
            "dense_1 (Dense)              (None, 10)                5130      \n",
            "=================================================================\n",
            "Total params: 702,410\n",
            "Trainable params: 700,938\n",
            "Non-trainable params: 1,472\n",
            "_________________________________________________________________\n"
          ],
          "name": "stdout"
        }
      ]
    },
    {
      "cell_type": "code",
      "metadata": {
        "colab": {
          "base_uri": "https://localhost:8080/"
        },
        "id": "kQNoQkKXyh0J",
        "outputId": "d7e977a0-1d85-4dd6-c1ff-9a194e1fa650"
      },
      "source": [
        "reduce_lr = ReduceLROnPlateau(monitor='val_loss', factor=0.5, patience=10,  \n",
        "                              min_delta=1e-4, mode='min', verbose=1)\n",
        "stop_alg = EarlyStopping(monitor='val_loss', patience=35, \n",
        "                         restore_best_weights=True, verbose=1)\n",
        "callbacks = [stop_alg, reduce_lr]\n",
        "opt = Adam(learning_rate=0.001)\n",
        "classifier.compile(loss='categorical_crossentropy', optimizer=opt, metrics=['accuracy', 'AUC'])\n",
        "\n",
        "start = time.perf_counter()\n",
        "hist = classifier.fit(\n",
        "    train_generator, \n",
        "    epochs=EPOCHS,\n",
        "    validation_data=validation_generator,\n",
        "    validation_steps=total_validate//BATCH_SIZE,\n",
        "    steps_per_epoch=total_train//BATCH_SIZE,\n",
        "    callbacks=callbacks\n",
        ")\n",
        "finish = time.perf_counter()"
      ],
      "execution_count": null,
      "outputs": [
        {
          "output_type": "stream",
          "text": [
            "Epoch 1/1000\n",
            "1562/1562 [==============================] - 62s 29ms/step - loss: 1.9683 - accuracy: 0.3498 - auc: 0.7912 - val_loss: 1.4851 - val_accuracy: 0.4718 - val_auc: 0.8770\n",
            "Epoch 2/1000\n",
            " 306/1562 [====>.........................] - ETA: 29s - loss: 1.3365 - accuracy: 0.5136 - auc: 0.8985"
          ],
          "name": "stdout"
        }
      ]
    },
    {
      "cell_type": "code",
      "metadata": {
        "id": "cLxZiHozHSXt"
      },
      "source": [
        "classifier.layers[GABOR_LAYER_INDEX].name"
      ],
      "execution_count": null,
      "outputs": []
    },
    {
      "cell_type": "code",
      "metadata": {
        "id": "JY_XqRsqymNN"
      },
      "source": [
        "import pickle\n",
        "\n",
        "trained_layers = copy.deepcopy(classifier.get_layer(name=classifier.layers[GABOR_LAYER_INDEX].name).get_weights())\n",
        "hist.history['untrained_layers'] = untrained_layers\n",
        "hist.history['trained_layers'] = trained_layers\n",
        "\n",
        "with open('cifar10-{}-history-kernel-{}.p'.format(ITERATION, GABOR_WIDTH),'wb') as fp:\n",
        "    pickle.dump(hist.history, fp, protocol=pickle.HIGHEST_PROTOCOL)"
      ],
      "execution_count": null,
      "outputs": []
    },
    {
      "cell_type": "code",
      "metadata": {
        "id": "FJFHsvGM1D5U"
      },
      "source": [
        "import matplotlib.pyplot as plt\n",
        "\n",
        "fig = plt.figure(figsize=(10,6))\n",
        "plt.plot(hist.history['loss'], color='#785ef0')\n",
        "plt.plot(hist.history['val_loss'], color='#dc267f')\n",
        "plt.title('Model Loss Progress')\n",
        "plt.ylabel('Loss')\n",
        "plt.xlabel('Epoch')\n",
        "plt.legend(['Training Set', 'Test Set'], loc='upper right')\n",
        "plt.savefig('cifar10-{}-loss-kernel-{}.png'.format(ITERATION,GABOR_WIDTH), dpi=350, bbox_inches='tight')\n",
        "plt.show()"
      ],
      "execution_count": null,
      "outputs": []
    },
    {
      "cell_type": "code",
      "metadata": {
        "id": "2G_KNTnY1HOb"
      },
      "source": [
        "fig = plt.figure(figsize=(10,6))\n",
        "plt.plot(hist.history['accuracy'], color='#785ef0')\n",
        "plt.plot(hist.history['val_accuracy'], color='#dc267f')\n",
        "plt.title('Model Accuracy Progress')\n",
        "plt.ylabel('Accuracy')\n",
        "plt.xlabel('Epoch')\n",
        "plt.legend(['Training Set', 'Test Set'], loc='upper right')\n",
        "plt.savefig('cifar10-{}-accuracy-kernel-{}.png'.format(ITERATION, GABOR_WIDTH), dpi=350, bbox_inches='tight')\n",
        "plt.show()"
      ],
      "execution_count": null,
      "outputs": []
    },
    {
      "cell_type": "code",
      "metadata": {
        "id": "GOXB0dklHknb"
      },
      "source": [
        "from sklearn.preprocessing import MinMaxScaler\n",
        "\n",
        "cnnl1 = classifier.layers[GABOR_LAYER_INDEX].name   # get the name of the first conv layer\n",
        "W = classifier.get_layer(name=cnnl1).get_weights()[0]   #get the filters\n",
        "wshape = W.shape  #save the original shape\n",
        "\n",
        "# this part will scale to [0, 1] for visualization purposes\n",
        "scaler = MinMaxScaler()\n",
        "scaler.fit(W.reshape(-1,1))\n",
        "W = scaler.transform(W.reshape(-1,1))\n",
        "W = W.reshape(wshape)\n",
        "\n",
        "fig, axs = plt.subplots(8,NUM_RECEPTIVE_FILTERS//8, figsize=(24,24))\n",
        "fig.subplots_adjust(hspace = .25, wspace=.001)\n",
        "axs = axs.ravel()\n",
        "for i in range(W.shape[-1]):\n",
        "  # we reshape to a 3D (RGB) image shape and display\n",
        "  h = np.reshape(W[:,:,:,i], (GABOR_WIDTH,GABOR_HEIGHT,3))\n",
        "  axs[i].imshow(h)\n",
        "  axs[i].set_title('Filter ' + str(i))    \n",
        "plt.savefig(\"cifar10-{}-filters-kernel-{}.png\".format(ITERATION,GABOR_WIDTH), bbox_inches='tight', dpi=350)"
      ],
      "execution_count": null,
      "outputs": []
    },
    {
      "cell_type": "code",
      "metadata": {
        "id": "nnvHM8cxHnTb"
      },
      "source": [
        "cnnl1 = classifier.layers[GABOR_LAYER_INDEX].name   # get the name of the first conv layer\n",
        "W = classifier.get_layer(name=cnnl1).get_weights()[0]\n",
        "plt.hist(W.ravel(), bins=100)\n",
        "print(np.min(W),np.max(W))"
      ],
      "execution_count": null,
      "outputs": []
    },
    {
      "cell_type": "code",
      "metadata": {
        "id": "wvq1WievHpm6"
      },
      "source": [
        "filter_layers = []\n",
        "for i in range(NUM_RECEPTIVE_FILTERS):\n",
        "    for j in range(3):\n",
        "        filter_layers.append(np.reshape(W[:,:,j, i], GABOR_SIZE))\n",
        "for i,gf in enumerate(filter_layers):\n",
        "    plt.subplot(8, (W.shape[3]*3)//8, i+1)\n",
        "    plt.imshow(gf, cmap='gray')\n",
        "    plt.axis('off')\n",
        "plt.savefig(\"cifar10-{}-channelwise-filters-kernel-{}.png\".format(ITERATION,GABOR_WIDTH), bbox_inches='tight', dpi=350)"
      ],
      "execution_count": null,
      "outputs": []
    },
    {
      "cell_type": "code",
      "metadata": {
        "id": "8TUDWlY_HsQH"
      },
      "source": [
        "!cp cifar10-1-history-kernel-11.p /content/drive/My\\ Drive/Mehang\\ Rai/analysis/11/cifar10-128/1/"
      ],
      "execution_count": null,
      "outputs": []
    },
    {
      "cell_type": "code",
      "metadata": {
        "id": "1IexDcxdHupt"
      },
      "source": [
        "!cp cifar10-1-loss-kernel-11.png /content/drive/My\\ Drive/Mehang\\ Rai/analysis/11/cifar10-128/1/"
      ],
      "execution_count": null,
      "outputs": []
    },
    {
      "cell_type": "code",
      "metadata": {
        "id": "VKaU1uY6HvFA"
      },
      "source": [
        "!cp cifar10-1-accuracy-kernel-11.png /content/drive/My\\ Drive/Mehang\\ Rai/analysis/11/cifar10-128/1/"
      ],
      "execution_count": null,
      "outputs": []
    },
    {
      "cell_type": "code",
      "metadata": {
        "id": "ekTsX-BTHvU3"
      },
      "source": [
        "!cp cifar10-1-filters-kernel-11.png /content/drive/My\\ Drive/Mehang\\ Rai/analysis/11/cifar10-128/1/"
      ],
      "execution_count": null,
      "outputs": []
    },
    {
      "cell_type": "code",
      "metadata": {
        "id": "gQgj6c_HHvmW"
      },
      "source": [
        "!cp cifar10-1-channelwise-filters-kernel-11.png /content/drive/My\\ Drive/Mehang\\ Rai/analysis/11/cifar10-128/1/"
      ],
      "execution_count": null,
      "outputs": []
    },
    {
      "cell_type": "code",
      "metadata": {
        "id": "0wFTQ9ZbIG0y"
      },
      "source": [
        ""
      ],
      "execution_count": null,
      "outputs": []
    }
  ]
}