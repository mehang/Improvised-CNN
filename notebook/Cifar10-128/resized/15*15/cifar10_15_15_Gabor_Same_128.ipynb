{
  "nbformat": 4,
  "nbformat_minor": 0,
  "metadata": {
    "colab": {
      "name": "cifar10-15*15-Gabor-Same-128.ipynb",
      "provenance": [],
      "authorship_tag": "ABX9TyOYBXH48g3kEMn40rseVTbP",
      "include_colab_link": true
    },
    "kernelspec": {
      "name": "python3",
      "display_name": "Python 3"
    },
    "accelerator": "GPU"
  },
  "cells": [
    {
      "cell_type": "markdown",
      "metadata": {
        "id": "view-in-github",
        "colab_type": "text"
      },
      "source": [
        "<a href=\"https://colab.research.google.com/github/mehang/Improvised-CNN/blob/master/notebook/Cifar10-128/resized/15*15/cifar10_15_15_Gabor_Same_128.ipynb\" target=\"_parent\"><img src=\"https://colab.research.google.com/assets/colab-badge.svg\" alt=\"Open In Colab\"/></a>"
      ]
    },
    {
      "cell_type": "code",
      "metadata": {
        "id": "vF1EkZD42P2R",
        "colab": {
          "base_uri": "https://localhost:8080/"
        },
        "outputId": "3b1517bc-0dad-41b2-a421-2b4b13fdc27b"
      },
      "source": [
        "from google.colab import drive\n",
        "drive.mount('/content/drive')"
      ],
      "execution_count": 1,
      "outputs": [
        {
          "output_type": "stream",
          "text": [
            "Drive already mounted at /content/drive; to attempt to forcibly remount, call drive.mount(\"/content/drive\", force_remount=True).\n"
          ],
          "name": "stdout"
        }
      ]
    },
    {
      "cell_type": "code",
      "metadata": {
        "id": "YpDP685m5NwT"
      },
      "source": [
        "import matplotlib.pyplot as plt\n",
        "import numpy as np\n",
        "import os\n",
        "import PIL\n",
        "import tensorflow as tf\n",
        "import pandas as pd\n",
        "\n",
        "from tensorflow import keras\n",
        "from tensorflow.keras import layers\n",
        "from tensorflow.keras.models import Sequential\n",
        "from tensorflow.keras.preprocessing.image import ImageDataGenerator\n",
        "import pathlib\n",
        "import time\n",
        "\n",
        "from tensorflow.keras.preprocessing.image import ImageDataGenerator, load_img\n",
        "from tensorflow.keras.utils import to_categorical\n",
        "from sklearn.model_selection import train_test_split\n"
      ],
      "execution_count": 2,
      "outputs": []
    },
    {
      "cell_type": "code",
      "metadata": {
        "id": "XTmcRyRr5QKX"
      },
      "source": [
        "!unzip /content/drive/My\\ Drive/Mehang\\ Rai/cifar10-64.zip -d cifar10-64"
      ],
      "execution_count": null,
      "outputs": []
    },
    {
      "cell_type": "code",
      "metadata": {
        "id": "reMzYfyY5R2N"
      },
      "source": [
        "ITERATION = 1\n",
        "IMAGE_WIDTH=32\n",
        "IMAGE_HEIGHT=32\n",
        "IMAGE_SIZE=(IMAGE_WIDTH, IMAGE_HEIGHT)\n",
        "IMAGE_CHANNELS=3\n",
        "RANDOM_SEED = [42, 42, 57, 48, 86, 7, 15, 28, 39, 52][ITERATION-1]\n",
        "BATCH_SIZE = 32\n",
        "NUM_CLASSES = 10\n",
        "EPOCHS = 1000\n",
        "GABOR_LAYER_INDEX = 0\n",
        "GABOR_WIDTH = 3\n",
        "GABOR_HEIGHT = 3\n",
        "GABOR_SIZE = (GABOR_WIDTH, GABOR_HEIGHT)\n",
        "NUM_RECEPTIVE_FILTERS = 32\n",
        "TRAIN_DIR = \"cifar10-32/cifar10-32/train/\"\n",
        "TEST_DIR = \"cifar10-32/cifar10-32/test/\"\n",
        "# TEST_DIR = \"cifar100_128_fine/cifar100_128_fine/train/\"\n",
        "# TRAIN_DIR = \"cifar100_128_fine/cifar100_128_fine/test/\""
      ],
      "execution_count": 3,
      "outputs": []
    },
    {
      "cell_type": "code",
      "metadata": {
        "id": "Xb1IVevN5Wha"
      },
      "source": [
        "filenames = os.listdir(TRAIN_DIR)\n",
        "categories = []\n",
        "for filename in filenames:\n",
        "    category = filename.split('.')[0]\n",
        "    categories.append(category)\n",
        "\n",
        "train_df = pd.DataFrame({\n",
        "    'filename': filenames,\n",
        "    'category': categories\n",
        "})\n",
        "\n",
        "filenames = os.listdir(TEST_DIR)\n",
        "categories = []\n",
        "for filename in filenames:\n",
        "    category = filename.split('.')[0]\n",
        "    categories.append(category)\n",
        "\n",
        "validate_df = pd.DataFrame({\n",
        "    'filename': filenames,\n",
        "    'category': categories\n",
        "})"
      ],
      "execution_count": 4,
      "outputs": []
    },
    {
      "cell_type": "code",
      "metadata": {
        "id": "-0v84unt5XGC"
      },
      "source": [
        "train_df = train_df.reset_index(drop=True)\n",
        "validate_df = validate_df.reset_index(drop=True)\n",
        "total_train = train_df.shape[0]\n",
        "total_validate = validate_df.shape[0]"
      ],
      "execution_count": 5,
      "outputs": []
    },
    {
      "cell_type": "code",
      "metadata": {
        "colab": {
          "base_uri": "https://localhost:8080/",
          "height": 328
        },
        "id": "Iz8CVvZI5Y7w",
        "outputId": "ee85f92f-8999-4768-a8db-50513bd2b13e"
      },
      "source": [
        "train_df['category'].value_counts().plot.bar()"
      ],
      "execution_count": 6,
      "outputs": [
        {
          "output_type": "execute_result",
          "data": {
            "text/plain": [
              "<matplotlib.axes._subplots.AxesSubplot at 0x7f2de8dc6d10>"
            ]
          },
          "metadata": {
            "tags": []
          },
          "execution_count": 6
        },
        {
          "output_type": "display_data",
          "data": {
            "image/png": "[encoded data removed]",
            "text/plain": [
              "<Figure size 432x288 with 1 Axes>"
            ]
          },
          "metadata": {
            "tags": [],
            "needs_background": "light"
          }
        }
      ]
    },
    {
      "cell_type": "code",
      "metadata": {
        "colab": {
          "base_uri": "https://localhost:8080/",
          "height": 328
        },
        "id": "MJMj2lnj5a0C",
        "outputId": "8b7c7100-bd41-4448-f00b-93648e9fd54d"
      },
      "source": [
        "validate_df['category'].value_counts().plot.bar()"
      ],
      "execution_count": 7,
      "outputs": [
        {
          "output_type": "execute_result",
          "data": {
            "text/plain": [
              "<matplotlib.axes._subplots.AxesSubplot at 0x7f2de8c82e10>"
            ]
          },
          "metadata": {
            "tags": []
          },
          "execution_count": 7
        },
        {
          "output_type": "display_data",
          "data": {
            "image/png": "[encoded data removed]",
            "text/plain": [
              "<Figure size 432x288 with 1 Axes>"
            ]
          },
          "metadata": {
            "tags": [],
            "needs_background": "light"
          }
        }
      ]
    },
    {
      "cell_type": "code",
      "metadata": {
        "colab": {
          "base_uri": "https://localhost:8080/"
        },
        "id": "l8Z0K9t05dXt",
        "outputId": "f0ddef05-d200-43f4-f8dc-3d80335e9dd1"
      },
      "source": [
        "train_datagen = ImageDataGenerator(\n",
        "    # rotation_range=40,\n",
        "    # width_shift_range=0.2,\n",
        "    # height_shift_range=0.2,\n",
        "    # shear_range=0.2,\n",
        "    # zoom_range=0.2,\n",
        "    # horizontal_flip=True,\n",
        "    rescale=1./255,\n",
        ")\n",
        "train_generator = train_datagen.flow_from_dataframe(\n",
        "    train_df, \n",
        "    TRAIN_DIR, \n",
        "    x_col='filename',\n",
        "    y_col='category',\n",
        "    target_size=IMAGE_SIZE,\n",
        "    class_mode='categorical',\n",
        "    batch_size=BATCH_SIZE\n",
        ")"
      ],
      "execution_count": 8,
      "outputs": [
        {
          "output_type": "stream",
          "text": [
            "Found 50000 validated image filenames belonging to 10 classes.\n"
          ],
          "name": "stdout"
        }
      ]
    },
    {
      "cell_type": "code",
      "metadata": {
        "colab": {
          "base_uri": "https://localhost:8080/"
        },
        "id": "jKpE5pri5fPi",
        "outputId": "25788660-55fb-4d6b-9445-68322934763c"
      },
      "source": [
        "validation_datagen = ImageDataGenerator(rescale=1./255)\n",
        "validation_generator = validation_datagen.flow_from_dataframe(\n",
        "    validate_df, \n",
        "    TEST_DIR, \n",
        "    x_col='filename',\n",
        "    y_col='category',\n",
        "    target_size=IMAGE_SIZE,\n",
        "    class_mode='categorical',\n",
        "    batch_size=BATCH_SIZE\n",
        ")"
      ],
      "execution_count": 9,
      "outputs": [
        {
          "output_type": "stream",
          "text": [
            "Found 10000 validated image filenames belonging to 10 classes.\n"
          ],
          "name": "stdout"
        }
      ]
    },
    {
      "cell_type": "code",
      "metadata": {
        "colab": {
          "base_uri": "https://localhost:8080/"
        },
        "id": "38cSQe645g0B",
        "outputId": "0faa7817-3c88-4e51-937e-6aeaff91784f"
      },
      "source": [
        "print(train_df.shape)\n",
        "print(validate_df.shape)"
      ],
      "execution_count": 10,
      "outputs": [
        {
          "output_type": "stream",
          "text": [
            "(50000, 2)\n",
            "(10000, 2)\n"
          ],
          "name": "stdout"
        }
      ]
    },
    {
      "cell_type": "code",
      "metadata": {
        "colab": {
          "base_uri": "https://localhost:8080/",
          "height": 1000
        },
        "id": "un9ETu_r5iap",
        "outputId": "6aa90132-6976-4d4c-e485-f3a8dc7a4519"
      },
      "source": [
        "import math\n",
        "\n",
        "def get_gabor_filters(inchannels, outchannels, kernel_size = (3,3)):\n",
        "    delta = 1e-4\n",
        "    freqs = (math.pi/2)*(math.sqrt(2)**(-np.random.randint(0,5, (outchannels, inchannels))))\n",
        "    thetas = (math.pi/8)*np.random.randint(0,8, (outchannels, inchannels))\n",
        "    sigmas = math.pi/(freqs)\n",
        "    psis = math.pi * np.random.rand(outchannels, inchannels)\n",
        "    x0, y0 = np.ceil(np.array(kernel_size)/2)    \n",
        "    \n",
        "    y, x = np.meshgrid(\n",
        "            np.linspace(-x0 + 1, x0 + 0, kernel_size[0]),\n",
        "            np.linspace(-y0 + 1, y0 + 0, kernel_size[1]),\n",
        "    )\n",
        "    filterbank = []\n",
        "    \n",
        "    for i in range(outchannels):\n",
        "        for j in range(inchannels):\n",
        "            freq = freqs[i][j]\n",
        "            theta = thetas[i][j]\n",
        "            sigma = sigmas[i][j]\n",
        "            psi = psis[i][j]\n",
        "            \n",
        "            rotx = x * np.cos(theta) + y * np.sin(theta)\n",
        "            roty = -x * np.sin(theta) + y * np.cos(theta)\n",
        "\n",
        "            g = np.exp(\n",
        "                -0.5 * ((rotx ** 2 + roty ** 2) / (sigma + delta) ** 2)\n",
        "            )\n",
        "            g = g * np.cos(freq * rotx + psi)\n",
        "#             g = g / (2 * math.pi * (sigma ** 2))\n",
        "#             g = gabor_kernel(frequency=freq, bandwidth=sigma, theta=theta, offset=psi, n_stds=0).real\n",
        "            filterbank.append(g)\n",
        "    return filterbank\n",
        "\n",
        "filterbank = get_gabor_filters(3, NUM_RECEPTIVE_FILTERS, GABOR_SIZE)\n",
        "\n",
        "fig = plt.subplots(8, len(filterbank)//8, figsize=(22,22))\n",
        "for i,gf in enumerate(filterbank):\n",
        "    plt.subplot(8, len(filterbank)//8, i+1)\n",
        "    plt.imshow(gf, cmap='gray')\n",
        "    plt.axis('off')"
      ],
      "execution_count": 11,
      "outputs": [
        {
          "output_type": "display_data",
          "data": {
            "image/png": "[encoded data removed]",
            "text/plain": [
              "<Figure size 1584x1584 with 96 Axes>"
            ]
          },
          "metadata": {
            "tags": [],
            "needs_background": "light"
          }
        }
      ]
    },
    {
      "cell_type": "code",
      "metadata": {
        "colab": {
          "base_uri": "https://localhost:8080/"
        },
        "id": "-PyJT1cO5nMi",
        "outputId": "526df27e-22ab-447d-925a-08abd87166b3"
      },
      "source": [
        "train_generator.image_shape"
      ],
      "execution_count": 12,
      "outputs": [
        {
          "output_type": "execute_result",
          "data": {
            "text/plain": [
              "(64, 64, 3)"
            ]
          },
          "metadata": {
            "tags": []
          },
          "execution_count": 12
        }
      ]
    },
    {
      "cell_type": "code",
      "metadata": {
        "colab": {
          "base_uri": "https://localhost:8080/"
        },
        "id": "aN7LoNr45vHV",
        "outputId": "b490b957-c002-4dc5-a863-c178d5b21841"
      },
      "source": [
        "NUM_CLASSES = len(train_df['category'].value_counts())\n",
        "print(NUM_CLASSES)"
      ],
      "execution_count": 13,
      "outputs": [
        {
          "output_type": "stream",
          "text": [
            "10\n"
          ],
          "name": "stdout"
        }
      ]
    },
    {
      "cell_type": "code",
      "metadata": {
        "colab": {
          "base_uri": "https://localhost:8080/"
        },
        "id": "8GBU8MJT5xDb",
        "outputId": "e6799627-0bbf-414f-9fd7-449ed1cfd61d"
      },
      "source": [
        "# Importing the Keras libraries and packages\n",
        "from tensorflow.keras.layers import Conv2D, MaxPooling2D, Flatten, Activation\n",
        "from tensorflow.keras.layers import Input, Dense, Dropout, BatchNormalization\n",
        "from tensorflow.keras.models import Model\n",
        "from tensorflow.keras.optimizers import RMSprop, Adam\n",
        "from tensorflow.keras.models import Sequential\n",
        "from tensorflow.keras import layers\n",
        "from tensorflow.keras.callbacks import EarlyStopping, ReduceLROnPlateau\n",
        "\n",
        "classifier = None\n",
        "classifier = Sequential([\n",
        "    layers.Conv2D(NUM_RECEPTIVE_FILTERS, kernel_size=GABOR_SIZE, strides=(1,1), activation='relu', name=\"GaborLayer\", input_shape=(IMAGE_WIDTH, IMAGE_HEIGHT, 3)),\n",
        "    layers.BatchNormalization(),\n",
        "    layers.MaxPooling2D(pool_size=(2,2)),\n",
        "    Dropout(0.25),\n",
        "    layers.Conv2D(64, kernel_size=(3,3), strides=(2,2), activation='relu'),\n",
        "    layers.BatchNormalization(),\n",
        "    layers.MaxPooling2D(pool_size=(2,2)),\n",
        "    Dropout(0.25),\n",
        "    layers.Conv2D(128, kernel_size=(3,3), strides=(2,2), activation='relu'),\n",
        "    layers.BatchNormalization(),\n",
        "    layers.MaxPooling2D(pool_size=(2,2)),\n",
        "    Dropout(0.25),\n",
        "    layers.Flatten(),\n",
        "    layers.Dense(512, activation='relu'),\n",
        "    layers.BatchNormalization(),\n",
        "    Dropout(0.25),\n",
        "    layers.Dense(NUM_CLASSES, activation='softmax')\n",
        "])\n",
        "\n",
        "classifier.summary()"
      ],
      "execution_count": 14,
      "outputs": [
        {
          "output_type": "stream",
          "text": [
            "Model: \"sequential\"\n",
            "_________________________________________________________________\n",
            "Layer (type)                 Output Shape              Param #   \n",
            "=================================================================\n",
            "GaborLayer (Conv2D)          (None, 62, 62, 32)        896       \n",
            "_________________________________________________________________\n",
            "batch_normalization (BatchNo (None, 62, 62, 32)        128       \n",
            "_________________________________________________________________\n",
            "max_pooling2d (MaxPooling2D) (None, 31, 31, 32)        0         \n",
            "_________________________________________________________________\n",
            "dropout (Dropout)            (None, 31, 31, 32)        0         \n",
            "_________________________________________________________________\n",
            "conv2d (Conv2D)              (None, 15, 15, 64)        18496     \n",
            "_________________________________________________________________\n",
            "batch_normalization_1 (Batch (None, 15, 15, 64)        256       \n",
            "_________________________________________________________________\n",
            "max_pooling2d_1 (MaxPooling2 (None, 7, 7, 64)          0         \n",
            "_________________________________________________________________\n",
            "dropout_1 (Dropout)          (None, 7, 7, 64)          0         \n",
            "_________________________________________________________________\n",
            "conv2d_1 (Conv2D)            (None, 3, 3, 128)         73856     \n",
            "_________________________________________________________________\n",
            "batch_normalization_2 (Batch (None, 3, 3, 128)         512       \n",
            "_________________________________________________________________\n",
            "max_pooling2d_2 (MaxPooling2 (None, 1, 1, 128)         0         \n",
            "_________________________________________________________________\n",
            "dropout_2 (Dropout)          (None, 1, 1, 128)         0         \n",
            "_________________________________________________________________\n",
            "flatten (Flatten)            (None, 128)               0         \n",
            "_________________________________________________________________\n",
            "dense (Dense)                (None, 512)               66048     \n",
            "_________________________________________________________________\n",
            "batch_normalization_3 (Batch (None, 512)               2048      \n",
            "_________________________________________________________________\n",
            "dropout_3 (Dropout)          (None, 512)               0         \n",
            "_________________________________________________________________\n",
            "dense_1 (Dense)              (None, 10)                5130      \n",
            "=================================================================\n",
            "Total params: 167,370\n",
            "Trainable params: 165,898\n",
            "Non-trainable params: 1,472\n",
            "_________________________________________________________________\n"
          ],
          "name": "stdout"
        }
      ]
    },
    {
      "cell_type": "code",
      "metadata": {
        "colab": {
          "base_uri": "https://localhost:8080/",
          "height": 248
        },
        "id": "-KtfjYOY5ywT",
        "outputId": "f10f6d68-840e-483e-fcf2-296338098654"
      },
      "source": [
        "cnnl1 = classifier.layers[GABOR_LAYER_INDEX].name   # get the name of the first conv layer\n",
        "W = classifier.get_layer(name=cnnl1).get_weights()[0]   #get the filters\n",
        "wshape = W.shape  #save the original shape\n",
        "gabor_filters = W\n",
        "for kernel_index in range(wshape[3]):\n",
        "    for channel_index in range(3):\n",
        "        gabor_filters[:,:,channel_index, kernel_index] = filterbank[kernel_index]\n",
        "\n",
        "classifier.get_layer(name=cnnl1).set_weights([gabor_filters, classifier.get_layer(name=cnnl1).get_weights()[1]])\n",
        "filter_layers = []\n",
        "for i in range(NUM_RECEPTIVE_FILTERS):\n",
        "    for j in range(3):\n",
        "        filter_layers.append(np.reshape(W[:,:,j, i], GABOR_SIZE))\n",
        "for i,gf in enumerate(filter_layers):\n",
        "    plt.subplot(8, len(filter_layers)//8, i+1)\n",
        "    plt.imshow(gf, cmap='gray')\n",
        "    plt.axis('off')\n",
        "plt.savefig('cifar10-{}-initial-gabor-same-kernel-{}.png'.format(ITERATION,GABOR_WIDTH), dpi=350, bbox_inches='tight')\n",
        "\n",
        "import copy\n",
        "untrained_layers = copy.deepcopy(classifier.get_layer(name=classifier.layers[GABOR_LAYER_INDEX].name).get_weights())"
      ],
      "execution_count": 15,
      "outputs": [
        {
          "output_type": "display_data",
          "data": {
            "image/png": "[encoded data removed]",
            "text/plain": [
              "<Figure size 432x288 with 96 Axes>"
            ]
          },
          "metadata": {
            "tags": [],
            "needs_background": "light"
          }
        }
      ]
    },
    {
      "cell_type": "code",
      "metadata": {
        "colab": {
          "base_uri": "https://localhost:8080/"
        },
        "id": "_PJYxPvi57Kv",
        "outputId": "5307af7f-a2f6-4fc6-ce87-2ee10993e6af"
      },
      "source": [
        "reduce_lr = ReduceLROnPlateau(monitor='val_loss', factor=0.5, patience=10,  \n",
        "                              min_delta=1e-4, mode='min', verbose=1)\n",
        "stop_alg = EarlyStopping(monitor='val_loss', patience=35, \n",
        "                         restore_best_weights=True, verbose=1)\n",
        "callbacks = [stop_alg, reduce_lr]\n",
        "opt = Adam(learning_rate=0.001)\n",
        "classifier.compile(loss='categorical_crossentropy', optimizer=opt, metrics=['accuracy', 'AUC'])\n",
        "\n",
        "start = time.perf_counter()\n",
        "hist = classifier.fit(\n",
        "    train_generator, \n",
        "    epochs=EPOCHS,\n",
        "    validation_data=validation_generator,\n",
        "    validation_steps=total_validate//BATCH_SIZE,\n",
        "    steps_per_epoch=total_train//BATCH_SIZE,\n",
        "    callbacks=callbacks\n",
        ")\n",
        "finish = time.perf_counter()"
      ],
      "execution_count": 16,
      "outputs": [
        {
          "output_type": "stream",
          "text": [
            "Epoch 1/1000\n",
            "1562/1562 [==============================] - 28s 16ms/step - loss: 2.2653 - accuracy: 0.2508 - auc: 0.7058 - val_loss: 1.7130 - val_accuracy: 0.3887 - val_auc: 0.8274\n",
            "Epoch 2/1000\n",
            "1562/1562 [==============================] - 25s 16ms/step - loss: 1.6530 - accuracy: 0.4072 - auc: 0.8395 - val_loss: 1.4342 - val_accuracy: 0.4918 - val_auc: 0.8813\n",
            "Epoch 3/1000\n",
            "1562/1562 [==============================] - 25s 16ms/step - loss: 1.4872 - accuracy: 0.4658 - auc: 0.8723 - val_loss: 1.3008 - val_accuracy: 0.5379 - val_auc: 0.9037\n",
            "Epoch 4/1000\n",
            "1562/1562 [==============================] - 25s 16ms/step - loss: 1.4080 - accuracy: 0.4980 - auc: 0.8861 - val_loss: 1.2331 - val_accuracy: 0.5640 - val_auc: 0.9138\n",
            "Epoch 5/1000\n",
            "1562/1562 [==============================] - 25s 16ms/step - loss: 1.3395 - accuracy: 0.5269 - auc: 0.8971 - val_loss: 1.2126 - val_accuracy: 0.5729 - val_auc: 0.9161\n",
            "Epoch 6/1000\n",
            "1562/1562 [==============================] - 25s 16ms/step - loss: 1.2944 - accuracy: 0.5412 - auc: 0.9042 - val_loss: 1.1865 - val_accuracy: 0.5821 - val_auc: 0.9204\n",
            "Epoch 7/1000\n",
            "1562/1562 [==============================] - 25s 16ms/step - loss: 1.2544 - accuracy: 0.5553 - auc: 0.9102 - val_loss: 1.2296 - val_accuracy: 0.5728 - val_auc: 0.9136\n",
            "Epoch 8/1000\n",
            "1562/1562 [==============================] - 25s 16ms/step - loss: 1.2177 - accuracy: 0.5694 - auc: 0.9154 - val_loss: 1.1365 - val_accuracy: 0.6072 - val_auc: 0.9261\n",
            "Epoch 9/1000\n",
            "1562/1562 [==============================] - 25s 16ms/step - loss: 1.1962 - accuracy: 0.5812 - auc: 0.9181 - val_loss: 1.1294 - val_accuracy: 0.6023 - val_auc: 0.9273\n",
            "Epoch 10/1000\n",
            "1562/1562 [==============================] - 25s 16ms/step - loss: 1.1788 - accuracy: 0.5878 - auc: 0.9206 - val_loss: 1.1025 - val_accuracy: 0.6161 - val_auc: 0.9307\n",
            "Epoch 11/1000\n",
            "1562/1562 [==============================] - 25s 16ms/step - loss: 1.1505 - accuracy: 0.5947 - auc: 0.9245 - val_loss: 1.0720 - val_accuracy: 0.6275 - val_auc: 0.9344\n",
            "Epoch 12/1000\n",
            "1562/1562 [==============================] - 25s 16ms/step - loss: 1.1400 - accuracy: 0.6009 - auc: 0.9258 - val_loss: 1.0654 - val_accuracy: 0.6309 - val_auc: 0.9347\n",
            "Epoch 13/1000\n",
            "1562/1562 [==============================] - 25s 16ms/step - loss: 1.1331 - accuracy: 0.6041 - auc: 0.9267 - val_loss: 1.1093 - val_accuracy: 0.6177 - val_auc: 0.9297\n",
            "Epoch 14/1000\n",
            "1562/1562 [==============================] - 25s 16ms/step - loss: 1.1125 - accuracy: 0.6120 - auc: 0.9295 - val_loss: 1.0274 - val_accuracy: 0.6476 - val_auc: 0.9398\n",
            "Epoch 15/1000\n",
            "1562/1562 [==============================] - 25s 16ms/step - loss: 1.1028 - accuracy: 0.6130 - auc: 0.9305 - val_loss: 1.0541 - val_accuracy: 0.6338 - val_auc: 0.9366\n",
            "Epoch 16/1000\n",
            "1562/1562 [==============================] - 25s 16ms/step - loss: 1.0851 - accuracy: 0.6186 - auc: 0.9328 - val_loss: 1.0665 - val_accuracy: 0.6297 - val_auc: 0.9348\n",
            "Epoch 17/1000\n",
            "1562/1562 [==============================] - 25s 16ms/step - loss: 1.0794 - accuracy: 0.6209 - auc: 0.9334 - val_loss: 1.0079 - val_accuracy: 0.6517 - val_auc: 0.9422\n",
            "Epoch 18/1000\n",
            "1562/1562 [==============================] - 25s 16ms/step - loss: 1.0666 - accuracy: 0.6267 - auc: 0.9351 - val_loss: 0.9848 - val_accuracy: 0.6567 - val_auc: 0.9447\n",
            "Epoch 19/1000\n",
            "1562/1562 [==============================] - 25s 16ms/step - loss: 1.0648 - accuracy: 0.6244 - auc: 0.9354 - val_loss: 1.1230 - val_accuracy: 0.6057 - val_auc: 0.9276\n",
            "Epoch 20/1000\n",
            "1562/1562 [==============================] - 25s 16ms/step - loss: 1.0567 - accuracy: 0.6275 - auc: 0.9364 - val_loss: 0.9848 - val_accuracy: 0.6586 - val_auc: 0.9445\n",
            "Epoch 21/1000\n",
            "1562/1562 [==============================] - 25s 16ms/step - loss: 1.0590 - accuracy: 0.6281 - auc: 0.9361 - val_loss: 1.0473 - val_accuracy: 0.6413 - val_auc: 0.9368\n",
            "Epoch 22/1000\n",
            "1562/1562 [==============================] - 25s 16ms/step - loss: 1.0382 - accuracy: 0.6366 - auc: 0.9384 - val_loss: 1.1047 - val_accuracy: 0.6131 - val_auc: 0.9302\n",
            "Epoch 23/1000\n",
            "1562/1562 [==============================] - 25s 16ms/step - loss: 1.0339 - accuracy: 0.6369 - auc: 0.9388 - val_loss: 1.1037 - val_accuracy: 0.6170 - val_auc: 0.9305\n",
            "Epoch 24/1000\n",
            "1562/1562 [==============================] - 25s 16ms/step - loss: 1.0329 - accuracy: 0.6401 - auc: 0.9390 - val_loss: 1.0119 - val_accuracy: 0.6522 - val_auc: 0.9411\n",
            "Epoch 25/1000\n",
            "1562/1562 [==============================] - 25s 16ms/step - loss: 1.0219 - accuracy: 0.6437 - auc: 0.9402 - val_loss: 0.9941 - val_accuracy: 0.6601 - val_auc: 0.9430\n",
            "Epoch 26/1000\n",
            "1562/1562 [==============================] - 25s 16ms/step - loss: 1.0192 - accuracy: 0.6423 - auc: 0.9405 - val_loss: 1.0104 - val_accuracy: 0.6543 - val_auc: 0.9414\n",
            "Epoch 27/1000\n",
            "1562/1562 [==============================] - 25s 16ms/step - loss: 1.0094 - accuracy: 0.6462 - auc: 0.9419 - val_loss: 0.9824 - val_accuracy: 0.6586 - val_auc: 0.9448\n",
            "Epoch 28/1000\n",
            "1562/1562 [==============================] - 25s 16ms/step - loss: 1.0094 - accuracy: 0.6480 - auc: 0.9418 - val_loss: 1.0003 - val_accuracy: 0.6505 - val_auc: 0.9424\n",
            "Epoch 29/1000\n",
            "1562/1562 [==============================] - 25s 16ms/step - loss: 0.9984 - accuracy: 0.6509 - auc: 0.9430 - val_loss: 1.0165 - val_accuracy: 0.6484 - val_auc: 0.9404\n",
            "Epoch 30/1000\n",
            "1562/1562 [==============================] - 25s 16ms/step - loss: 0.9991 - accuracy: 0.6504 - auc: 0.9428 - val_loss: 0.9813 - val_accuracy: 0.6597 - val_auc: 0.9450\n",
            "Epoch 31/1000\n",
            "1562/1562 [==============================] - 25s 16ms/step - loss: 0.9902 - accuracy: 0.6519 - auc: 0.9441 - val_loss: 0.9928 - val_accuracy: 0.6578 - val_auc: 0.9436\n",
            "Epoch 32/1000\n",
            "1562/1562 [==============================] - 25s 16ms/step - loss: 0.9919 - accuracy: 0.6557 - auc: 0.9436 - val_loss: 0.9859 - val_accuracy: 0.6608 - val_auc: 0.9440\n",
            "Epoch 33/1000\n",
            "1562/1562 [==============================] - 25s 16ms/step - loss: 0.9863 - accuracy: 0.6515 - auc: 0.9444 - val_loss: 0.9826 - val_accuracy: 0.6578 - val_auc: 0.9445\n",
            "Epoch 34/1000\n",
            "1562/1562 [==============================] - 25s 16ms/step - loss: 0.9843 - accuracy: 0.6580 - auc: 0.9445 - val_loss: 0.9879 - val_accuracy: 0.6556 - val_auc: 0.9438\n",
            "Epoch 35/1000\n",
            "1562/1562 [==============================] - 25s 16ms/step - loss: 0.9795 - accuracy: 0.6551 - auc: 0.9453 - val_loss: 0.9657 - val_accuracy: 0.6628 - val_auc: 0.9463\n",
            "Epoch 36/1000\n",
            "1562/1562 [==============================] - 25s 16ms/step - loss: 0.9775 - accuracy: 0.6537 - auc: 0.9455 - val_loss: 1.0648 - val_accuracy: 0.6327 - val_auc: 0.9353\n",
            "Epoch 37/1000\n",
            "1562/1562 [==============================] - 25s 16ms/step - loss: 0.9785 - accuracy: 0.6572 - auc: 0.9452 - val_loss: 0.9708 - val_accuracy: 0.6634 - val_auc: 0.9460\n",
            "Epoch 38/1000\n",
            "1562/1562 [==============================] - 25s 16ms/step - loss: 0.9688 - accuracy: 0.6605 - auc: 0.9464 - val_loss: 0.9512 - val_accuracy: 0.6743 - val_auc: 0.9479\n",
            "Epoch 39/1000\n",
            "1562/1562 [==============================] - 25s 16ms/step - loss: 0.9719 - accuracy: 0.6589 - auc: 0.9460 - val_loss: 0.9619 - val_accuracy: 0.6696 - val_auc: 0.9466\n",
            "Epoch 40/1000\n",
            "1562/1562 [==============================] - 25s 16ms/step - loss: 0.9773 - accuracy: 0.6583 - auc: 0.9455 - val_loss: 0.9442 - val_accuracy: 0.6770 - val_auc: 0.9487\n",
            "Epoch 41/1000\n",
            "1562/1562 [==============================] - 25s 16ms/step - loss: 0.9709 - accuracy: 0.6615 - auc: 0.9460 - val_loss: 0.9499 - val_accuracy: 0.6665 - val_auc: 0.9485\n",
            "Epoch 42/1000\n",
            "1562/1562 [==============================] - 25s 16ms/step - loss: 0.9622 - accuracy: 0.6622 - auc: 0.9470 - val_loss: 0.9684 - val_accuracy: 0.6676 - val_auc: 0.9460\n",
            "Epoch 43/1000\n",
            "1562/1562 [==============================] - 25s 16ms/step - loss: 0.9643 - accuracy: 0.6619 - auc: 0.9467 - val_loss: 0.9924 - val_accuracy: 0.6574 - val_auc: 0.9434\n",
            "Epoch 44/1000\n",
            "1562/1562 [==============================] - 25s 16ms/step - loss: 0.9601 - accuracy: 0.6649 - auc: 0.9470 - val_loss: 0.9563 - val_accuracy: 0.6675 - val_auc: 0.9476\n",
            "Epoch 45/1000\n",
            "1562/1562 [==============================] - 25s 16ms/step - loss: 0.9561 - accuracy: 0.6661 - auc: 0.9477 - val_loss: 0.9573 - val_accuracy: 0.6672 - val_auc: 0.9473\n",
            "Epoch 46/1000\n",
            "1562/1562 [==============================] - 25s 16ms/step - loss: 0.9595 - accuracy: 0.6628 - auc: 0.9474 - val_loss: 0.9614 - val_accuracy: 0.6655 - val_auc: 0.9469\n",
            "Epoch 47/1000\n",
            "1562/1562 [==============================] - 25s 16ms/step - loss: 0.9575 - accuracy: 0.6638 - auc: 0.9475 - val_loss: 0.9314 - val_accuracy: 0.6760 - val_auc: 0.9500\n",
            "Epoch 48/1000\n",
            "1562/1562 [==============================] - 26s 16ms/step - loss: 0.9596 - accuracy: 0.6649 - auc: 0.9473 - val_loss: 0.9277 - val_accuracy: 0.6776 - val_auc: 0.9506\n",
            "Epoch 49/1000\n",
            "1562/1562 [==============================] - 26s 17ms/step - loss: 0.9375 - accuracy: 0.6704 - auc: 0.9498 - val_loss: 0.9882 - val_accuracy: 0.6611 - val_auc: 0.9437\n",
            "Epoch 50/1000\n",
            "1562/1562 [==============================] - 26s 17ms/step - loss: 0.9351 - accuracy: 0.6729 - auc: 0.9499 - val_loss: 0.9287 - val_accuracy: 0.6748 - val_auc: 0.9506\n",
            "Epoch 51/1000\n",
            "1562/1562 [==============================] - 26s 16ms/step - loss: 0.9459 - accuracy: 0.6722 - auc: 0.9486 - val_loss: 0.9771 - val_accuracy: 0.6642 - val_auc: 0.9451\n",
            "Epoch 52/1000\n",
            "1562/1562 [==============================] - 25s 16ms/step - loss: 0.9420 - accuracy: 0.6676 - auc: 0.9490 - val_loss: 0.9764 - val_accuracy: 0.6641 - val_auc: 0.9453\n",
            "Epoch 53/1000\n",
            "1562/1562 [==============================] - 25s 16ms/step - loss: 0.9404 - accuracy: 0.6719 - auc: 0.9493 - val_loss: 0.9868 - val_accuracy: 0.6571 - val_auc: 0.9440\n",
            "Epoch 54/1000\n",
            "1562/1562 [==============================] - 25s 16ms/step - loss: 0.9439 - accuracy: 0.6689 - auc: 0.9489 - val_loss: 0.9536 - val_accuracy: 0.6713 - val_auc: 0.9477\n",
            "Epoch 55/1000\n",
            "1562/1562 [==============================] - 25s 16ms/step - loss: 0.9358 - accuracy: 0.6721 - auc: 0.9499 - val_loss: 0.9676 - val_accuracy: 0.6631 - val_auc: 0.9459\n",
            "Epoch 56/1000\n",
            "1562/1562 [==============================] - 25s 16ms/step - loss: 0.9229 - accuracy: 0.6776 - auc: 0.9512 - val_loss: 0.9409 - val_accuracy: 0.6730 - val_auc: 0.9492\n",
            "Epoch 57/1000\n",
            "1562/1562 [==============================] - 25s 16ms/step - loss: 0.9289 - accuracy: 0.6742 - auc: 0.9505 - val_loss: 0.9323 - val_accuracy: 0.6821 - val_auc: 0.9498\n",
            "Epoch 58/1000\n",
            "1562/1562 [==============================] - 25s 16ms/step - loss: 0.9306 - accuracy: 0.6799 - auc: 0.9502 - val_loss: 0.9278 - val_accuracy: 0.6804 - val_auc: 0.9505\n",
            "\n",
            "Epoch 00058: ReduceLROnPlateau reducing learning rate to 0.0005000000237487257.\n",
            "Epoch 59/1000\n",
            "1562/1562 [==============================] - 25s 16ms/step - loss: 0.9076 - accuracy: 0.6818 - auc: 0.9528 - val_loss: 0.9432 - val_accuracy: 0.6748 - val_auc: 0.9489\n",
            "Epoch 60/1000\n",
            "1562/1562 [==============================] - 25s 16ms/step - loss: 0.8996 - accuracy: 0.6830 - auc: 0.9535 - val_loss: 0.9135 - val_accuracy: 0.6842 - val_auc: 0.9520\n",
            "Epoch 61/1000\n",
            "1562/1562 [==============================] - 25s 16ms/step - loss: 0.8955 - accuracy: 0.6864 - auc: 0.9538 - val_loss: 0.9082 - val_accuracy: 0.6874 - val_auc: 0.9524\n",
            "Epoch 62/1000\n",
            "1562/1562 [==============================] - 25s 16ms/step - loss: 0.8929 - accuracy: 0.6863 - auc: 0.9542 - val_loss: 0.9496 - val_accuracy: 0.6729 - val_auc: 0.9480\n",
            "Epoch 63/1000\n",
            "1562/1562 [==============================] - 26s 16ms/step - loss: 0.8800 - accuracy: 0.6917 - auc: 0.9555 - val_loss: 0.9235 - val_accuracy: 0.6814 - val_auc: 0.9510\n",
            "Epoch 64/1000\n",
            "1562/1562 [==============================] - 26s 16ms/step - loss: 0.8851 - accuracy: 0.6912 - auc: 0.9546 - val_loss: 0.9044 - val_accuracy: 0.6860 - val_auc: 0.9528\n",
            "Epoch 65/1000\n",
            "1562/1562 [==============================] - 25s 16ms/step - loss: 0.8832 - accuracy: 0.6908 - auc: 0.9550 - val_loss: 0.9591 - val_accuracy: 0.6714 - val_auc: 0.9469\n",
            "Epoch 66/1000\n",
            "1562/1562 [==============================] - 25s 16ms/step - loss: 0.8878 - accuracy: 0.6886 - auc: 0.9546 - val_loss: 0.9173 - val_accuracy: 0.6858 - val_auc: 0.9515\n",
            "Epoch 67/1000\n",
            "1562/1562 [==============================] - 26s 16ms/step - loss: 0.8691 - accuracy: 0.6931 - auc: 0.9567 - val_loss: 0.9148 - val_accuracy: 0.6875 - val_auc: 0.9517\n",
            "Epoch 68/1000\n",
            "1562/1562 [==============================] - 25s 16ms/step - loss: 0.8759 - accuracy: 0.6914 - auc: 0.9560 - val_loss: 0.9055 - val_accuracy: 0.6868 - val_auc: 0.9526\n",
            "Epoch 69/1000\n",
            "1562/1562 [==============================] - 25s 16ms/step - loss: 0.8809 - accuracy: 0.6928 - auc: 0.9551 - val_loss: 0.9014 - val_accuracy: 0.6916 - val_auc: 0.9530\n",
            "Epoch 70/1000\n",
            "1562/1562 [==============================] - 26s 16ms/step - loss: 0.8846 - accuracy: 0.6917 - auc: 0.9548 - val_loss: 0.9215 - val_accuracy: 0.6843 - val_auc: 0.9509\n",
            "Epoch 71/1000\n",
            "1562/1562 [==============================] - 25s 16ms/step - loss: 0.8771 - accuracy: 0.6914 - auc: 0.9557 - val_loss: 0.9174 - val_accuracy: 0.6862 - val_auc: 0.9514\n",
            "Epoch 72/1000\n",
            "1562/1562 [==============================] - 25s 16ms/step - loss: 0.8770 - accuracy: 0.6914 - auc: 0.9558 - val_loss: 0.9034 - val_accuracy: 0.6882 - val_auc: 0.9529\n",
            "Epoch 73/1000\n",
            "1562/1562 [==============================] - 26s 16ms/step - loss: 0.8749 - accuracy: 0.6934 - auc: 0.9559 - val_loss: 0.9069 - val_accuracy: 0.6877 - val_auc: 0.9528\n",
            "Epoch 74/1000\n",
            "1562/1562 [==============================] - 26s 16ms/step - loss: 0.8813 - accuracy: 0.6909 - auc: 0.9553 - val_loss: 0.9175 - val_accuracy: 0.6869 - val_auc: 0.9515\n",
            "Epoch 75/1000\n",
            "1562/1562 [==============================] - 25s 16ms/step - loss: 0.8814 - accuracy: 0.6923 - auc: 0.9553 - val_loss: 0.9191 - val_accuracy: 0.6875 - val_auc: 0.9514\n",
            "Epoch 76/1000\n",
            "1562/1562 [==============================] - 26s 16ms/step - loss: 0.8649 - accuracy: 0.6929 - auc: 0.9570 - val_loss: 0.9173 - val_accuracy: 0.6826 - val_auc: 0.9516\n",
            "Epoch 77/1000\n",
            "1562/1562 [==============================] - 26s 16ms/step - loss: 0.8643 - accuracy: 0.6962 - auc: 0.9570 - val_loss: 0.9021 - val_accuracy: 0.6902 - val_auc: 0.9530\n",
            "Epoch 78/1000\n",
            "1562/1562 [==============================] - 25s 16ms/step - loss: 0.8643 - accuracy: 0.6942 - auc: 0.9572 - val_loss: 0.8989 - val_accuracy: 0.6892 - val_auc: 0.9533\n",
            "Epoch 79/1000\n",
            "1562/1562 [==============================] - 25s 16ms/step - loss: 0.8682 - accuracy: 0.6928 - auc: 0.9567 - val_loss: 0.9070 - val_accuracy: 0.6880 - val_auc: 0.9523\n",
            "Epoch 80/1000\n",
            "1562/1562 [==============================] - 25s 16ms/step - loss: 0.8714 - accuracy: 0.6936 - auc: 0.9567 - val_loss: 0.9266 - val_accuracy: 0.6786 - val_auc: 0.9503\n",
            "Epoch 81/1000\n",
            "1562/1562 [==============================] - 25s 16ms/step - loss: 0.8603 - accuracy: 0.6960 - auc: 0.9573 - val_loss: 0.8975 - val_accuracy: 0.6873 - val_auc: 0.9535\n",
            "Epoch 82/1000\n",
            "1562/1562 [==============================] - 25s 16ms/step - loss: 0.8710 - accuracy: 0.6938 - auc: 0.9563 - val_loss: 0.9516 - val_accuracy: 0.6731 - val_auc: 0.9477\n",
            "Epoch 83/1000\n",
            "1562/1562 [==============================] - 26s 16ms/step - loss: 0.8619 - accuracy: 0.6995 - auc: 0.9571 - val_loss: 0.8935 - val_accuracy: 0.6882 - val_auc: 0.9541\n",
            "Epoch 84/1000\n",
            "1562/1562 [==============================] - 25s 16ms/step - loss: 0.8732 - accuracy: 0.6928 - auc: 0.9562 - val_loss: 0.9010 - val_accuracy: 0.6868 - val_auc: 0.9530\n",
            "Epoch 85/1000\n",
            "1562/1562 [==============================] - 25s 16ms/step - loss: 0.8652 - accuracy: 0.6966 - auc: 0.9567 - val_loss: 0.8917 - val_accuracy: 0.6901 - val_auc: 0.9541\n",
            "Epoch 86/1000\n",
            "1562/1562 [==============================] - 26s 16ms/step - loss: 0.8641 - accuracy: 0.6965 - auc: 0.9571 - val_loss: 0.9041 - val_accuracy: 0.6873 - val_auc: 0.9529\n",
            "Epoch 87/1000\n",
            "1562/1562 [==============================] - 26s 17ms/step - loss: 0.8714 - accuracy: 0.6970 - auc: 0.9562 - val_loss: 0.9168 - val_accuracy: 0.6852 - val_auc: 0.9512\n",
            "Epoch 88/1000\n",
            "1562/1562 [==============================] - 26s 17ms/step - loss: 0.8566 - accuracy: 0.7012 - auc: 0.9576 - val_loss: 0.9150 - val_accuracy: 0.6874 - val_auc: 0.9518\n",
            "Epoch 89/1000\n",
            "1562/1562 [==============================] - 26s 17ms/step - loss: 0.8607 - accuracy: 0.6985 - auc: 0.9573 - val_loss: 0.8899 - val_accuracy: 0.6930 - val_auc: 0.9544\n",
            "Epoch 90/1000\n",
            "1562/1562 [==============================] - 26s 17ms/step - loss: 0.8502 - accuracy: 0.7037 - auc: 0.9585 - val_loss: 0.9050 - val_accuracy: 0.6885 - val_auc: 0.9527\n",
            "Epoch 91/1000\n",
            "1562/1562 [==============================] - 26s 16ms/step - loss: 0.8565 - accuracy: 0.7015 - auc: 0.9577 - val_loss: 0.9386 - val_accuracy: 0.6768 - val_auc: 0.9491\n",
            "Epoch 92/1000\n",
            "1562/1562 [==============================] - 26s 17ms/step - loss: 0.8579 - accuracy: 0.6983 - auc: 0.9576 - val_loss: 0.8976 - val_accuracy: 0.6888 - val_auc: 0.9534\n",
            "Epoch 93/1000\n",
            "1562/1562 [==============================] - 26s 16ms/step - loss: 0.8493 - accuracy: 0.7037 - auc: 0.9583 - val_loss: 0.9085 - val_accuracy: 0.6891 - val_auc: 0.9523\n",
            "Epoch 94/1000\n",
            "1562/1562 [==============================] - 26s 17ms/step - loss: 0.8551 - accuracy: 0.6995 - auc: 0.9580 - val_loss: 0.9381 - val_accuracy: 0.6792 - val_auc: 0.9493\n",
            "Epoch 95/1000\n",
            "1562/1562 [==============================] - 26s 17ms/step - loss: 0.8554 - accuracy: 0.7008 - auc: 0.9577 - val_loss: 0.9046 - val_accuracy: 0.6883 - val_auc: 0.9528\n",
            "Epoch 96/1000\n",
            "1562/1562 [==============================] - 26s 16ms/step - loss: 0.8551 - accuracy: 0.7005 - auc: 0.9577 - val_loss: 0.9079 - val_accuracy: 0.6889 - val_auc: 0.9523\n",
            "Epoch 97/1000\n",
            "1562/1562 [==============================] - 26s 17ms/step - loss: 0.8562 - accuracy: 0.6979 - auc: 0.9577 - val_loss: 0.9027 - val_accuracy: 0.6918 - val_auc: 0.9530\n",
            "Epoch 98/1000\n",
            "1562/1562 [==============================] - 26s 17ms/step - loss: 0.8448 - accuracy: 0.7040 - auc: 0.9587 - val_loss: 0.8953 - val_accuracy: 0.6957 - val_auc: 0.9539\n",
            "Epoch 99/1000\n",
            "1562/1562 [==============================] - 26s 17ms/step - loss: 0.8468 - accuracy: 0.7010 - auc: 0.9588 - val_loss: 0.8907 - val_accuracy: 0.6910 - val_auc: 0.9544\n",
            "\n",
            "Epoch 00099: ReduceLROnPlateau reducing learning rate to 0.0002500000118743628.\n",
            "Epoch 100/1000\n",
            "1562/1562 [==============================] - 26s 17ms/step - loss: 0.8495 - accuracy: 0.7037 - auc: 0.9582 - val_loss: 0.8978 - val_accuracy: 0.6917 - val_auc: 0.9534\n",
            "Epoch 101/1000\n",
            "1562/1562 [==============================] - 26s 17ms/step - loss: 0.8494 - accuracy: 0.7029 - auc: 0.9586 - val_loss: 0.8895 - val_accuracy: 0.6911 - val_auc: 0.9543\n",
            "Epoch 102/1000\n",
            "1562/1562 [==============================] - 26s 17ms/step - loss: 0.8313 - accuracy: 0.7067 - auc: 0.9603 - val_loss: 0.8928 - val_accuracy: 0.6923 - val_auc: 0.9540\n",
            "Epoch 103/1000\n",
            "1562/1562 [==============================] - 26s 17ms/step - loss: 0.8347 - accuracy: 0.7069 - auc: 0.9599 - val_loss: 0.8941 - val_accuracy: 0.6924 - val_auc: 0.9540\n",
            "Epoch 104/1000\n",
            "1562/1562 [==============================] - 26s 17ms/step - loss: 0.8338 - accuracy: 0.7020 - auc: 0.9599 - val_loss: 0.8872 - val_accuracy: 0.6934 - val_auc: 0.9545\n",
            "Epoch 105/1000\n",
            "1562/1562 [==============================] - 26s 17ms/step - loss: 0.8248 - accuracy: 0.7092 - auc: 0.9605 - val_loss: 0.8890 - val_accuracy: 0.6937 - val_auc: 0.9545\n",
            "Epoch 106/1000\n",
            "1562/1562 [==============================] - 26s 17ms/step - loss: 0.8413 - accuracy: 0.7033 - auc: 0.9593 - val_loss: 0.8936 - val_accuracy: 0.6941 - val_auc: 0.9540\n",
            "Epoch 107/1000\n",
            "1562/1562 [==============================] - 26s 17ms/step - loss: 0.8383 - accuracy: 0.7055 - auc: 0.9593 - val_loss: 0.8983 - val_accuracy: 0.6943 - val_auc: 0.9535\n",
            "Epoch 108/1000\n",
            "1562/1562 [==============================] - 26s 16ms/step - loss: 0.8279 - accuracy: 0.7064 - auc: 0.9604 - val_loss: 0.9010 - val_accuracy: 0.6922 - val_auc: 0.9531\n",
            "Epoch 109/1000\n",
            "1562/1562 [==============================] - 26s 17ms/step - loss: 0.8391 - accuracy: 0.7067 - auc: 0.9592 - val_loss: 0.8993 - val_accuracy: 0.6934 - val_auc: 0.9533\n",
            "Epoch 110/1000\n",
            "1562/1562 [==============================] - 26s 17ms/step - loss: 0.8291 - accuracy: 0.7063 - auc: 0.9603 - val_loss: 0.8842 - val_accuracy: 0.6951 - val_auc: 0.9546\n",
            "Epoch 111/1000\n",
            "1562/1562 [==============================] - 26s 17ms/step - loss: 0.8366 - accuracy: 0.7068 - auc: 0.9597 - val_loss: 0.9039 - val_accuracy: 0.6906 - val_auc: 0.9530\n",
            "Epoch 112/1000\n",
            "1562/1562 [==============================] - 26s 16ms/step - loss: 0.8307 - accuracy: 0.7081 - auc: 0.9601 - val_loss: 0.8934 - val_accuracy: 0.6896 - val_auc: 0.9538\n",
            "Epoch 113/1000\n",
            "1562/1562 [==============================] - 26s 17ms/step - loss: 0.8334 - accuracy: 0.7073 - auc: 0.9599 - val_loss: 0.9036 - val_accuracy: 0.6916 - val_auc: 0.9530\n",
            "Epoch 114/1000\n",
            "1562/1562 [==============================] - 26s 17ms/step - loss: 0.8282 - accuracy: 0.7092 - auc: 0.9603 - val_loss: 0.8935 - val_accuracy: 0.6945 - val_auc: 0.9538\n",
            "Epoch 115/1000\n",
            "1562/1562 [==============================] - 26s 17ms/step - loss: 0.8289 - accuracy: 0.7067 - auc: 0.9603 - val_loss: 0.8970 - val_accuracy: 0.6946 - val_auc: 0.9533\n",
            "Epoch 116/1000\n",
            "1562/1562 [==============================] - 27s 18ms/step - loss: 0.8375 - accuracy: 0.7051 - auc: 0.9594 - val_loss: 0.8844 - val_accuracy: 0.6968 - val_auc: 0.9547\n",
            "Epoch 117/1000\n",
            "1562/1562 [==============================] - 27s 17ms/step - loss: 0.8263 - accuracy: 0.7096 - auc: 0.9605 - val_loss: 0.8994 - val_accuracy: 0.6922 - val_auc: 0.9532\n",
            "Epoch 118/1000\n",
            "1562/1562 [==============================] - 26s 17ms/step - loss: 0.8339 - accuracy: 0.7066 - auc: 0.9597 - val_loss: 0.8976 - val_accuracy: 0.6922 - val_auc: 0.9534\n",
            "Epoch 119/1000\n",
            "1562/1562 [==============================] - 26s 17ms/step - loss: 0.8265 - accuracy: 0.7091 - auc: 0.9608 - val_loss: 0.8899 - val_accuracy: 0.6938 - val_auc: 0.9544\n",
            "Epoch 120/1000\n",
            "1562/1562 [==============================] - 26s 17ms/step - loss: 0.8267 - accuracy: 0.7091 - auc: 0.9605 - val_loss: 0.8951 - val_accuracy: 0.6930 - val_auc: 0.9539\n",
            "\n",
            "Epoch 00120: ReduceLROnPlateau reducing learning rate to 0.0001250000059371814.\n",
            "Epoch 121/1000\n",
            "1562/1562 [==============================] - 26s 17ms/step - loss: 0.8230 - accuracy: 0.7092 - auc: 0.9610 - val_loss: 0.9167 - val_accuracy: 0.6869 - val_auc: 0.9518\n",
            "Epoch 122/1000\n",
            "1562/1562 [==============================] - 26s 17ms/step - loss: 0.8234 - accuracy: 0.7123 - auc: 0.9608 - val_loss: 0.8912 - val_accuracy: 0.6967 - val_auc: 0.9542\n",
            "Epoch 123/1000\n",
            "1562/1562 [==============================] - 26s 17ms/step - loss: 0.8255 - accuracy: 0.7091 - auc: 0.9605 - val_loss: 0.8982 - val_accuracy: 0.6923 - val_auc: 0.9535\n",
            "Epoch 124/1000\n",
            "1562/1562 [==============================] - 26s 17ms/step - loss: 0.8192 - accuracy: 0.7121 - auc: 0.9613 - val_loss: 0.8825 - val_accuracy: 0.6974 - val_auc: 0.9551\n",
            "Epoch 125/1000\n",
            "1562/1562 [==============================] - 26s 17ms/step - loss: 0.8121 - accuracy: 0.7147 - auc: 0.9619 - val_loss: 0.8794 - val_accuracy: 0.6985 - val_auc: 0.9554\n",
            "Epoch 126/1000\n",
            "1562/1562 [==============================] - 26s 17ms/step - loss: 0.8155 - accuracy: 0.7123 - auc: 0.9616 - val_loss: 0.8887 - val_accuracy: 0.6983 - val_auc: 0.9544\n",
            "Epoch 127/1000\n",
            "1562/1562 [==============================] - 26s 17ms/step - loss: 0.8263 - accuracy: 0.7074 - auc: 0.9605 - val_loss: 0.9039 - val_accuracy: 0.6909 - val_auc: 0.9528\n",
            "Epoch 128/1000\n",
            "1562/1562 [==============================] - 26s 17ms/step - loss: 0.8161 - accuracy: 0.7110 - auc: 0.9617 - val_loss: 0.8817 - val_accuracy: 0.6969 - val_auc: 0.9550\n",
            "Epoch 129/1000\n",
            "1562/1562 [==============================] - 26s 17ms/step - loss: 0.8199 - accuracy: 0.7136 - auc: 0.9609 - val_loss: 0.8831 - val_accuracy: 0.6954 - val_auc: 0.9549\n",
            "Epoch 130/1000\n",
            "1562/1562 [==============================] - 26s 17ms/step - loss: 0.8170 - accuracy: 0.7158 - auc: 0.9612 - val_loss: 0.8922 - val_accuracy: 0.6967 - val_auc: 0.9541\n",
            "Epoch 131/1000\n",
            "1562/1562 [==============================] - 26s 17ms/step - loss: 0.8113 - accuracy: 0.7139 - auc: 0.9617 - val_loss: 0.8865 - val_accuracy: 0.6988 - val_auc: 0.9547\n",
            "Epoch 132/1000\n",
            "1562/1562 [==============================] - 26s 17ms/step - loss: 0.8129 - accuracy: 0.7131 - auc: 0.9617 - val_loss: 0.8813 - val_accuracy: 0.6948 - val_auc: 0.9551\n",
            "Epoch 133/1000\n",
            "1562/1562 [==============================] - 26s 17ms/step - loss: 0.8083 - accuracy: 0.7152 - auc: 0.9621 - val_loss: 0.8813 - val_accuracy: 0.6956 - val_auc: 0.9552\n",
            "Epoch 134/1000\n",
            "1562/1562 [==============================] - 26s 17ms/step - loss: 0.8198 - accuracy: 0.7095 - auc: 0.9610 - val_loss: 0.9049 - val_accuracy: 0.6887 - val_auc: 0.9526\n",
            "Epoch 135/1000\n",
            "1562/1562 [==============================] - 26s 17ms/step - loss: 0.8115 - accuracy: 0.7170 - auc: 0.9618 - val_loss: 0.8877 - val_accuracy: 0.6951 - val_auc: 0.9544\n",
            "\n",
            "Epoch 00135: ReduceLROnPlateau reducing learning rate to 6.25000029685907e-05.\n",
            "Epoch 136/1000\n",
            "1562/1562 [==============================] - 26s 17ms/step - loss: 0.8101 - accuracy: 0.7171 - auc: 0.9617 - val_loss: 0.8820 - val_accuracy: 0.6964 - val_auc: 0.9551\n",
            "Epoch 137/1000\n",
            "1562/1562 [==============================] - 26s 17ms/step - loss: 0.8217 - accuracy: 0.7104 - auc: 0.9609 - val_loss: 0.8862 - val_accuracy: 0.6951 - val_auc: 0.9547\n",
            "Epoch 138/1000\n",
            "1562/1562 [==============================] - 26s 17ms/step - loss: 0.8130 - accuracy: 0.7134 - auc: 0.9615 - val_loss: 0.8807 - val_accuracy: 0.6965 - val_auc: 0.9552\n",
            "Epoch 139/1000\n",
            "1562/1562 [==============================] - 26s 17ms/step - loss: 0.8108 - accuracy: 0.7135 - auc: 0.9620 - val_loss: 0.8777 - val_accuracy: 0.6974 - val_auc: 0.9555\n",
            "Epoch 140/1000\n",
            "1562/1562 [==============================] - 26s 17ms/step - loss: 0.8136 - accuracy: 0.7142 - auc: 0.9615 - val_loss: 0.8842 - val_accuracy: 0.6970 - val_auc: 0.9548\n",
            "Epoch 141/1000\n",
            "1562/1562 [==============================] - 26s 17ms/step - loss: 0.8005 - accuracy: 0.7201 - auc: 0.9631 - val_loss: 0.8843 - val_accuracy: 0.6961 - val_auc: 0.9548\n",
            "Epoch 142/1000\n",
            "1562/1562 [==============================] - 26s 17ms/step - loss: 0.8135 - accuracy: 0.7154 - auc: 0.9616 - val_loss: 0.8817 - val_accuracy: 0.6972 - val_auc: 0.9551\n",
            "Epoch 143/1000\n",
            "1562/1562 [==============================] - 26s 17ms/step - loss: 0.8005 - accuracy: 0.7189 - auc: 0.9630 - val_loss: 0.8768 - val_accuracy: 0.6964 - val_auc: 0.9556\n",
            "Epoch 144/1000\n",
            "1562/1562 [==============================] - 26s 17ms/step - loss: 0.8005 - accuracy: 0.7176 - auc: 0.9630 - val_loss: 0.8950 - val_accuracy: 0.6926 - val_auc: 0.9537\n",
            "Epoch 145/1000\n",
            "1562/1562 [==============================] - 26s 17ms/step - loss: 0.8074 - accuracy: 0.7168 - auc: 0.9623 - val_loss: 0.8770 - val_accuracy: 0.6981 - val_auc: 0.9557\n",
            "Epoch 146/1000\n",
            "1562/1562 [==============================] - 26s 17ms/step - loss: 0.8097 - accuracy: 0.7148 - auc: 0.9620 - val_loss: 0.8816 - val_accuracy: 0.6970 - val_auc: 0.9550\n",
            "Epoch 147/1000\n",
            "1562/1562 [==============================] - 26s 17ms/step - loss: 0.8134 - accuracy: 0.7104 - auc: 0.9618 - val_loss: 0.8921 - val_accuracy: 0.6922 - val_auc: 0.9540\n",
            "Epoch 148/1000\n",
            "1562/1562 [==============================] - 26s 17ms/step - loss: 0.8092 - accuracy: 0.7157 - auc: 0.9620 - val_loss: 0.8808 - val_accuracy: 0.6966 - val_auc: 0.9552\n",
            "Epoch 149/1000\n",
            "1562/1562 [==============================] - 26s 17ms/step - loss: 0.8059 - accuracy: 0.7191 - auc: 0.9625 - val_loss: 0.8923 - val_accuracy: 0.6947 - val_auc: 0.9539\n",
            "Epoch 150/1000\n",
            "1562/1562 [==============================] - 26s 17ms/step - loss: 0.8111 - accuracy: 0.7173 - auc: 0.9619 - val_loss: 0.8873 - val_accuracy: 0.6959 - val_auc: 0.9547\n",
            "Epoch 151/1000\n",
            "1559/1562 [============================>.] - ETA: 0s - loss: 0.8089 - accuracy: 0.7170 - auc: 0.9620Epoch 152/1000\n",
            "1562/1562 [==============================] - 26s 17ms/step - loss: 0.8109 - accuracy: 0.7155 - auc: 0.9619 - val_loss: 0.8821 - val_accuracy: 0.6971 - val_auc: 0.9551\n",
            "Epoch 153/1000\n",
            "1562/1562 [==============================] - 26s 17ms/step - loss: 0.8105 - accuracy: 0.7147 - auc: 0.9619 - val_loss: 0.8843 - val_accuracy: 0.6968 - val_auc: 0.9548\n",
            "\n",
            "Epoch 00153: ReduceLROnPlateau reducing learning rate to 3.125000148429535e-05.\n",
            "Epoch 154/1000\n",
            "1562/1562 [==============================] - 26s 17ms/step - loss: 0.8012 - accuracy: 0.7166 - auc: 0.9629 - val_loss: 0.8864 - val_accuracy: 0.6953 - val_auc: 0.9548\n",
            "Epoch 155/1000\n",
            "1562/1562 [==============================] - 26s 17ms/step - loss: 0.7954 - accuracy: 0.7207 - auc: 0.9632 - val_loss: 0.8855 - val_accuracy: 0.6961 - val_auc: 0.9546\n",
            "Epoch 156/1000\n",
            "1562/1562 [==============================] - 26s 17ms/step - loss: 0.8114 - accuracy: 0.7146 - auc: 0.9619 - val_loss: 0.8814 - val_accuracy: 0.6987 - val_auc: 0.9552\n",
            "Epoch 157/1000\n",
            "1562/1562 [==============================] - 26s 17ms/step - loss: 0.7990 - accuracy: 0.7172 - auc: 0.9631 - val_loss: 0.8868 - val_accuracy: 0.6964 - val_auc: 0.9545\n",
            "Epoch 158/1000\n",
            "1562/1562 [==============================] - 26s 17ms/step - loss: 0.8034 - accuracy: 0.7160 - auc: 0.9627 - val_loss: 0.8857 - val_accuracy: 0.6958 - val_auc: 0.9548\n",
            "Epoch 159/1000\n",
            "1562/1562 [==============================] - 26s 17ms/step - loss: 0.8057 - accuracy: 0.7161 - auc: 0.9625 - val_loss: 0.8825 - val_accuracy: 0.6964 - val_auc: 0.9550\n",
            "Epoch 160/1000\n",
            "1562/1562 [==============================] - 26s 17ms/step - loss: 0.7997 - accuracy: 0.7205 - auc: 0.9633 - val_loss: 0.8858 - val_accuracy: 0.6977 - val_auc: 0.9547\n",
            "Epoch 161/1000\n",
            "1562/1562 [==============================] - 26s 17ms/step - loss: 0.7965 - accuracy: 0.7209 - auc: 0.9631 - val_loss: 0.8839 - val_accuracy: 0.6966 - val_auc: 0.9549\n",
            "Epoch 162/1000\n",
            "1562/1562 [==============================] - 26s 17ms/step - loss: 0.8050 - accuracy: 0.7194 - auc: 0.9623 - val_loss: 0.8836 - val_accuracy: 0.6976 - val_auc: 0.9550\n",
            "Epoch 163/1000\n",
            "1562/1562 [==============================] - 26s 17ms/step - loss: 0.8016 - accuracy: 0.7182 - auc: 0.9629 - val_loss: 0.8861 - val_accuracy: 0.6965 - val_auc: 0.9547\n",
            "\n",
            "Epoch 00163: ReduceLROnPlateau reducing learning rate to 1.5625000742147677e-05.\n",
            "Epoch 164/1000\n",
            "1562/1562 [==============================] - 26s 17ms/step - loss: 0.8100 - accuracy: 0.7141 - auc: 0.9620 - val_loss: 0.8847 - val_accuracy: 0.6967 - val_auc: 0.9549\n",
            "Epoch 165/1000\n",
            "1562/1562 [==============================] - 26s 17ms/step - loss: 0.8049 - accuracy: 0.7169 - auc: 0.9625 - val_loss: 0.8870 - val_accuracy: 0.6967 - val_auc: 0.9546\n",
            "Epoch 166/1000\n",
            "1562/1562 [==============================] - 26s 17ms/step - loss: 0.7968 - accuracy: 0.7192 - auc: 0.9634 - val_loss: 0.8842 - val_accuracy: 0.6973 - val_auc: 0.9548\n",
            "Epoch 167/1000\n",
            "1562/1562 [==============================] - 26s 17ms/step - loss: 0.8123 - accuracy: 0.7140 - auc: 0.9618 - val_loss: 0.8811 - val_accuracy: 0.6968 - val_auc: 0.9552\n",
            "Epoch 168/1000\n",
            "1562/1562 [==============================] - 26s 17ms/step - loss: 0.8084 - accuracy: 0.7150 - auc: 0.9622 - val_loss: 0.8865 - val_accuracy: 0.6963 - val_auc: 0.9546\n",
            "Epoch 169/1000\n",
            "1562/1562 [==============================] - 27s 17ms/step - loss: 0.8065 - accuracy: 0.7188 - auc: 0.9623 - val_loss: 0.8862 - val_accuracy: 0.6963 - val_auc: 0.9546\n",
            "Epoch 170/1000\n",
            "1562/1562 [==============================] - 27s 17ms/step - loss: 0.8066 - accuracy: 0.7166 - auc: 0.9624 - val_loss: 0.8864 - val_accuracy: 0.6958 - val_auc: 0.9546\n",
            "Epoch 171/1000\n",
            "1562/1562 [==============================] - 27s 17ms/step - loss: 0.8001 - accuracy: 0.7205 - auc: 0.9630 - val_loss: 0.8820 - val_accuracy: 0.6982 - val_auc: 0.9552\n",
            "Epoch 172/1000\n",
            "1562/1562 [==============================] - 27s 17ms/step - loss: 0.7974 - accuracy: 0.7199 - auc: 0.9632 - val_loss: 0.8817 - val_accuracy: 0.6970 - val_auc: 0.9551\n",
            "Epoch 173/1000\n",
            "1562/1562 [==============================] - 27s 17ms/step - loss: 0.8066 - accuracy: 0.7189 - auc: 0.9623 - val_loss: 0.8821 - val_accuracy: 0.6963 - val_auc: 0.9551\n",
            "\n",
            "Epoch 00173: ReduceLROnPlateau reducing learning rate to 7.812500371073838e-06.\n",
            "Epoch 174/1000\n",
            "1562/1562 [==============================] - 27s 17ms/step - loss: 0.8065 - accuracy: 0.7174 - auc: 0.9624 - val_loss: 0.8816 - val_accuracy: 0.6974 - val_auc: 0.9552\n",
            "Epoch 175/1000\n",
            "1562/1562 [==============================] - 27s 17ms/step - loss: 0.8035 - accuracy: 0.7182 - auc: 0.9627 - val_loss: 0.8813 - val_accuracy: 0.6981 - val_auc: 0.9552\n",
            "Epoch 176/1000\n",
            "1562/1562 [==============================] - 26s 17ms/step - loss: 0.7966 - accuracy: 0.7190 - auc: 0.9634 - val_loss: 0.8845 - val_accuracy: 0.6979 - val_auc: 0.9548\n",
            "Epoch 177/1000\n",
            "1562/1562 [==============================] - 26s 17ms/step - loss: 0.8041 - accuracy: 0.7200 - auc: 0.9625 - val_loss: 0.8821 - val_accuracy: 0.6983 - val_auc: 0.9551\n",
            "Epoch 178/1000\n",
            "1562/1562 [==============================] - 26s 17ms/step - loss: 0.8092 - accuracy: 0.7133 - auc: 0.9624 - val_loss: 0.8824 - val_accuracy: 0.6976 - val_auc: 0.9551\n",
            "Restoring model weights from the end of the best epoch.\n",
            "Epoch 00178: early stopping\n"
          ],
          "name": "stdout"
        }
      ]
    },
    {
      "cell_type": "code",
      "metadata": {
        "id": "iIKKW_ra59hd",
        "outputId": "82a32e6f-ca2b-47d2-9f66-968a8e3d51f6",
        "colab": {
          "base_uri": "https://localhost:8080/",
          "height": 34
        }
      },
      "source": [
        "classifier.layers[GABOR_LAYER_INDEX].name"
      ],
      "execution_count": 17,
      "outputs": [
        {
          "output_type": "execute_result",
          "data": {
            "application/vnd.google.colaboratory.intrinsic+json": {
              "type": "string"
            },
            "text/plain": [
              "'GaborLayer'"
            ]
          },
          "metadata": {
            "tags": []
          },
          "execution_count": 17
        }
      ]
    },
    {
      "cell_type": "code",
      "metadata": {
        "id": "GmyM1rq65_nn",
        "outputId": "75302df9-a903-491c-ecd3-e93bf7192f8d",
        "colab": {
          "base_uri": "https://localhost:8080/"
        }
      },
      "source": [
        "print(\"Start time = {}\".format(start))\n",
        "print(\"Finish time = {}\".format(finish))\n",
        "print(\"Training time = {}\".format(finish-start))\n",
        "hist.history['start_time'] = start\n",
        "hist.history['finish_time'] = finish\n",
        "hist.history['train_time'] = finish-start"
      ],
      "execution_count": 18,
      "outputs": [
        {
          "output_type": "stream",
          "text": [
            "Start time = 16517.011359727\n",
            "Finish time = 21110.664607238\n",
            "Training time = 4593.653247511\n"
          ],
          "name": "stdout"
        }
      ]
    },
    {
      "cell_type": "code",
      "metadata": {
        "id": "O9i-Tz-Y6BMh"
      },
      "source": [
        "import pickle\n",
        "\n",
        "trained_layers = copy.deepcopy(classifier.get_layer(name=classifier.layers[GABOR_LAYER_INDEX].name).get_weights())\n",
        "hist.history['untrained_layers'] = untrained_layers\n",
        "hist.history['trained_layers'] = trained_layers\n",
        "\n",
        "with open('cifar10-{}-history-gabor-same-kernel-{}.p'.format(ITERATION, GABOR_HEIGHT), 'wb') as fp:\n",
        "  pickle.dump(hist.history, fp, protocol=pickle.HIGHEST_PROTOCOL)"
      ],
      "execution_count": 19,
      "outputs": []
    },
    {
      "cell_type": "code",
      "metadata": {
        "id": "LYyG-QL_6Fo2",
        "outputId": "63c7b9d9-ca89-48b7-f88f-528ab51f1ee4",
        "colab": {
          "base_uri": "https://localhost:8080/",
          "height": 404
        }
      },
      "source": [
        "import matplotlib.pyplot as plt\n",
        "\n",
        "fig = plt.figure(figsize=(10,6))\n",
        "plt.plot(hist.history['loss'], color='#785ef0')\n",
        "plt.plot(hist.history['val_loss'], color='#dc267f')\n",
        "plt.title('Model Loss Progress')\n",
        "plt.ylabel('Loss')\n",
        "plt.xlabel('Epoch')\n",
        "plt.legend(['Training Set', 'Test Set'], loc='upper right')\n",
        "plt.savefig('cifar10-{}-loss-gabor-same-kernel-{}.png'.format(ITERATION, GABOR_WIDTH), dpi=350, bbox_inches='tight')\n",
        "plt.show()"
      ],
      "execution_count": 20,
      "outputs": [
        {
          "output_type": "display_data",
          "data": {
            "image/png": "[encoded data removed]",
            "text/plain": [
              "<Figure size 720x432 with 1 Axes>"
            ]
          },
          "metadata": {
            "tags": [],
            "needs_background": "light"
          }
        }
      ]
    },
    {
      "cell_type": "code",
      "metadata": {
        "id": "FaSqA3oR6IX6",
        "outputId": "fa832cc7-6124-4cac-a6bd-a08204b35b58",
        "colab": {
          "base_uri": "https://localhost:8080/",
          "height": 404
        }
      },
      "source": [
        "fig = plt.figure(figsize=(10,6))\n",
        "plt.plot(hist.history['accuracy'], color='#785ef0')\n",
        "plt.plot(hist.history['val_accuracy'], color='#dc267f')\n",
        "plt.title('Model Accuracy Progress')\n",
        "plt.ylabel('Accuracy')\n",
        "plt.xlabel('Epoch')\n",
        "plt.legend(['Training Set', 'Test Set'], loc='upper right')\n",
        "plt.savefig('cifar10-{}-accuracy-gabor-same-kernel-{}.png'.format(ITERATION, GABOR_WIDTH), dpi=350, bbox_inches='tight')\n",
        "plt.show()"
      ],
      "execution_count": 21,
      "outputs": [
        {
          "output_type": "display_data",
          "data": {
            "image/png": "[encoded data removed]",
            "text/plain": [
              "<Figure size 720x432 with 1 Axes>"
            ]
          },
          "metadata": {
            "tags": [],
            "needs_background": "light"
          }
        }
      ]
    },
    {
      "cell_type": "code",
      "metadata": {
        "id": "fE5sW1_u6L1P",
        "outputId": "e831ffb5-dadd-4fed-8602-313d39822983",
        "colab": {
          "base_uri": "https://localhost:8080/",
          "height": 1000
        }
      },
      "source": [
        "from sklearn.preprocessing import MinMaxScaler\n",
        "\n",
        "cnnl1 = classifier.layers[GABOR_LAYER_INDEX].name   # get the name of the first conv layer\n",
        "W = classifier.get_layer(name=cnnl1).get_weights()[0]   #get the filters\n",
        "wshape = W.shape  #save the original shape\n",
        "\n",
        "# this part will scale to [0, 1] for visualization purposes\n",
        "scaler = MinMaxScaler()\n",
        "scaler.fit(W.reshape(-1,1))\n",
        "W = scaler.transform(W.reshape(-1,1))\n",
        "W = W.reshape(wshape)\n",
        "\n",
        "fig, axs = plt.subplots(8,NUM_RECEPTIVE_FILTERS//8, figsize=(24,24))\n",
        "fig.subplots_adjust(hspace = .25, wspace=.001)\n",
        "axs = axs.ravel()\n",
        "for i in range(W.shape[-1]):\n",
        "  # we reshape to a 3D (RGB) image shape and display\n",
        "  h = np.reshape(W[:,:,:,i], (GABOR_WIDTH,GABOR_HEIGHT,3))\n",
        "  axs[i].imshow(h)\n",
        "  axs[i].set_title('Filter ' + str(i))    \n",
        "plt.savefig(\"cifar10-{}-filters-gabor-same-kernel-{}.png\".format(ITERATION, GABOR_WIDTH), bbox_inches='tight', dpi=350)"
      ],
      "execution_count": 22,
      "outputs": [
        {
          "output_type": "display_data",
          "data": {
            "image/png": "[encoded data removed]",
            "text/plain": [
              "<Figure size 1728x1728 with 32 Axes>"
            ]
          },
          "metadata": {
            "tags": [],
            "needs_background": "light"
          }
        }
      ]
    },
    {
      "cell_type": "code",
      "metadata": {
        "id": "U08TDyFP6Och",
        "outputId": "90d4d6d5-cef1-4974-983d-8a9684362f40",
        "colab": {
          "base_uri": "https://localhost:8080/",
          "height": 282
        }
      },
      "source": [
        "cnnl1 = classifier.layers[GABOR_LAYER_INDEX].name   # get the name of the first conv layer\n",
        "W = classifier.get_layer(name=cnnl1).get_weights()[0]\n",
        "plt.hist(W.ravel(), bins=100)\n",
        "print(np.min(W),np.max(W))"
      ],
      "execution_count": 23,
      "outputs": [
        {
          "output_type": "stream",
          "text": [
            "-1.8029697 2.9065883\n"
          ],
          "name": "stdout"
        },
        {
          "output_type": "display_data",
          "data": {
            "image/png": "[encoded data removed]",
            "text/plain": [
              "<Figure size 432x288 with 1 Axes>"
            ]
          },
          "metadata": {
            "tags": [],
            "needs_background": "light"
          }
        }
      ]
    },
    {
      "cell_type": "code",
      "metadata": {
        "id": "uquVDHlj6Qda",
        "outputId": "ab5b5a2a-674c-44a5-813f-1a50115c6e16",
        "colab": {
          "base_uri": "https://localhost:8080/",
          "height": 248
        }
      },
      "source": [
        "filter_layers = []\n",
        "for i in range(NUM_RECEPTIVE_FILTERS):\n",
        "    for j in range(3):\n",
        "        filter_layers.append(np.reshape(W[:,:,j, i], GABOR_SIZE))\n",
        "for i,gf in enumerate(filter_layers):\n",
        "    plt.subplot(8, (W.shape[3]*3)//8, i+1)\n",
        "    plt.imshow(gf, cmap='gray')\n",
        "    plt.axis('off')\n",
        "plt.savefig(\"cifar10-{}-channelwise-gabor-same-filters-kernel-{}.png\".format(ITERATION, GABOR_WIDTH), bbox_inches='tight', dpi=350)"
      ],
      "execution_count": 24,
      "outputs": [
        {
          "output_type": "display_data",
          "data": {
            "image/png": "[encoded data removed]",
            "text/plain": [
              "<Figure size 432x288 with 96 Axes>"
            ]
          },
          "metadata": {
            "tags": [],
            "needs_background": "light"
          }
        }
      ]
    },
    {
      "cell_type": "code",
      "metadata": {
        "id": "IirOi0H86THU"
      },
      "source": [
        "!cp cifar10-1-initial-gabor-same-kernel-3.png /content/drive/My\\ Drive/Mehang\\ Rai/analysis/image-size/32/3/cifar10-32/1/"
      ],
      "execution_count": 25,
      "outputs": []
    },
    {
      "cell_type": "code",
      "metadata": {
        "id": "zJY5QRrZ6YaI"
      },
      "source": [
        "!cp cifar10-1-history-gabor-same-kernel-3.p /content/drive/My\\ Drive/Mehang\\ Rai/analysis/image-size/32/3/cifar10-32/1/"
      ],
      "execution_count": 26,
      "outputs": []
    },
    {
      "cell_type": "code",
      "metadata": {
        "id": "SmEFzcB-6elm"
      },
      "source": [
        "!cp cifar10-1-loss-gabor-same-kernel-3.png /content/drive/My\\ Drive/Mehang\\ Rai/analysis/image-size/32/3/cifar10-32/1/"
      ],
      "execution_count": 27,
      "outputs": []
    },
    {
      "cell_type": "code",
      "metadata": {
        "id": "DVdNEtje6jKX"
      },
      "source": [
        "!cp cifar10-1-accuracy-gabor-same-kernel-3.png /content/drive/My\\ Drive/Mehang\\ Rai/analysis/image-size/32/3/cifar10-32/1/"
      ],
      "execution_count": 28,
      "outputs": []
    },
    {
      "cell_type": "code",
      "metadata": {
        "id": "GRMfa5A_6lCW"
      },
      "source": [
        "!cp cifar10-1-filters-gabor-same-kernel-3.png /content/drive/My\\ Drive/Mehang\\ Rai/analysis/image-size/32/3/cifar10-32/1/"
      ],
      "execution_count": 29,
      "outputs": []
    },
    {
      "cell_type": "code",
      "metadata": {
        "id": "_Lf7ZnJO6maF"
      },
      "source": [
        "!cp cifar10-1-channelwise-gabor-same-filters-kernel-3.png /content/drive/My\\ Drive/Mehang\\ Rai/analysis/image-size/32/3/cifar10-32/1/"
      ],
      "execution_count": 30,
      "outputs": []
    },
    {
      "cell_type": "code",
      "metadata": {
        "id": "HRWg-tFB3m1a"
      },
      "source": [
        ""
      ],
      "execution_count": 30,
      "outputs": []
    }
  ]
}